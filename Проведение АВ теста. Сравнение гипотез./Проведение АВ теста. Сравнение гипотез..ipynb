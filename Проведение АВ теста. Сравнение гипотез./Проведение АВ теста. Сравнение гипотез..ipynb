{
 "cells": [
  {
   "cell_type": "markdown",
   "metadata": {},
   "source": [
    "   # Проведение А/В теста. Сравнение гипотез."
   ]
  },
  {
   "cell_type": "markdown",
   "metadata": {},
   "source": [
    "Мы — аналитики крупного интернет-магазина. Вместе с отделом маркетинга мы подготовили список гипотез для увеличения выручки. Необходимо приоритизировать гипотезы, запустить A/B-тест и проанализировать результаты."
   ]
  },
  {
   "cell_type": "markdown",
   "metadata": {},
   "source": [
    "**Цель проекта:**\n",
    "    \n",
    "Используя фреймворки RICE и ICE приозведем приоритизацию гипотез и проведем A/B-тест\n",
    "с целью поиска точек роста и увеличения выручки. Дадим рекомендации отделу маркетинга.\n",
    "\n",
    "**Задачи проекта:**\n",
    "- Примените фреймворк ICE для приоритизации гипотез. Отсортируйте их по убыванию приоритета.\n",
    "- Примените фреймворк RICE для приоритизации гипотез. Отсортируйте их по убыванию приоритета.\n",
    "- Укажите, как изменилась приоритизация гипотез при применении RICE вместо ICE. Объясните, почему так произошло.\n",
    "- Постройте график кумулятивной выручки по группам. Сделайте выводы и предположения.\n",
    "- Постройте график кумулятивного среднего чека по группам. Сделайте выводы и предположения.\n",
    "- Постройте график относительного изменения кумулятивного среднего чека группы B к группе A. Сделайте выводы и предположения.\n",
    "- Постройте график кумулятивного среднего количества заказов на посетителя по группам. Сделайте выводы и предположения.\n",
    "- Постройте график относительного изменения кумулятивного среднего количества заказов на посетителя группы B к группе A. Сделайте выводы и предположения.\n",
    "- Постройте точечный график количества заказов по пользователям. Сделайте выводы и предположения.\n",
    "- Посчитайте 95-й и 99-й перцентили количества заказов на пользователя. Выберите границу для определения аномальных пользователей.\n",
    "- Постройте точечный график стоимостей заказов. Сделайте выводы и предположения.\n",
    "- Посчитайте 95-й и 99-й перцентили стоимости заказов. Выберите границу для определения аномальных заказов.\n",
    "- Посчитайте статистическую значимость различий в среднем количестве заказов на посетителя между группами между группами по «сырым» данным. Сделайте выводы и предположения.\n",
    "- Посчитайте статистическую значимость различий в среднем чеке заказа между группами по «сырым» данным. Сделайте выводы и предположения.\n",
    "- Посчитайте статистическую значимость различий в среднем количестве заказов на посетителя между группами между группами по «очищенным» данным. Сделайте выводы и предположения.\n",
    "- Посчитайте статистическую значимость различий в среднем чеке заказа между группами по «очищенным» данным. Сделайте выводы и предположения.\n",
    "- Примем решение по результатам теста и объясним его.\n",
    "\n",
    "**Описание данных:**\n",
    "\n",
    "- Файл /datasets/hypothesis.csv. Скачать датасет\n",
    "- Hypothesis — краткое описание гипотезы;\n",
    "- Reach — охват пользователей по 10-балльной шкале;\n",
    "- Impact — влияние на пользователей по 10-балльной шкале;\n",
    "- Confidence — уверенность в гипотезе по 10-балльной шкале;\n",
    "- Efforts — затраты ресурсов на проверку гипотезы по 10-балльной шкале. Чем больше значение Efforts, тем дороже проверка гипотезы.\n",
    "- Файл /datasets/orders.csv. Скачать датасет\n",
    "- transactionId — идентификатор заказа;\n",
    "- visitorId — идентификатор пользователя, совершившего заказ;\n",
    "- date — дата, когда был совершён заказ;\n",
    "- revenue — выручка заказа;\n",
    "- group — группа A/B-теста, в которую попал заказ.\n",
    "- Файл /datasets/visitors.csv. Скачать датасет\n",
    "- date — дата;\n",
    "- group — группа A/B-теста;\n",
    "- visitors — количество пользователей в указанную дату в указанной группе A/B-теста\n",
    "\n"
   ]
  },
  {
   "cell_type": "markdown",
   "metadata": {},
   "source": [
    "##  Приоритизация гипотез."
   ]
  },
  {
   "cell_type": "markdown",
   "metadata": {},
   "source": [
    "### Загрузка данных и подготовка их к анализу"
   ]
  },
  {
   "cell_type": "code",
   "execution_count": 1,
   "metadata": {},
   "outputs": [],
   "source": [
    "#Импорт библиотек\n",
    "import pandas as pd\n",
    "import numpy as np\n",
    "import matplotlib.pyplot as plt\n",
    "plt.rcParams[\"figure.figsize\"] = (12,6)\n",
    "from datetime import datetime\n",
    "from scipy import stats as st\n",
    "import datetime as dt"
   ]
  },
  {
   "cell_type": "code",
   "execution_count": 2,
   "metadata": {},
   "outputs": [],
   "source": [
    "# загрузим данные \n",
    "hypothesis = pd.read_csv('/datasets/hypothesis.csv')\n",
    "orders = pd.read_csv('/datasets/orders.csv')\n",
    "visitors = pd.read_csv('/datasets/visitors.csv')"
   ]
  },
  {
   "cell_type": "code",
   "execution_count": 3,
   "metadata": {},
   "outputs": [
    {
     "name": "stdout",
     "output_type": "stream",
     "text": [
      "Название датафрейма hypothesis, количество дубликатов 0\n"
     ]
    },
    {
     "data": {
      "text/html": [
       "<div>\n",
       "<style scoped>\n",
       "    .dataframe tbody tr th:only-of-type {\n",
       "        vertical-align: middle;\n",
       "    }\n",
       "\n",
       "    .dataframe tbody tr th {\n",
       "        vertical-align: top;\n",
       "    }\n",
       "\n",
       "    .dataframe thead th {\n",
       "        text-align: right;\n",
       "    }\n",
       "</style>\n",
       "<table border=\"1\" class=\"dataframe\">\n",
       "  <thead>\n",
       "    <tr style=\"text-align: right;\">\n",
       "      <th></th>\n",
       "      <th>Hypothesis</th>\n",
       "      <th>Reach</th>\n",
       "      <th>Impact</th>\n",
       "      <th>Confidence</th>\n",
       "      <th>Efforts</th>\n",
       "    </tr>\n",
       "  </thead>\n",
       "  <tbody>\n",
       "    <tr>\n",
       "      <th>0</th>\n",
       "      <td>Добавить два новых канала привлечения трафика, что позволит привлекать на 30% больше пользователей</td>\n",
       "      <td>3</td>\n",
       "      <td>10</td>\n",
       "      <td>8</td>\n",
       "      <td>6</td>\n",
       "    </tr>\n",
       "    <tr>\n",
       "      <th>1</th>\n",
       "      <td>Запустить собственную службу доставки, что сократит срок доставки заказов</td>\n",
       "      <td>2</td>\n",
       "      <td>5</td>\n",
       "      <td>4</td>\n",
       "      <td>10</td>\n",
       "    </tr>\n",
       "    <tr>\n",
       "      <th>2</th>\n",
       "      <td>Добавить блоки рекомендаций товаров на сайт интернет магазина, чтобы повысить конверсию и средний чек заказа</td>\n",
       "      <td>8</td>\n",
       "      <td>3</td>\n",
       "      <td>7</td>\n",
       "      <td>3</td>\n",
       "    </tr>\n",
       "    <tr>\n",
       "      <th>3</th>\n",
       "      <td>Изменить структура категорий, что увеличит конверсию, т.к. пользователи быстрее найдут нужный товар</td>\n",
       "      <td>8</td>\n",
       "      <td>3</td>\n",
       "      <td>3</td>\n",
       "      <td>8</td>\n",
       "    </tr>\n",
       "    <tr>\n",
       "      <th>4</th>\n",
       "      <td>Изменить цвет фона главной страницы, чтобы увеличить вовлеченность пользователей</td>\n",
       "      <td>3</td>\n",
       "      <td>1</td>\n",
       "      <td>1</td>\n",
       "      <td>1</td>\n",
       "    </tr>\n",
       "  </tbody>\n",
       "</table>\n",
       "</div>"
      ],
      "text/plain": [
       "                                                                                                     Hypothesis  \\\n",
       "0            Добавить два новых канала привлечения трафика, что позволит привлекать на 30% больше пользователей   \n",
       "1                                     Запустить собственную службу доставки, что сократит срок доставки заказов   \n",
       "2  Добавить блоки рекомендаций товаров на сайт интернет магазина, чтобы повысить конверсию и средний чек заказа   \n",
       "3           Изменить структура категорий, что увеличит конверсию, т.к. пользователи быстрее найдут нужный товар   \n",
       "4                              Изменить цвет фона главной страницы, чтобы увеличить вовлеченность пользователей   \n",
       "\n",
       "   Reach  Impact  Confidence  Efforts  \n",
       "0      3      10           8        6  \n",
       "1      2       5           4       10  \n",
       "2      8       3           7        3  \n",
       "3      8       3           3        8  \n",
       "4      3       1           1        1  "
      ]
     },
     "metadata": {},
     "output_type": "display_data"
    },
    {
     "name": "stdout",
     "output_type": "stream",
     "text": [
      "<class 'pandas.core.frame.DataFrame'>\n",
      "RangeIndex: 9 entries, 0 to 8\n",
      "Data columns (total 5 columns):\n",
      " #   Column      Non-Null Count  Dtype \n",
      "---  ------      --------------  ----- \n",
      " 0   Hypothesis  9 non-null      object\n",
      " 1   Reach       9 non-null      int64 \n",
      " 2   Impact      9 non-null      int64 \n",
      " 3   Confidence  9 non-null      int64 \n",
      " 4   Efforts     9 non-null      int64 \n",
      "dtypes: int64(4), object(1)\n",
      "memory usage: 488.0+ bytes\n"
     ]
    },
    {
     "data": {
      "text/plain": [
       "None"
      ]
     },
     "metadata": {},
     "output_type": "display_data"
    },
    {
     "data": {
      "text/html": [
       "<div>\n",
       "<style scoped>\n",
       "    .dataframe tbody tr th:only-of-type {\n",
       "        vertical-align: middle;\n",
       "    }\n",
       "\n",
       "    .dataframe tbody tr th {\n",
       "        vertical-align: top;\n",
       "    }\n",
       "\n",
       "    .dataframe thead th {\n",
       "        text-align: right;\n",
       "    }\n",
       "</style>\n",
       "<table border=\"1\" class=\"dataframe\">\n",
       "  <thead>\n",
       "    <tr style=\"text-align: right;\">\n",
       "      <th></th>\n",
       "      <th>Reach</th>\n",
       "      <th>Impact</th>\n",
       "      <th>Confidence</th>\n",
       "      <th>Efforts</th>\n",
       "    </tr>\n",
       "  </thead>\n",
       "  <tbody>\n",
       "    <tr>\n",
       "      <th>count</th>\n",
       "      <td>9.000000</td>\n",
       "      <td>9.000000</td>\n",
       "      <td>9.000000</td>\n",
       "      <td>9.000000</td>\n",
       "    </tr>\n",
       "    <tr>\n",
       "      <th>mean</th>\n",
       "      <td>4.777778</td>\n",
       "      <td>4.777778</td>\n",
       "      <td>5.555556</td>\n",
       "      <td>4.888889</td>\n",
       "    </tr>\n",
       "    <tr>\n",
       "      <th>std</th>\n",
       "      <td>3.153481</td>\n",
       "      <td>3.192874</td>\n",
       "      <td>3.045944</td>\n",
       "      <td>2.803767</td>\n",
       "    </tr>\n",
       "    <tr>\n",
       "      <th>min</th>\n",
       "      <td>1.000000</td>\n",
       "      <td>1.000000</td>\n",
       "      <td>1.000000</td>\n",
       "      <td>1.000000</td>\n",
       "    </tr>\n",
       "    <tr>\n",
       "      <th>25%</th>\n",
       "      <td>3.000000</td>\n",
       "      <td>3.000000</td>\n",
       "      <td>3.000000</td>\n",
       "      <td>3.000000</td>\n",
       "    </tr>\n",
       "    <tr>\n",
       "      <th>50%</th>\n",
       "      <td>3.000000</td>\n",
       "      <td>3.000000</td>\n",
       "      <td>7.000000</td>\n",
       "      <td>5.000000</td>\n",
       "    </tr>\n",
       "    <tr>\n",
       "      <th>75%</th>\n",
       "      <td>8.000000</td>\n",
       "      <td>7.000000</td>\n",
       "      <td>8.000000</td>\n",
       "      <td>6.000000</td>\n",
       "    </tr>\n",
       "    <tr>\n",
       "      <th>max</th>\n",
       "      <td>10.000000</td>\n",
       "      <td>10.000000</td>\n",
       "      <td>9.000000</td>\n",
       "      <td>10.000000</td>\n",
       "    </tr>\n",
       "  </tbody>\n",
       "</table>\n",
       "</div>"
      ],
      "text/plain": [
       "           Reach     Impact  Confidence    Efforts\n",
       "count   9.000000   9.000000    9.000000   9.000000\n",
       "mean    4.777778   4.777778    5.555556   4.888889\n",
       "std     3.153481   3.192874    3.045944   2.803767\n",
       "min     1.000000   1.000000    1.000000   1.000000\n",
       "25%     3.000000   3.000000    3.000000   3.000000\n",
       "50%     3.000000   3.000000    7.000000   5.000000\n",
       "75%     8.000000   7.000000    8.000000   6.000000\n",
       "max    10.000000  10.000000    9.000000  10.000000"
      ]
     },
     "metadata": {},
     "output_type": "display_data"
    },
    {
     "name": "stdout",
     "output_type": "stream",
     "text": [
      "- - - - - - - - - - - - - - - - - - - - - - - - - - - - - - - - - - - - - - - - - - - - - - - - - - \n",
      "Название датафрейма orders, количество дубликатов 0\n"
     ]
    },
    {
     "data": {
      "text/html": [
       "<div>\n",
       "<style scoped>\n",
       "    .dataframe tbody tr th:only-of-type {\n",
       "        vertical-align: middle;\n",
       "    }\n",
       "\n",
       "    .dataframe tbody tr th {\n",
       "        vertical-align: top;\n",
       "    }\n",
       "\n",
       "    .dataframe thead th {\n",
       "        text-align: right;\n",
       "    }\n",
       "</style>\n",
       "<table border=\"1\" class=\"dataframe\">\n",
       "  <thead>\n",
       "    <tr style=\"text-align: right;\">\n",
       "      <th></th>\n",
       "      <th>transactionId</th>\n",
       "      <th>visitorId</th>\n",
       "      <th>date</th>\n",
       "      <th>revenue</th>\n",
       "      <th>group</th>\n",
       "    </tr>\n",
       "  </thead>\n",
       "  <tbody>\n",
       "    <tr>\n",
       "      <th>0</th>\n",
       "      <td>3667963787</td>\n",
       "      <td>3312258926</td>\n",
       "      <td>2019-08-15</td>\n",
       "      <td>1650</td>\n",
       "      <td>B</td>\n",
       "    </tr>\n",
       "    <tr>\n",
       "      <th>1</th>\n",
       "      <td>2804400009</td>\n",
       "      <td>3642806036</td>\n",
       "      <td>2019-08-15</td>\n",
       "      <td>730</td>\n",
       "      <td>B</td>\n",
       "    </tr>\n",
       "    <tr>\n",
       "      <th>2</th>\n",
       "      <td>2961555356</td>\n",
       "      <td>4069496402</td>\n",
       "      <td>2019-08-15</td>\n",
       "      <td>400</td>\n",
       "      <td>A</td>\n",
       "    </tr>\n",
       "    <tr>\n",
       "      <th>3</th>\n",
       "      <td>3797467345</td>\n",
       "      <td>1196621759</td>\n",
       "      <td>2019-08-15</td>\n",
       "      <td>9759</td>\n",
       "      <td>B</td>\n",
       "    </tr>\n",
       "    <tr>\n",
       "      <th>4</th>\n",
       "      <td>2282983706</td>\n",
       "      <td>2322279887</td>\n",
       "      <td>2019-08-15</td>\n",
       "      <td>2308</td>\n",
       "      <td>B</td>\n",
       "    </tr>\n",
       "  </tbody>\n",
       "</table>\n",
       "</div>"
      ],
      "text/plain": [
       "   transactionId   visitorId        date  revenue group\n",
       "0     3667963787  3312258926  2019-08-15     1650     B\n",
       "1     2804400009  3642806036  2019-08-15      730     B\n",
       "2     2961555356  4069496402  2019-08-15      400     A\n",
       "3     3797467345  1196621759  2019-08-15     9759     B\n",
       "4     2282983706  2322279887  2019-08-15     2308     B"
      ]
     },
     "metadata": {},
     "output_type": "display_data"
    },
    {
     "name": "stdout",
     "output_type": "stream",
     "text": [
      "<class 'pandas.core.frame.DataFrame'>\n",
      "RangeIndex: 1197 entries, 0 to 1196\n",
      "Data columns (total 5 columns):\n",
      " #   Column         Non-Null Count  Dtype \n",
      "---  ------         --------------  ----- \n",
      " 0   transactionId  1197 non-null   int64 \n",
      " 1   visitorId      1197 non-null   int64 \n",
      " 2   date           1197 non-null   object\n",
      " 3   revenue        1197 non-null   int64 \n",
      " 4   group          1197 non-null   object\n",
      "dtypes: int64(3), object(2)\n",
      "memory usage: 46.9+ KB\n"
     ]
    },
    {
     "data": {
      "text/plain": [
       "None"
      ]
     },
     "metadata": {},
     "output_type": "display_data"
    },
    {
     "data": {
      "text/html": [
       "<div>\n",
       "<style scoped>\n",
       "    .dataframe tbody tr th:only-of-type {\n",
       "        vertical-align: middle;\n",
       "    }\n",
       "\n",
       "    .dataframe tbody tr th {\n",
       "        vertical-align: top;\n",
       "    }\n",
       "\n",
       "    .dataframe thead th {\n",
       "        text-align: right;\n",
       "    }\n",
       "</style>\n",
       "<table border=\"1\" class=\"dataframe\">\n",
       "  <thead>\n",
       "    <tr style=\"text-align: right;\">\n",
       "      <th></th>\n",
       "      <th>transactionId</th>\n",
       "      <th>visitorId</th>\n",
       "      <th>revenue</th>\n",
       "    </tr>\n",
       "  </thead>\n",
       "  <tbody>\n",
       "    <tr>\n",
       "      <th>count</th>\n",
       "      <td>1.197000e+03</td>\n",
       "      <td>1.197000e+03</td>\n",
       "      <td>1.197000e+03</td>\n",
       "    </tr>\n",
       "    <tr>\n",
       "      <th>mean</th>\n",
       "      <td>2.155621e+09</td>\n",
       "      <td>2.165960e+09</td>\n",
       "      <td>8.348006e+03</td>\n",
       "    </tr>\n",
       "    <tr>\n",
       "      <th>std</th>\n",
       "      <td>1.229085e+09</td>\n",
       "      <td>1.236014e+09</td>\n",
       "      <td>3.919113e+04</td>\n",
       "    </tr>\n",
       "    <tr>\n",
       "      <th>min</th>\n",
       "      <td>1.062393e+06</td>\n",
       "      <td>5.114589e+06</td>\n",
       "      <td>5.000000e+01</td>\n",
       "    </tr>\n",
       "    <tr>\n",
       "      <th>25%</th>\n",
       "      <td>1.166776e+09</td>\n",
       "      <td>1.111826e+09</td>\n",
       "      <td>1.220000e+03</td>\n",
       "    </tr>\n",
       "    <tr>\n",
       "      <th>50%</th>\n",
       "      <td>2.145194e+09</td>\n",
       "      <td>2.217985e+09</td>\n",
       "      <td>2.978000e+03</td>\n",
       "    </tr>\n",
       "    <tr>\n",
       "      <th>75%</th>\n",
       "      <td>3.237740e+09</td>\n",
       "      <td>3.177606e+09</td>\n",
       "      <td>8.290000e+03</td>\n",
       "    </tr>\n",
       "    <tr>\n",
       "      <th>max</th>\n",
       "      <td>4.293856e+09</td>\n",
       "      <td>4.283872e+09</td>\n",
       "      <td>1.294500e+06</td>\n",
       "    </tr>\n",
       "  </tbody>\n",
       "</table>\n",
       "</div>"
      ],
      "text/plain": [
       "       transactionId     visitorId       revenue\n",
       "count   1.197000e+03  1.197000e+03  1.197000e+03\n",
       "mean    2.155621e+09  2.165960e+09  8.348006e+03\n",
       "std     1.229085e+09  1.236014e+09  3.919113e+04\n",
       "min     1.062393e+06  5.114589e+06  5.000000e+01\n",
       "25%     1.166776e+09  1.111826e+09  1.220000e+03\n",
       "50%     2.145194e+09  2.217985e+09  2.978000e+03\n",
       "75%     3.237740e+09  3.177606e+09  8.290000e+03\n",
       "max     4.293856e+09  4.283872e+09  1.294500e+06"
      ]
     },
     "metadata": {},
     "output_type": "display_data"
    },
    {
     "name": "stdout",
     "output_type": "stream",
     "text": [
      "- - - - - - - - - - - - - - - - - - - - - - - - - - - - - - - - - - - - - - - - - - - - - - - - - - \n",
      "Название датафрейма visitors, количество дубликатов 0\n"
     ]
    },
    {
     "data": {
      "text/html": [
       "<div>\n",
       "<style scoped>\n",
       "    .dataframe tbody tr th:only-of-type {\n",
       "        vertical-align: middle;\n",
       "    }\n",
       "\n",
       "    .dataframe tbody tr th {\n",
       "        vertical-align: top;\n",
       "    }\n",
       "\n",
       "    .dataframe thead th {\n",
       "        text-align: right;\n",
       "    }\n",
       "</style>\n",
       "<table border=\"1\" class=\"dataframe\">\n",
       "  <thead>\n",
       "    <tr style=\"text-align: right;\">\n",
       "      <th></th>\n",
       "      <th>date</th>\n",
       "      <th>group</th>\n",
       "      <th>visitors</th>\n",
       "    </tr>\n",
       "  </thead>\n",
       "  <tbody>\n",
       "    <tr>\n",
       "      <th>0</th>\n",
       "      <td>2019-08-01</td>\n",
       "      <td>A</td>\n",
       "      <td>719</td>\n",
       "    </tr>\n",
       "    <tr>\n",
       "      <th>1</th>\n",
       "      <td>2019-08-02</td>\n",
       "      <td>A</td>\n",
       "      <td>619</td>\n",
       "    </tr>\n",
       "    <tr>\n",
       "      <th>2</th>\n",
       "      <td>2019-08-03</td>\n",
       "      <td>A</td>\n",
       "      <td>507</td>\n",
       "    </tr>\n",
       "    <tr>\n",
       "      <th>3</th>\n",
       "      <td>2019-08-04</td>\n",
       "      <td>A</td>\n",
       "      <td>717</td>\n",
       "    </tr>\n",
       "    <tr>\n",
       "      <th>4</th>\n",
       "      <td>2019-08-05</td>\n",
       "      <td>A</td>\n",
       "      <td>756</td>\n",
       "    </tr>\n",
       "  </tbody>\n",
       "</table>\n",
       "</div>"
      ],
      "text/plain": [
       "         date group  visitors\n",
       "0  2019-08-01     A       719\n",
       "1  2019-08-02     A       619\n",
       "2  2019-08-03     A       507\n",
       "3  2019-08-04     A       717\n",
       "4  2019-08-05     A       756"
      ]
     },
     "metadata": {},
     "output_type": "display_data"
    },
    {
     "name": "stdout",
     "output_type": "stream",
     "text": [
      "<class 'pandas.core.frame.DataFrame'>\n",
      "RangeIndex: 62 entries, 0 to 61\n",
      "Data columns (total 3 columns):\n",
      " #   Column    Non-Null Count  Dtype \n",
      "---  ------    --------------  ----- \n",
      " 0   date      62 non-null     object\n",
      " 1   group     62 non-null     object\n",
      " 2   visitors  62 non-null     int64 \n",
      "dtypes: int64(1), object(2)\n",
      "memory usage: 1.6+ KB\n"
     ]
    },
    {
     "data": {
      "text/plain": [
       "None"
      ]
     },
     "metadata": {},
     "output_type": "display_data"
    },
    {
     "data": {
      "text/html": [
       "<div>\n",
       "<style scoped>\n",
       "    .dataframe tbody tr th:only-of-type {\n",
       "        vertical-align: middle;\n",
       "    }\n",
       "\n",
       "    .dataframe tbody tr th {\n",
       "        vertical-align: top;\n",
       "    }\n",
       "\n",
       "    .dataframe thead th {\n",
       "        text-align: right;\n",
       "    }\n",
       "</style>\n",
       "<table border=\"1\" class=\"dataframe\">\n",
       "  <thead>\n",
       "    <tr style=\"text-align: right;\">\n",
       "      <th></th>\n",
       "      <th>visitors</th>\n",
       "    </tr>\n",
       "  </thead>\n",
       "  <tbody>\n",
       "    <tr>\n",
       "      <th>count</th>\n",
       "      <td>62.000000</td>\n",
       "    </tr>\n",
       "    <tr>\n",
       "      <th>mean</th>\n",
       "      <td>607.290323</td>\n",
       "    </tr>\n",
       "    <tr>\n",
       "      <th>std</th>\n",
       "      <td>114.400560</td>\n",
       "    </tr>\n",
       "    <tr>\n",
       "      <th>min</th>\n",
       "      <td>361.000000</td>\n",
       "    </tr>\n",
       "    <tr>\n",
       "      <th>25%</th>\n",
       "      <td>534.000000</td>\n",
       "    </tr>\n",
       "    <tr>\n",
       "      <th>50%</th>\n",
       "      <td>624.500000</td>\n",
       "    </tr>\n",
       "    <tr>\n",
       "      <th>75%</th>\n",
       "      <td>710.500000</td>\n",
       "    </tr>\n",
       "    <tr>\n",
       "      <th>max</th>\n",
       "      <td>770.000000</td>\n",
       "    </tr>\n",
       "  </tbody>\n",
       "</table>\n",
       "</div>"
      ],
      "text/plain": [
       "         visitors\n",
       "count   62.000000\n",
       "mean   607.290323\n",
       "std    114.400560\n",
       "min    361.000000\n",
       "25%    534.000000\n",
       "50%    624.500000\n",
       "75%    710.500000\n",
       "max    770.000000"
      ]
     },
     "metadata": {},
     "output_type": "display_data"
    },
    {
     "name": "stdout",
     "output_type": "stream",
     "text": [
      "- - - - - - - - - - - - - - - - - - - - - - - - - - - - - - - - - - - - - - - - - - - - - - - - - - \n"
     ]
    }
   ],
   "source": [
    " # просмотр информации о таблицах и проверка наличия дубликатов\n",
    "pd.options.display.max_colwidth = 150\n",
    "d = {'hypothesis' : hypothesis, 'orders' : orders, 'visitors' : visitors}\n",
    "for a, i in d.items():\n",
    "    print(f'Название датафрейма {a}, количество дубликатов {i.duplicated().sum()}')\n",
    "    display(i.head())\n",
    "    display(i.info())\n",
    "    display(i.describe())\n",
    "    print('- ' * 50)"
   ]
  },
  {
   "cell_type": "code",
   "execution_count": 4,
   "metadata": {},
   "outputs": [],
   "source": [
    "#Чтобы часть столбцов в дальнейшем не скрывалась, настроим принудительное отображение\n",
    "pd.set_option('display.max_columns', None)"
   ]
  },
  {
   "cell_type": "markdown",
   "metadata": {},
   "source": [
    "Сейчас можем сказать, что некорректный тип данных столбца date,\n",
    "пропусков нет,\n",
    "проверить на дубликаты( полные и неочевидные).\n",
    "Так же названия столбцов не соответствуют snake case. Исправляем."
   ]
  },
  {
   "cell_type": "code",
   "execution_count": 5,
   "metadata": {},
   "outputs": [],
   "source": [
    "hypothesis.columns = [x.lower() for x in hypothesis.columns.values]\n",
    "orders.columns = [x.replace('Id', '_id') for x in orders.columns.values]"
   ]
  },
  {
   "cell_type": "code",
   "execution_count": 6,
   "metadata": {},
   "outputs": [
    {
     "data": {
      "text/plain": [
       "['hypothesis', 'reach', 'impact', 'confidence', 'efforts']"
      ]
     },
     "execution_count": 6,
     "metadata": {},
     "output_type": "execute_result"
    }
   ],
   "source": [
    "#проверим названия столбцов\n",
    "hypothesis.columns.to_list()"
   ]
  },
  {
   "cell_type": "code",
   "execution_count": 7,
   "metadata": {},
   "outputs": [],
   "source": [
    "# преобразование данных о времени\n",
    "visitors['date'] = visitors['date'].map(\n",
    "    lambda x: dt.datetime.strptime(x, '%Y-%m-%d')\n",
    ")\n",
    "\n",
    "orders['date'] = orders['date'].map(\n",
    "    lambda x: dt.datetime.strptime(x, '%Y-%m-%d')\n",
    ")  "
   ]
  },
  {
   "cell_type": "markdown",
   "metadata": {},
   "source": [
    "Скорректировали названия столбцов (изменили на нижний регистр), изменили формат данных для дат, дубликаты и пропуски не обнаружены.\n",
    "Можно приступать к анализу."
   ]
  },
  {
   "cell_type": "code",
   "execution_count": 8,
   "metadata": {},
   "outputs": [
    {
     "data": {
      "text/plain": [
       "hypothesis    0\n",
       "reach         0\n",
       "impact        0\n",
       "confidence    0\n",
       "efforts       0\n",
       "dtype: int64"
      ]
     },
     "metadata": {},
     "output_type": "display_data"
    },
    {
     "data": {
      "text/plain": [
       "transaction_id    0\n",
       "visitor_id        0\n",
       "date              0\n",
       "revenue           0\n",
       "group             0\n",
       "dtype: int64"
      ]
     },
     "metadata": {},
     "output_type": "display_data"
    },
    {
     "data": {
      "text/plain": [
       "date        0\n",
       "group       0\n",
       "visitors    0\n",
       "dtype: int64"
      ]
     },
     "metadata": {},
     "output_type": "display_data"
    }
   ],
   "source": [
    "display(hypothesis.isna().sum())\n",
    "display(orders.isna().sum())\n",
    "display(visitors.isna().sum())"
   ]
  },
  {
   "cell_type": "markdown",
   "metadata": {},
   "source": [
    "### Приоритизация гипотез"
   ]
  },
  {
   "cell_type": "markdown",
   "metadata": {},
   "source": [
    "В нашем распоряжении файл с 9 гипотезами, для которых оценены значения Reach, Impact, Confidence и Efforts. Применим к этим оценкам фреймворки ICE и RICE."
   ]
  },
  {
   "cell_type": "markdown",
   "metadata": {},
   "source": [
    "**Применение фреймворка ICE для приоритизации гипотез.**"
   ]
  },
  {
   "cell_type": "code",
   "execution_count": 9,
   "metadata": {},
   "outputs": [
    {
     "data": {
      "text/html": [
       "<div>\n",
       "<style scoped>\n",
       "    .dataframe tbody tr th:only-of-type {\n",
       "        vertical-align: middle;\n",
       "    }\n",
       "\n",
       "    .dataframe tbody tr th {\n",
       "        vertical-align: top;\n",
       "    }\n",
       "\n",
       "    .dataframe thead th {\n",
       "        text-align: right;\n",
       "    }\n",
       "</style>\n",
       "<table border=\"1\" class=\"dataframe\">\n",
       "  <thead>\n",
       "    <tr style=\"text-align: right;\">\n",
       "      <th></th>\n",
       "      <th>hypothesis</th>\n",
       "      <th>ICE</th>\n",
       "    </tr>\n",
       "  </thead>\n",
       "  <tbody>\n",
       "    <tr>\n",
       "      <th>8</th>\n",
       "      <td>Запустить акцию, дающую скидку на товар в день рождения</td>\n",
       "      <td>16.20</td>\n",
       "    </tr>\n",
       "    <tr>\n",
       "      <th>0</th>\n",
       "      <td>Добавить два новых канала привлечения трафика, что позволит привлекать на 30% больше пользователей</td>\n",
       "      <td>13.33</td>\n",
       "    </tr>\n",
       "    <tr>\n",
       "      <th>7</th>\n",
       "      <td>Добавить форму подписки на все основные страницы, чтобы собрать базу клиентов для email-рассылок</td>\n",
       "      <td>11.20</td>\n",
       "    </tr>\n",
       "    <tr>\n",
       "      <th>6</th>\n",
       "      <td>Показать на главной странице баннеры с актуальными акциями и распродажами, чтобы увеличить конверсию</td>\n",
       "      <td>8.00</td>\n",
       "    </tr>\n",
       "    <tr>\n",
       "      <th>2</th>\n",
       "      <td>Добавить блоки рекомендаций товаров на сайт интернет магазина, чтобы повысить конверсию и средний чек заказа</td>\n",
       "      <td>7.00</td>\n",
       "    </tr>\n",
       "    <tr>\n",
       "      <th>1</th>\n",
       "      <td>Запустить собственную службу доставки, что сократит срок доставки заказов</td>\n",
       "      <td>2.00</td>\n",
       "    </tr>\n",
       "    <tr>\n",
       "      <th>5</th>\n",
       "      <td>Добавить страницу отзывов клиентов о магазине, что позволит увеличить количество заказов</td>\n",
       "      <td>1.33</td>\n",
       "    </tr>\n",
       "    <tr>\n",
       "      <th>3</th>\n",
       "      <td>Изменить структура категорий, что увеличит конверсию, т.к. пользователи быстрее найдут нужный товар</td>\n",
       "      <td>1.12</td>\n",
       "    </tr>\n",
       "    <tr>\n",
       "      <th>4</th>\n",
       "      <td>Изменить цвет фона главной страницы, чтобы увеличить вовлеченность пользователей</td>\n",
       "      <td>1.00</td>\n",
       "    </tr>\n",
       "  </tbody>\n",
       "</table>\n",
       "</div>"
      ],
      "text/plain": [
       "                                                                                                     hypothesis  \\\n",
       "8                                                       Запустить акцию, дающую скидку на товар в день рождения   \n",
       "0            Добавить два новых канала привлечения трафика, что позволит привлекать на 30% больше пользователей   \n",
       "7              Добавить форму подписки на все основные страницы, чтобы собрать базу клиентов для email-рассылок   \n",
       "6          Показать на главной странице баннеры с актуальными акциями и распродажами, чтобы увеличить конверсию   \n",
       "2  Добавить блоки рекомендаций товаров на сайт интернет магазина, чтобы повысить конверсию и средний чек заказа   \n",
       "1                                     Запустить собственную службу доставки, что сократит срок доставки заказов   \n",
       "5                      Добавить страницу отзывов клиентов о магазине, что позволит увеличить количество заказов   \n",
       "3           Изменить структура категорий, что увеличит конверсию, т.к. пользователи быстрее найдут нужный товар   \n",
       "4                              Изменить цвет фона главной страницы, чтобы увеличить вовлеченность пользователей   \n",
       "\n",
       "     ICE  \n",
       "8  16.20  \n",
       "0  13.33  \n",
       "7  11.20  \n",
       "6   8.00  \n",
       "2   7.00  \n",
       "1   2.00  \n",
       "5   1.33  \n",
       "3   1.12  \n",
       "4   1.00  "
      ]
     },
     "execution_count": 9,
     "metadata": {},
     "output_type": "execute_result"
    }
   ],
   "source": [
    "# Посчитаем ICE для гипотез\n",
    "hypothesis['ICE'] = (hypothesis['impact'] * hypothesis['confidence']) / hypothesis['efforts']\n",
    "hypothesis[['hypothesis', 'ICE']].sort_values(by='ICE', ascending=False).round(2)"
   ]
  },
  {
   "cell_type": "code",
   "execution_count": 10,
   "metadata": {},
   "outputs": [
    {
     "data": {
      "text/plain": [
       "0    13.33\n",
       "1     2.00\n",
       "2     7.00\n",
       "3     1.12\n",
       "4     1.00\n",
       "5     1.33\n",
       "6     8.00\n",
       "7    11.20\n",
       "8    16.20\n",
       "Name: ICE, dtype: float64"
      ]
     },
     "execution_count": 10,
     "metadata": {},
     "output_type": "execute_result"
    }
   ],
   "source": [
    "hypothesis['ICE'] = np.round(hypothesis['ICE'],\n",
    "                      decimals = 2)\n",
    "hypothesis['ICE']"
   ]
  },
  {
   "cell_type": "markdown",
   "metadata": {},
   "source": [
    "Топ 5 по ice гипотезы 8,0,7,6,2"
   ]
  },
  {
   "cell_type": "markdown",
   "metadata": {},
   "source": [
    "**Применение фреймворка RICE для приоритизации гипотез.**"
   ]
  },
  {
   "cell_type": "code",
   "execution_count": 11,
   "metadata": {},
   "outputs": [
    {
     "data": {
      "text/html": [
       "<div>\n",
       "<style scoped>\n",
       "    .dataframe tbody tr th:only-of-type {\n",
       "        vertical-align: middle;\n",
       "    }\n",
       "\n",
       "    .dataframe tbody tr th {\n",
       "        vertical-align: top;\n",
       "    }\n",
       "\n",
       "    .dataframe thead th {\n",
       "        text-align: right;\n",
       "    }\n",
       "</style>\n",
       "<table border=\"1\" class=\"dataframe\">\n",
       "  <thead>\n",
       "    <tr style=\"text-align: right;\">\n",
       "      <th></th>\n",
       "      <th>hypothesis</th>\n",
       "      <th>RICE</th>\n",
       "    </tr>\n",
       "  </thead>\n",
       "  <tbody>\n",
       "    <tr>\n",
       "      <th>7</th>\n",
       "      <td>Добавить форму подписки на все основные страницы, чтобы собрать базу клиентов для email-рассылок</td>\n",
       "      <td>112.0</td>\n",
       "    </tr>\n",
       "    <tr>\n",
       "      <th>2</th>\n",
       "      <td>Добавить блоки рекомендаций товаров на сайт интернет магазина, чтобы повысить конверсию и средний чек заказа</td>\n",
       "      <td>56.0</td>\n",
       "    </tr>\n",
       "    <tr>\n",
       "      <th>0</th>\n",
       "      <td>Добавить два новых канала привлечения трафика, что позволит привлекать на 30% больше пользователей</td>\n",
       "      <td>40.0</td>\n",
       "    </tr>\n",
       "    <tr>\n",
       "      <th>6</th>\n",
       "      <td>Показать на главной странице баннеры с актуальными акциями и распродажами, чтобы увеличить конверсию</td>\n",
       "      <td>40.0</td>\n",
       "    </tr>\n",
       "    <tr>\n",
       "      <th>8</th>\n",
       "      <td>Запустить акцию, дающую скидку на товар в день рождения</td>\n",
       "      <td>16.2</td>\n",
       "    </tr>\n",
       "    <tr>\n",
       "      <th>3</th>\n",
       "      <td>Изменить структура категорий, что увеличит конверсию, т.к. пользователи быстрее найдут нужный товар</td>\n",
       "      <td>9.0</td>\n",
       "    </tr>\n",
       "    <tr>\n",
       "      <th>1</th>\n",
       "      <td>Запустить собственную службу доставки, что сократит срок доставки заказов</td>\n",
       "      <td>4.0</td>\n",
       "    </tr>\n",
       "    <tr>\n",
       "      <th>5</th>\n",
       "      <td>Добавить страницу отзывов клиентов о магазине, что позволит увеличить количество заказов</td>\n",
       "      <td>4.0</td>\n",
       "    </tr>\n",
       "    <tr>\n",
       "      <th>4</th>\n",
       "      <td>Изменить цвет фона главной страницы, чтобы увеличить вовлеченность пользователей</td>\n",
       "      <td>3.0</td>\n",
       "    </tr>\n",
       "  </tbody>\n",
       "</table>\n",
       "</div>"
      ],
      "text/plain": [
       "                                                                                                     hypothesis  \\\n",
       "7              Добавить форму подписки на все основные страницы, чтобы собрать базу клиентов для email-рассылок   \n",
       "2  Добавить блоки рекомендаций товаров на сайт интернет магазина, чтобы повысить конверсию и средний чек заказа   \n",
       "0            Добавить два новых канала привлечения трафика, что позволит привлекать на 30% больше пользователей   \n",
       "6          Показать на главной странице баннеры с актуальными акциями и распродажами, чтобы увеличить конверсию   \n",
       "8                                                       Запустить акцию, дающую скидку на товар в день рождения   \n",
       "3           Изменить структура категорий, что увеличит конверсию, т.к. пользователи быстрее найдут нужный товар   \n",
       "1                                     Запустить собственную службу доставки, что сократит срок доставки заказов   \n",
       "5                      Добавить страницу отзывов клиентов о магазине, что позволит увеличить количество заказов   \n",
       "4                              Изменить цвет фона главной страницы, чтобы увеличить вовлеченность пользователей   \n",
       "\n",
       "    RICE  \n",
       "7  112.0  \n",
       "2   56.0  \n",
       "0   40.0  \n",
       "6   40.0  \n",
       "8   16.2  \n",
       "3    9.0  \n",
       "1    4.0  \n",
       "5    4.0  \n",
       "4    3.0  "
      ]
     },
     "execution_count": 11,
     "metadata": {},
     "output_type": "execute_result"
    }
   ],
   "source": [
    "# Посчитаем RICE для гипотез\n",
    "hypothesis['RICE'] = (hypothesis['reach'] *  hypothesis['impact'] * hypothesis['confidence']) / hypothesis['efforts']\n",
    "hypothesis[['hypothesis', 'RICE']].sort_values(by='RICE', ascending=False).round(2)"
   ]
  },
  {
   "cell_type": "markdown",
   "metadata": {},
   "source": [
    "Топ 5 прежни, но позиции гипотез поменялись. Однако, если при ICE на первом месте гипотеза 8, то при расчёте RICE, на первое место вырвалась гипотеза под номером 7. Почему так произошло исследуем дальше."
   ]
  },
  {
   "cell_type": "markdown",
   "metadata": {},
   "source": [
    "**Анализ, как изменилась приоритизация гипотез при применении RICE вместо ICE.**"
   ]
  },
  {
   "cell_type": "code",
   "execution_count": 12,
   "metadata": {},
   "outputs": [
    {
     "data": {
      "text/html": [
       "<div>\n",
       "<style scoped>\n",
       "    .dataframe tbody tr th:only-of-type {\n",
       "        vertical-align: middle;\n",
       "    }\n",
       "\n",
       "    .dataframe tbody tr th {\n",
       "        vertical-align: top;\n",
       "    }\n",
       "\n",
       "    .dataframe thead th {\n",
       "        text-align: right;\n",
       "    }\n",
       "</style>\n",
       "<table border=\"1\" class=\"dataframe\">\n",
       "  <thead>\n",
       "    <tr style=\"text-align: right;\">\n",
       "      <th></th>\n",
       "      <th>hypothesis</th>\n",
       "      <th>reach</th>\n",
       "      <th>impact</th>\n",
       "      <th>confidence</th>\n",
       "      <th>efforts</th>\n",
       "      <th>ICE</th>\n",
       "      <th>RICE</th>\n",
       "    </tr>\n",
       "  </thead>\n",
       "  <tbody>\n",
       "    <tr>\n",
       "      <th>0</th>\n",
       "      <td>Добавить два новых канала привлечения трафика, что позволит привлекать на 30% больше пользователей</td>\n",
       "      <td>3</td>\n",
       "      <td>10</td>\n",
       "      <td>8</td>\n",
       "      <td>6</td>\n",
       "      <td>13.33</td>\n",
       "      <td>40.0</td>\n",
       "    </tr>\n",
       "    <tr>\n",
       "      <th>1</th>\n",
       "      <td>Запустить собственную службу доставки, что сократит срок доставки заказов</td>\n",
       "      <td>2</td>\n",
       "      <td>5</td>\n",
       "      <td>4</td>\n",
       "      <td>10</td>\n",
       "      <td>2.00</td>\n",
       "      <td>4.0</td>\n",
       "    </tr>\n",
       "    <tr>\n",
       "      <th>2</th>\n",
       "      <td>Добавить блоки рекомендаций товаров на сайт интернет магазина, чтобы повысить конверсию и средний чек заказа</td>\n",
       "      <td>8</td>\n",
       "      <td>3</td>\n",
       "      <td>7</td>\n",
       "      <td>3</td>\n",
       "      <td>7.00</td>\n",
       "      <td>56.0</td>\n",
       "    </tr>\n",
       "    <tr>\n",
       "      <th>3</th>\n",
       "      <td>Изменить структура категорий, что увеличит конверсию, т.к. пользователи быстрее найдут нужный товар</td>\n",
       "      <td>8</td>\n",
       "      <td>3</td>\n",
       "      <td>3</td>\n",
       "      <td>8</td>\n",
       "      <td>1.12</td>\n",
       "      <td>9.0</td>\n",
       "    </tr>\n",
       "    <tr>\n",
       "      <th>4</th>\n",
       "      <td>Изменить цвет фона главной страницы, чтобы увеличить вовлеченность пользователей</td>\n",
       "      <td>3</td>\n",
       "      <td>1</td>\n",
       "      <td>1</td>\n",
       "      <td>1</td>\n",
       "      <td>1.00</td>\n",
       "      <td>3.0</td>\n",
       "    </tr>\n",
       "    <tr>\n",
       "      <th>5</th>\n",
       "      <td>Добавить страницу отзывов клиентов о магазине, что позволит увеличить количество заказов</td>\n",
       "      <td>3</td>\n",
       "      <td>2</td>\n",
       "      <td>2</td>\n",
       "      <td>3</td>\n",
       "      <td>1.33</td>\n",
       "      <td>4.0</td>\n",
       "    </tr>\n",
       "    <tr>\n",
       "      <th>6</th>\n",
       "      <td>Показать на главной странице баннеры с актуальными акциями и распродажами, чтобы увеличить конверсию</td>\n",
       "      <td>5</td>\n",
       "      <td>3</td>\n",
       "      <td>8</td>\n",
       "      <td>3</td>\n",
       "      <td>8.00</td>\n",
       "      <td>40.0</td>\n",
       "    </tr>\n",
       "    <tr>\n",
       "      <th>7</th>\n",
       "      <td>Добавить форму подписки на все основные страницы, чтобы собрать базу клиентов для email-рассылок</td>\n",
       "      <td>10</td>\n",
       "      <td>7</td>\n",
       "      <td>8</td>\n",
       "      <td>5</td>\n",
       "      <td>11.20</td>\n",
       "      <td>112.0</td>\n",
       "    </tr>\n",
       "    <tr>\n",
       "      <th>8</th>\n",
       "      <td>Запустить акцию, дающую скидку на товар в день рождения</td>\n",
       "      <td>1</td>\n",
       "      <td>9</td>\n",
       "      <td>9</td>\n",
       "      <td>5</td>\n",
       "      <td>16.20</td>\n",
       "      <td>16.2</td>\n",
       "    </tr>\n",
       "  </tbody>\n",
       "</table>\n",
       "</div>"
      ],
      "text/plain": [
       "                                                                                                     hypothesis  \\\n",
       "0            Добавить два новых канала привлечения трафика, что позволит привлекать на 30% больше пользователей   \n",
       "1                                     Запустить собственную службу доставки, что сократит срок доставки заказов   \n",
       "2  Добавить блоки рекомендаций товаров на сайт интернет магазина, чтобы повысить конверсию и средний чек заказа   \n",
       "3           Изменить структура категорий, что увеличит конверсию, т.к. пользователи быстрее найдут нужный товар   \n",
       "4                              Изменить цвет фона главной страницы, чтобы увеличить вовлеченность пользователей   \n",
       "5                      Добавить страницу отзывов клиентов о магазине, что позволит увеличить количество заказов   \n",
       "6          Показать на главной странице баннеры с актуальными акциями и распродажами, чтобы увеличить конверсию   \n",
       "7              Добавить форму подписки на все основные страницы, чтобы собрать базу клиентов для email-рассылок   \n",
       "8                                                       Запустить акцию, дающую скидку на товар в день рождения   \n",
       "\n",
       "   reach  impact  confidence  efforts    ICE   RICE  \n",
       "0      3      10           8        6  13.33   40.0  \n",
       "1      2       5           4       10   2.00    4.0  \n",
       "2      8       3           7        3   7.00   56.0  \n",
       "3      8       3           3        8   1.12    9.0  \n",
       "4      3       1           1        1   1.00    3.0  \n",
       "5      3       2           2        3   1.33    4.0  \n",
       "6      5       3           8        3   8.00   40.0  \n",
       "7     10       7           8        5  11.20  112.0  \n",
       "8      1       9           9        5  16.20   16.2  "
      ]
     },
     "execution_count": 12,
     "metadata": {},
     "output_type": "execute_result"
    }
   ],
   "source": [
    "# Посмотрим на таблицу \n",
    "hypothesis"
   ]
  },
  {
   "cell_type": "markdown",
   "metadata": {},
   "source": [
    "Параметр гипотезы 7 reach равен 10, в то время как у остальных гипотез он меньше.\n",
    "Параметр охвата (Reach), использующийся в методе RICE изменил всю приоритетность, полученную по методу ICE.\n",
    "Кроме силы гипотезы нужно учитывать и то, сколько пользователей она затронет."
   ]
  },
  {
   "cell_type": "markdown",
   "metadata": {},
   "source": [
    "##  Анализ A/B-теста"
   ]
  },
  {
   "cell_type": "markdown",
   "metadata": {},
   "source": [
    "Мы провели A/B-тест и получили результаты, которые описаны в файлах ab-orders.csv и ab-visitors.csv. Проанализируем A/B-тест. Первым делом проверим, нет ли пользователей, попавших одновременно в обе группы."
   ]
  },
  {
   "cell_type": "code",
   "execution_count": 13,
   "metadata": {},
   "outputs": [
    {
     "data": {
      "text/plain": [
       "503"
      ]
     },
     "execution_count": 13,
     "metadata": {},
     "output_type": "execute_result"
    }
   ],
   "source": [
    "# количество уникальных пользоваталей в группе А\n",
    "group_A = orders.query('group == \"A\"')\n",
    "len(group_A['visitor_id'].unique())"
   ]
  },
  {
   "cell_type": "code",
   "execution_count": 14,
   "metadata": {},
   "outputs": [
    {
     "data": {
      "text/plain": [
       "586"
      ]
     },
     "execution_count": 14,
     "metadata": {},
     "output_type": "execute_result"
    }
   ],
   "source": [
    "# количество уникальных пользоваталей в группе В\n",
    "group_B = orders.query('group == \"B\"')\n",
    "len(group_B['visitor_id'].unique())"
   ]
  },
  {
   "cell_type": "markdown",
   "metadata": {},
   "source": [
    "Есть несоответствие. В общей таблице у нас 1031 уникальных пользователей. А при разделении на группы 503+586 = 1089. То есть имеется 58 пользователей (1089-1031), которые попали в обе группы. Отыщем их."
   ]
  },
  {
   "cell_type": "code",
   "execution_count": 15,
   "metadata": {},
   "outputs": [
    {
     "data": {
      "text/plain": [
       "58"
      ]
     },
     "execution_count": 15,
     "metadata": {},
     "output_type": "execute_result"
    }
   ],
   "source": [
    "union = group_A.merge(group_B,on = 'visitor_id')\n",
    "len(union['visitor_id'].unique())"
   ]
  },
  {
   "cell_type": "markdown",
   "metadata": {},
   "source": [
    "Нашли. Просто удалим этих пользователей из первоначальной таблицы для чистоты A/B теста."
   ]
  },
  {
   "cell_type": "code",
   "execution_count": 16,
   "metadata": {},
   "outputs": [
    {
     "data": {
      "text/plain": [
       "973"
      ]
     },
     "execution_count": 16,
     "metadata": {},
     "output_type": "execute_result"
    }
   ],
   "source": [
    "visitor_both_group = union['visitor_id'].to_list()\n",
    "orders = orders[~orders['visitor_id'].isin(visitor_both_group)]\n",
    "len(orders['visitor_id'].unique())"
   ]
  },
  {
   "cell_type": "code",
   "execution_count": 17,
   "metadata": {},
   "outputs": [
    {
     "data": {
      "text/plain": [
       "array([], dtype=int64)"
      ]
     },
     "execution_count": 17,
     "metadata": {},
     "output_type": "execute_result"
    }
   ],
   "source": [
    "#Проверяем\n",
    "np.intersect1d(orders.query('group == \"A\"')['visitor_id'].unique(), orders.query('group == \"B\"')['visitor_id'].unique())"
   ]
  },
  {
   "cell_type": "code",
   "execution_count": 18,
   "metadata": {},
   "outputs": [
    {
     "data": {
      "text/plain": [
       "445"
      ]
     },
     "execution_count": 18,
     "metadata": {},
     "output_type": "execute_result"
    }
   ],
   "source": [
    "# количество уникальных пользоваталей в группе А\n",
    "group_A = orders.query('group == \"A\"')\n",
    "len(group_A['visitor_id'].unique())"
   ]
  },
  {
   "cell_type": "code",
   "execution_count": 19,
   "metadata": {},
   "outputs": [
    {
     "data": {
      "text/plain": [
       "528"
      ]
     },
     "execution_count": 19,
     "metadata": {},
     "output_type": "execute_result"
    }
   ],
   "source": [
    "# количество уникальных пользоваталей в группе В\n",
    "group_B = orders.query('group == \"B\"')\n",
    "len(group_B['visitor_id'].unique())"
   ]
  },
  {
   "cell_type": "markdown",
   "metadata": {},
   "source": [
    "У нас 2 группы в А/В тесте - тест парный.\n",
    "Укажем даты проведения теста и временные рамки используя таблицу с заказами."
   ]
  },
  {
   "cell_type": "code",
   "execution_count": 20,
   "metadata": {},
   "outputs": [
    {
     "name": "stdout",
     "output_type": "stream",
     "text": [
      "Даты начала и окончания теста: с 2019-08-01 00:00:00 по 2019-08-31 00:00:00\n",
      "Временные рамки теста: 30 days 00:00:00\n"
     ]
    }
   ],
   "source": [
    "print(f\"Даты начала и окончания теста: с {orders['date'].min()} по {orders['date'].max()}\")\n",
    "print(f\"Временные рамки теста: {orders['date'].max() - orders['date'].min()}\")"
   ]
  },
  {
   "cell_type": "markdown",
   "metadata": {},
   "source": [
    "### Построим график кумулятивной выручки по группам."
   ]
  },
  {
   "cell_type": "markdown",
   "metadata": {},
   "source": [
    "Подготовим таблицу для анализа результатов A/B теста."
   ]
  },
  {
   "cell_type": "code",
   "execution_count": 21,
   "metadata": {},
   "outputs": [],
   "source": [
    "orders_grouped = (orders.groupby(['date','group'], as_index=False)\n",
    "                        .agg({'transaction_id':'nunique','visitor_id':'nunique','revenue':'sum'}))\\\n",
    "                        .rename(columns={'transaction_id':'orders','visitor_id':'buyers'})\n",
    "orders_grouped['group_copy'] = orders_grouped['group']\n",
    "orders_grouped = orders_grouped.set_index(['date','group'])\n",
    "orders_cumsum = orders_grouped.sort_values(['date','group']).groupby('group_copy').cumsum().reset_index()"
   ]
  },
  {
   "cell_type": "code",
   "execution_count": 22,
   "metadata": {},
   "outputs": [],
   "source": [
    "# посчитаем сумму визитов по дням в каждой группе\n",
    "visitors_cumsum = visitors.groupby(['date','group'], as_index=False).agg({'visitors':'sum'}).sort_values(['date','group'])\n",
    "# скопируем group чтобы провести по ней кумулятивную сумму\n",
    "visitors_cumsum['group_copy'] = visitors_cumsum['group']\n",
    "visitors_cumsum = visitors_cumsum.set_index(['date','group']).groupby('group_copy').cumsum().reset_index()    "
   ]
  },
  {
   "cell_type": "code",
   "execution_count": 23,
   "metadata": {},
   "outputs": [],
   "source": [
    "cummulative = orders_cumsum.join(visitors_cumsum[['visitors']])"
   ]
  },
  {
   "cell_type": "code",
   "execution_count": 24,
   "metadata": {},
   "outputs": [],
   "source": [
    "#считаем средний чек и конверсию \n",
    "cummulative['average_check'] = cummulative['revenue'] / cummulative['orders']\n",
    "cummulative['conversion'] = cummulative['orders'] / cummulative['visitors']"
   ]
  },
  {
   "cell_type": "code",
   "execution_count": 25,
   "metadata": {},
   "outputs": [
    {
     "data": {
      "text/html": [
       "<div>\n",
       "<style scoped>\n",
       "    .dataframe tbody tr th:only-of-type {\n",
       "        vertical-align: middle;\n",
       "    }\n",
       "\n",
       "    .dataframe tbody tr th {\n",
       "        vertical-align: top;\n",
       "    }\n",
       "\n",
       "    .dataframe thead th {\n",
       "        text-align: right;\n",
       "    }\n",
       "</style>\n",
       "<table border=\"1\" class=\"dataframe\">\n",
       "  <thead>\n",
       "    <tr style=\"text-align: right;\">\n",
       "      <th></th>\n",
       "      <th>date</th>\n",
       "      <th>group</th>\n",
       "      <th>orders</th>\n",
       "      <th>buyers</th>\n",
       "      <th>revenue</th>\n",
       "      <th>visitors</th>\n",
       "      <th>average_check</th>\n",
       "      <th>conversion</th>\n",
       "    </tr>\n",
       "  </thead>\n",
       "  <tbody>\n",
       "    <tr>\n",
       "      <th>0</th>\n",
       "      <td>2019-08-01</td>\n",
       "      <td>A</td>\n",
       "      <td>23</td>\n",
       "      <td>19</td>\n",
       "      <td>142779</td>\n",
       "      <td>719</td>\n",
       "      <td>6207.782609</td>\n",
       "      <td>0.031989</td>\n",
       "    </tr>\n",
       "    <tr>\n",
       "      <th>1</th>\n",
       "      <td>2019-08-01</td>\n",
       "      <td>B</td>\n",
       "      <td>17</td>\n",
       "      <td>17</td>\n",
       "      <td>59758</td>\n",
       "      <td>713</td>\n",
       "      <td>3515.176471</td>\n",
       "      <td>0.023843</td>\n",
       "    </tr>\n",
       "    <tr>\n",
       "      <th>2</th>\n",
       "      <td>2019-08-02</td>\n",
       "      <td>A</td>\n",
       "      <td>42</td>\n",
       "      <td>37</td>\n",
       "      <td>234381</td>\n",
       "      <td>1338</td>\n",
       "      <td>5580.500000</td>\n",
       "      <td>0.031390</td>\n",
       "    </tr>\n",
       "    <tr>\n",
       "      <th>3</th>\n",
       "      <td>2019-08-02</td>\n",
       "      <td>B</td>\n",
       "      <td>40</td>\n",
       "      <td>39</td>\n",
       "      <td>221801</td>\n",
       "      <td>1294</td>\n",
       "      <td>5545.025000</td>\n",
       "      <td>0.030912</td>\n",
       "    </tr>\n",
       "    <tr>\n",
       "      <th>4</th>\n",
       "      <td>2019-08-03</td>\n",
       "      <td>A</td>\n",
       "      <td>66</td>\n",
       "      <td>61</td>\n",
       "      <td>346854</td>\n",
       "      <td>1845</td>\n",
       "      <td>5255.363636</td>\n",
       "      <td>0.035772</td>\n",
       "    </tr>\n",
       "  </tbody>\n",
       "</table>\n",
       "</div>"
      ],
      "text/plain": [
       "        date group  orders  buyers  revenue  visitors  average_check  \\\n",
       "0 2019-08-01     A      23      19   142779       719    6207.782609   \n",
       "1 2019-08-01     B      17      17    59758       713    3515.176471   \n",
       "2 2019-08-02     A      42      37   234381      1338    5580.500000   \n",
       "3 2019-08-02     B      40      39   221801      1294    5545.025000   \n",
       "4 2019-08-03     A      66      61   346854      1845    5255.363636   \n",
       "\n",
       "   conversion  \n",
       "0    0.031989  \n",
       "1    0.023843  \n",
       "2    0.031390  \n",
       "3    0.030912  \n",
       "4    0.035772  "
      ]
     },
     "execution_count": 25,
     "metadata": {},
     "output_type": "execute_result"
    }
   ],
   "source": [
    "# результат\n",
    "cummulative.head()"
   ]
  },
  {
   "cell_type": "code",
   "execution_count": 26,
   "metadata": {},
   "outputs": [
    {
     "data": {
      "image/png": "[encoded data removed]",
      "text/plain": [
       "<Figure size 864x432 with 1 Axes>"
      ]
     },
     "metadata": {
      "needs_background": "light"
     },
     "output_type": "display_data"
    }
   ],
   "source": [
    "cummulativeA = cummulative[cummulative['group']=='A'][['date', 'revenue']]\n",
    "cummulativeB = cummulative[cummulative['group']=='B'][['date', 'revenue']]\n",
    "plt.plot(cummulativeA.iloc[:,0].to_frame(), cummulativeA.iloc[:,1].to_frame(), label='A' )\n",
    "plt.plot(cummulativeB.iloc[:,0].to_frame(), cummulativeB.iloc[:,1].to_frame(), label='B')\n",
    "plt.title('График кумулятивной выручки по группам')\n",
    "plt.ylabel(\"Выручка\")\n",
    "plt.xlabel(\"Дата\")\n",
    "plt.xticks(rotation=30)\n",
    "plt.legend()\n",
    "plt.show()"
   ]
  },
  {
   "cell_type": "markdown",
   "metadata": {},
   "source": [
    "Выручка в обеих группах увеличивается на протяжении всего теста. Однако в группе B есть резкий всплеск, который может свидетельствовать о всплеске числа заказов или о появлении неожиданно дорогих заказов. Резкий рост выручки группы В между датами 18.08.2019-19.08.2019.\n",
    "В целом графики растут линейно и разница к концу времени теста обусловлена взлетом в середине временного отрезка анализа группы В."
   ]
  },
  {
   "cell_type": "markdown",
   "metadata": {},
   "source": [
    "### Построим график кумулятивного среднего чека по группам."
   ]
  },
  {
   "cell_type": "code",
   "execution_count": 27,
   "metadata": {},
   "outputs": [
    {
     "data": {
      "image/png": "[encoded data removed]",
      "text/plain": [
       "<Figure size 864x432 with 1 Axes>"
      ]
     },
     "metadata": {
      "needs_background": "light"
     },
     "output_type": "display_data"
    }
   ],
   "source": [
    "cummulativeA = cummulative[cummulative['group']=='A'][['date', 'average_check']]\n",
    "cummulativeB = cummulative[cummulative['group']=='B'][['date', 'average_check']]\n",
    "plt.plot(cummulativeA.iloc[:,0].to_frame(), cummulativeA.iloc[:,1].to_frame(), label='A' )\n",
    "plt.plot(cummulativeB.iloc[:,0].to_frame(), cummulativeB.iloc[:,1].to_frame(), label='B')\n",
    "plt.title('График кумулятивного среднего чека по группам')\n",
    "plt.ylabel(\"Средний чек\")\n",
    "plt.xlabel(\"Дата\")\n",
    "plt.xticks(rotation=30)\n",
    "plt.legend()\n",
    "plt.show()"
   ]
  },
  {
   "cell_type": "markdown",
   "metadata": {},
   "source": [
    "В эту же дату у группы B резкий скачок по кумулятивному среднему чеку и он стал плавно снижаться к концу теста. Утверждаемся в мысли, что в группу B попали крупные заказы, судя по резкому всплеску на графике. Средний чек в группе A за первые две недели после спада подрос и стабилизировался."
   ]
  },
  {
   "cell_type": "markdown",
   "metadata": {},
   "source": [
    "### Построим график относительного изменения кумулятивного среднего чека группы B к группе A."
   ]
  },
  {
   "cell_type": "code",
   "execution_count": 28,
   "metadata": {},
   "outputs": [
    {
     "data": {
      "image/png": "[encoded data removed]",
      "text/plain": [
       "<Figure size 864x432 with 1 Axes>"
      ]
     },
     "metadata": {
      "needs_background": "light"
     },
     "output_type": "display_data"
    }
   ],
   "source": [
    "temp = (cummulativeA[['date', 'average_check']].merge(cummulativeB[['date', 'average_check']], \n",
    "                                            left_on='date', right_on='date', how='left', suffixes=['_A', '_B']))\n",
    "plt.plot(temp['date'], temp['average_check_B'] / temp['average_check_A']-1)\n",
    "plt.title('График относительного изменения кумулятивного среднего чека группы B к группе A')\n",
    "plt.axhline(y=0, color='black', linestyle='--')\n",
    "plt.xlabel(\"Дата\")\n",
    "plt.ylabel('Относительное изменение')\n",
    "plt.xticks(rotation=30)\n",
    "plt.show()"
   ]
  },
  {
   "cell_type": "markdown",
   "metadata": {},
   "source": [
    "Глядя на график относительного различия в среднем чеке между группами, видим как сильно меняются значения в определенные даты. В эти же даты мы их видели и на предыдущих графиках. Вероятно, тогда и были совершены аномальные заказы."
   ]
  },
  {
   "cell_type": "markdown",
   "metadata": {},
   "source": [
    "### Построим график кумулятивного среднего количество заказов на посетителя по группам."
   ]
  },
  {
   "cell_type": "code",
   "execution_count": 29,
   "metadata": {},
   "outputs": [
    {
     "data": {
      "image/png": "[encoded data removed]",
      "text/plain": [
       "<Figure size 864x432 with 1 Axes>"
      ]
     },
     "metadata": {
      "needs_background": "light"
     },
     "output_type": "display_data"
    }
   ],
   "source": [
    "cummulativeA = cummulative[cummulative['group']=='A'][['date', 'conversion']]\n",
    "cummulativeB = cummulative[cummulative['group']=='B'][['date', 'conversion']]\n",
    "plt.plot(cummulativeA.iloc[:,0].to_frame(), cummulativeA.iloc[:,1].to_frame(), label='A' )\n",
    "plt.plot(cummulativeB.iloc[:,0].to_frame(), cummulativeB.iloc[:,1].to_frame(), label='B')\n",
    "plt.title('График кумулятивного среднего количество заказов на посетителя по группам')\n",
    "plt.ylabel(\"Кумулятивное среднее количество заказов на посетителя\")\n",
    "plt.xlabel(\"Дата\")\n",
    "plt.ylim(0.022)\n",
    "plt.xticks(rotation=30)\n",
    "plt.legend()\n",
    "plt.show()"
   ]
  },
  {
   "cell_type": "markdown",
   "metadata": {},
   "source": [
    "Среднее количество заказов на посетителя группы A выглядит хуже, чем у группы B. В начале теста заметны сильные колебания. Группы стартовали с очень разных значений, но затем группа A постепенно просела, а группа B стабилизировалась - причем стабильно выше группы A."
   ]
  },
  {
   "cell_type": "markdown",
   "metadata": {},
   "source": [
    "### Построим график относительного изменения среднего количество заказов на посетителя группы B к группе A."
   ]
  },
  {
   "cell_type": "code",
   "execution_count": 30,
   "metadata": {},
   "outputs": [
    {
     "data": {
      "image/png": "[encoded data removed]",
      "text/plain": [
       "<Figure size 864x432 with 1 Axes>"
      ]
     },
     "metadata": {
      "needs_background": "light"
     },
     "output_type": "display_data"
    }
   ],
   "source": [
    "temp = (cummulativeA[['date', 'conversion']].merge(cummulativeB[['date', 'conversion']], \n",
    "                                            left_on='date', right_on='date', how='left', suffixes=['_A', '_B']))\n",
    "plt.plot(temp['date'], temp['conversion_B'] / temp['conversion_A']-1)\n",
    "plt.title('График относительного изменения среднего количество заказов на посетителя группы B к группе A')\n",
    "plt.axhline(y=0, color='black', linestyle='--')\n",
    "plt.ylabel(\"Изменения среднего количество заказов на посетителя\")\n",
    "plt.xlabel(\"Дата\")\n",
    "plt.xticks(rotation=45)\n",
    "plt.show()"
   ]
  },
  {
   "cell_type": "markdown",
   "metadata": {},
   "source": [
    "Относительное изменение среднего количество заказов на посетителя группы B всё так же выглядит лучше. В целом отношение по графику стабилизировалось с середины и до конца теста."
   ]
  },
  {
   "cell_type": "markdown",
   "metadata": {},
   "source": [
    "### Построим точечный график количества заказов по пользователям."
   ]
  },
  {
   "cell_type": "code",
   "execution_count": 31,
   "metadata": {},
   "outputs": [],
   "source": [
    "#создадим таблицу по количеству заказов каждого пользователя \n",
    "orders_per_user = orders.groupby('visitor_id', as_index=False).agg({'transaction_id':'nunique'})\\\n",
    "                         .rename(columns={'transaction_id':'orders'})"
   ]
  },
  {
   "cell_type": "code",
   "execution_count": 32,
   "metadata": {},
   "outputs": [
    {
     "data": {
      "image/png": "[encoded data removed]",
      "text/plain": [
       "<Figure size 864x432 with 1 Axes>"
      ]
     },
     "metadata": {
      "needs_background": "light"
     },
     "output_type": "display_data"
    }
   ],
   "source": [
    "x_values = pd.Series(range(0,len(orders_per_user['orders'])))\n",
    "plt.scatter(x_values, orders_per_user['orders'], alpha = 0.2)\n",
    "plt.title(\"График количества заказов по пользователям\")\n",
    "plt.ylabel(\"Кол-во заказов\")\n",
    "plt.xlabel(\"Пользователи\")\n",
    "plt.show()"
   ]
  },
  {
   "cell_type": "markdown",
   "metadata": {},
   "source": [
    " Большинство пользователей сделали 1 заказ, некоторые - 2, и всего 7 человек - 3 заказа. Совершившие 3 заказа возможно будут являться выбросами. Посчитаем выборочные перцентили количества заказов на одного пользователя и проверим это."
   ]
  },
  {
   "cell_type": "markdown",
   "metadata": {},
   "source": [
    "### Посчитаем 95-й и 99-й перцентили количества заказов на пользователя."
   ]
  },
  {
   "cell_type": "code",
   "execution_count": 33,
   "metadata": {},
   "outputs": [
    {
     "data": {
      "text/plain": [
       "'95 перцентиль: 1.00'"
      ]
     },
     "metadata": {},
     "output_type": "display_data"
    },
    {
     "data": {
      "text/plain": [
       "'99 перцентиль: 2.00'"
      ]
     },
     "metadata": {},
     "output_type": "display_data"
    }
   ],
   "source": [
    "display('95 перцентиль: %.2f' % (np.percentile(orders_per_user['orders'], [95])))\n",
    "display('99 перцентиль: %.2f' % (np.percentile(orders_per_user['orders'], [99])))"
   ]
  },
  {
   "cell_type": "markdown",
   "metadata": {},
   "source": [
    "95% пользователей совершают не больше 1 заказа, 99% совершают 2 заказа, аномальным будем считать 3 и более заказов."
   ]
  },
  {
   "cell_type": "markdown",
   "metadata": {},
   "source": [
    "### Построим точечный график стоимостей заказов."
   ]
  },
  {
   "cell_type": "code",
   "execution_count": 34,
   "metadata": {},
   "outputs": [
    {
     "data": {
      "image/png": "[encoded data removed]",
      "text/plain": [
       "<Figure size 864x432 with 1 Axes>"
      ]
     },
     "metadata": {
      "needs_background": "light"
     },
     "output_type": "display_data"
    }
   ],
   "source": [
    "x_values = pd.Series(range(0,len(orders['revenue'])))\n",
    "plt.scatter(x_values, orders['revenue'],alpha = 0.3)\n",
    "plt.title(\"График стоимостей заказов\")\n",
    "plt.ylabel(\"Стоимость заказов\")\n",
    "plt.xlabel(\"Пользователи\")\n",
    "plt.show()"
   ]
  },
  {
   "cell_type": "markdown",
   "metadata": {},
   "source": [
    "График малоинформативен из-за наличия аномального значения. Скорее всего это именно тот заказ, который вызывал скачки на графиках кумулятивной суммы и средней чека. Посмотрим поближе, для это уберем очевидные выбросы с 'revenue' большим 200000."
   ]
  },
  {
   "cell_type": "code",
   "execution_count": 35,
   "metadata": {},
   "outputs": [
    {
     "data": {
      "image/png": "[encoded data removed]",
      "text/plain": [
       "<Figure size 864x432 with 1 Axes>"
      ]
     },
     "metadata": {
      "needs_background": "light"
     },
     "output_type": "display_data"
    }
   ],
   "source": [
    "#отфильтруем и построим график без двух очень крупных выбросов\n",
    "orders_without_big_check = orders.query('revenue < 200000')\n",
    "x_values = pd.Series(range(0,len(orders_without_big_check['revenue'])))\n",
    "plt.scatter(x_values, orders_without_big_check['revenue'],alpha = 0.3)\n",
    "plt.title(\"График стоимостей заказов\")\n",
    "plt.ylabel(\"Стоимость заказов\")\n",
    "plt.xlabel(\"Пользователи\")\n",
    "plt.show()"
   ]
  },
  {
   "cell_type": "markdown",
   "metadata": {},
   "source": [
    "Большая часть всех заказов не дороже 20000. Более точное распределение посмотрим с помощью перцентилей."
   ]
  },
  {
   "cell_type": "markdown",
   "metadata": {},
   "source": [
    "### Посчитаем 95-й и 99-й перцентили стоимости заказов."
   ]
  },
  {
   "cell_type": "code",
   "execution_count": 36,
   "metadata": {},
   "outputs": [
    {
     "data": {
      "text/plain": [
       "array([26785., 53904.])"
      ]
     },
     "execution_count": 36,
     "metadata": {},
     "output_type": "execute_result"
    }
   ],
   "source": [
    "np.percentile(orders['revenue'], [95, 99])"
   ]
  },
  {
   "cell_type": "markdown",
   "metadata": {},
   "source": [
    "У 95% заказов чек ниже 26785 рублей, и не более чем у 1% дороже 53904 рублей.\n",
    "За границу определения аномальных заказов примем значение 53904."
   ]
  },
  {
   "cell_type": "markdown",
   "metadata": {},
   "source": [
    "### Посчитаем статистическую значимость различий в количестве заказов на пользователя между группами по «сырым» данным."
   ]
  },
  {
   "cell_type": "markdown",
   "metadata": {},
   "source": [
    "Начнём с подготовки данных.\n",
    "Соберем в общую таблицу с сырыми данными все данные по заказам, визитам и количество заказов на пользователя."
   ]
  },
  {
   "cell_type": "code",
   "execution_count": 37,
   "metadata": {},
   "outputs": [],
   "source": [
    "conversion = (orders.groupby('group').agg({'transaction_id':'count', 'revenue' : 'sum'}).rename(columns={'transaction_id':'orders'}))\\\n",
    "                                     .join((visitors.groupby('group').agg({'visitors':'sum'}))).reset_index()\n",
    "conversion['conversion'] = conversion['orders'] / conversion['visitors']"
   ]
  },
  {
   "cell_type": "markdown",
   "metadata": {},
   "source": [
    "Сформулируем 2 статистические гипотезы:\n",
    "\n",
    "H0: Количество заказов на пользователя в группе A статистически НЕ ОТЛИЧАЕТСЯ от группы B.\n",
    "\n",
    "Н1: Количество заказов на пользователя в группе A статистически ОТЛИЧАЕТСЯ от группы B\n",
    "\n",
    "Для проверки гипотез выбираем непараметрический Манна-Уитни т.к. у нас нет данных о нормальности распределения, сама выборка для теста не большая и с дисбалансом и нет уверенности в точности определения аномальных значений"
   ]
  },
  {
   "cell_type": "code",
   "execution_count": 38,
   "metadata": {},
   "outputs": [],
   "source": [
    "#разобьем по группам A и B\n",
    "ordersByVisitorA = (\n",
    "    orders[orders['group'] == 'A']\n",
    "    .groupby('visitor_id', as_index=False)\n",
    "    .agg({'transaction_id': \"nunique\"})\\\n",
    "    ['transaction_id']\n",
    ")\n",
    "\n",
    "ordersByVisitorB = (\n",
    "    orders[orders['group'] == 'B']\n",
    "    .groupby('visitor_id', as_index=False)\n",
    "    .agg({'transaction_id': \"nunique\"})\\\n",
    "    ['transaction_id']\n",
    ")"
   ]
  },
  {
   "cell_type": "markdown",
   "metadata": {},
   "source": [
    "Объявим переменные sampleA и sampleB, в которых пользователям из разных групп будет соответствовать количество заказов.\n",
    "Тем, кто ничего не заказал, будут соответствовать нули. Это нужно, чтобы подготовить выборки к проверке критерием Манна-Уитни."
   ]
  },
  {
   "cell_type": "code",
   "execution_count": 39,
   "metadata": {},
   "outputs": [],
   "source": [
    "sampleA = pd.concat((ordersByVisitorA,pd.Series([0] * (visitors[visitors['group'] == 'A'].visitors.sum() - ordersByVisitorA.shape[0]))))\\\n",
    "  .value_counts()\n",
    "\n",
    "sampleB = pd.concat((ordersByVisitorB,pd.Series([0] * (visitors[visitors['group'] == 'B'].visitors.sum() - ordersByVisitorB.shape[0]))))\\\n",
    "  .value_counts()\n"
   ]
  },
  {
   "cell_type": "code",
   "execution_count": 40,
   "metadata": {},
   "outputs": [],
   "source": [
    "sampleA = pd.concat((ordersByVisitorA,pd.Series([0] * (visitors[visitors['group'] == 'A'].visitors.sum() - ordersByVisitorA.shape[0]))))\n",
    "\n",
    "sampleB = pd.concat((ordersByVisitorB,pd.Series([0] * (visitors[visitors['group'] == 'B'].visitors.sum() - ordersByVisitorB.shape[0]))))\n"
   ]
  },
  {
   "cell_type": "code",
   "execution_count": 41,
   "metadata": {},
   "outputs": [
    {
     "data": {
      "text/plain": [
       "'p-value 0.011'"
      ]
     },
     "metadata": {},
     "output_type": "display_data"
    },
    {
     "data": {
      "text/plain": [
       "'Относительная разница между сравниваемыми величинами 0.160'"
      ]
     },
     "metadata": {},
     "output_type": "display_data"
    }
   ],
   "source": [
    "# проведём тест \n",
    "display(\"p-value {0:.3f}\".format(st.mannwhitneyu(sampleA, sampleB)[1]))\n",
    "\n",
    "display(\"Относительная разница между сравниваемыми величинами {0:.3f}\".format(sampleB.mean() / sampleA.mean() - 1))"
   ]
  },
  {
   "cell_type": "markdown",
   "metadata": {},
   "source": [
    "По «сырым» данным различий в среднем числе заказов на посетителя групп A и B нет. Первое число — p-value = 0.011 меньше 0.05. Значит, нулевую гипотезу о том, что статистически значимых различий в среднем числе заказов на посетителя между группами нет, отвергаем. Относительный выигрыш группы В равен 16%."
   ]
  },
  {
   "cell_type": "markdown",
   "metadata": {},
   "source": [
    "### Посчитаем статистическую значимость различий в среднем чеке заказа между группами по «сырым» данным."
   ]
  },
  {
   "cell_type": "markdown",
   "metadata": {},
   "source": [
    "Сформулируем 2 статистические гипотезы:\n",
    "\n",
    "H0: Средний чек в группе A статистически НЕ ОТЛИЧАЕТСЯ от среднего чека в группе B.\n",
    "\n",
    "Н1: Средний чек в группе A статистически ОТЛИЧАЕТСЯ от среднего чека в группе B."
   ]
  },
  {
   "cell_type": "code",
   "execution_count": 42,
   "metadata": {},
   "outputs": [
    {
     "name": "stdout",
     "output_type": "stream",
     "text": [
      "p-value:  0.8294908998149533\n",
      "Не получилось отвергнуть H0: вывод о различии сделать нельзя\n"
     ]
    }
   ],
   "source": [
    "alpha = 0.05\n",
    "results = st.mannwhitneyu(orders[orders['group']=='A']['revenue'], orders[orders['group']=='B']['revenue'])\n",
    "pvalue = results.pvalue\n",
    "print('p-value: ', pvalue)\n",
    "if (pvalue < alpha):\n",
    "    print(\"Отвергаем H0: разница статистически значима\")\n",
    "else:\n",
    "    print(\"Не получилось отвергнуть H0: вывод о различии сделать нельзя\")"
   ]
  },
  {
   "cell_type": "code",
   "execution_count": 43,
   "metadata": {},
   "outputs": [
    {
     "data": {
      "text/plain": [
       "'Относительная разница между сравниваемыми величинами 0.287'"
      ]
     },
     "metadata": {},
     "output_type": "display_data"
    }
   ],
   "source": [
    "display(\"Относительная разница между сравниваемыми величинами {0:.3f}\".format(orders[orders['group']=='B']['revenue'].mean() / orders[orders['group']=='A']['revenue'].mean() - 1))"
   ]
  },
  {
   "cell_type": "markdown",
   "metadata": {},
   "source": [
    "p-value = 0.829 значительно больше 0.05, поэтому можно считать, что значимых различий в среднем чеке между группами нет. По \"сырым\" данным средние чеки похожи. Относительная разница между сравниваемыми величинами 28.7%."
   ]
  },
  {
   "cell_type": "markdown",
   "metadata": {},
   "source": [
    "### Посчитаем статистическую значимость различий в количестве заказов на пользователя между группами по «очищенным» данным."
   ]
  },
  {
   "cell_type": "markdown",
   "metadata": {},
   "source": [
    "Выведем отфильтрованную таблицу normal_orders по количеству заказов не более 2. А в переменной clear_orders так же заказы на сумму не выше 53904."
   ]
  },
  {
   "cell_type": "code",
   "execution_count": 44,
   "metadata": {},
   "outputs": [],
   "source": [
    "bad_orders = orders_per_user[orders_per_user['orders'] > 3]['visitor_id'].to_list()\n",
    "bad_cost = orders.query('revenue > 53904')['visitor_id'].to_list()\n",
    "bad_users = bad_cost + bad_orders"
   ]
  },
  {
   "cell_type": "code",
   "execution_count": 45,
   "metadata": {},
   "outputs": [],
   "source": [
    "#отфильтровали по количетсву заказов \n",
    "clear_orders = orders[~orders['visitor_id'].isin(bad_users)]"
   ]
  },
  {
   "cell_type": "code",
   "execution_count": 46,
   "metadata": {},
   "outputs": [
    {
     "name": "stdout",
     "output_type": "stream",
     "text": [
      "Абсолютные потери: 9, относительные потери: 0.92%.\n"
     ]
    }
   ],
   "source": [
    "print('Абсолютные потери: {}, относительные потери: {:.2%}.'.format(len(bad_users), len(bad_users) / orders['visitor_id'].nunique()))"
   ]
  },
  {
   "cell_type": "markdown",
   "metadata": {},
   "source": [
    "Повторим наш код из пункта 4.10, только уже с очищенными данными."
   ]
  },
  {
   "cell_type": "markdown",
   "metadata": {},
   "source": [
    "Сформулируем 2 статистические гипотезы:\n",
    "\n",
    "H0: Количество заказов на пользователя в группе A статистически НЕ ОТЛИЧАЕТСЯ от группы B.\n",
    "\n",
    "Н1: Количество заказов на пользователя в группе A статистически ОТЛИЧАЕТСЯ от группы B."
   ]
  },
  {
   "cell_type": "code",
   "execution_count": 47,
   "metadata": {},
   "outputs": [
    {
     "name": "stdout",
     "output_type": "stream",
     "text": [
      "p-value: 0.010\n",
      "Относительная разница между сравниваемыми величинами 0.164\n"
     ]
    }
   ],
   "source": [
    "#разобьем по группам A и B\n",
    "ordersByVisitorA = (\n",
    "    clear_orders[clear_orders['group'] == 'A']\n",
    "    .groupby('visitor_id', as_index=False)\n",
    "    .agg({'transaction_id': \"nunique\"})\\\n",
    "    ['transaction_id']\n",
    ")\n",
    "\n",
    "ordersByVisitorB = (\n",
    "    clear_orders[clear_orders['group'] == 'B']\n",
    "    .groupby('visitor_id', as_index=False)\n",
    "    .agg({'transaction_id': \"nunique\"})\\\n",
    "    ['transaction_id']\n",
    ")\n",
    "\n",
    "\n",
    "sampleA = pd.concat((ordersByVisitorA,pd.Series([0] * (visitors[visitors['group'] == 'A'].visitors.sum() - ordersByVisitorA.shape[0]))))\n",
    "\n",
    "sampleB = pd.concat((ordersByVisitorB,pd.Series([0] * (visitors[visitors['group'] == 'B'].visitors.sum() - ordersByVisitorB.shape[0]))))\n",
    "\n",
    "# проведём тест \n",
    "print(\"p-value: {0:.3f}\".format(st.mannwhitneyu(sampleA, sampleB)[1]))\n",
    "\n",
    "print(\"Относительная разница между сравниваемыми величинами {0:.3f}\".format(sampleB.mean() / sampleA.mean() - 1))"
   ]
  },
  {
   "cell_type": "markdown",
   "metadata": {},
   "source": [
    "Вывод: По «очищенным» данным различия в среднем числе заказов на посетителя групп A и B также есть. Значит, нулевую гипотезу о том, что статистически значимых различий в среднем числе заказов на посетителя между группами нет, отвергаем. Относительный выигрыш группы В составил 16.4%."
   ]
  },
  {
   "cell_type": "markdown",
   "metadata": {},
   "source": [
    "### Посчитаем статистическую значимость различий в среднем чеке заказа между группами по «очищенным» данным."
   ]
  },
  {
   "cell_type": "markdown",
   "metadata": {},
   "source": [
    "Сформулируем 2 статистические гипотезы:\n",
    "\n",
    "H0: Средний чек в группе A статистически НЕ ОТЛИЧАЕТСЯ от среднего чека в группе B\n",
    "\n",
    "Н1: Средний чек в группе A статистически ОТЛИЧАЕТСЯ от среднего чека в группе B"
   ]
  },
  {
   "cell_type": "code",
   "execution_count": 48,
   "metadata": {},
   "outputs": [
    {
     "name": "stdout",
     "output_type": "stream",
     "text": [
      "p-значение:  0.9006884356560738\n",
      "Не получилось отвергнуть H0: вывод о различии сделать нельзя\n"
     ]
    },
    {
     "data": {
      "text/plain": [
       "'Относительная разница между сравниваемыми величинами -0.032'"
      ]
     },
     "metadata": {},
     "output_type": "display_data"
    }
   ],
   "source": [
    "alpha = 0.05\n",
    "results = st.mannwhitneyu(clear_orders[clear_orders['group']=='A']['revenue'], clear_orders[clear_orders['group']=='B']['revenue'])\n",
    "pvalue = results.pvalue\n",
    "print('p-значение: ', pvalue)\n",
    "if (pvalue < alpha):\n",
    "    print(\"Отвергаем H0: разница статистически значима\")\n",
    "else:\n",
    "    print(\"Не получилось отвергнуть H0: вывод о различии сделать нельзя\")\n",
    "display(\"Относительная разница между сравниваемыми величинами {0:.3f}\".format(clear_orders[clear_orders['group']=='B']['revenue'].mean() / clear_orders[clear_orders['group']=='A']['revenue'].mean() - 1))"
   ]
  },
  {
   "cell_type": "markdown",
   "metadata": {},
   "source": [
    "P-value = 0.954, значительно больше 0.05. Поэтому можем считать, что в среднем чеке нет различий (как и с \"сырыми\" данными)."
   ]
  },
  {
   "cell_type": "markdown",
   "metadata": {},
   "source": [
    "**Графики кумулятивной конверсии и среднего чека по очищенным данным**"
   ]
  },
  {
   "cell_type": "markdown",
   "metadata": {},
   "source": [
    "Для наглядности отразим на графиках по группам копулятивную конверсию и средний чек по очищенным данным."
   ]
  },
  {
   "cell_type": "code",
   "execution_count": 49,
   "metadata": {},
   "outputs": [],
   "source": [
    "clear_orders_grouped = (clear_orders.groupby(['date','group'], as_index=False)\n",
    "                        .agg({'transaction_id':'nunique','visitor_id':'nunique','revenue':'sum'}))\\\n",
    "                        .rename(columns={'transaction_id':'orders','visitor_id':'buyers'})\n",
    "clear_orders_grouped['group_copy'] = clear_orders_grouped['group']\n",
    "clear_orders_grouped = clear_orders_grouped.set_index(['date','group'])\n",
    "orders_cumsum = clear_orders_grouped.sort_values(['date','group']).groupby('group_copy').cumsum().reset_index()"
   ]
  },
  {
   "cell_type": "code",
   "execution_count": 50,
   "metadata": {},
   "outputs": [],
   "source": [
    "# посчитаем сумму визитов по дням в каждой группе\n",
    "visitors_cumsum = visitors.groupby(['date','group'], as_index=False).agg({'visitors':'sum'}).sort_values(['date','group'])\n",
    "# скопируем group чтобы провести по ней кумулятивную сумму\n",
    "visitors_cumsum['group_copy'] = visitors_cumsum['group']\n",
    "visitors_cumsum = visitors_cumsum.set_index(['date','group']).groupby('group_copy').cumsum().reset_index()  "
   ]
  },
  {
   "cell_type": "code",
   "execution_count": 51,
   "metadata": {},
   "outputs": [],
   "source": [
    "cummulative = orders_cumsum.join(visitors_cumsum[['visitors']])"
   ]
  },
  {
   "cell_type": "code",
   "execution_count": 52,
   "metadata": {},
   "outputs": [],
   "source": [
    "cummulative['average_check'] = cummulative['revenue'] / cummulative['orders']\n",
    "cummulative['conversion'] = cummulative['orders'] / cummulative['visitors']"
   ]
  },
  {
   "cell_type": "code",
   "execution_count": 53,
   "metadata": {},
   "outputs": [
    {
     "data": {
      "image/png": "[encoded data removed]",
      "text/plain": [
       "<Figure size 864x432 with 1 Axes>"
      ]
     },
     "metadata": {
      "needs_background": "light"
     },
     "output_type": "display_data"
    }
   ],
   "source": [
    "cummulativeA = cummulative[cummulative['group']=='A'][['date', 'average_check']]\n",
    "cummulativeB = cummulative[cummulative['group']=='B'][['date', 'average_check']]\n",
    "plt.plot(cummulativeA.iloc[:,0].to_frame(), cummulativeA.iloc[:,1].to_frame(), label='A' )\n",
    "plt.plot(cummulativeB.iloc[:,0].to_frame(), cummulativeB.iloc[:,1].to_frame(), label='B')\n",
    "plt.title('График кумулятивного среднего чека по группам')\n",
    "plt.ylabel(\"Средний чек\")\n",
    "plt.xlabel(\"Дата\")\n",
    "plt.xticks(rotation=30)\n",
    "plt.legend()\n",
    "plt.show()"
   ]
  },
  {
   "cell_type": "code",
   "execution_count": 54,
   "metadata": {},
   "outputs": [
    {
     "data": {
      "image/png": "[encoded data removed]",
      "text/plain": [
       "<Figure size 864x432 with 1 Axes>"
      ]
     },
     "metadata": {
      "needs_background": "light"
     },
     "output_type": "display_data"
    }
   ],
   "source": [
    "cummulativeA = cummulative[cummulative['group']=='A'][['date', 'conversion']]\n",
    "cummulativeB = cummulative[cummulative['group']=='B'][['date', 'conversion']]\n",
    "plt.plot(cummulativeA.iloc[:,0].to_frame(), cummulativeA.iloc[:,1].to_frame(), label='A' )\n",
    "plt.plot(cummulativeB.iloc[:,0].to_frame(), cummulativeB.iloc[:,1].to_frame(), label='B')\n",
    "plt.title('График кумулятивного среднего количество заказов на посетителя по группам')\n",
    "plt.ylabel(\"Кумулятивное среднее количество заказов на посетителя\")\n",
    "plt.xlabel(\"Дата\")\n",
    "plt.ylim(0.022)\n",
    "plt.xticks(rotation=30)\n",
    "plt.legend()\n",
    "plt.show()"
   ]
  },
  {
   "cell_type": "markdown",
   "metadata": {},
   "source": [
    "## Решение по результатам теста с обоснованием"
   ]
  },
  {
   "cell_type": "markdown",
   "metadata": {},
   "source": [
    "Вывод по результатам теста:\n",
    "\n",
    "График кумулятивного среднего количества заказов на посетителя стабилизировался и при проверке гипотез (и по сырым, и по очищенным данным) мы можем говорить, что среднее количество заказов на посетителя в группе B лучше, чем в группе A.\n",
    "График среднего чек не стабилизировался. График кумулятивного среднего чека по очищенным данным показывает, что график скачет и почти каждый день группа A и группа B меняются местами.\n",
    "И по \"сырым\" и по \"очищенным\" данным различия в среднем числе заказов на посетителя групп A и B есть.\n",
    "И по \"сырым\" и по \"очищенным\" данным различий в среднем чеке заказов групп A и B нет.\n",
    "Примем решение завершить тест и зафиксировать , что \"группа В показала себя лучше\". Ведь при отсутствии статистической разницы между средним чеком у группы В будет большая выручка, так как среднее количество заказов на посетителя выше, чем в группе А."
   ]
  },
  {
   "cell_type": "markdown",
   "metadata": {},
   "source": [
    "Решение:\n",
    "\n",
    "Основываясь на результатах проведенного А/В теста, рекомендую остановить тест и зафиксировать победу группы В по показателю среднего количества заказов на посетителя. Дальше отдел маркетинга может начать работу по стимуляции к увеличению среднего чека."
   ]
  }
 ],
 "metadata": {
  "ExecuteTimeLog": [
   {
    "duration": 71,
    "start_time": "2023-04-07T09:23:12.596Z"
   },
   {
    "duration": 1402,
    "start_time": "2023-04-07T09:24:11.335Z"
   },
   {
    "duration": 5,
    "start_time": "2023-04-07T09:24:25.855Z"
   },
   {
    "duration": 175,
    "start_time": "2023-04-07T09:24:28.590Z"
   },
   {
    "duration": 112,
    "start_time": "2023-04-07T09:24:47.420Z"
   },
   {
    "duration": 85,
    "start_time": "2023-04-07T09:25:09.635Z"
   },
   {
    "duration": 3,
    "start_time": "2023-04-07T09:28:07.866Z"
   },
   {
    "duration": 63,
    "start_time": "2023-04-07T09:28:10.245Z"
   },
   {
    "duration": 139,
    "start_time": "2023-04-07T09:29:26.190Z"
   },
   {
    "duration": 2,
    "start_time": "2023-04-07T09:30:19.386Z"
   },
   {
    "duration": 106,
    "start_time": "2023-04-07T09:30:22.915Z"
   },
   {
    "duration": 1176,
    "start_time": "2023-04-07T09:30:34.560Z"
   },
   {
    "duration": 62,
    "start_time": "2023-04-07T09:30:35.738Z"
   },
   {
    "duration": 8,
    "start_time": "2023-04-07T09:30:35.802Z"
   },
   {
    "duration": 126,
    "start_time": "2023-04-07T09:30:35.817Z"
   },
   {
    "duration": 17,
    "start_time": "2023-04-07T09:31:21.516Z"
   },
   {
    "duration": 116,
    "start_time": "2023-04-07T09:32:25.320Z"
   },
   {
    "duration": 50,
    "start_time": "2023-04-07T09:32:48.690Z"
   },
   {
    "duration": 88,
    "start_time": "2023-04-07T09:33:28.351Z"
   },
   {
    "duration": 3,
    "start_time": "2023-04-07T09:34:20.890Z"
   },
   {
    "duration": 9,
    "start_time": "2023-04-07T09:40:24.251Z"
   },
   {
    "duration": 10,
    "start_time": "2023-04-07T09:40:42.881Z"
   },
   {
    "duration": 4,
    "start_time": "2023-04-07T09:40:50.823Z"
   },
   {
    "duration": 6,
    "start_time": "2023-04-07T09:41:49.791Z"
   },
   {
    "duration": 9,
    "start_time": "2023-04-07T09:42:21.761Z"
   },
   {
    "duration": 11,
    "start_time": "2023-04-07T09:42:37.302Z"
   },
   {
    "duration": 353,
    "start_time": "2023-04-07T09:43:42.123Z"
   },
   {
    "duration": 336,
    "start_time": "2023-04-07T09:44:08.120Z"
   },
   {
    "duration": 1213,
    "start_time": "2023-04-07T09:45:17.756Z"
   },
   {
    "duration": 69,
    "start_time": "2023-04-07T09:45:18.971Z"
   },
   {
    "duration": 110,
    "start_time": "2023-04-07T09:45:19.043Z"
   },
   {
    "duration": 2,
    "start_time": "2023-04-07T09:45:19.155Z"
   },
   {
    "duration": 13,
    "start_time": "2023-04-07T09:45:19.159Z"
   },
   {
    "duration": 9,
    "start_time": "2023-04-07T09:45:19.174Z"
   },
   {
    "duration": 28,
    "start_time": "2023-04-07T09:45:19.185Z"
   },
   {
    "duration": 13,
    "start_time": "2023-04-07T09:48:22.986Z"
   },
   {
    "duration": 487,
    "start_time": "2023-04-07T09:48:37.896Z"
   },
   {
    "duration": 1294,
    "start_time": "2023-04-07T09:48:50.536Z"
   },
   {
    "duration": 104,
    "start_time": "2023-04-07T09:48:51.833Z"
   },
   {
    "duration": 147,
    "start_time": "2023-04-07T09:48:51.940Z"
   },
   {
    "duration": 16,
    "start_time": "2023-04-07T09:48:52.090Z"
   },
   {
    "duration": 14,
    "start_time": "2023-04-07T09:48:52.119Z"
   },
   {
    "duration": 10,
    "start_time": "2023-04-07T09:48:52.137Z"
   },
   {
    "duration": 32,
    "start_time": "2023-04-07T09:48:52.150Z"
   },
   {
    "duration": 112,
    "start_time": "2023-04-07T09:52:52.297Z"
   },
   {
    "duration": 98,
    "start_time": "2023-04-07T09:56:47.466Z"
   },
   {
    "duration": 14,
    "start_time": "2023-04-07T09:57:53.546Z"
   },
   {
    "duration": 92,
    "start_time": "2023-04-07T09:58:43.556Z"
   },
   {
    "duration": 13,
    "start_time": "2023-04-07T11:27:02.225Z"
   },
   {
    "duration": 11,
    "start_time": "2023-04-07T11:31:42.866Z"
   },
   {
    "duration": 9,
    "start_time": "2023-04-07T11:39:37.406Z"
   },
   {
    "duration": 8,
    "start_time": "2023-04-07T11:39:39.505Z"
   },
   {
    "duration": 12,
    "start_time": "2023-04-07T11:40:18.326Z"
   },
   {
    "duration": 1382,
    "start_time": "2023-04-07T11:44:48.104Z"
   },
   {
    "duration": 8,
    "start_time": "2023-04-07T11:46:02.307Z"
   },
   {
    "duration": 1196,
    "start_time": "2023-04-07T11:46:24.908Z"
   },
   {
    "duration": 61,
    "start_time": "2023-04-07T11:46:26.106Z"
   },
   {
    "duration": 100,
    "start_time": "2023-04-07T11:46:26.169Z"
   },
   {
    "duration": 3,
    "start_time": "2023-04-07T11:46:26.271Z"
   },
   {
    "duration": 4,
    "start_time": "2023-04-07T11:46:26.302Z"
   },
   {
    "duration": 7,
    "start_time": "2023-04-07T11:46:26.308Z"
   },
   {
    "duration": 17,
    "start_time": "2023-04-07T11:46:26.317Z"
   },
   {
    "duration": 15,
    "start_time": "2023-04-07T11:46:26.336Z"
   },
   {
    "duration": 14,
    "start_time": "2023-04-07T11:46:26.353Z"
   },
   {
    "duration": 50,
    "start_time": "2023-04-07T11:46:26.368Z"
   },
   {
    "duration": 11,
    "start_time": "2023-04-07T11:46:26.420Z"
   },
   {
    "duration": 9,
    "start_time": "2023-04-07T11:46:26.433Z"
   },
   {
    "duration": 15,
    "start_time": "2023-04-07T11:46:26.444Z"
   },
   {
    "duration": 1358,
    "start_time": "2023-04-07T11:46:26.462Z"
   },
   {
    "duration": 9,
    "start_time": "2023-04-07T11:50:14.355Z"
   },
   {
    "duration": 1188,
    "start_time": "2023-04-07T11:51:40.355Z"
   },
   {
    "duration": 1289,
    "start_time": "2023-04-07T11:51:56.755Z"
   },
   {
    "duration": 1177,
    "start_time": "2023-04-07T11:52:11.655Z"
   },
   {
    "duration": 8,
    "start_time": "2023-04-07T11:52:18.875Z"
   },
   {
    "duration": 8,
    "start_time": "2023-04-07T11:53:27.155Z"
   },
   {
    "duration": 7,
    "start_time": "2023-04-07T11:54:11.675Z"
   },
   {
    "duration": 1334,
    "start_time": "2023-04-07T12:00:25.908Z"
   },
   {
    "duration": 9,
    "start_time": "2023-04-07T12:00:43.815Z"
   },
   {
    "duration": 10,
    "start_time": "2023-04-07T12:10:43.117Z"
   },
   {
    "duration": 19,
    "start_time": "2023-04-07T12:11:36.414Z"
   },
   {
    "duration": 18,
    "start_time": "2023-04-07T12:12:43.014Z"
   },
   {
    "duration": 5,
    "start_time": "2023-04-07T12:12:52.715Z"
   },
   {
    "duration": 10,
    "start_time": "2023-04-07T12:13:38.019Z"
   },
   {
    "duration": 11,
    "start_time": "2023-04-07T12:13:50.339Z"
   },
   {
    "duration": 340,
    "start_time": "2023-04-07T12:32:45.976Z"
   },
   {
    "duration": 197,
    "start_time": "2023-04-07T12:39:58.947Z"
   },
   {
    "duration": 256,
    "start_time": "2023-04-07T13:00:44.136Z"
   },
   {
    "duration": 209,
    "start_time": "2023-04-07T13:03:17.305Z"
   },
   {
    "duration": 272,
    "start_time": "2023-04-07T13:05:34.925Z"
   },
   {
    "duration": 11,
    "start_time": "2023-04-07T13:09:38.755Z"
   },
   {
    "duration": 7,
    "start_time": "2023-04-07T13:10:00.145Z"
   },
   {
    "duration": 137,
    "start_time": "2023-04-07T13:10:01.475Z"
   },
   {
    "duration": 134,
    "start_time": "2023-04-07T13:10:25.435Z"
   },
   {
    "duration": 5,
    "start_time": "2023-04-07T13:16:13.295Z"
   },
   {
    "duration": 209,
    "start_time": "2023-04-07T13:19:12.304Z"
   },
   {
    "duration": 124,
    "start_time": "2023-04-07T13:19:31.535Z"
   },
   {
    "duration": 129,
    "start_time": "2023-04-07T13:21:42.755Z"
   },
   {
    "duration": 122,
    "start_time": "2023-04-07T13:21:54.435Z"
   },
   {
    "duration": 5,
    "start_time": "2023-04-07T13:32:45.205Z"
   },
   {
    "duration": 5,
    "start_time": "2023-04-07T13:37:50.905Z"
   },
   {
    "duration": 15,
    "start_time": "2023-04-07T13:43:32.817Z"
   },
   {
    "duration": 10,
    "start_time": "2023-04-07T13:44:08.096Z"
   },
   {
    "duration": 13,
    "start_time": "2023-04-07T13:45:41.632Z"
   },
   {
    "duration": 12,
    "start_time": "2023-04-07T13:46:14.844Z"
   },
   {
    "duration": 13,
    "start_time": "2023-04-07T13:46:17.136Z"
   },
   {
    "duration": 1248,
    "start_time": "2023-04-07T13:46:37.645Z"
   },
   {
    "duration": 61,
    "start_time": "2023-04-07T13:46:38.895Z"
   },
   {
    "duration": 106,
    "start_time": "2023-04-07T13:46:38.958Z"
   },
   {
    "duration": 3,
    "start_time": "2023-04-07T13:46:39.067Z"
   },
   {
    "duration": 5,
    "start_time": "2023-04-07T13:46:39.102Z"
   },
   {
    "duration": 8,
    "start_time": "2023-04-07T13:46:39.109Z"
   },
   {
    "duration": 16,
    "start_time": "2023-04-07T13:46:39.119Z"
   },
   {
    "duration": 22,
    "start_time": "2023-04-07T13:46:39.137Z"
   },
   {
    "duration": 43,
    "start_time": "2023-04-07T13:46:39.161Z"
   },
   {
    "duration": 10,
    "start_time": "2023-04-07T13:46:39.207Z"
   },
   {
    "duration": 9,
    "start_time": "2023-04-07T13:46:39.219Z"
   },
   {
    "duration": 13,
    "start_time": "2023-04-07T13:46:39.229Z"
   },
   {
    "duration": 15,
    "start_time": "2023-04-07T13:46:39.244Z"
   },
   {
    "duration": 12,
    "start_time": "2023-04-07T13:46:39.262Z"
   },
   {
    "duration": 39,
    "start_time": "2023-04-07T13:46:39.276Z"
   },
   {
    "duration": 22,
    "start_time": "2023-04-07T13:46:39.317Z"
   },
   {
    "duration": 22,
    "start_time": "2023-04-07T13:46:39.340Z"
   },
   {
    "duration": 7,
    "start_time": "2023-04-07T13:46:39.364Z"
   },
   {
    "duration": 7,
    "start_time": "2023-04-07T13:46:39.402Z"
   },
   {
    "duration": 14,
    "start_time": "2023-04-07T13:46:39.411Z"
   },
   {
    "duration": 343,
    "start_time": "2023-04-07T13:46:39.427Z"
   },
   {
    "duration": 242,
    "start_time": "2023-04-07T13:46:39.773Z"
   },
   {
    "duration": 323,
    "start_time": "2023-04-07T13:46:40.017Z"
   },
   {
    "duration": 234,
    "start_time": "2023-04-07T13:46:40.342Z"
   },
   {
    "duration": 329,
    "start_time": "2023-04-07T13:46:40.578Z"
   },
   {
    "duration": 6,
    "start_time": "2023-04-07T13:46:40.910Z"
   },
   {
    "duration": 157,
    "start_time": "2023-04-07T13:46:40.918Z"
   },
   {
    "duration": 6,
    "start_time": "2023-04-07T13:46:41.077Z"
   },
   {
    "duration": 160,
    "start_time": "2023-04-07T13:46:41.085Z"
   },
   {
    "duration": 231,
    "start_time": "2023-04-07T13:46:41.247Z"
   },
   {
    "duration": 6,
    "start_time": "2023-04-07T13:46:41.481Z"
   },
   {
    "duration": 25,
    "start_time": "2023-04-07T13:46:41.489Z"
   },
   {
    "duration": 128,
    "start_time": "2023-04-07T13:46:41.516Z"
   },
   {
    "duration": 13,
    "start_time": "2023-04-07T13:52:15.585Z"
   },
   {
    "duration": 1249,
    "start_time": "2023-04-07T13:52:31.416Z"
   },
   {
    "duration": 67,
    "start_time": "2023-04-07T13:52:32.667Z"
   },
   {
    "duration": 131,
    "start_time": "2023-04-07T13:52:32.737Z"
   },
   {
    "duration": 2,
    "start_time": "2023-04-07T13:52:32.870Z"
   },
   {
    "duration": 11,
    "start_time": "2023-04-07T13:52:32.902Z"
   },
   {
    "duration": 32,
    "start_time": "2023-04-07T13:52:32.915Z"
   },
   {
    "duration": 34,
    "start_time": "2023-04-07T13:52:32.948Z"
   },
   {
    "duration": 36,
    "start_time": "2023-04-07T13:52:32.984Z"
   },
   {
    "duration": 30,
    "start_time": "2023-04-07T13:52:33.021Z"
   },
   {
    "duration": 38,
    "start_time": "2023-04-07T13:52:33.053Z"
   },
   {
    "duration": 39,
    "start_time": "2023-04-07T13:52:33.093Z"
   },
   {
    "duration": 23,
    "start_time": "2023-04-07T13:52:33.133Z"
   },
   {
    "duration": 38,
    "start_time": "2023-04-07T13:52:33.158Z"
   },
   {
    "duration": 14,
    "start_time": "2023-04-07T13:52:33.199Z"
   },
   {
    "duration": 35,
    "start_time": "2023-04-07T13:52:33.215Z"
   },
   {
    "duration": 33,
    "start_time": "2023-04-07T13:52:33.252Z"
   },
   {
    "duration": 28,
    "start_time": "2023-04-07T13:52:33.287Z"
   },
   {
    "duration": 60,
    "start_time": "2023-04-07T13:52:33.316Z"
   },
   {
    "duration": 37,
    "start_time": "2023-04-07T13:52:33.378Z"
   },
   {
    "duration": 29,
    "start_time": "2023-04-07T13:52:33.417Z"
   },
   {
    "duration": 345,
    "start_time": "2023-04-07T13:52:33.449Z"
   },
   {
    "duration": 228,
    "start_time": "2023-04-07T13:52:33.796Z"
   },
   {
    "duration": 293,
    "start_time": "2023-04-07T13:52:34.026Z"
   },
   {
    "duration": 224,
    "start_time": "2023-04-07T13:52:34.321Z"
   },
   {
    "duration": 280,
    "start_time": "2023-04-07T13:52:34.547Z"
   },
   {
    "duration": 8,
    "start_time": "2023-04-07T13:52:34.828Z"
   },
   {
    "duration": 159,
    "start_time": "2023-04-07T13:52:34.838Z"
   },
   {
    "duration": 5,
    "start_time": "2023-04-07T13:52:35.002Z"
   },
   {
    "duration": 150,
    "start_time": "2023-04-07T13:52:35.009Z"
   },
   {
    "duration": 233,
    "start_time": "2023-04-07T13:52:35.161Z"
   },
   {
    "duration": 8,
    "start_time": "2023-04-07T13:52:35.396Z"
   },
   {
    "duration": 24,
    "start_time": "2023-04-07T13:52:35.406Z"
   },
   {
    "duration": 20,
    "start_time": "2023-04-07T13:52:35.431Z"
   },
   {
    "duration": 9,
    "start_time": "2023-04-07T13:58:00.536Z"
   },
   {
    "duration": 105,
    "start_time": "2023-04-07T14:07:01.457Z"
   },
   {
    "duration": 18,
    "start_time": "2023-04-07T14:07:08.029Z"
   },
   {
    "duration": 16,
    "start_time": "2023-04-07T14:07:10.247Z"
   },
   {
    "duration": 7,
    "start_time": "2023-04-07T14:10:12.898Z"
   },
   {
    "duration": 6,
    "start_time": "2023-04-07T14:11:41.952Z"
   },
   {
    "duration": 12,
    "start_time": "2023-04-07T15:52:31.228Z"
   },
   {
    "duration": 12,
    "start_time": "2023-04-07T16:00:07.227Z"
   },
   {
    "duration": 1316,
    "start_time": "2023-04-07T16:00:27.032Z"
   },
   {
    "duration": 70,
    "start_time": "2023-04-07T16:00:28.350Z"
   },
   {
    "duration": 125,
    "start_time": "2023-04-07T16:00:28.423Z"
   },
   {
    "duration": 4,
    "start_time": "2023-04-07T16:00:28.551Z"
   },
   {
    "duration": 8,
    "start_time": "2023-04-07T16:00:28.556Z"
   },
   {
    "duration": 42,
    "start_time": "2023-04-07T16:00:28.566Z"
   },
   {
    "duration": 28,
    "start_time": "2023-04-07T16:00:28.610Z"
   },
   {
    "duration": 21,
    "start_time": "2023-04-07T16:00:28.641Z"
   },
   {
    "duration": 19,
    "start_time": "2023-04-07T16:00:28.664Z"
   },
   {
    "duration": 19,
    "start_time": "2023-04-07T16:00:28.705Z"
   },
   {
    "duration": 19,
    "start_time": "2023-04-07T16:00:28.726Z"
   },
   {
    "duration": 18,
    "start_time": "2023-04-07T16:00:28.747Z"
   },
   {
    "duration": 12,
    "start_time": "2023-04-07T16:00:28.767Z"
   },
   {
    "duration": 7,
    "start_time": "2023-04-07T16:00:28.782Z"
   },
   {
    "duration": 23,
    "start_time": "2023-04-07T16:00:28.791Z"
   },
   {
    "duration": 34,
    "start_time": "2023-04-07T16:00:28.816Z"
   },
   {
    "duration": 19,
    "start_time": "2023-04-07T16:00:28.852Z"
   },
   {
    "duration": 21,
    "start_time": "2023-04-07T16:00:28.873Z"
   },
   {
    "duration": 21,
    "start_time": "2023-04-07T16:00:28.895Z"
   },
   {
    "duration": 14,
    "start_time": "2023-04-07T16:00:28.918Z"
   },
   {
    "duration": 345,
    "start_time": "2023-04-07T16:00:28.934Z"
   },
   {
    "duration": 291,
    "start_time": "2023-04-07T16:00:29.281Z"
   },
   {
    "duration": 367,
    "start_time": "2023-04-07T16:00:29.574Z"
   },
   {
    "duration": 299,
    "start_time": "2023-04-07T16:00:29.944Z"
   },
   {
    "duration": 323,
    "start_time": "2023-04-07T16:00:30.246Z"
   },
   {
    "duration": 7,
    "start_time": "2023-04-07T16:00:30.571Z"
   },
   {
    "duration": 201,
    "start_time": "2023-04-07T16:00:30.580Z"
   },
   {
    "duration": 24,
    "start_time": "2023-04-07T16:00:30.786Z"
   },
   {
    "duration": 170,
    "start_time": "2023-04-07T16:00:30.814Z"
   },
   {
    "duration": 292,
    "start_time": "2023-04-07T16:00:30.987Z"
   },
   {
    "duration": 6,
    "start_time": "2023-04-07T16:00:31.281Z"
   },
   {
    "duration": 41,
    "start_time": "2023-04-07T16:00:31.289Z"
   },
   {
    "duration": 35,
    "start_time": "2023-04-07T16:00:31.332Z"
   },
   {
    "duration": 88,
    "start_time": "2023-04-07T16:00:31.369Z"
   },
   {
    "duration": 0,
    "start_time": "2023-04-07T16:00:31.459Z"
   },
   {
    "duration": 0,
    "start_time": "2023-04-07T16:00:31.460Z"
   },
   {
    "duration": 0,
    "start_time": "2023-04-07T16:00:31.461Z"
   },
   {
    "duration": 0,
    "start_time": "2023-04-07T16:00:31.463Z"
   },
   {
    "duration": 0,
    "start_time": "2023-04-07T16:00:31.464Z"
   },
   {
    "duration": 0,
    "start_time": "2023-04-07T16:00:31.465Z"
   },
   {
    "duration": 0,
    "start_time": "2023-04-07T16:00:31.467Z"
   },
   {
    "duration": 14,
    "start_time": "2023-04-07T16:02:55.882Z"
   },
   {
    "duration": 16,
    "start_time": "2023-04-07T16:02:58.152Z"
   },
   {
    "duration": 7,
    "start_time": "2023-04-07T16:03:01.491Z"
   },
   {
    "duration": 9,
    "start_time": "2023-04-07T16:03:03.782Z"
   },
   {
    "duration": 117,
    "start_time": "2023-04-07T16:03:06.423Z"
   },
   {
    "duration": 97,
    "start_time": "2023-04-07T16:07:26.731Z"
   },
   {
    "duration": 11,
    "start_time": "2023-04-07T16:08:31.532Z"
   },
   {
    "duration": 4,
    "start_time": "2023-04-07T16:10:55.282Z"
   },
   {
    "duration": 8,
    "start_time": "2023-04-07T16:11:14.913Z"
   },
   {
    "duration": 8,
    "start_time": "2023-04-07T16:13:23.801Z"
   },
   {
    "duration": 29,
    "start_time": "2023-04-07T16:18:31.341Z"
   },
   {
    "duration": 11,
    "start_time": "2023-04-07T16:21:48.033Z"
   },
   {
    "duration": 86,
    "start_time": "2023-04-07T16:25:42.381Z"
   },
   {
    "duration": 21,
    "start_time": "2023-04-07T16:26:26.001Z"
   },
   {
    "duration": 1257,
    "start_time": "2023-04-07T16:29:48.972Z"
   },
   {
    "duration": 61,
    "start_time": "2023-04-07T16:29:50.231Z"
   },
   {
    "duration": 124,
    "start_time": "2023-04-07T16:29:50.294Z"
   },
   {
    "duration": 3,
    "start_time": "2023-04-07T16:29:50.420Z"
   },
   {
    "duration": 17,
    "start_time": "2023-04-07T16:29:50.425Z"
   },
   {
    "duration": 6,
    "start_time": "2023-04-07T16:29:50.444Z"
   },
   {
    "duration": 19,
    "start_time": "2023-04-07T16:29:50.452Z"
   },
   {
    "duration": 29,
    "start_time": "2023-04-07T16:29:50.473Z"
   },
   {
    "duration": 13,
    "start_time": "2023-04-07T16:29:50.504Z"
   },
   {
    "duration": 29,
    "start_time": "2023-04-07T16:29:50.520Z"
   },
   {
    "duration": 30,
    "start_time": "2023-04-07T16:29:50.550Z"
   },
   {
    "duration": 18,
    "start_time": "2023-04-07T16:29:50.582Z"
   },
   {
    "duration": 27,
    "start_time": "2023-04-07T16:29:50.603Z"
   },
   {
    "duration": 28,
    "start_time": "2023-04-07T16:29:50.633Z"
   },
   {
    "duration": 16,
    "start_time": "2023-04-07T16:29:50.663Z"
   },
   {
    "duration": 44,
    "start_time": "2023-04-07T16:29:50.681Z"
   },
   {
    "duration": 21,
    "start_time": "2023-04-07T16:29:50.727Z"
   },
   {
    "duration": 9,
    "start_time": "2023-04-07T16:29:50.750Z"
   },
   {
    "duration": 13,
    "start_time": "2023-04-07T16:29:50.761Z"
   },
   {
    "duration": 14,
    "start_time": "2023-04-07T16:29:50.776Z"
   },
   {
    "duration": 294,
    "start_time": "2023-04-07T16:29:50.802Z"
   },
   {
    "duration": 229,
    "start_time": "2023-04-07T16:29:51.098Z"
   },
   {
    "duration": 289,
    "start_time": "2023-04-07T16:29:51.329Z"
   },
   {
    "duration": 228,
    "start_time": "2023-04-07T16:29:51.620Z"
   },
   {
    "duration": 333,
    "start_time": "2023-04-07T16:29:51.850Z"
   },
   {
    "duration": 6,
    "start_time": "2023-04-07T16:29:52.186Z"
   },
   {
    "duration": 152,
    "start_time": "2023-04-07T16:29:52.194Z"
   },
   {
    "duration": 5,
    "start_time": "2023-04-07T16:29:52.349Z"
   },
   {
    "duration": 150,
    "start_time": "2023-04-07T16:29:52.356Z"
   },
   {
    "duration": 214,
    "start_time": "2023-04-07T16:29:52.508Z"
   },
   {
    "duration": 5,
    "start_time": "2023-04-07T16:29:52.724Z"
   },
   {
    "duration": 17,
    "start_time": "2023-04-07T16:29:52.731Z"
   },
   {
    "duration": 15,
    "start_time": "2023-04-07T16:29:52.749Z"
   },
   {
    "duration": 18,
    "start_time": "2023-04-07T16:29:52.766Z"
   },
   {
    "duration": 17,
    "start_time": "2023-04-07T16:29:52.803Z"
   },
   {
    "duration": 17,
    "start_time": "2023-04-07T16:29:52.822Z"
   },
   {
    "duration": 33,
    "start_time": "2023-04-07T16:29:52.841Z"
   },
   {
    "duration": 77,
    "start_time": "2023-04-07T16:29:52.876Z"
   },
   {
    "duration": 0,
    "start_time": "2023-04-07T16:29:52.955Z"
   },
   {
    "duration": 0,
    "start_time": "2023-04-07T16:29:52.957Z"
   },
   {
    "duration": 0,
    "start_time": "2023-04-07T16:29:52.958Z"
   },
   {
    "duration": 0,
    "start_time": "2023-04-07T16:29:52.960Z"
   },
   {
    "duration": 0,
    "start_time": "2023-04-07T16:29:52.962Z"
   },
   {
    "duration": 0,
    "start_time": "2023-04-07T16:29:52.964Z"
   },
   {
    "duration": 0,
    "start_time": "2023-04-07T16:29:52.965Z"
   },
   {
    "duration": 0,
    "start_time": "2023-04-07T16:29:52.966Z"
   },
   {
    "duration": 0,
    "start_time": "2023-04-07T16:29:52.967Z"
   },
   {
    "duration": 0,
    "start_time": "2023-04-07T16:29:52.968Z"
   },
   {
    "duration": 0,
    "start_time": "2023-04-07T16:29:52.969Z"
   },
   {
    "duration": 1229,
    "start_time": "2023-04-07T16:30:16.402Z"
   },
   {
    "duration": 61,
    "start_time": "2023-04-07T16:30:17.634Z"
   },
   {
    "duration": 123,
    "start_time": "2023-04-07T16:30:17.697Z"
   },
   {
    "duration": 2,
    "start_time": "2023-04-07T16:30:17.822Z"
   },
   {
    "duration": 7,
    "start_time": "2023-04-07T16:30:17.826Z"
   },
   {
    "duration": 8,
    "start_time": "2023-04-07T16:30:17.834Z"
   },
   {
    "duration": 15,
    "start_time": "2023-04-07T16:30:17.844Z"
   },
   {
    "duration": 44,
    "start_time": "2023-04-07T16:30:17.861Z"
   },
   {
    "duration": 14,
    "start_time": "2023-04-07T16:30:17.907Z"
   },
   {
    "duration": 14,
    "start_time": "2023-04-07T16:30:17.925Z"
   },
   {
    "duration": 12,
    "start_time": "2023-04-07T16:30:17.941Z"
   },
   {
    "duration": 8,
    "start_time": "2023-04-07T16:30:17.955Z"
   },
   {
    "duration": 41,
    "start_time": "2023-04-07T16:30:17.965Z"
   },
   {
    "duration": 9,
    "start_time": "2023-04-07T16:30:18.008Z"
   },
   {
    "duration": 18,
    "start_time": "2023-04-07T16:30:18.019Z"
   },
   {
    "duration": 23,
    "start_time": "2023-04-07T16:30:18.039Z"
   },
   {
    "duration": 46,
    "start_time": "2023-04-07T16:30:18.064Z"
   },
   {
    "duration": 4,
    "start_time": "2023-04-07T16:30:18.112Z"
   },
   {
    "duration": 5,
    "start_time": "2023-04-07T16:30:18.119Z"
   },
   {
    "duration": 13,
    "start_time": "2023-04-07T16:30:18.126Z"
   },
   {
    "duration": 304,
    "start_time": "2023-04-07T16:30:18.141Z"
   },
   {
    "duration": 213,
    "start_time": "2023-04-07T16:30:18.447Z"
   },
   {
    "duration": 317,
    "start_time": "2023-04-07T16:30:18.662Z"
   },
   {
    "duration": 212,
    "start_time": "2023-04-07T16:30:18.981Z"
   },
   {
    "duration": 300,
    "start_time": "2023-04-07T16:30:19.194Z"
   },
   {
    "duration": 7,
    "start_time": "2023-04-07T16:30:19.502Z"
   },
   {
    "duration": 145,
    "start_time": "2023-04-07T16:30:19.511Z"
   },
   {
    "duration": 5,
    "start_time": "2023-04-07T16:30:19.659Z"
   },
   {
    "duration": 140,
    "start_time": "2023-04-07T16:30:19.665Z"
   },
   {
    "duration": 220,
    "start_time": "2023-04-07T16:30:19.807Z"
   },
   {
    "duration": 6,
    "start_time": "2023-04-07T16:30:20.029Z"
   },
   {
    "duration": 22,
    "start_time": "2023-04-07T16:30:20.036Z"
   },
   {
    "duration": 15,
    "start_time": "2023-04-07T16:30:20.060Z"
   },
   {
    "duration": 49,
    "start_time": "2023-04-07T16:30:20.077Z"
   },
   {
    "duration": 29,
    "start_time": "2023-04-07T16:30:20.127Z"
   },
   {
    "duration": 6,
    "start_time": "2023-04-07T16:30:20.157Z"
   },
   {
    "duration": 9,
    "start_time": "2023-04-07T16:30:20.165Z"
   },
   {
    "duration": 71,
    "start_time": "2023-04-07T16:30:20.176Z"
   },
   {
    "duration": 0,
    "start_time": "2023-04-07T16:30:20.249Z"
   },
   {
    "duration": 0,
    "start_time": "2023-04-07T16:30:20.250Z"
   },
   {
    "duration": 0,
    "start_time": "2023-04-07T16:30:20.252Z"
   },
   {
    "duration": 0,
    "start_time": "2023-04-07T16:30:20.253Z"
   },
   {
    "duration": 0,
    "start_time": "2023-04-07T16:30:20.255Z"
   },
   {
    "duration": 0,
    "start_time": "2023-04-07T16:30:20.257Z"
   },
   {
    "duration": 0,
    "start_time": "2023-04-07T16:30:20.258Z"
   },
   {
    "duration": 0,
    "start_time": "2023-04-07T16:30:20.259Z"
   },
   {
    "duration": 0,
    "start_time": "2023-04-07T16:30:20.260Z"
   },
   {
    "duration": 0,
    "start_time": "2023-04-07T16:30:20.262Z"
   },
   {
    "duration": 1181,
    "start_time": "2023-04-07T16:30:54.147Z"
   },
   {
    "duration": 61,
    "start_time": "2023-04-07T16:30:55.330Z"
   },
   {
    "duration": 118,
    "start_time": "2023-04-07T16:30:55.392Z"
   },
   {
    "duration": 3,
    "start_time": "2023-04-07T16:30:55.512Z"
   },
   {
    "duration": 11,
    "start_time": "2023-04-07T16:30:55.517Z"
   },
   {
    "duration": 7,
    "start_time": "2023-04-07T16:30:55.530Z"
   },
   {
    "duration": 15,
    "start_time": "2023-04-07T16:30:55.539Z"
   },
   {
    "duration": 16,
    "start_time": "2023-04-07T16:30:55.555Z"
   },
   {
    "duration": 44,
    "start_time": "2023-04-07T16:30:55.573Z"
   },
   {
    "duration": 16,
    "start_time": "2023-04-07T16:30:55.619Z"
   },
   {
    "duration": 9,
    "start_time": "2023-04-07T16:30:55.637Z"
   },
   {
    "duration": 25,
    "start_time": "2023-04-07T16:30:55.648Z"
   },
   {
    "duration": 15,
    "start_time": "2023-04-07T16:30:55.675Z"
   },
   {
    "duration": 12,
    "start_time": "2023-04-07T16:30:55.694Z"
   },
   {
    "duration": 16,
    "start_time": "2023-04-07T16:30:55.708Z"
   },
   {
    "duration": 22,
    "start_time": "2023-04-07T16:30:55.726Z"
   },
   {
    "duration": 19,
    "start_time": "2023-04-07T16:30:55.750Z"
   },
   {
    "duration": 38,
    "start_time": "2023-04-07T16:30:55.771Z"
   },
   {
    "duration": 16,
    "start_time": "2023-04-07T16:30:55.811Z"
   },
   {
    "duration": 15,
    "start_time": "2023-04-07T16:30:55.829Z"
   },
   {
    "duration": 294,
    "start_time": "2023-04-07T16:30:55.845Z"
   },
   {
    "duration": 210,
    "start_time": "2023-04-07T16:30:56.141Z"
   },
   {
    "duration": 302,
    "start_time": "2023-04-07T16:30:56.353Z"
   },
   {
    "duration": 224,
    "start_time": "2023-04-07T16:30:56.657Z"
   },
   {
    "duration": 336,
    "start_time": "2023-04-07T16:30:56.883Z"
   },
   {
    "duration": 8,
    "start_time": "2023-04-07T16:30:57.221Z"
   },
   {
    "duration": 166,
    "start_time": "2023-04-07T16:30:57.231Z"
   },
   {
    "duration": 5,
    "start_time": "2023-04-07T16:30:57.403Z"
   },
   {
    "duration": 142,
    "start_time": "2023-04-07T16:30:57.409Z"
   },
   {
    "duration": 215,
    "start_time": "2023-04-07T16:30:57.553Z"
   },
   {
    "duration": 4,
    "start_time": "2023-04-07T16:30:57.770Z"
   },
   {
    "duration": 30,
    "start_time": "2023-04-07T16:30:57.776Z"
   },
   {
    "duration": 24,
    "start_time": "2023-04-07T16:30:57.808Z"
   },
   {
    "duration": 14,
    "start_time": "2023-04-07T16:30:57.833Z"
   },
   {
    "duration": 15,
    "start_time": "2023-04-07T16:30:57.849Z"
   },
   {
    "duration": 7,
    "start_time": "2023-04-07T16:30:57.866Z"
   },
   {
    "duration": 30,
    "start_time": "2023-04-07T16:30:57.874Z"
   },
   {
    "duration": 5,
    "start_time": "2023-04-07T16:30:57.905Z"
   },
   {
    "duration": 12,
    "start_time": "2023-04-07T16:30:57.912Z"
   },
   {
    "duration": 27,
    "start_time": "2023-04-07T16:30:57.926Z"
   },
   {
    "duration": 9,
    "start_time": "2023-04-07T16:30:57.957Z"
   },
   {
    "duration": 51,
    "start_time": "2023-04-07T16:30:57.968Z"
   },
   {
    "duration": 22,
    "start_time": "2023-04-07T16:30:58.023Z"
   },
   {
    "duration": 10,
    "start_time": "2023-04-07T16:30:58.047Z"
   },
   {
    "duration": 7,
    "start_time": "2023-04-07T16:30:58.059Z"
   },
   {
    "duration": 237,
    "start_time": "2023-04-07T16:30:58.068Z"
   },
   {
    "duration": 218,
    "start_time": "2023-04-07T16:30:58.308Z"
   },
   {
    "duration": 7,
    "start_time": "2023-04-07T17:29:35.507Z"
   },
   {
    "duration": 130,
    "start_time": "2023-04-07T17:48:40.957Z"
   },
   {
    "duration": 9,
    "start_time": "2023-04-07T18:00:27.196Z"
   },
   {
    "duration": 1206,
    "start_time": "2023-04-07T18:00:42.955Z"
   },
   {
    "duration": 70,
    "start_time": "2023-04-07T18:00:44.163Z"
   },
   {
    "duration": 98,
    "start_time": "2023-04-07T18:00:44.234Z"
   },
   {
    "duration": 3,
    "start_time": "2023-04-07T18:00:44.333Z"
   },
   {
    "duration": 21,
    "start_time": "2023-04-07T18:00:44.338Z"
   },
   {
    "duration": 11,
    "start_time": "2023-04-07T18:00:44.360Z"
   },
   {
    "duration": 15,
    "start_time": "2023-04-07T18:00:44.373Z"
   },
   {
    "duration": 13,
    "start_time": "2023-04-07T18:00:44.404Z"
   },
   {
    "duration": 13,
    "start_time": "2023-04-07T18:00:44.418Z"
   },
   {
    "duration": 9,
    "start_time": "2023-04-07T18:00:44.433Z"
   },
   {
    "duration": 13,
    "start_time": "2023-04-07T18:00:44.443Z"
   },
   {
    "duration": 7,
    "start_time": "2023-04-07T18:00:44.458Z"
   },
   {
    "duration": 10,
    "start_time": "2023-04-07T18:00:44.502Z"
   },
   {
    "duration": 6,
    "start_time": "2023-04-07T18:00:44.515Z"
   },
   {
    "duration": 8,
    "start_time": "2023-04-07T18:00:44.523Z"
   },
   {
    "duration": 18,
    "start_time": "2023-04-07T18:00:44.533Z"
   },
   {
    "duration": 55,
    "start_time": "2023-04-07T18:00:44.552Z"
   },
   {
    "duration": 5,
    "start_time": "2023-04-07T18:00:44.608Z"
   },
   {
    "duration": 6,
    "start_time": "2023-04-07T18:00:44.615Z"
   },
   {
    "duration": 12,
    "start_time": "2023-04-07T18:00:44.623Z"
   },
   {
    "duration": 303,
    "start_time": "2023-04-07T18:00:44.637Z"
   },
   {
    "duration": 221,
    "start_time": "2023-04-07T18:00:44.942Z"
   },
   {
    "duration": 317,
    "start_time": "2023-04-07T18:00:45.165Z"
   },
   {
    "duration": 208,
    "start_time": "2023-04-07T18:00:45.484Z"
   },
   {
    "duration": 309,
    "start_time": "2023-04-07T18:00:45.694Z"
   },
   {
    "duration": 7,
    "start_time": "2023-04-07T18:00:46.005Z"
   },
   {
    "duration": 155,
    "start_time": "2023-04-07T18:00:46.014Z"
   },
   {
    "duration": 7,
    "start_time": "2023-04-07T18:00:46.172Z"
   },
   {
    "duration": 141,
    "start_time": "2023-04-07T18:00:46.181Z"
   },
   {
    "duration": 212,
    "start_time": "2023-04-07T18:00:46.324Z"
   },
   {
    "duration": 7,
    "start_time": "2023-04-07T18:00:46.538Z"
   },
   {
    "duration": 31,
    "start_time": "2023-04-07T18:00:46.547Z"
   },
   {
    "duration": 25,
    "start_time": "2023-04-07T18:00:46.581Z"
   },
   {
    "duration": 17,
    "start_time": "2023-04-07T18:00:46.608Z"
   },
   {
    "duration": 17,
    "start_time": "2023-04-07T18:00:46.627Z"
   },
   {
    "duration": 10,
    "start_time": "2023-04-07T18:00:46.646Z"
   },
   {
    "duration": 11,
    "start_time": "2023-04-07T18:00:46.657Z"
   },
   {
    "duration": 15,
    "start_time": "2023-04-07T18:00:46.669Z"
   },
   {
    "duration": 29,
    "start_time": "2023-04-07T18:00:46.686Z"
   },
   {
    "duration": 40,
    "start_time": "2023-04-07T18:00:46.717Z"
   },
   {
    "duration": 9,
    "start_time": "2023-04-07T18:00:46.761Z"
   },
   {
    "duration": 27,
    "start_time": "2023-04-07T18:00:46.771Z"
   },
   {
    "duration": 16,
    "start_time": "2023-04-07T18:00:46.800Z"
   },
   {
    "duration": 7,
    "start_time": "2023-04-07T18:00:46.818Z"
   },
   {
    "duration": 7,
    "start_time": "2023-04-07T18:00:46.827Z"
   },
   {
    "duration": 251,
    "start_time": "2023-04-07T18:00:46.836Z"
   },
   {
    "duration": 206,
    "start_time": "2023-04-07T18:00:47.089Z"
   },
   {
    "duration": 1236,
    "start_time": "2023-04-07T18:09:28.217Z"
   },
   {
    "duration": 64,
    "start_time": "2023-04-07T18:09:29.455Z"
   },
   {
    "duration": 118,
    "start_time": "2023-04-07T18:09:29.521Z"
   },
   {
    "duration": 3,
    "start_time": "2023-04-07T18:09:29.641Z"
   },
   {
    "duration": 10,
    "start_time": "2023-04-07T18:09:29.646Z"
   },
   {
    "duration": 6,
    "start_time": "2023-04-07T18:09:29.658Z"
   },
   {
    "duration": 49,
    "start_time": "2023-04-07T18:09:29.666Z"
   },
   {
    "duration": 18,
    "start_time": "2023-04-07T18:09:29.717Z"
   },
   {
    "duration": 16,
    "start_time": "2023-04-07T18:09:29.737Z"
   },
   {
    "duration": 29,
    "start_time": "2023-04-07T18:09:29.757Z"
   },
   {
    "duration": 18,
    "start_time": "2023-04-07T18:09:29.788Z"
   },
   {
    "duration": 23,
    "start_time": "2023-04-07T18:09:29.808Z"
   },
   {
    "duration": 12,
    "start_time": "2023-04-07T18:09:29.833Z"
   },
   {
    "duration": 8,
    "start_time": "2023-04-07T18:09:29.848Z"
   },
   {
    "duration": 11,
    "start_time": "2023-04-07T18:09:29.858Z"
   },
   {
    "duration": 52,
    "start_time": "2023-04-07T18:09:29.871Z"
   },
   {
    "duration": 19,
    "start_time": "2023-04-07T18:09:29.925Z"
   },
   {
    "duration": 4,
    "start_time": "2023-04-07T18:09:29.946Z"
   },
   {
    "duration": 9,
    "start_time": "2023-04-07T18:09:29.952Z"
   },
   {
    "duration": 12,
    "start_time": "2023-04-07T18:09:29.963Z"
   },
   {
    "duration": 361,
    "start_time": "2023-04-07T18:09:29.977Z"
   },
   {
    "duration": 225,
    "start_time": "2023-04-07T18:09:30.340Z"
   },
   {
    "duration": 331,
    "start_time": "2023-04-07T18:09:30.567Z"
   },
   {
    "duration": 247,
    "start_time": "2023-04-07T18:09:30.904Z"
   },
   {
    "duration": 318,
    "start_time": "2023-04-07T18:09:31.154Z"
   },
   {
    "duration": 8,
    "start_time": "2023-04-07T18:09:31.474Z"
   },
   {
    "duration": 167,
    "start_time": "2023-04-07T18:09:31.484Z"
   },
   {
    "duration": 8,
    "start_time": "2023-04-07T18:09:31.655Z"
   },
   {
    "duration": 196,
    "start_time": "2023-04-07T18:09:31.665Z"
   },
   {
    "duration": 276,
    "start_time": "2023-04-07T18:09:31.863Z"
   },
   {
    "duration": 6,
    "start_time": "2023-04-07T18:09:32.141Z"
   },
   {
    "duration": 29,
    "start_time": "2023-04-07T18:09:32.148Z"
   },
   {
    "duration": 21,
    "start_time": "2023-04-07T18:09:32.179Z"
   },
   {
    "duration": 23,
    "start_time": "2023-04-07T18:09:32.202Z"
   },
   {
    "duration": 24,
    "start_time": "2023-04-07T18:09:32.227Z"
   },
   {
    "duration": 9,
    "start_time": "2023-04-07T18:09:32.253Z"
   },
   {
    "duration": 15,
    "start_time": "2023-04-07T18:09:32.264Z"
   },
   {
    "duration": 14,
    "start_time": "2023-04-07T18:09:32.281Z"
   },
   {
    "duration": 18,
    "start_time": "2023-04-07T18:09:32.296Z"
   },
   {
    "duration": 27,
    "start_time": "2023-04-07T18:09:32.316Z"
   },
   {
    "duration": 8,
    "start_time": "2023-04-07T18:09:32.345Z"
   },
   {
    "duration": 24,
    "start_time": "2023-04-07T18:09:32.355Z"
   },
   {
    "duration": 31,
    "start_time": "2023-04-07T18:09:32.381Z"
   },
   {
    "duration": 12,
    "start_time": "2023-04-07T18:09:32.413Z"
   },
   {
    "duration": 7,
    "start_time": "2023-04-07T18:09:32.427Z"
   },
   {
    "duration": 234,
    "start_time": "2023-04-07T18:09:32.436Z"
   },
   {
    "duration": 221,
    "start_time": "2023-04-07T18:09:32.672Z"
   },
   {
    "duration": 1237,
    "start_time": "2023-04-07T18:28:12.692Z"
   },
   {
    "duration": 61,
    "start_time": "2023-04-07T18:28:13.932Z"
   },
   {
    "duration": 126,
    "start_time": "2023-04-07T18:28:13.995Z"
   },
   {
    "duration": 3,
    "start_time": "2023-04-07T18:28:14.123Z"
   },
   {
    "duration": 7,
    "start_time": "2023-04-07T18:28:14.129Z"
   },
   {
    "duration": 10,
    "start_time": "2023-04-07T18:28:14.137Z"
   },
   {
    "duration": 15,
    "start_time": "2023-04-07T18:28:14.149Z"
   },
   {
    "duration": 45,
    "start_time": "2023-04-07T18:28:14.166Z"
   },
   {
    "duration": 16,
    "start_time": "2023-04-07T18:28:14.213Z"
   },
   {
    "duration": 13,
    "start_time": "2023-04-07T18:28:14.231Z"
   },
   {
    "duration": 8,
    "start_time": "2023-04-07T18:28:14.246Z"
   },
   {
    "duration": 9,
    "start_time": "2023-04-07T18:28:14.256Z"
   },
   {
    "duration": 43,
    "start_time": "2023-04-07T18:28:14.267Z"
   },
   {
    "duration": 7,
    "start_time": "2023-04-07T18:28:14.313Z"
   },
   {
    "duration": 11,
    "start_time": "2023-04-07T18:28:14.321Z"
   },
   {
    "duration": 19,
    "start_time": "2023-04-07T18:28:14.334Z"
   },
   {
    "duration": 51,
    "start_time": "2023-04-07T18:28:14.354Z"
   },
   {
    "duration": 9,
    "start_time": "2023-04-07T18:28:14.407Z"
   },
   {
    "duration": 9,
    "start_time": "2023-04-07T18:28:14.418Z"
   },
   {
    "duration": 13,
    "start_time": "2023-04-07T18:28:14.429Z"
   },
   {
    "duration": 319,
    "start_time": "2023-04-07T18:28:14.444Z"
   },
   {
    "duration": 213,
    "start_time": "2023-04-07T18:28:14.765Z"
   },
   {
    "duration": 314,
    "start_time": "2023-04-07T18:28:14.980Z"
   },
   {
    "duration": 225,
    "start_time": "2023-04-07T18:28:15.296Z"
   },
   {
    "duration": 293,
    "start_time": "2023-04-07T18:28:15.523Z"
   },
   {
    "duration": 9,
    "start_time": "2023-04-07T18:28:15.818Z"
   },
   {
    "duration": 154,
    "start_time": "2023-04-07T18:28:15.829Z"
   },
   {
    "duration": 7,
    "start_time": "2023-04-07T18:28:15.985Z"
   },
   {
    "duration": 162,
    "start_time": "2023-04-07T18:28:16.003Z"
   },
   {
    "duration": 206,
    "start_time": "2023-04-07T18:28:16.167Z"
   },
   {
    "duration": 6,
    "start_time": "2023-04-07T18:28:16.375Z"
   },
   {
    "duration": 29,
    "start_time": "2023-04-07T18:28:16.382Z"
   },
   {
    "duration": 12,
    "start_time": "2023-04-07T18:28:16.413Z"
   },
   {
    "duration": 16,
    "start_time": "2023-04-07T18:28:16.427Z"
   },
   {
    "duration": 8,
    "start_time": "2023-04-07T18:28:16.444Z"
   },
   {
    "duration": 9,
    "start_time": "2023-04-07T18:28:16.454Z"
   },
   {
    "duration": 38,
    "start_time": "2023-04-07T18:28:16.465Z"
   },
   {
    "duration": 8,
    "start_time": "2023-04-07T18:28:16.505Z"
   },
   {
    "duration": 25,
    "start_time": "2023-04-07T18:28:16.515Z"
   },
   {
    "duration": 9,
    "start_time": "2023-04-07T18:28:16.542Z"
   },
   {
    "duration": 48,
    "start_time": "2023-04-07T18:28:16.555Z"
   },
   {
    "duration": 18,
    "start_time": "2023-04-07T18:28:16.605Z"
   },
   {
    "duration": 12,
    "start_time": "2023-04-07T18:28:16.625Z"
   },
   {
    "duration": 8,
    "start_time": "2023-04-07T18:28:16.639Z"
   },
   {
    "duration": 227,
    "start_time": "2023-04-07T18:28:16.649Z"
   },
   {
    "duration": 240,
    "start_time": "2023-04-07T18:28:16.878Z"
   },
   {
    "duration": 202,
    "start_time": "2023-04-07T18:29:44.360Z"
   },
   {
    "duration": 1192,
    "start_time": "2023-04-07T18:45:46.337Z"
   },
   {
    "duration": 62,
    "start_time": "2023-04-07T18:45:47.531Z"
   },
   {
    "duration": 123,
    "start_time": "2023-04-07T18:45:47.595Z"
   },
   {
    "duration": 3,
    "start_time": "2023-04-07T18:45:47.720Z"
   },
   {
    "duration": 5,
    "start_time": "2023-04-07T18:45:47.725Z"
   },
   {
    "duration": 6,
    "start_time": "2023-04-07T18:45:47.732Z"
   },
   {
    "duration": 22,
    "start_time": "2023-04-07T18:45:47.740Z"
   },
   {
    "duration": 49,
    "start_time": "2023-04-07T18:45:47.765Z"
   },
   {
    "duration": 18,
    "start_time": "2023-04-07T18:45:47.816Z"
   },
   {
    "duration": 22,
    "start_time": "2023-04-07T18:45:47.836Z"
   },
   {
    "duration": 9,
    "start_time": "2023-04-07T18:45:47.860Z"
   },
   {
    "duration": 33,
    "start_time": "2023-04-07T18:45:47.870Z"
   },
   {
    "duration": 12,
    "start_time": "2023-04-07T18:45:47.905Z"
   },
   {
    "duration": 8,
    "start_time": "2023-04-07T18:45:47.919Z"
   },
   {
    "duration": 12,
    "start_time": "2023-04-07T18:45:47.929Z"
   },
   {
    "duration": 18,
    "start_time": "2023-04-07T18:45:47.944Z"
   },
   {
    "duration": 46,
    "start_time": "2023-04-07T18:45:47.964Z"
   },
   {
    "duration": 6,
    "start_time": "2023-04-07T18:45:48.013Z"
   },
   {
    "duration": 13,
    "start_time": "2023-04-07T18:45:48.021Z"
   },
   {
    "duration": 23,
    "start_time": "2023-04-07T18:45:48.037Z"
   },
   {
    "duration": 306,
    "start_time": "2023-04-07T18:45:48.063Z"
   },
   {
    "duration": 216,
    "start_time": "2023-04-07T18:45:48.371Z"
   },
   {
    "duration": 319,
    "start_time": "2023-04-07T18:45:48.589Z"
   },
   {
    "duration": 220,
    "start_time": "2023-04-07T18:45:48.910Z"
   },
   {
    "duration": 287,
    "start_time": "2023-04-07T18:45:49.132Z"
   },
   {
    "duration": 8,
    "start_time": "2023-04-07T18:45:49.420Z"
   },
   {
    "duration": 146,
    "start_time": "2023-04-07T18:45:49.429Z"
   },
   {
    "duration": 6,
    "start_time": "2023-04-07T18:45:49.579Z"
   },
   {
    "duration": 145,
    "start_time": "2023-04-07T18:45:49.586Z"
   },
   {
    "duration": 234,
    "start_time": "2023-04-07T18:45:49.733Z"
   },
   {
    "duration": 5,
    "start_time": "2023-04-07T18:45:49.968Z"
   },
   {
    "duration": 13,
    "start_time": "2023-04-07T18:45:49.975Z"
   },
   {
    "duration": 24,
    "start_time": "2023-04-07T18:45:49.990Z"
   },
   {
    "duration": 25,
    "start_time": "2023-04-07T18:45:50.016Z"
   },
   {
    "duration": 13,
    "start_time": "2023-04-07T18:45:50.043Z"
   },
   {
    "duration": 11,
    "start_time": "2023-04-07T18:45:50.058Z"
   },
   {
    "duration": 33,
    "start_time": "2023-04-07T18:45:50.071Z"
   },
   {
    "duration": 15,
    "start_time": "2023-04-07T18:45:50.106Z"
   },
   {
    "duration": 27,
    "start_time": "2023-04-07T18:45:50.124Z"
   },
   {
    "duration": 10,
    "start_time": "2023-04-07T18:45:50.153Z"
   },
   {
    "duration": 42,
    "start_time": "2023-04-07T18:45:50.165Z"
   },
   {
    "duration": 17,
    "start_time": "2023-04-07T18:45:50.209Z"
   },
   {
    "duration": 5,
    "start_time": "2023-04-07T18:45:50.228Z"
   },
   {
    "duration": 7,
    "start_time": "2023-04-07T18:45:50.235Z"
   },
   {
    "duration": 230,
    "start_time": "2023-04-07T18:45:50.244Z"
   },
   {
    "duration": 215,
    "start_time": "2023-04-07T18:45:50.476Z"
   },
   {
    "duration": 1322,
    "start_time": "2023-04-07T18:54:00.462Z"
   },
   {
    "duration": 77,
    "start_time": "2023-04-07T18:54:01.786Z"
   },
   {
    "duration": 148,
    "start_time": "2023-04-07T18:54:01.865Z"
   },
   {
    "duration": 4,
    "start_time": "2023-04-07T18:54:02.015Z"
   },
   {
    "duration": 40,
    "start_time": "2023-04-07T18:54:02.022Z"
   },
   {
    "duration": 44,
    "start_time": "2023-04-07T18:54:02.064Z"
   },
   {
    "duration": 99,
    "start_time": "2023-04-07T18:54:02.113Z"
   },
   {
    "duration": 34,
    "start_time": "2023-04-07T18:54:02.214Z"
   },
   {
    "duration": 23,
    "start_time": "2023-04-07T18:54:02.250Z"
   },
   {
    "duration": 33,
    "start_time": "2023-04-07T18:54:02.275Z"
   },
   {
    "duration": 28,
    "start_time": "2023-04-07T18:54:02.310Z"
   },
   {
    "duration": 44,
    "start_time": "2023-04-07T18:54:02.340Z"
   },
   {
    "duration": 55,
    "start_time": "2023-04-07T18:54:02.386Z"
   },
   {
    "duration": 32,
    "start_time": "2023-04-07T18:54:02.445Z"
   },
   {
    "duration": 29,
    "start_time": "2023-04-07T18:54:02.479Z"
   },
   {
    "duration": 38,
    "start_time": "2023-04-07T18:54:02.515Z"
   },
   {
    "duration": 16,
    "start_time": "2023-04-07T18:54:02.555Z"
   },
   {
    "duration": 31,
    "start_time": "2023-04-07T18:54:02.573Z"
   },
   {
    "duration": 33,
    "start_time": "2023-04-07T18:54:02.606Z"
   },
   {
    "duration": 25,
    "start_time": "2023-04-07T18:54:02.641Z"
   },
   {
    "duration": 350,
    "start_time": "2023-04-07T18:54:02.668Z"
   },
   {
    "duration": 223,
    "start_time": "2023-04-07T18:54:03.024Z"
   },
   {
    "duration": 287,
    "start_time": "2023-04-07T18:54:03.249Z"
   },
   {
    "duration": 226,
    "start_time": "2023-04-07T18:54:03.538Z"
   },
   {
    "duration": 369,
    "start_time": "2023-04-07T18:54:03.767Z"
   },
   {
    "duration": 7,
    "start_time": "2023-04-07T18:54:04.137Z"
   },
   {
    "duration": 157,
    "start_time": "2023-04-07T18:54:04.146Z"
   },
   {
    "duration": 15,
    "start_time": "2023-04-07T18:54:04.312Z"
   },
   {
    "duration": 158,
    "start_time": "2023-04-07T18:54:04.329Z"
   },
   {
    "duration": 232,
    "start_time": "2023-04-07T18:54:04.489Z"
   },
   {
    "duration": 6,
    "start_time": "2023-04-07T18:54:04.722Z"
   },
   {
    "duration": 15,
    "start_time": "2023-04-07T18:54:04.730Z"
   },
   {
    "duration": 20,
    "start_time": "2023-04-07T18:54:04.747Z"
   },
   {
    "duration": 38,
    "start_time": "2023-04-07T18:54:04.769Z"
   },
   {
    "duration": 9,
    "start_time": "2023-04-07T18:54:04.818Z"
   },
   {
    "duration": 11,
    "start_time": "2023-04-07T18:54:04.829Z"
   },
   {
    "duration": 15,
    "start_time": "2023-04-07T18:54:04.842Z"
   },
   {
    "duration": 21,
    "start_time": "2023-04-07T18:54:04.859Z"
   },
   {
    "duration": 37,
    "start_time": "2023-04-07T18:54:04.882Z"
   },
   {
    "duration": 10,
    "start_time": "2023-04-07T18:54:04.921Z"
   },
   {
    "duration": 19,
    "start_time": "2023-04-07T18:54:04.935Z"
   },
   {
    "duration": 15,
    "start_time": "2023-04-07T18:54:04.956Z"
   },
   {
    "duration": 38,
    "start_time": "2023-04-07T18:54:04.973Z"
   },
   {
    "duration": 12,
    "start_time": "2023-04-07T18:54:05.013Z"
   },
   {
    "duration": 219,
    "start_time": "2023-04-07T18:54:05.027Z"
   },
   {
    "duration": 220,
    "start_time": "2023-04-07T18:54:05.248Z"
   },
   {
    "duration": 78,
    "start_time": "2023-04-08T18:34:29.499Z"
   },
   {
    "duration": 1197,
    "start_time": "2023-04-08T19:46:39.690Z"
   },
   {
    "duration": 70,
    "start_time": "2023-04-08T19:46:40.890Z"
   },
   {
    "duration": 0,
    "start_time": "2023-04-08T19:46:40.964Z"
   },
   {
    "duration": 0,
    "start_time": "2023-04-08T19:46:40.965Z"
   },
   {
    "duration": 0,
    "start_time": "2023-04-08T19:46:40.966Z"
   },
   {
    "duration": 0,
    "start_time": "2023-04-08T19:46:40.967Z"
   },
   {
    "duration": 0,
    "start_time": "2023-04-08T19:46:40.968Z"
   },
   {
    "duration": 0,
    "start_time": "2023-04-08T19:46:40.969Z"
   },
   {
    "duration": 0,
    "start_time": "2023-04-08T19:46:40.970Z"
   },
   {
    "duration": 0,
    "start_time": "2023-04-08T19:46:40.971Z"
   },
   {
    "duration": 0,
    "start_time": "2023-04-08T19:46:40.972Z"
   },
   {
    "duration": 0,
    "start_time": "2023-04-08T19:46:40.973Z"
   },
   {
    "duration": 0,
    "start_time": "2023-04-08T19:46:40.974Z"
   },
   {
    "duration": 0,
    "start_time": "2023-04-08T19:46:40.975Z"
   },
   {
    "duration": 0,
    "start_time": "2023-04-08T19:46:40.976Z"
   },
   {
    "duration": 0,
    "start_time": "2023-04-08T19:46:40.977Z"
   },
   {
    "duration": 0,
    "start_time": "2023-04-08T19:46:40.979Z"
   },
   {
    "duration": 0,
    "start_time": "2023-04-08T19:46:40.980Z"
   },
   {
    "duration": 0,
    "start_time": "2023-04-08T19:46:40.981Z"
   },
   {
    "duration": 0,
    "start_time": "2023-04-08T19:46:40.983Z"
   },
   {
    "duration": 0,
    "start_time": "2023-04-08T19:46:40.985Z"
   },
   {
    "duration": 0,
    "start_time": "2023-04-08T19:46:40.986Z"
   },
   {
    "duration": 0,
    "start_time": "2023-04-08T19:46:40.987Z"
   },
   {
    "duration": 0,
    "start_time": "2023-04-08T19:46:40.989Z"
   },
   {
    "duration": 0,
    "start_time": "2023-04-08T19:46:40.990Z"
   },
   {
    "duration": 0,
    "start_time": "2023-04-08T19:46:40.991Z"
   },
   {
    "duration": 0,
    "start_time": "2023-04-08T19:46:40.993Z"
   },
   {
    "duration": 0,
    "start_time": "2023-04-08T19:46:40.994Z"
   },
   {
    "duration": 0,
    "start_time": "2023-04-08T19:46:40.996Z"
   },
   {
    "duration": 0,
    "start_time": "2023-04-08T19:46:40.997Z"
   },
   {
    "duration": 0,
    "start_time": "2023-04-08T19:46:40.998Z"
   },
   {
    "duration": 0,
    "start_time": "2023-04-08T19:46:40.999Z"
   },
   {
    "duration": 0,
    "start_time": "2023-04-08T19:46:41.000Z"
   },
   {
    "duration": 0,
    "start_time": "2023-04-08T19:46:41.024Z"
   },
   {
    "duration": 0,
    "start_time": "2023-04-08T19:46:41.025Z"
   },
   {
    "duration": 0,
    "start_time": "2023-04-08T19:46:41.026Z"
   },
   {
    "duration": 0,
    "start_time": "2023-04-08T19:46:41.027Z"
   },
   {
    "duration": 0,
    "start_time": "2023-04-08T19:46:41.028Z"
   },
   {
    "duration": 0,
    "start_time": "2023-04-08T19:46:41.029Z"
   },
   {
    "duration": 0,
    "start_time": "2023-04-08T19:46:41.030Z"
   },
   {
    "duration": 0,
    "start_time": "2023-04-08T19:46:41.031Z"
   },
   {
    "duration": 0,
    "start_time": "2023-04-08T19:46:41.032Z"
   },
   {
    "duration": 0,
    "start_time": "2023-04-08T19:46:41.033Z"
   },
   {
    "duration": 0,
    "start_time": "2023-04-08T19:46:41.034Z"
   },
   {
    "duration": 0,
    "start_time": "2023-04-08T19:46:41.035Z"
   },
   {
    "duration": 0,
    "start_time": "2023-04-08T19:46:41.035Z"
   },
   {
    "duration": 0,
    "start_time": "2023-04-08T19:46:41.036Z"
   },
   {
    "duration": 1192,
    "start_time": "2023-04-08T19:47:17.299Z"
   },
   {
    "duration": 168,
    "start_time": "2023-04-08T19:47:18.493Z"
   },
   {
    "duration": 115,
    "start_time": "2023-04-08T19:47:18.663Z"
   },
   {
    "duration": 2,
    "start_time": "2023-04-08T19:47:18.782Z"
   },
   {
    "duration": 5,
    "start_time": "2023-04-08T19:47:18.787Z"
   },
   {
    "duration": 31,
    "start_time": "2023-04-08T19:47:18.794Z"
   },
   {
    "duration": 19,
    "start_time": "2023-04-08T19:47:18.827Z"
   },
   {
    "duration": 15,
    "start_time": "2023-04-08T19:47:18.848Z"
   },
   {
    "duration": 13,
    "start_time": "2023-04-08T19:47:18.865Z"
   },
   {
    "duration": 10,
    "start_time": "2023-04-08T19:47:18.881Z"
   },
   {
    "duration": 34,
    "start_time": "2023-04-08T19:47:18.893Z"
   },
   {
    "duration": 7,
    "start_time": "2023-04-08T19:47:18.928Z"
   },
   {
    "duration": 11,
    "start_time": "2023-04-08T19:47:18.937Z"
   },
   {
    "duration": 8,
    "start_time": "2023-04-08T19:47:18.950Z"
   },
   {
    "duration": 23,
    "start_time": "2023-04-08T19:47:18.960Z"
   },
   {
    "duration": 39,
    "start_time": "2023-04-08T19:47:18.984Z"
   },
   {
    "duration": 18,
    "start_time": "2023-04-08T19:47:19.025Z"
   },
   {
    "duration": 22,
    "start_time": "2023-04-08T19:47:19.045Z"
   },
   {
    "duration": 10,
    "start_time": "2023-04-08T19:47:19.069Z"
   },
   {
    "duration": 13,
    "start_time": "2023-04-08T19:47:19.081Z"
   },
   {
    "duration": 286,
    "start_time": "2023-04-08T19:47:19.096Z"
   },
   {
    "duration": 232,
    "start_time": "2023-04-08T19:47:19.384Z"
   },
   {
    "duration": 318,
    "start_time": "2023-04-08T19:47:19.618Z"
   },
   {
    "duration": 224,
    "start_time": "2023-04-08T19:47:19.938Z"
   },
   {
    "duration": 309,
    "start_time": "2023-04-08T19:47:20.164Z"
   },
   {
    "duration": 8,
    "start_time": "2023-04-08T19:47:20.475Z"
   },
   {
    "duration": 163,
    "start_time": "2023-04-08T19:47:20.485Z"
   },
   {
    "duration": 7,
    "start_time": "2023-04-08T19:47:20.652Z"
   },
   {
    "duration": 165,
    "start_time": "2023-04-08T19:47:20.660Z"
   },
   {
    "duration": 141,
    "start_time": "2023-04-08T19:47:20.827Z"
   },
   {
    "duration": 5,
    "start_time": "2023-04-08T19:47:20.970Z"
   },
   {
    "duration": 23,
    "start_time": "2023-04-08T19:47:20.977Z"
   },
   {
    "duration": 23,
    "start_time": "2023-04-08T19:47:21.002Z"
   },
   {
    "duration": 20,
    "start_time": "2023-04-08T19:47:21.027Z"
   },
   {
    "duration": 11,
    "start_time": "2023-04-08T19:47:21.049Z"
   },
   {
    "duration": 11,
    "start_time": "2023-04-08T19:47:21.062Z"
   },
   {
    "duration": 4,
    "start_time": "2023-04-08T19:47:21.075Z"
   },
   {
    "duration": 96,
    "start_time": "2023-04-08T19:47:21.081Z"
   },
   {
    "duration": 28,
    "start_time": "2023-04-08T19:47:21.179Z"
   },
   {
    "duration": 21,
    "start_time": "2023-04-08T19:47:21.209Z"
   },
   {
    "duration": 17,
    "start_time": "2023-04-08T19:47:21.232Z"
   },
   {
    "duration": 16,
    "start_time": "2023-04-08T19:47:21.251Z"
   },
   {
    "duration": 5,
    "start_time": "2023-04-08T19:47:21.269Z"
   },
   {
    "duration": 10,
    "start_time": "2023-04-08T19:47:21.276Z"
   },
   {
    "duration": 245,
    "start_time": "2023-04-08T19:47:21.288Z"
   },
   {
    "duration": 225,
    "start_time": "2023-04-08T19:47:21.535Z"
   },
   {
    "duration": 102,
    "start_time": "2023-04-08T19:55:02.169Z"
   },
   {
    "duration": 102,
    "start_time": "2023-04-08T20:17:48.558Z"
   },
   {
    "duration": 9,
    "start_time": "2023-04-08T20:18:05.767Z"
   },
   {
    "duration": 9,
    "start_time": "2023-04-08T20:19:45.258Z"
   },
   {
    "duration": 14,
    "start_time": "2023-04-08T20:20:27.808Z"
   },
   {
    "duration": 12,
    "start_time": "2023-04-08T20:27:33.378Z"
   },
   {
    "duration": 4,
    "start_time": "2023-04-08T20:28:31.218Z"
   },
   {
    "duration": 12,
    "start_time": "2023-04-08T20:28:46.378Z"
   },
   {
    "duration": 13,
    "start_time": "2023-04-08T20:29:01.668Z"
   },
   {
    "duration": 4,
    "start_time": "2023-04-08T20:29:35.448Z"
   },
   {
    "duration": 5,
    "start_time": "2023-04-08T20:32:45.098Z"
   },
   {
    "duration": 5,
    "start_time": "2023-04-08T20:32:54.769Z"
   },
   {
    "duration": 1191,
    "start_time": "2023-04-08T20:33:57.003Z"
   },
   {
    "duration": 60,
    "start_time": "2023-04-08T20:33:58.196Z"
   },
   {
    "duration": 94,
    "start_time": "2023-04-08T20:33:58.258Z"
   },
   {
    "duration": 3,
    "start_time": "2023-04-08T20:33:58.353Z"
   },
   {
    "duration": 5,
    "start_time": "2023-04-08T20:33:58.359Z"
   },
   {
    "duration": 12,
    "start_time": "2023-04-08T20:33:58.365Z"
   },
   {
    "duration": 46,
    "start_time": "2023-04-08T20:33:58.379Z"
   },
   {
    "duration": 12,
    "start_time": "2023-04-08T20:33:58.427Z"
   },
   {
    "duration": 13,
    "start_time": "2023-04-08T20:33:58.440Z"
   },
   {
    "duration": 4,
    "start_time": "2023-04-08T20:33:58.455Z"
   },
   {
    "duration": 15,
    "start_time": "2023-04-08T20:33:58.460Z"
   },
   {
    "duration": 51,
    "start_time": "2023-04-08T20:33:58.477Z"
   },
   {
    "duration": 8,
    "start_time": "2023-04-08T20:33:58.530Z"
   },
   {
    "duration": 7,
    "start_time": "2023-04-08T20:33:58.542Z"
   },
   {
    "duration": 22,
    "start_time": "2023-04-08T20:33:58.550Z"
   },
   {
    "duration": 9,
    "start_time": "2023-04-08T20:33:58.574Z"
   },
   {
    "duration": 42,
    "start_time": "2023-04-08T20:33:58.585Z"
   },
   {
    "duration": 18,
    "start_time": "2023-04-08T20:33:58.629Z"
   },
   {
    "duration": 16,
    "start_time": "2023-04-08T20:33:58.649Z"
   },
   {
    "duration": 8,
    "start_time": "2023-04-08T20:33:58.667Z"
   },
   {
    "duration": 6,
    "start_time": "2023-04-08T20:33:58.676Z"
   },
   {
    "duration": 41,
    "start_time": "2023-04-08T20:33:58.684Z"
   },
   {
    "duration": 300,
    "start_time": "2023-04-08T20:33:58.727Z"
   },
   {
    "duration": 214,
    "start_time": "2023-04-08T20:33:59.028Z"
   },
   {
    "duration": 285,
    "start_time": "2023-04-08T20:33:59.243Z"
   },
   {
    "duration": 220,
    "start_time": "2023-04-08T20:33:59.530Z"
   },
   {
    "duration": 293,
    "start_time": "2023-04-08T20:33:59.752Z"
   },
   {
    "duration": 7,
    "start_time": "2023-04-08T20:34:00.047Z"
   },
   {
    "duration": 157,
    "start_time": "2023-04-08T20:34:00.056Z"
   },
   {
    "duration": 13,
    "start_time": "2023-04-08T20:34:00.215Z"
   },
   {
    "duration": 218,
    "start_time": "2023-04-08T20:34:00.230Z"
   },
   {
    "duration": 177,
    "start_time": "2023-04-08T20:34:00.449Z"
   },
   {
    "duration": 6,
    "start_time": "2023-04-08T20:34:00.628Z"
   },
   {
    "duration": 43,
    "start_time": "2023-04-08T20:34:00.635Z"
   },
   {
    "duration": 38,
    "start_time": "2023-04-08T20:34:00.680Z"
   },
   {
    "duration": 31,
    "start_time": "2023-04-08T20:34:00.720Z"
   },
   {
    "duration": 18,
    "start_time": "2023-04-08T20:34:00.754Z"
   },
   {
    "duration": 113,
    "start_time": "2023-04-08T20:34:00.775Z"
   },
   {
    "duration": 47,
    "start_time": "2023-04-08T20:34:00.890Z"
   },
   {
    "duration": 57,
    "start_time": "2023-04-08T20:34:00.939Z"
   },
   {
    "duration": 51,
    "start_time": "2023-04-08T20:34:01.000Z"
   },
   {
    "duration": 14,
    "start_time": "2023-04-08T20:34:01.053Z"
   },
   {
    "duration": 38,
    "start_time": "2023-04-08T20:34:01.069Z"
   },
   {
    "duration": 24,
    "start_time": "2023-04-08T20:34:01.109Z"
   },
   {
    "duration": 21,
    "start_time": "2023-04-08T20:34:01.134Z"
   },
   {
    "duration": 25,
    "start_time": "2023-04-08T20:34:01.157Z"
   },
   {
    "duration": 229,
    "start_time": "2023-04-08T20:34:01.185Z"
   },
   {
    "duration": 219,
    "start_time": "2023-04-08T20:34:01.423Z"
   },
   {
    "duration": 6,
    "start_time": "2023-04-08T20:35:13.373Z"
   },
   {
    "duration": 13,
    "start_time": "2023-04-08T20:35:56.283Z"
   },
   {
    "duration": 5,
    "start_time": "2023-04-08T20:36:03.143Z"
   },
   {
    "duration": 13,
    "start_time": "2023-04-08T20:36:44.223Z"
   },
   {
    "duration": 7,
    "start_time": "2023-04-08T20:37:18.152Z"
   },
   {
    "duration": 8,
    "start_time": "2023-04-08T20:37:21.553Z"
   },
   {
    "duration": 7,
    "start_time": "2023-04-08T20:55:07.674Z"
   },
   {
    "duration": 8,
    "start_time": "2023-04-08T20:55:19.984Z"
   },
   {
    "duration": 6,
    "start_time": "2023-04-08T21:16:03.584Z"
   },
   {
    "duration": 6,
    "start_time": "2023-04-08T21:17:09.377Z"
   },
   {
    "duration": 5,
    "start_time": "2023-04-08T21:19:21.474Z"
   },
   {
    "duration": 75,
    "start_time": "2023-04-08T21:21:39.494Z"
   },
   {
    "duration": 4,
    "start_time": "2023-04-08T21:31:11.704Z"
   },
   {
    "duration": 253,
    "start_time": "2023-04-08T21:31:23.384Z"
   },
   {
    "duration": 3,
    "start_time": "2023-04-08T21:31:40.895Z"
   },
   {
    "duration": 251,
    "start_time": "2023-04-08T21:31:46.123Z"
   },
   {
    "duration": 4,
    "start_time": "2023-04-08T21:32:07.004Z"
   },
   {
    "duration": 240,
    "start_time": "2023-04-08T21:32:13.943Z"
   },
   {
    "duration": 4,
    "start_time": "2023-04-08T21:32:34.404Z"
   },
   {
    "duration": 221,
    "start_time": "2023-04-08T21:32:39.723Z"
   },
   {
    "duration": 4,
    "start_time": "2023-04-08T21:32:56.504Z"
   },
   {
    "duration": 5,
    "start_time": "2023-04-08T21:33:01.793Z"
   },
   {
    "duration": 220,
    "start_time": "2023-04-08T21:33:12.454Z"
   },
   {
    "duration": 5,
    "start_time": "2023-04-08T21:33:28.083Z"
   },
   {
    "duration": 222,
    "start_time": "2023-04-08T21:33:35.263Z"
   },
   {
    "duration": 323,
    "start_time": "2023-04-08T21:41:37.784Z"
   },
   {
    "duration": 248,
    "start_time": "2023-04-08T21:42:01.175Z"
   },
   {
    "duration": 211,
    "start_time": "2023-04-08T21:42:41.284Z"
   },
   {
    "duration": 341,
    "start_time": "2023-04-08T21:43:00.434Z"
   },
   {
    "duration": 216,
    "start_time": "2023-04-08T21:43:13.734Z"
   },
   {
    "duration": 224,
    "start_time": "2023-04-08T21:43:46.484Z"
   },
   {
    "duration": 204,
    "start_time": "2023-04-08T21:44:10.964Z"
   },
   {
    "duration": 240,
    "start_time": "2023-04-08T21:44:27.864Z"
   },
   {
    "duration": 232,
    "start_time": "2023-04-08T21:45:47.034Z"
   },
   {
    "duration": 234,
    "start_time": "2023-04-08T21:48:13.354Z"
   },
   {
    "duration": 379,
    "start_time": "2023-04-08T21:48:30.124Z"
   },
   {
    "duration": 229,
    "start_time": "2023-04-08T21:48:53.444Z"
   },
   {
    "duration": 12,
    "start_time": "2023-04-08T22:02:44.335Z"
   },
   {
    "duration": 170,
    "start_time": "2023-04-08T22:03:48.525Z"
   },
   {
    "duration": 169,
    "start_time": "2023-04-08T22:04:00.615Z"
   },
   {
    "duration": 254,
    "start_time": "2023-04-08T22:05:11.215Z"
   },
   {
    "duration": 8,
    "start_time": "2023-04-08T22:12:55.284Z"
   },
   {
    "duration": 175,
    "start_time": "2023-04-08T22:13:59.495Z"
   },
   {
    "duration": 166,
    "start_time": "2023-04-08T22:14:23.966Z"
   },
   {
    "duration": 161,
    "start_time": "2023-04-08T22:14:39.884Z"
   },
   {
    "duration": 310,
    "start_time": "2023-04-08T22:16:38.685Z"
   },
   {
    "duration": 218,
    "start_time": "2023-04-08T22:47:16.103Z"
   },
   {
    "duration": 237,
    "start_time": "2023-04-08T22:47:23.003Z"
   },
   {
    "duration": 234,
    "start_time": "2023-04-08T22:47:35.404Z"
   },
   {
    "duration": 255,
    "start_time": "2023-04-08T22:49:58.623Z"
   },
   {
    "duration": 331,
    "start_time": "2023-04-08T22:51:42.534Z"
   },
   {
    "duration": 73,
    "start_time": "2023-04-08T22:53:08.144Z"
   },
   {
    "duration": 305,
    "start_time": "2023-04-08T22:56:11.884Z"
   },
   {
    "duration": 322,
    "start_time": "2023-04-08T23:06:18.364Z"
   },
   {
    "duration": 228,
    "start_time": "2023-04-08T23:06:39.673Z"
   },
   {
    "duration": 240,
    "start_time": "2023-04-08T23:07:06.554Z"
   },
   {
    "duration": 10,
    "start_time": "2023-04-08T23:17:20.454Z"
   },
   {
    "duration": 8,
    "start_time": "2023-04-08T23:17:45.435Z"
   },
   {
    "duration": 78,
    "start_time": "2023-04-08T23:18:32.424Z"
   },
   {
    "duration": 9,
    "start_time": "2023-04-08T23:31:25.224Z"
   },
   {
    "duration": 16,
    "start_time": "2023-04-08T23:46:59.624Z"
   },
   {
    "duration": 9,
    "start_time": "2023-04-08T23:58:11.554Z"
   },
   {
    "duration": 7,
    "start_time": "2023-04-08T23:59:24.974Z"
   },
   {
    "duration": 45,
    "start_time": "2023-04-09T03:18:13.475Z"
   },
   {
    "duration": 7,
    "start_time": "2023-04-09T03:26:22.655Z"
   },
   {
    "duration": 6,
    "start_time": "2023-04-09T03:26:48.435Z"
   },
   {
    "duration": 1349,
    "start_time": "2023-04-09T03:27:02.921Z"
   },
   {
    "duration": 233,
    "start_time": "2023-04-09T03:27:04.272Z"
   },
   {
    "duration": 97,
    "start_time": "2023-04-09T03:27:04.507Z"
   },
   {
    "duration": 28,
    "start_time": "2023-04-09T03:27:04.607Z"
   },
   {
    "duration": 19,
    "start_time": "2023-04-09T03:27:04.637Z"
   },
   {
    "duration": 8,
    "start_time": "2023-04-09T03:27:04.657Z"
   },
   {
    "duration": 22,
    "start_time": "2023-04-09T03:27:04.667Z"
   },
   {
    "duration": 14,
    "start_time": "2023-04-09T03:27:04.690Z"
   },
   {
    "duration": 19,
    "start_time": "2023-04-09T03:27:04.705Z"
   },
   {
    "duration": 5,
    "start_time": "2023-04-09T03:27:04.726Z"
   },
   {
    "duration": 25,
    "start_time": "2023-04-09T03:27:04.732Z"
   },
   {
    "duration": 20,
    "start_time": "2023-04-09T03:27:04.758Z"
   },
   {
    "duration": 11,
    "start_time": "2023-04-09T03:27:04.779Z"
   },
   {
    "duration": 7,
    "start_time": "2023-04-09T03:27:04.791Z"
   },
   {
    "duration": 14,
    "start_time": "2023-04-09T03:27:04.800Z"
   },
   {
    "duration": 5,
    "start_time": "2023-04-09T03:27:04.816Z"
   },
   {
    "duration": 15,
    "start_time": "2023-04-09T03:27:04.822Z"
   },
   {
    "duration": 12,
    "start_time": "2023-04-09T03:27:04.838Z"
   },
   {
    "duration": 18,
    "start_time": "2023-04-09T03:27:04.852Z"
   },
   {
    "duration": 11,
    "start_time": "2023-04-09T03:27:04.871Z"
   },
   {
    "duration": 25,
    "start_time": "2023-04-09T03:27:04.883Z"
   },
   {
    "duration": 12,
    "start_time": "2023-04-09T03:27:04.910Z"
   },
   {
    "duration": 6,
    "start_time": "2023-04-09T03:27:04.923Z"
   },
   {
    "duration": 20,
    "start_time": "2023-04-09T03:27:04.930Z"
   },
   {
    "duration": 23,
    "start_time": "2023-04-09T03:27:04.952Z"
   },
   {
    "duration": 264,
    "start_time": "2023-04-09T03:27:04.977Z"
   },
   {
    "duration": 227,
    "start_time": "2023-04-09T03:27:05.242Z"
   },
   {
    "duration": 335,
    "start_time": "2023-04-09T03:27:05.472Z"
   },
   {
    "duration": 210,
    "start_time": "2023-04-09T03:27:05.808Z"
   },
   {
    "duration": 306,
    "start_time": "2023-04-09T03:27:06.020Z"
   },
   {
    "duration": 11,
    "start_time": "2023-04-09T03:27:06.327Z"
   },
   {
    "duration": 151,
    "start_time": "2023-04-09T03:27:06.339Z"
   },
   {
    "duration": 6,
    "start_time": "2023-04-09T03:27:06.491Z"
   },
   {
    "duration": 153,
    "start_time": "2023-04-09T03:27:06.498Z"
   },
   {
    "duration": 212,
    "start_time": "2023-04-09T03:27:06.653Z"
   },
   {
    "duration": 5,
    "start_time": "2023-04-09T03:27:06.866Z"
   },
   {
    "duration": 51,
    "start_time": "2023-04-09T03:27:06.872Z"
   },
   {
    "duration": 10,
    "start_time": "2023-04-09T03:27:06.925Z"
   },
   {
    "duration": 13,
    "start_time": "2023-04-09T03:27:06.936Z"
   },
   {
    "duration": 7,
    "start_time": "2023-04-09T03:27:06.950Z"
   },
   {
    "duration": 11,
    "start_time": "2023-04-09T03:27:06.958Z"
   },
   {
    "duration": 109,
    "start_time": "2023-04-09T03:27:06.970Z"
   },
   {
    "duration": 0,
    "start_time": "2023-04-09T03:27:07.081Z"
   },
   {
    "duration": 0,
    "start_time": "2023-04-09T03:27:07.082Z"
   },
   {
    "duration": 0,
    "start_time": "2023-04-09T03:27:07.083Z"
   },
   {
    "duration": 0,
    "start_time": "2023-04-09T03:27:07.084Z"
   },
   {
    "duration": 0,
    "start_time": "2023-04-09T03:27:07.085Z"
   },
   {
    "duration": 0,
    "start_time": "2023-04-09T03:27:07.086Z"
   },
   {
    "duration": 0,
    "start_time": "2023-04-09T03:27:07.087Z"
   },
   {
    "duration": 0,
    "start_time": "2023-04-09T03:27:07.088Z"
   },
   {
    "duration": 0,
    "start_time": "2023-04-09T03:27:07.089Z"
   },
   {
    "duration": 0,
    "start_time": "2023-04-09T03:27:07.090Z"
   },
   {
    "duration": 0,
    "start_time": "2023-04-09T03:27:07.090Z"
   },
   {
    "duration": 13,
    "start_time": "2023-04-09T03:31:16.030Z"
   },
   {
    "duration": 6,
    "start_time": "2023-04-09T03:35:09.161Z"
   },
   {
    "duration": 13,
    "start_time": "2023-04-09T03:58:28.091Z"
   },
   {
    "duration": 18,
    "start_time": "2023-04-09T03:58:37.720Z"
   },
   {
    "duration": 14,
    "start_time": "2023-04-09T04:13:08.271Z"
   },
   {
    "duration": 14,
    "start_time": "2023-04-09T04:19:08.090Z"
   },
   {
    "duration": 7,
    "start_time": "2023-04-09T04:24:42.421Z"
   },
   {
    "duration": 4,
    "start_time": "2023-04-09T04:26:26.130Z"
   },
   {
    "duration": 11,
    "start_time": "2023-04-09T04:28:30.611Z"
   },
   {
    "duration": 5,
    "start_time": "2023-04-09T04:37:35.890Z"
   },
   {
    "duration": 4,
    "start_time": "2023-04-09T04:38:58.340Z"
   },
   {
    "duration": 5,
    "start_time": "2023-04-09T04:39:06.840Z"
   },
   {
    "duration": 79,
    "start_time": "2023-04-09T04:41:24.420Z"
   },
   {
    "duration": 4,
    "start_time": "2023-04-09T04:42:59.680Z"
   },
   {
    "duration": 8,
    "start_time": "2023-04-09T04:43:21.050Z"
   },
   {
    "duration": 3,
    "start_time": "2023-04-09T04:44:45.371Z"
   },
   {
    "duration": 8,
    "start_time": "2023-04-09T04:59:19.320Z"
   },
   {
    "duration": 11,
    "start_time": "2023-04-09T04:59:34.701Z"
   },
   {
    "duration": 5,
    "start_time": "2023-04-09T04:59:37.581Z"
   },
   {
    "duration": 7,
    "start_time": "2023-04-09T04:59:42.500Z"
   },
   {
    "duration": 7,
    "start_time": "2023-04-09T05:01:17.000Z"
   },
   {
    "duration": 10,
    "start_time": "2023-04-09T05:26:22.721Z"
   },
   {
    "duration": 9,
    "start_time": "2023-04-09T05:28:09.080Z"
   },
   {
    "duration": 6,
    "start_time": "2023-04-09T05:28:19.941Z"
   },
   {
    "duration": 7,
    "start_time": "2023-04-09T05:28:25.722Z"
   },
   {
    "duration": 5,
    "start_time": "2023-04-09T05:28:31.291Z"
   },
   {
    "duration": 50,
    "start_time": "2023-04-09T05:28:54.461Z"
   },
   {
    "duration": 12,
    "start_time": "2023-04-09T05:42:32.707Z"
   },
   {
    "duration": 4,
    "start_time": "2023-04-09T05:42:43.000Z"
   },
   {
    "duration": 103,
    "start_time": "2023-04-09T05:43:44.455Z"
   },
   {
    "duration": 4,
    "start_time": "2023-04-09T05:43:48.676Z"
   },
   {
    "duration": 6,
    "start_time": "2023-04-09T05:45:23.404Z"
   },
   {
    "duration": 8,
    "start_time": "2023-04-09T05:45:31.945Z"
   },
   {
    "duration": 8,
    "start_time": "2023-04-09T05:45:37.912Z"
   },
   {
    "duration": 8,
    "start_time": "2023-04-09T05:45:48.408Z"
   },
   {
    "duration": 8,
    "start_time": "2023-04-09T05:45:51.425Z"
   },
   {
    "duration": 8,
    "start_time": "2023-04-09T05:45:58.065Z"
   },
   {
    "duration": 4,
    "start_time": "2023-04-09T05:46:17.885Z"
   },
   {
    "duration": 1075,
    "start_time": "2023-04-09T05:48:04.195Z"
   },
   {
    "duration": 76,
    "start_time": "2023-04-09T05:48:05.272Z"
   },
   {
    "duration": 107,
    "start_time": "2023-04-09T05:48:05.349Z"
   },
   {
    "duration": 2,
    "start_time": "2023-04-09T05:48:05.458Z"
   },
   {
    "duration": 19,
    "start_time": "2023-04-09T05:48:05.461Z"
   },
   {
    "duration": 36,
    "start_time": "2023-04-09T05:48:05.482Z"
   },
   {
    "duration": 27,
    "start_time": "2023-04-09T05:48:05.519Z"
   },
   {
    "duration": 36,
    "start_time": "2023-04-09T05:48:05.548Z"
   },
   {
    "duration": 23,
    "start_time": "2023-04-09T05:48:05.585Z"
   },
   {
    "duration": 8,
    "start_time": "2023-04-09T05:48:05.610Z"
   },
   {
    "duration": 18,
    "start_time": "2023-04-09T05:48:05.620Z"
   },
   {
    "duration": 18,
    "start_time": "2023-04-09T05:48:05.640Z"
   },
   {
    "duration": 14,
    "start_time": "2023-04-09T05:48:05.660Z"
   },
   {
    "duration": 22,
    "start_time": "2023-04-09T05:48:05.675Z"
   },
   {
    "duration": 32,
    "start_time": "2023-04-09T05:48:05.699Z"
   },
   {
    "duration": 38,
    "start_time": "2023-04-09T05:48:05.732Z"
   },
   {
    "duration": 20,
    "start_time": "2023-04-09T05:48:05.772Z"
   },
   {
    "duration": 12,
    "start_time": "2023-04-09T05:48:05.794Z"
   },
   {
    "duration": 15,
    "start_time": "2023-04-09T05:48:05.808Z"
   },
   {
    "duration": 15,
    "start_time": "2023-04-09T05:48:05.824Z"
   },
   {
    "duration": 16,
    "start_time": "2023-04-09T05:48:05.840Z"
   },
   {
    "duration": 14,
    "start_time": "2023-04-09T05:48:05.857Z"
   },
   {
    "duration": 16,
    "start_time": "2023-04-09T05:48:05.872Z"
   },
   {
    "duration": 15,
    "start_time": "2023-04-09T05:48:05.890Z"
   },
   {
    "duration": 25,
    "start_time": "2023-04-09T05:48:05.907Z"
   },
   {
    "duration": 254,
    "start_time": "2023-04-09T05:48:05.934Z"
   },
   {
    "duration": 207,
    "start_time": "2023-04-09T05:48:06.189Z"
   },
   {
    "duration": 280,
    "start_time": "2023-04-09T05:48:06.399Z"
   },
   {
    "duration": 212,
    "start_time": "2023-04-09T05:48:06.681Z"
   },
   {
    "duration": 281,
    "start_time": "2023-04-09T05:48:06.895Z"
   },
   {
    "duration": 6,
    "start_time": "2023-04-09T05:48:07.177Z"
   },
   {
    "duration": 159,
    "start_time": "2023-04-09T05:48:07.185Z"
   },
   {
    "duration": 6,
    "start_time": "2023-04-09T05:48:07.345Z"
   },
   {
    "duration": 151,
    "start_time": "2023-04-09T05:48:07.352Z"
   },
   {
    "duration": 147,
    "start_time": "2023-04-09T05:48:07.504Z"
   },
   {
    "duration": 4,
    "start_time": "2023-04-09T05:48:07.652Z"
   },
   {
    "duration": 14,
    "start_time": "2023-04-09T05:48:07.657Z"
   },
   {
    "duration": 10,
    "start_time": "2023-04-09T05:48:07.673Z"
   },
   {
    "duration": 21,
    "start_time": "2023-04-09T05:48:07.685Z"
   },
   {
    "duration": 32,
    "start_time": "2023-04-09T05:48:07.708Z"
   },
   {
    "duration": 24,
    "start_time": "2023-04-09T05:48:07.741Z"
   },
   {
    "duration": 10,
    "start_time": "2023-04-09T05:48:07.766Z"
   },
   {
    "duration": 27,
    "start_time": "2023-04-09T05:48:07.777Z"
   },
   {
    "duration": 79,
    "start_time": "2023-04-09T05:48:07.805Z"
   },
   {
    "duration": 7,
    "start_time": "2023-04-09T05:48:07.886Z"
   },
   {
    "duration": 27,
    "start_time": "2023-04-09T05:48:07.894Z"
   },
   {
    "duration": 25,
    "start_time": "2023-04-09T05:48:07.922Z"
   },
   {
    "duration": 30,
    "start_time": "2023-04-09T05:48:07.949Z"
   },
   {
    "duration": 40,
    "start_time": "2023-04-09T05:48:07.980Z"
   },
   {
    "duration": 17,
    "start_time": "2023-04-09T05:48:08.021Z"
   },
   {
    "duration": 24,
    "start_time": "2023-04-09T05:48:08.039Z"
   },
   {
    "duration": 15,
    "start_time": "2023-04-09T05:48:08.064Z"
   },
   {
    "duration": 16,
    "start_time": "2023-04-09T05:48:08.081Z"
   },
   {
    "duration": 8,
    "start_time": "2023-04-09T05:48:08.099Z"
   },
   {
    "duration": 211,
    "start_time": "2023-04-09T05:48:08.109Z"
   },
   {
    "duration": 212,
    "start_time": "2023-04-09T05:48:08.322Z"
   },
   {
    "duration": 120,
    "start_time": "2023-04-09T05:49:51.766Z"
   },
   {
    "duration": 22,
    "start_time": "2023-04-09T05:50:13.205Z"
   },
   {
    "duration": 34,
    "start_time": "2023-04-09T05:51:21.045Z"
   },
   {
    "duration": 1055,
    "start_time": "2023-04-09T05:57:28.821Z"
   },
   {
    "duration": 75,
    "start_time": "2023-04-09T05:57:29.878Z"
   },
   {
    "duration": 100,
    "start_time": "2023-04-09T05:57:29.955Z"
   },
   {
    "duration": 3,
    "start_time": "2023-04-09T05:57:30.057Z"
   },
   {
    "duration": 15,
    "start_time": "2023-04-09T05:57:30.061Z"
   },
   {
    "duration": 28,
    "start_time": "2023-04-09T05:57:30.077Z"
   },
   {
    "duration": 41,
    "start_time": "2023-04-09T05:57:30.106Z"
   },
   {
    "duration": 34,
    "start_time": "2023-04-09T05:57:30.149Z"
   },
   {
    "duration": 24,
    "start_time": "2023-04-09T05:57:30.185Z"
   },
   {
    "duration": 13,
    "start_time": "2023-04-09T05:57:30.213Z"
   },
   {
    "duration": 33,
    "start_time": "2023-04-09T05:57:30.227Z"
   },
   {
    "duration": 35,
    "start_time": "2023-04-09T05:57:30.262Z"
   },
   {
    "duration": 70,
    "start_time": "2023-04-09T05:57:30.299Z"
   },
   {
    "duration": 69,
    "start_time": "2023-04-09T05:57:30.370Z"
   },
   {
    "duration": 26,
    "start_time": "2023-04-09T05:57:30.441Z"
   },
   {
    "duration": 54,
    "start_time": "2023-04-09T05:57:30.468Z"
   },
   {
    "duration": 26,
    "start_time": "2023-04-09T05:57:30.523Z"
   },
   {
    "duration": 48,
    "start_time": "2023-04-09T05:57:30.551Z"
   },
   {
    "duration": 77,
    "start_time": "2023-04-09T05:57:30.600Z"
   },
   {
    "duration": 43,
    "start_time": "2023-04-09T05:57:30.678Z"
   },
   {
    "duration": 65,
    "start_time": "2023-04-09T05:57:30.722Z"
   },
   {
    "duration": 21,
    "start_time": "2023-04-09T05:57:30.789Z"
   },
   {
    "duration": 25,
    "start_time": "2023-04-09T05:57:30.811Z"
   },
   {
    "duration": 32,
    "start_time": "2023-04-09T05:57:30.837Z"
   },
   {
    "duration": 25,
    "start_time": "2023-04-09T05:57:30.871Z"
   },
   {
    "duration": 302,
    "start_time": "2023-04-09T05:57:30.898Z"
   },
   {
    "duration": 224,
    "start_time": "2023-04-09T05:57:31.201Z"
   },
   {
    "duration": 300,
    "start_time": "2023-04-09T05:57:31.429Z"
   },
   {
    "duration": 233,
    "start_time": "2023-04-09T05:57:31.730Z"
   },
   {
    "duration": 305,
    "start_time": "2023-04-09T05:57:31.965Z"
   },
   {
    "duration": 6,
    "start_time": "2023-04-09T05:57:32.271Z"
   },
   {
    "duration": 164,
    "start_time": "2023-04-09T05:57:32.278Z"
   },
   {
    "duration": 7,
    "start_time": "2023-04-09T05:57:32.443Z"
   },
   {
    "duration": 245,
    "start_time": "2023-04-09T05:57:32.452Z"
   },
   {
    "duration": 151,
    "start_time": "2023-04-09T05:57:32.699Z"
   },
   {
    "duration": 5,
    "start_time": "2023-04-09T05:57:32.851Z"
   },
   {
    "duration": 11,
    "start_time": "2023-04-09T05:57:32.857Z"
   },
   {
    "duration": 8,
    "start_time": "2023-04-09T05:57:32.869Z"
   },
   {
    "duration": 13,
    "start_time": "2023-04-09T05:57:32.879Z"
   },
   {
    "duration": 6,
    "start_time": "2023-04-09T05:57:32.893Z"
   },
   {
    "duration": 37,
    "start_time": "2023-04-09T05:57:32.901Z"
   },
   {
    "duration": 7,
    "start_time": "2023-04-09T05:57:32.939Z"
   },
   {
    "duration": 6,
    "start_time": "2023-04-09T05:57:32.947Z"
   },
   {
    "duration": 82,
    "start_time": "2023-04-09T05:57:32.955Z"
   },
   {
    "duration": 6,
    "start_time": "2023-04-09T05:57:33.039Z"
   },
   {
    "duration": 23,
    "start_time": "2023-04-09T05:57:33.050Z"
   },
   {
    "duration": 8,
    "start_time": "2023-04-09T05:57:33.075Z"
   },
   {
    "duration": 6,
    "start_time": "2023-04-09T05:57:33.084Z"
   },
   {
    "duration": 36,
    "start_time": "2023-04-09T05:57:33.092Z"
   },
   {
    "duration": 7,
    "start_time": "2023-04-09T05:57:33.130Z"
   },
   {
    "duration": 16,
    "start_time": "2023-04-09T05:57:33.139Z"
   },
   {
    "duration": 13,
    "start_time": "2023-04-09T05:57:33.156Z"
   },
   {
    "duration": 4,
    "start_time": "2023-04-09T05:57:33.171Z"
   },
   {
    "duration": 7,
    "start_time": "2023-04-09T05:57:33.176Z"
   },
   {
    "duration": 265,
    "start_time": "2023-04-09T05:57:33.184Z"
   },
   {
    "duration": 215,
    "start_time": "2023-04-09T05:57:33.451Z"
   },
   {
    "duration": 1400,
    "start_time": "2023-04-09T21:27:19.431Z"
   },
   {
    "duration": 138,
    "start_time": "2023-04-09T21:27:20.833Z"
   },
   {
    "duration": 149,
    "start_time": "2023-04-09T21:27:20.973Z"
   },
   {
    "duration": 3,
    "start_time": "2023-04-09T21:27:21.124Z"
   },
   {
    "duration": 44,
    "start_time": "2023-04-09T21:27:21.128Z"
   },
   {
    "duration": 34,
    "start_time": "2023-04-09T21:27:21.174Z"
   },
   {
    "duration": 18,
    "start_time": "2023-04-09T21:27:21.211Z"
   },
   {
    "duration": 22,
    "start_time": "2023-04-09T21:27:21.231Z"
   },
   {
    "duration": 73,
    "start_time": "2023-04-09T21:27:21.254Z"
   },
   {
    "duration": 6,
    "start_time": "2023-04-09T21:27:21.329Z"
   },
   {
    "duration": 64,
    "start_time": "2023-04-09T21:27:21.337Z"
   },
   {
    "duration": 14,
    "start_time": "2023-04-09T21:27:21.403Z"
   },
   {
    "duration": 16,
    "start_time": "2023-04-09T21:27:21.419Z"
   },
   {
    "duration": 75,
    "start_time": "2023-04-09T21:27:21.437Z"
   },
   {
    "duration": 10,
    "start_time": "2023-04-09T21:27:21.515Z"
   },
   {
    "duration": 11,
    "start_time": "2023-04-09T21:27:21.526Z"
   },
   {
    "duration": 56,
    "start_time": "2023-04-09T21:27:21.539Z"
   },
   {
    "duration": 22,
    "start_time": "2023-04-09T21:27:21.597Z"
   },
   {
    "duration": 11,
    "start_time": "2023-04-09T21:27:21.620Z"
   },
   {
    "duration": 13,
    "start_time": "2023-04-09T21:27:21.633Z"
   },
   {
    "duration": 81,
    "start_time": "2023-04-09T21:27:21.648Z"
   },
   {
    "duration": 27,
    "start_time": "2023-04-09T21:27:21.731Z"
   },
   {
    "duration": 48,
    "start_time": "2023-04-09T21:27:21.762Z"
   },
   {
    "duration": 8,
    "start_time": "2023-04-09T21:27:21.811Z"
   },
   {
    "duration": 14,
    "start_time": "2023-04-09T21:27:21.820Z"
   },
   {
    "duration": 410,
    "start_time": "2023-04-09T21:27:21.836Z"
   },
   {
    "duration": 288,
    "start_time": "2023-04-09T21:27:22.248Z"
   },
   {
    "duration": 370,
    "start_time": "2023-04-09T21:27:22.539Z"
   },
   {
    "duration": 308,
    "start_time": "2023-04-09T21:27:22.911Z"
   },
   {
    "duration": 409,
    "start_time": "2023-04-09T21:27:23.221Z"
   },
   {
    "duration": 11,
    "start_time": "2023-04-09T21:27:23.632Z"
   },
   {
    "duration": 266,
    "start_time": "2023-04-09T21:27:23.645Z"
   },
   {
    "duration": 7,
    "start_time": "2023-04-09T21:27:23.913Z"
   },
   {
    "duration": 311,
    "start_time": "2023-04-09T21:27:23.922Z"
   },
   {
    "duration": 239,
    "start_time": "2023-04-09T21:27:24.240Z"
   },
   {
    "duration": 8,
    "start_time": "2023-04-09T21:27:24.482Z"
   },
   {
    "duration": 44,
    "start_time": "2023-04-09T21:27:24.492Z"
   },
   {
    "duration": 82,
    "start_time": "2023-04-09T21:27:24.538Z"
   },
   {
    "duration": 102,
    "start_time": "2023-04-09T21:27:24.622Z"
   },
   {
    "duration": 154,
    "start_time": "2023-04-09T21:27:24.726Z"
   },
   {
    "duration": 67,
    "start_time": "2023-04-09T21:27:24.882Z"
   },
   {
    "duration": 205,
    "start_time": "2023-04-09T21:27:24.961Z"
   },
   {
    "duration": 64,
    "start_time": "2023-04-09T21:27:25.168Z"
   },
   {
    "duration": 204,
    "start_time": "2023-04-09T21:27:25.236Z"
   },
   {
    "duration": 82,
    "start_time": "2023-04-09T21:27:25.442Z"
   },
   {
    "duration": 22,
    "start_time": "2023-04-09T21:27:25.525Z"
   },
   {
    "duration": 67,
    "start_time": "2023-04-09T21:27:25.549Z"
   },
   {
    "duration": 9,
    "start_time": "2023-04-09T21:27:25.618Z"
   },
   {
    "duration": 95,
    "start_time": "2023-04-09T21:27:25.629Z"
   },
   {
    "duration": 10,
    "start_time": "2023-04-09T21:27:25.725Z"
   },
   {
    "duration": 105,
    "start_time": "2023-04-09T21:27:25.737Z"
   },
   {
    "duration": 28,
    "start_time": "2023-04-09T21:27:25.845Z"
   },
   {
    "duration": 9,
    "start_time": "2023-04-09T21:27:25.875Z"
   },
   {
    "duration": 41,
    "start_time": "2023-04-09T21:27:25.886Z"
   },
   {
    "duration": 396,
    "start_time": "2023-04-09T21:27:25.929Z"
   },
   {
    "duration": 337,
    "start_time": "2023-04-09T21:27:26.328Z"
   },
   {
    "duration": 115,
    "start_time": "2023-04-09T21:28:57.693Z"
   },
   {
    "duration": 18,
    "start_time": "2023-04-09T21:29:03.206Z"
   },
   {
    "duration": 25,
    "start_time": "2023-04-09T21:29:05.187Z"
   },
   {
    "duration": 1238,
    "start_time": "2023-04-09T21:29:37.817Z"
   },
   {
    "duration": 108,
    "start_time": "2023-04-09T21:29:39.061Z"
   },
   {
    "duration": 128,
    "start_time": "2023-04-09T21:29:39.172Z"
   },
   {
    "duration": 3,
    "start_time": "2023-04-09T21:29:39.303Z"
   },
   {
    "duration": 72,
    "start_time": "2023-04-09T21:29:39.307Z"
   },
   {
    "duration": 23,
    "start_time": "2023-04-09T21:29:39.382Z"
   },
   {
    "duration": 30,
    "start_time": "2023-04-09T21:29:39.407Z"
   },
   {
    "duration": 68,
    "start_time": "2023-04-09T21:29:39.438Z"
   },
   {
    "duration": 26,
    "start_time": "2023-04-09T21:29:39.507Z"
   },
   {
    "duration": 64,
    "start_time": "2023-04-09T21:29:39.536Z"
   },
   {
    "duration": 23,
    "start_time": "2023-04-09T21:29:39.602Z"
   },
   {
    "duration": 30,
    "start_time": "2023-04-09T21:29:39.627Z"
   },
   {
    "duration": 53,
    "start_time": "2023-04-09T21:29:39.658Z"
   },
   {
    "duration": 21,
    "start_time": "2023-04-09T21:29:39.713Z"
   },
   {
    "duration": 77,
    "start_time": "2023-04-09T21:29:39.736Z"
   },
   {
    "duration": 16,
    "start_time": "2023-04-09T21:29:39.815Z"
   },
   {
    "duration": 67,
    "start_time": "2023-04-09T21:29:39.832Z"
   },
   {
    "duration": 25,
    "start_time": "2023-04-09T21:29:39.900Z"
   },
   {
    "duration": 66,
    "start_time": "2023-04-09T21:29:39.927Z"
   },
   {
    "duration": 19,
    "start_time": "2023-04-09T21:29:39.995Z"
   },
   {
    "duration": 40,
    "start_time": "2023-04-09T21:29:40.016Z"
   },
   {
    "duration": 68,
    "start_time": "2023-04-09T21:29:40.058Z"
   },
   {
    "duration": 62,
    "start_time": "2023-04-09T21:29:40.128Z"
   },
   {
    "duration": 24,
    "start_time": "2023-04-09T21:29:40.192Z"
   },
   {
    "duration": 84,
    "start_time": "2023-04-09T21:29:40.218Z"
   },
   {
    "duration": 384,
    "start_time": "2023-04-09T21:29:40.304Z"
   },
   {
    "duration": 262,
    "start_time": "2023-04-09T21:29:40.693Z"
   },
   {
    "duration": 340,
    "start_time": "2023-04-09T21:29:40.960Z"
   },
   {
    "duration": 298,
    "start_time": "2023-04-09T21:29:41.302Z"
   },
   {
    "duration": 359,
    "start_time": "2023-04-09T21:29:41.602Z"
   },
   {
    "duration": 7,
    "start_time": "2023-04-09T21:29:41.968Z"
   },
   {
    "duration": 256,
    "start_time": "2023-04-09T21:29:41.977Z"
   },
   {
    "duration": 9,
    "start_time": "2023-04-09T21:29:42.235Z"
   },
   {
    "duration": 280,
    "start_time": "2023-04-09T21:29:42.246Z"
   },
   {
    "duration": 234,
    "start_time": "2023-04-09T21:29:42.528Z"
   },
   {
    "duration": 19,
    "start_time": "2023-04-09T21:29:42.770Z"
   },
   {
    "duration": 25,
    "start_time": "2023-04-09T21:29:42.794Z"
   },
   {
    "duration": 75,
    "start_time": "2023-04-09T21:29:42.821Z"
   },
   {
    "duration": 34,
    "start_time": "2023-04-09T21:29:42.898Z"
   },
   {
    "duration": 86,
    "start_time": "2023-04-09T21:29:42.934Z"
   },
   {
    "duration": 66,
    "start_time": "2023-04-09T21:29:43.022Z"
   },
   {
    "duration": 114,
    "start_time": "2023-04-09T21:29:43.093Z"
   },
   {
    "duration": 7,
    "start_time": "2023-04-09T21:29:43.208Z"
   },
   {
    "duration": 6,
    "start_time": "2023-04-09T21:29:43.217Z"
   },
   {
    "duration": 20,
    "start_time": "2023-04-09T21:29:43.224Z"
   },
   {
    "duration": 58,
    "start_time": "2023-04-09T21:29:43.246Z"
   },
   {
    "duration": 8,
    "start_time": "2023-04-09T21:29:43.306Z"
   },
   {
    "duration": 16,
    "start_time": "2023-04-09T21:29:43.316Z"
   },
   {
    "duration": 50,
    "start_time": "2023-04-09T21:29:43.334Z"
   },
   {
    "duration": 48,
    "start_time": "2023-04-09T21:29:43.386Z"
   },
   {
    "duration": 18,
    "start_time": "2023-04-09T21:29:43.436Z"
   },
   {
    "duration": 59,
    "start_time": "2023-04-09T21:29:43.457Z"
   },
   {
    "duration": 14,
    "start_time": "2023-04-09T21:29:43.517Z"
   },
   {
    "duration": 44,
    "start_time": "2023-04-09T21:29:43.533Z"
   },
   {
    "duration": 22,
    "start_time": "2023-04-09T21:29:43.579Z"
   },
   {
    "duration": 265,
    "start_time": "2023-04-09T21:29:43.603Z"
   },
   {
    "duration": 279,
    "start_time": "2023-04-09T21:29:43.881Z"
   },
   {
    "duration": 7,
    "start_time": "2023-04-09T21:31:23.328Z"
   },
   {
    "duration": 1367,
    "start_time": "2023-04-09T21:31:28.838Z"
   },
   {
    "duration": 109,
    "start_time": "2023-04-09T21:31:30.208Z"
   },
   {
    "duration": 161,
    "start_time": "2023-04-09T21:31:30.319Z"
   },
   {
    "duration": 4,
    "start_time": "2023-04-09T21:31:30.483Z"
   },
   {
    "duration": 107,
    "start_time": "2023-04-09T21:31:30.488Z"
   },
   {
    "duration": 110,
    "start_time": "2023-04-09T21:31:30.597Z"
   },
   {
    "duration": 101,
    "start_time": "2023-04-09T21:31:30.709Z"
   },
   {
    "duration": 104,
    "start_time": "2023-04-09T21:31:30.812Z"
   },
   {
    "duration": 86,
    "start_time": "2023-04-09T21:31:30.918Z"
   },
   {
    "duration": 86,
    "start_time": "2023-04-09T21:31:31.007Z"
   },
   {
    "duration": 91,
    "start_time": "2023-04-09T21:31:31.095Z"
   },
   {
    "duration": 45,
    "start_time": "2023-04-09T21:31:31.188Z"
   },
   {
    "duration": 102,
    "start_time": "2023-04-09T21:31:31.234Z"
   },
   {
    "duration": 64,
    "start_time": "2023-04-09T21:31:31.337Z"
   },
   {
    "duration": 25,
    "start_time": "2023-04-09T21:31:31.403Z"
   },
   {
    "duration": 87,
    "start_time": "2023-04-09T21:31:31.430Z"
   },
   {
    "duration": 91,
    "start_time": "2023-04-09T21:31:31.519Z"
   },
   {
    "duration": 66,
    "start_time": "2023-04-09T21:31:31.611Z"
   },
   {
    "duration": 106,
    "start_time": "2023-04-09T21:31:31.679Z"
   },
   {
    "duration": 121,
    "start_time": "2023-04-09T21:31:31.791Z"
   },
   {
    "duration": 192,
    "start_time": "2023-04-09T21:31:31.914Z"
   },
   {
    "duration": 87,
    "start_time": "2023-04-09T21:31:32.108Z"
   },
   {
    "duration": 68,
    "start_time": "2023-04-09T21:31:32.197Z"
   },
   {
    "duration": 81,
    "start_time": "2023-04-09T21:31:32.269Z"
   },
   {
    "duration": 67,
    "start_time": "2023-04-09T21:31:32.356Z"
   },
   {
    "duration": 426,
    "start_time": "2023-04-09T21:31:32.425Z"
   },
   {
    "duration": 258,
    "start_time": "2023-04-09T21:31:32.853Z"
   },
   {
    "duration": 362,
    "start_time": "2023-04-09T21:31:33.116Z"
   },
   {
    "duration": 266,
    "start_time": "2023-04-09T21:31:33.482Z"
   },
   {
    "duration": 361,
    "start_time": "2023-04-09T21:31:33.750Z"
   },
   {
    "duration": 8,
    "start_time": "2023-04-09T21:31:34.112Z"
   },
   {
    "duration": 206,
    "start_time": "2023-04-09T21:31:34.121Z"
   },
   {
    "duration": 31,
    "start_time": "2023-04-09T21:31:34.329Z"
   },
   {
    "duration": 240,
    "start_time": "2023-04-09T21:31:34.367Z"
   },
   {
    "duration": 197,
    "start_time": "2023-04-09T21:31:34.608Z"
   },
   {
    "duration": 6,
    "start_time": "2023-04-09T21:31:34.807Z"
   },
   {
    "duration": 15,
    "start_time": "2023-04-09T21:31:34.815Z"
   },
   {
    "duration": 27,
    "start_time": "2023-04-09T21:31:34.844Z"
   },
   {
    "duration": 66,
    "start_time": "2023-04-09T21:31:34.873Z"
   },
   {
    "duration": 63,
    "start_time": "2023-04-09T21:31:34.941Z"
   },
   {
    "duration": 62,
    "start_time": "2023-04-09T21:31:35.006Z"
   },
   {
    "duration": 108,
    "start_time": "2023-04-09T21:31:35.075Z"
   },
   {
    "duration": 10,
    "start_time": "2023-04-09T21:31:35.185Z"
   },
   {
    "duration": 31,
    "start_time": "2023-04-09T21:31:35.198Z"
   },
   {
    "duration": 14,
    "start_time": "2023-04-09T21:31:35.231Z"
   },
   {
    "duration": 56,
    "start_time": "2023-04-09T21:31:35.247Z"
   },
   {
    "duration": 11,
    "start_time": "2023-04-09T21:31:35.304Z"
   },
   {
    "duration": 11,
    "start_time": "2023-04-09T21:31:35.317Z"
   },
   {
    "duration": 5,
    "start_time": "2023-04-09T21:31:35.330Z"
   },
   {
    "duration": 88,
    "start_time": "2023-04-09T21:31:35.336Z"
   },
   {
    "duration": 8,
    "start_time": "2023-04-09T21:31:35.426Z"
   },
   {
    "duration": 46,
    "start_time": "2023-04-09T21:31:35.436Z"
   },
   {
    "duration": 38,
    "start_time": "2023-04-09T21:31:35.484Z"
   },
   {
    "duration": 12,
    "start_time": "2023-04-09T21:31:35.524Z"
   },
   {
    "duration": 58,
    "start_time": "2023-04-09T21:31:35.538Z"
   },
   {
    "duration": 292,
    "start_time": "2023-04-09T21:31:35.598Z"
   },
   {
    "duration": 314,
    "start_time": "2023-04-09T21:31:35.892Z"
   },
   {
    "duration": 7,
    "start_time": "2023-04-09T21:31:41.329Z"
   },
   {
    "duration": 1507,
    "start_time": "2023-04-09T21:35:10.395Z"
   },
   {
    "duration": 121,
    "start_time": "2023-04-09T21:35:11.905Z"
   },
   {
    "duration": 163,
    "start_time": "2023-04-09T21:35:12.028Z"
   },
   {
    "duration": 10,
    "start_time": "2023-04-09T21:35:12.194Z"
   },
   {
    "duration": 9,
    "start_time": "2023-04-09T21:35:12.206Z"
   },
   {
    "duration": 11,
    "start_time": "2023-04-09T21:35:12.217Z"
   },
   {
    "duration": 38,
    "start_time": "2023-04-09T21:35:12.230Z"
   },
   {
    "duration": 38,
    "start_time": "2023-04-09T21:35:12.277Z"
   },
   {
    "duration": 15,
    "start_time": "2023-04-09T21:35:12.317Z"
   },
   {
    "duration": 9,
    "start_time": "2023-04-09T21:35:12.335Z"
   },
   {
    "duration": 58,
    "start_time": "2023-04-09T21:35:12.350Z"
   },
   {
    "duration": 16,
    "start_time": "2023-04-09T21:35:12.410Z"
   },
   {
    "duration": 20,
    "start_time": "2023-04-09T21:35:12.427Z"
   },
   {
    "duration": 57,
    "start_time": "2023-04-09T21:35:12.448Z"
   },
   {
    "duration": 22,
    "start_time": "2023-04-09T21:35:12.507Z"
   },
   {
    "duration": 70,
    "start_time": "2023-04-09T21:35:12.531Z"
   },
   {
    "duration": 20,
    "start_time": "2023-04-09T21:35:12.603Z"
   },
   {
    "duration": 24,
    "start_time": "2023-04-09T21:35:12.624Z"
   },
   {
    "duration": 62,
    "start_time": "2023-04-09T21:35:12.649Z"
   },
   {
    "duration": 13,
    "start_time": "2023-04-09T21:35:12.713Z"
   },
   {
    "duration": 40,
    "start_time": "2023-04-09T21:35:12.727Z"
   },
   {
    "duration": 52,
    "start_time": "2023-04-09T21:35:12.768Z"
   },
   {
    "duration": 66,
    "start_time": "2023-04-09T21:35:12.822Z"
   },
   {
    "duration": 15,
    "start_time": "2023-04-09T21:35:12.889Z"
   },
   {
    "duration": 19,
    "start_time": "2023-04-09T21:35:12.906Z"
   },
   {
    "duration": 391,
    "start_time": "2023-04-09T21:35:12.927Z"
   },
   {
    "duration": 271,
    "start_time": "2023-04-09T21:35:13.320Z"
   },
   {
    "duration": 317,
    "start_time": "2023-04-09T21:35:13.597Z"
   },
   {
    "duration": 305,
    "start_time": "2023-04-09T21:35:13.915Z"
   },
   {
    "duration": 360,
    "start_time": "2023-04-09T21:35:14.222Z"
   },
   {
    "duration": 9,
    "start_time": "2023-04-09T21:35:14.584Z"
   },
   {
    "duration": 234,
    "start_time": "2023-04-09T21:35:14.595Z"
   },
   {
    "duration": 22,
    "start_time": "2023-04-09T21:35:14.830Z"
   },
   {
    "duration": 259,
    "start_time": "2023-04-09T21:35:14.854Z"
   },
   {
    "duration": 189,
    "start_time": "2023-04-09T21:35:15.116Z"
   },
   {
    "duration": 6,
    "start_time": "2023-04-09T21:35:15.307Z"
   },
   {
    "duration": 22,
    "start_time": "2023-04-09T21:35:15.314Z"
   },
   {
    "duration": 59,
    "start_time": "2023-04-09T21:35:15.340Z"
   },
   {
    "duration": 76,
    "start_time": "2023-04-09T21:35:15.401Z"
   },
   {
    "duration": 23,
    "start_time": "2023-04-09T21:35:15.485Z"
   },
   {
    "duration": 66,
    "start_time": "2023-04-09T21:35:15.510Z"
   },
   {
    "duration": 37,
    "start_time": "2023-04-09T21:35:15.578Z"
   },
   {
    "duration": 13,
    "start_time": "2023-04-09T21:35:15.617Z"
   },
   {
    "duration": 132,
    "start_time": "2023-04-09T21:35:15.631Z"
   },
   {
    "duration": 7,
    "start_time": "2023-04-09T21:35:15.767Z"
   },
   {
    "duration": 165,
    "start_time": "2023-04-09T21:35:15.775Z"
   },
   {
    "duration": 0,
    "start_time": "2023-04-09T21:35:15.947Z"
   },
   {
    "duration": 0,
    "start_time": "2023-04-09T21:35:15.951Z"
   },
   {
    "duration": 0,
    "start_time": "2023-04-09T21:35:15.952Z"
   },
   {
    "duration": 0,
    "start_time": "2023-04-09T21:35:15.955Z"
   },
   {
    "duration": 0,
    "start_time": "2023-04-09T21:35:15.956Z"
   },
   {
    "duration": 0,
    "start_time": "2023-04-09T21:35:15.957Z"
   },
   {
    "duration": 0,
    "start_time": "2023-04-09T21:35:15.962Z"
   },
   {
    "duration": 0,
    "start_time": "2023-04-09T21:35:15.963Z"
   },
   {
    "duration": 6,
    "start_time": "2023-04-09T21:35:24.829Z"
   },
   {
    "duration": 14,
    "start_time": "2023-04-09T21:35:29.899Z"
   },
   {
    "duration": 16,
    "start_time": "2023-04-09T21:35:43.371Z"
   },
   {
    "duration": 5,
    "start_time": "2023-04-09T21:35:45.095Z"
   },
   {
    "duration": 15,
    "start_time": "2023-04-09T21:35:47.052Z"
   },
   {
    "duration": 4,
    "start_time": "2023-04-09T21:35:49.611Z"
   },
   {
    "duration": 5,
    "start_time": "2023-04-09T21:36:58.806Z"
   },
   {
    "duration": 1332,
    "start_time": "2023-04-09T21:37:06.473Z"
   },
   {
    "duration": 105,
    "start_time": "2023-04-09T21:37:07.808Z"
   },
   {
    "duration": 138,
    "start_time": "2023-04-09T21:37:07.915Z"
   },
   {
    "duration": 4,
    "start_time": "2023-04-09T21:37:08.055Z"
   },
   {
    "duration": 45,
    "start_time": "2023-04-09T21:37:08.062Z"
   },
   {
    "duration": 28,
    "start_time": "2023-04-09T21:37:08.109Z"
   },
   {
    "duration": 78,
    "start_time": "2023-04-09T21:37:08.139Z"
   },
   {
    "duration": 18,
    "start_time": "2023-04-09T21:37:08.219Z"
   },
   {
    "duration": 119,
    "start_time": "2023-04-09T21:37:08.239Z"
   },
   {
    "duration": 39,
    "start_time": "2023-04-09T21:37:08.360Z"
   },
   {
    "duration": 17,
    "start_time": "2023-04-09T21:37:08.401Z"
   },
   {
    "duration": 77,
    "start_time": "2023-04-09T21:37:08.420Z"
   },
   {
    "duration": 9,
    "start_time": "2023-04-09T21:37:08.499Z"
   },
   {
    "duration": 6,
    "start_time": "2023-04-09T21:37:08.511Z"
   },
   {
    "duration": 9,
    "start_time": "2023-04-09T21:37:08.519Z"
   },
   {
    "duration": 14,
    "start_time": "2023-04-09T21:37:08.530Z"
   },
   {
    "duration": 54,
    "start_time": "2023-04-09T21:37:08.545Z"
   },
   {
    "duration": 6,
    "start_time": "2023-04-09T21:37:08.601Z"
   },
   {
    "duration": 8,
    "start_time": "2023-04-09T21:37:08.608Z"
   },
   {
    "duration": 6,
    "start_time": "2023-04-09T21:37:08.617Z"
   },
   {
    "duration": 23,
    "start_time": "2023-04-09T21:37:08.625Z"
   },
   {
    "duration": 37,
    "start_time": "2023-04-09T21:37:08.650Z"
   },
   {
    "duration": 18,
    "start_time": "2023-04-09T21:37:08.689Z"
   },
   {
    "duration": 8,
    "start_time": "2023-04-09T21:37:08.709Z"
   },
   {
    "duration": 14,
    "start_time": "2023-04-09T21:37:08.718Z"
   },
   {
    "duration": 371,
    "start_time": "2023-04-09T21:37:08.734Z"
   },
   {
    "duration": 285,
    "start_time": "2023-04-09T21:37:09.108Z"
   },
   {
    "duration": 328,
    "start_time": "2023-04-09T21:37:09.395Z"
   },
   {
    "duration": 277,
    "start_time": "2023-04-09T21:37:09.724Z"
   },
   {
    "duration": 393,
    "start_time": "2023-04-09T21:37:10.004Z"
   },
   {
    "duration": 8,
    "start_time": "2023-04-09T21:37:10.399Z"
   },
   {
    "duration": 210,
    "start_time": "2023-04-09T21:37:10.408Z"
   },
   {
    "duration": 7,
    "start_time": "2023-04-09T21:37:10.620Z"
   },
   {
    "duration": 190,
    "start_time": "2023-04-09T21:37:10.649Z"
   },
   {
    "duration": 187,
    "start_time": "2023-04-09T21:37:10.842Z"
   },
   {
    "duration": 17,
    "start_time": "2023-04-09T21:37:11.030Z"
   },
   {
    "duration": 46,
    "start_time": "2023-04-09T21:37:11.062Z"
   },
   {
    "duration": 13,
    "start_time": "2023-04-09T21:37:11.110Z"
   },
   {
    "duration": 15,
    "start_time": "2023-04-09T21:37:11.124Z"
   },
   {
    "duration": 35,
    "start_time": "2023-04-09T21:37:11.140Z"
   },
   {
    "duration": 48,
    "start_time": "2023-04-09T21:37:11.180Z"
   },
   {
    "duration": 10,
    "start_time": "2023-04-09T21:37:11.230Z"
   },
   {
    "duration": 52,
    "start_time": "2023-04-09T21:37:11.251Z"
   },
   {
    "duration": 18,
    "start_time": "2023-04-09T21:37:11.305Z"
   },
   {
    "duration": 7,
    "start_time": "2023-04-09T21:37:11.325Z"
   },
   {
    "duration": 47,
    "start_time": "2023-04-09T21:37:11.334Z"
   },
   {
    "duration": 138,
    "start_time": "2023-04-09T21:37:11.387Z"
   },
   {
    "duration": 30,
    "start_time": "2023-04-09T21:37:11.527Z"
   },
   {
    "duration": 49,
    "start_time": "2023-04-09T21:37:11.559Z"
   },
   {
    "duration": 14,
    "start_time": "2023-04-09T21:37:11.610Z"
   },
   {
    "duration": 4,
    "start_time": "2023-04-09T21:37:11.627Z"
   },
   {
    "duration": 13,
    "start_time": "2023-04-09T21:37:11.633Z"
   },
   {
    "duration": 311,
    "start_time": "2023-04-09T21:37:11.648Z"
   },
   {
    "duration": 305,
    "start_time": "2023-04-09T21:37:11.968Z"
   },
   {
    "duration": 1301,
    "start_time": "2023-04-09T21:39:26.384Z"
   },
   {
    "duration": 117,
    "start_time": "2023-04-09T21:39:27.690Z"
   },
   {
    "duration": 114,
    "start_time": "2023-04-09T21:39:27.809Z"
   },
   {
    "duration": 20,
    "start_time": "2023-04-09T21:39:27.925Z"
   },
   {
    "duration": 24,
    "start_time": "2023-04-09T21:39:27.957Z"
   },
   {
    "duration": 27,
    "start_time": "2023-04-09T21:39:27.995Z"
   },
   {
    "duration": 13,
    "start_time": "2023-04-09T21:39:28.024Z"
   },
   {
    "duration": 64,
    "start_time": "2023-04-09T21:39:28.039Z"
   },
   {
    "duration": 13,
    "start_time": "2023-04-09T21:39:28.105Z"
   },
   {
    "duration": 6,
    "start_time": "2023-04-09T21:39:28.119Z"
   },
   {
    "duration": 22,
    "start_time": "2023-04-09T21:39:28.126Z"
   },
   {
    "duration": 57,
    "start_time": "2023-04-09T21:39:28.150Z"
   },
   {
    "duration": 11,
    "start_time": "2023-04-09T21:39:28.208Z"
   },
   {
    "duration": 8,
    "start_time": "2023-04-09T21:39:28.222Z"
   },
   {
    "duration": 13,
    "start_time": "2023-04-09T21:39:28.232Z"
   },
   {
    "duration": 54,
    "start_time": "2023-04-09T21:39:28.247Z"
   },
   {
    "duration": 12,
    "start_time": "2023-04-09T21:39:28.304Z"
   },
   {
    "duration": 8,
    "start_time": "2023-04-09T21:39:28.318Z"
   },
   {
    "duration": 12,
    "start_time": "2023-04-09T21:39:28.327Z"
   },
   {
    "duration": 60,
    "start_time": "2023-04-09T21:39:28.340Z"
   },
   {
    "duration": 16,
    "start_time": "2023-04-09T21:39:28.402Z"
   },
   {
    "duration": 12,
    "start_time": "2023-04-09T21:39:28.420Z"
   },
   {
    "duration": 3,
    "start_time": "2023-04-09T21:39:28.434Z"
   },
   {
    "duration": 58,
    "start_time": "2023-04-09T21:39:28.439Z"
   },
   {
    "duration": 13,
    "start_time": "2023-04-09T21:39:28.499Z"
   },
   {
    "duration": 372,
    "start_time": "2023-04-09T21:39:28.514Z"
   },
   {
    "duration": 273,
    "start_time": "2023-04-09T21:39:28.896Z"
   },
   {
    "duration": 315,
    "start_time": "2023-04-09T21:39:29.176Z"
   },
   {
    "duration": 272,
    "start_time": "2023-04-09T21:39:29.493Z"
   },
   {
    "duration": 359,
    "start_time": "2023-04-09T21:39:29.766Z"
   },
   {
    "duration": 7,
    "start_time": "2023-04-09T21:39:30.126Z"
   },
   {
    "duration": 259,
    "start_time": "2023-04-09T21:39:30.135Z"
   },
   {
    "duration": 7,
    "start_time": "2023-04-09T21:39:30.397Z"
   },
   {
    "duration": 303,
    "start_time": "2023-04-09T21:39:30.406Z"
   },
   {
    "duration": 199,
    "start_time": "2023-04-09T21:39:30.711Z"
   },
   {
    "duration": 5,
    "start_time": "2023-04-09T21:39:30.912Z"
   },
   {
    "duration": 104,
    "start_time": "2023-04-09T21:39:30.918Z"
   },
   {
    "duration": 96,
    "start_time": "2023-04-09T21:39:31.024Z"
   },
   {
    "duration": 89,
    "start_time": "2023-04-09T21:39:31.122Z"
   },
   {
    "duration": 84,
    "start_time": "2023-04-09T21:39:31.213Z"
   },
   {
    "duration": 109,
    "start_time": "2023-04-09T21:39:31.301Z"
   },
   {
    "duration": 20,
    "start_time": "2023-04-09T21:39:31.412Z"
   },
   {
    "duration": 68,
    "start_time": "2023-04-09T21:39:31.434Z"
   },
   {
    "duration": 31,
    "start_time": "2023-04-09T21:39:31.503Z"
   },
   {
    "duration": 92,
    "start_time": "2023-04-09T21:39:31.536Z"
   },
   {
    "duration": 69,
    "start_time": "2023-04-09T21:39:31.630Z"
   },
   {
    "duration": 153,
    "start_time": "2023-04-09T21:39:31.701Z"
   },
   {
    "duration": 40,
    "start_time": "2023-04-09T21:39:31.862Z"
   },
   {
    "duration": 62,
    "start_time": "2023-04-09T21:39:31.904Z"
   },
   {
    "duration": 118,
    "start_time": "2023-04-09T21:39:31.975Z"
   },
   {
    "duration": 125,
    "start_time": "2023-04-09T21:39:32.094Z"
   },
   {
    "duration": 71,
    "start_time": "2023-04-09T21:39:32.221Z"
   },
   {
    "duration": 243,
    "start_time": "2023-04-09T21:39:32.294Z"
   },
   {
    "duration": 288,
    "start_time": "2023-04-09T21:39:32.539Z"
   },
   {
    "duration": 1295,
    "start_time": "2023-04-09T21:41:37.396Z"
   },
   {
    "duration": 125,
    "start_time": "2023-04-09T21:41:38.693Z"
   },
   {
    "duration": 128,
    "start_time": "2023-04-09T21:41:38.820Z"
   },
   {
    "duration": 12,
    "start_time": "2023-04-09T21:41:38.957Z"
   },
   {
    "duration": 28,
    "start_time": "2023-04-09T21:41:38.971Z"
   },
   {
    "duration": 18,
    "start_time": "2023-04-09T21:41:39.001Z"
   },
   {
    "duration": 81,
    "start_time": "2023-04-09T21:41:39.021Z"
   },
   {
    "duration": 58,
    "start_time": "2023-04-09T21:41:39.104Z"
   },
   {
    "duration": 57,
    "start_time": "2023-04-09T21:41:39.164Z"
   },
   {
    "duration": 26,
    "start_time": "2023-04-09T21:41:39.223Z"
   },
   {
    "duration": 63,
    "start_time": "2023-04-09T21:41:39.251Z"
   },
   {
    "duration": 12,
    "start_time": "2023-04-09T21:41:39.316Z"
   },
   {
    "duration": 10,
    "start_time": "2023-04-09T21:41:39.330Z"
   },
   {
    "duration": 59,
    "start_time": "2023-04-09T21:41:39.344Z"
   },
   {
    "duration": 12,
    "start_time": "2023-04-09T21:41:39.404Z"
   },
   {
    "duration": 7,
    "start_time": "2023-04-09T21:41:39.417Z"
   },
   {
    "duration": 21,
    "start_time": "2023-04-09T21:41:39.426Z"
   },
   {
    "duration": 52,
    "start_time": "2023-04-09T21:41:39.449Z"
   },
   {
    "duration": 11,
    "start_time": "2023-04-09T21:41:39.502Z"
   },
   {
    "duration": 21,
    "start_time": "2023-04-09T21:41:39.514Z"
   },
   {
    "duration": 69,
    "start_time": "2023-04-09T21:41:39.537Z"
   },
   {
    "duration": 17,
    "start_time": "2023-04-09T21:41:39.608Z"
   },
   {
    "duration": 20,
    "start_time": "2023-04-09T21:41:39.627Z"
   },
   {
    "duration": 51,
    "start_time": "2023-04-09T21:41:39.649Z"
   },
   {
    "duration": 16,
    "start_time": "2023-04-09T21:41:39.702Z"
   },
   {
    "duration": 401,
    "start_time": "2023-04-09T21:41:39.720Z"
   },
   {
    "duration": 276,
    "start_time": "2023-04-09T21:41:40.123Z"
   },
   {
    "duration": 322,
    "start_time": "2023-04-09T21:41:40.401Z"
   },
   {
    "duration": 293,
    "start_time": "2023-04-09T21:41:40.725Z"
   },
   {
    "duration": 397,
    "start_time": "2023-04-09T21:41:41.020Z"
   },
   {
    "duration": 8,
    "start_time": "2023-04-09T21:41:41.419Z"
   },
   {
    "duration": 237,
    "start_time": "2023-04-09T21:41:41.428Z"
   },
   {
    "duration": 26,
    "start_time": "2023-04-09T21:41:41.676Z"
   },
   {
    "duration": 201,
    "start_time": "2023-04-09T21:41:41.704Z"
   },
   {
    "duration": 199,
    "start_time": "2023-04-09T21:41:41.907Z"
   },
   {
    "duration": 6,
    "start_time": "2023-04-09T21:41:42.108Z"
   },
   {
    "duration": 44,
    "start_time": "2023-04-09T21:41:42.116Z"
   },
   {
    "duration": 44,
    "start_time": "2023-04-09T21:41:42.162Z"
   },
   {
    "duration": 17,
    "start_time": "2023-04-09T21:41:42.208Z"
   },
   {
    "duration": 22,
    "start_time": "2023-04-09T21:41:42.227Z"
   },
   {
    "duration": 78,
    "start_time": "2023-04-09T21:41:42.254Z"
   },
   {
    "duration": 23,
    "start_time": "2023-04-09T21:41:42.333Z"
   },
   {
    "duration": 54,
    "start_time": "2023-04-09T21:41:42.358Z"
   },
   {
    "duration": 13,
    "start_time": "2023-04-09T21:41:42.414Z"
   },
   {
    "duration": 8,
    "start_time": "2023-04-09T21:41:42.429Z"
   },
   {
    "duration": 59,
    "start_time": "2023-04-09T21:41:42.438Z"
   },
   {
    "duration": 165,
    "start_time": "2023-04-09T21:41:42.499Z"
   },
   {
    "duration": 29,
    "start_time": "2023-04-09T21:41:42.666Z"
   },
   {
    "duration": 22,
    "start_time": "2023-04-09T21:41:42.699Z"
   },
   {
    "duration": 26,
    "start_time": "2023-04-09T21:41:42.723Z"
   },
   {
    "duration": 19,
    "start_time": "2023-04-09T21:41:42.757Z"
   },
   {
    "duration": 41,
    "start_time": "2023-04-09T21:41:42.778Z"
   },
   {
    "duration": 306,
    "start_time": "2023-04-09T21:41:42.821Z"
   },
   {
    "duration": 299,
    "start_time": "2023-04-09T21:41:43.129Z"
   },
   {
    "duration": 82,
    "start_time": "2023-05-17T11:48:41.306Z"
   },
   {
    "duration": 107,
    "start_time": "2023-05-17T11:49:03.860Z"
   },
   {
    "duration": 8,
    "start_time": "2023-05-17T11:49:29.819Z"
   },
   {
    "duration": 53,
    "start_time": "2023-05-17T11:49:32.849Z"
   },
   {
    "duration": 13,
    "start_time": "2023-05-17T11:49:53.994Z"
   },
   {
    "duration": 1384,
    "start_time": "2023-05-17T11:50:12.929Z"
   },
   {
    "duration": 244,
    "start_time": "2023-05-17T11:50:14.317Z"
   },
   {
    "duration": 96,
    "start_time": "2023-05-17T11:50:14.563Z"
   },
   {
    "duration": 11,
    "start_time": "2023-05-17T11:50:14.678Z"
   },
   {
    "duration": 6,
    "start_time": "2023-05-17T11:50:14.691Z"
   },
   {
    "duration": 15,
    "start_time": "2023-05-17T11:50:14.703Z"
   },
   {
    "duration": 13,
    "start_time": "2023-05-17T11:50:14.719Z"
   },
   {
    "duration": 12,
    "start_time": "2023-05-17T11:50:14.734Z"
   },
   {
    "duration": 12,
    "start_time": "2023-05-17T11:50:14.747Z"
   },
   {
    "duration": 21,
    "start_time": "2023-05-17T11:50:14.761Z"
   },
   {
    "duration": 22,
    "start_time": "2023-05-17T11:50:14.788Z"
   },
   {
    "duration": 14,
    "start_time": "2023-05-17T11:50:14.812Z"
   },
   {
    "duration": 10,
    "start_time": "2023-05-17T11:50:14.828Z"
   },
   {
    "duration": 15,
    "start_time": "2023-05-17T11:50:14.839Z"
   },
   {
    "duration": 8,
    "start_time": "2023-05-17T11:50:14.855Z"
   },
   {
    "duration": 5,
    "start_time": "2023-05-17T11:50:14.865Z"
   },
   {
    "duration": 22,
    "start_time": "2023-05-17T11:50:14.872Z"
   },
   {
    "duration": 15,
    "start_time": "2023-05-17T11:50:14.899Z"
   },
   {
    "duration": 12,
    "start_time": "2023-05-17T11:50:14.915Z"
   },
   {
    "duration": 7,
    "start_time": "2023-05-17T11:50:14.928Z"
   },
   {
    "duration": 25,
    "start_time": "2023-05-17T11:50:14.937Z"
   },
   {
    "duration": 32,
    "start_time": "2023-05-17T11:50:14.963Z"
   },
   {
    "duration": 6,
    "start_time": "2023-05-17T11:50:14.997Z"
   },
   {
    "duration": 41,
    "start_time": "2023-05-17T11:50:15.011Z"
   },
   {
    "duration": 13,
    "start_time": "2023-05-17T11:50:15.054Z"
   },
   {
    "duration": 327,
    "start_time": "2023-05-17T11:50:15.068Z"
   },
   {
    "duration": 249,
    "start_time": "2023-05-17T11:50:15.397Z"
   },
   {
    "duration": 391,
    "start_time": "2023-05-17T11:50:15.650Z"
   },
   {
    "duration": 269,
    "start_time": "2023-05-17T11:50:16.043Z"
   },
   {
    "duration": 315,
    "start_time": "2023-05-17T11:50:16.315Z"
   },
   {
    "duration": 6,
    "start_time": "2023-05-17T11:50:16.632Z"
   },
   {
    "duration": 189,
    "start_time": "2023-05-17T11:50:16.640Z"
   },
   {
    "duration": 6,
    "start_time": "2023-05-17T11:50:16.830Z"
   },
   {
    "duration": 185,
    "start_time": "2023-05-17T11:50:16.838Z"
   },
   {
    "duration": 176,
    "start_time": "2023-05-17T11:50:17.025Z"
   },
   {
    "duration": 7,
    "start_time": "2023-05-17T11:50:17.202Z"
   },
   {
    "duration": 20,
    "start_time": "2023-05-17T11:50:17.218Z"
   },
   {
    "duration": 14,
    "start_time": "2023-05-17T11:50:17.239Z"
   },
   {
    "duration": 14,
    "start_time": "2023-05-17T11:50:17.254Z"
   },
   {
    "duration": 39,
    "start_time": "2023-05-17T11:50:17.270Z"
   },
   {
    "duration": 24,
    "start_time": "2023-05-17T11:50:17.313Z"
   },
   {
    "duration": 87,
    "start_time": "2023-05-17T11:50:17.338Z"
   },
   {
    "duration": 7,
    "start_time": "2023-05-17T11:50:17.427Z"
   },
   {
    "duration": 7,
    "start_time": "2023-05-17T11:50:17.435Z"
   },
   {
    "duration": 17,
    "start_time": "2023-05-17T11:50:17.443Z"
   },
   {
    "duration": 5,
    "start_time": "2023-05-17T11:50:17.462Z"
   },
   {
    "duration": 76,
    "start_time": "2023-05-17T11:50:17.468Z"
   },
   {
    "duration": 11,
    "start_time": "2023-05-17T11:50:17.545Z"
   },
   {
    "duration": 46,
    "start_time": "2023-05-17T11:50:17.558Z"
   },
   {
    "duration": 26,
    "start_time": "2023-05-17T11:50:17.605Z"
   },
   {
    "duration": 24,
    "start_time": "2023-05-17T11:50:17.632Z"
   },
   {
    "duration": 10,
    "start_time": "2023-05-17T11:50:17.658Z"
   },
   {
    "duration": 248,
    "start_time": "2023-05-17T11:50:17.670Z"
   },
   {
    "duration": 249,
    "start_time": "2023-05-17T11:50:17.920Z"
   },
   {
    "duration": 14,
    "start_time": "2023-05-17T11:50:18.179Z"
   },
   {
    "duration": 26,
    "start_time": "2023-05-17T11:50:18.200Z"
   }
  ],
  "kernelspec": {
   "display_name": "Python 3 (ipykernel)",
   "language": "python",
   "name": "python3"
  },
  "language_info": {
   "codemirror_mode": {
    "name": "ipython",
    "version": 3
   },
   "file_extension": ".py",
   "mimetype": "text/x-python",
   "name": "python",
   "nbconvert_exporter": "python",
   "pygments_lexer": "ipython3",
   "version": "3.9.5"
  },
  "toc": {
   "base_numbering": 1,
   "nav_menu": {},
   "number_sections": true,
   "sideBar": true,
   "skip_h1_title": true,
   "title_cell": "Table of Contents",
   "title_sidebar": "Contents",
   "toc_cell": false,
   "toc_position": {},
   "toc_section_display": true,
   "toc_window_display": true
  }
 },
 "nbformat": 4,
 "nbformat_minor": 2
}
