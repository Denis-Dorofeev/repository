{
 "cells": [
  {
   "cell_type": "markdown",
   "metadata": {},
   "source": [
    "# Исследование успешности игр\n",
    "Вы работаете в интернет-магазине «Стримчик», который продаёт по всему миру компьютерные игры. Из открытых источников доступны исторические данные о продажах игр, оценки пользователей и экспертов, жанры и платформы (например, Xbox или PlayStation).\n",
    "\n",
    "**Цель исследования** :\n",
    "1. Выявить определяющие успешность игры закономерности. Это позволит сделать ставку на потенциально популярный продукт и спланировать рекламные кампании.\n",
    "\n",
    "**Ход исследования**\n",
    "\n",
    "Данные о играх получины из файла `'/datasets/games.csv'`. Перед проверкой гипотез понадобится обзор данных. \n",
    "\n",
    "Проверим данные на ошибки и оценим их влияние на исследование. Затем, на этапе предобработки поищем возможность исправить самые критичные ошибки в данных. Проведем исследовательский анализ, проверим гипотезы и составим портрет пользователя каждого региона.\n",
    " \n",
    "Таким образом, исследование пройдёт в три этапа:\n",
    " 1. Общий анализ.\n",
    " 2. Подготовка данных.\n",
    " 3. Проводим исследовательский анализ данных.\n",
    " 4. Составляем портрет пользователя каждого региона.\n",
    " 5. Проверка гипотез.\n",
    " 6. Общий вывод.\n"
   ]
  },
  {
   "cell_type": "markdown",
   "metadata": {},
   "source": [
    "### Общий анализ."
   ]
  },
  {
   "cell_type": "markdown",
   "metadata": {},
   "source": [
    "#### Открываем файл с данными и изучаем общую информацию"
   ]
  },
  {
   "cell_type": "code",
   "execution_count": 1,
   "metadata": {},
   "outputs": [],
   "source": [
    "import pandas as pd # импортируем бибилиотеки\n",
    "import numpy as np\n",
    "import seaborn as sns\n",
    "import matplotlib.pyplot as plt\n",
    "import warnings\n",
    "warnings.simplefilter(\"ignore\")"
   ]
  },
  {
   "cell_type": "code",
   "execution_count": 2,
   "metadata": {},
   "outputs": [
    {
     "data": {
      "text/html": [
       "<div>\n",
       "<style scoped>\n",
       "    .dataframe tbody tr th:only-of-type {\n",
       "        vertical-align: middle;\n",
       "    }\n",
       "\n",
       "    .dataframe tbody tr th {\n",
       "        vertical-align: top;\n",
       "    }\n",
       "\n",
       "    .dataframe thead th {\n",
       "        text-align: right;\n",
       "    }\n",
       "</style>\n",
       "<table border=\"1\" class=\"dataframe\">\n",
       "  <thead>\n",
       "    <tr style=\"text-align: right;\">\n",
       "      <th></th>\n",
       "      <th>Name</th>\n",
       "      <th>Platform</th>\n",
       "      <th>Year_of_Release</th>\n",
       "      <th>Genre</th>\n",
       "      <th>NA_sales</th>\n",
       "      <th>EU_sales</th>\n",
       "      <th>JP_sales</th>\n",
       "      <th>Other_sales</th>\n",
       "      <th>Critic_Score</th>\n",
       "      <th>User_Score</th>\n",
       "      <th>Rating</th>\n",
       "    </tr>\n",
       "  </thead>\n",
       "  <tbody>\n",
       "    <tr>\n",
       "      <th>0</th>\n",
       "      <td>Wii Sports</td>\n",
       "      <td>Wii</td>\n",
       "      <td>2006.0</td>\n",
       "      <td>Sports</td>\n",
       "      <td>41.36</td>\n",
       "      <td>28.96</td>\n",
       "      <td>3.77</td>\n",
       "      <td>8.45</td>\n",
       "      <td>76.0</td>\n",
       "      <td>8</td>\n",
       "      <td>E</td>\n",
       "    </tr>\n",
       "    <tr>\n",
       "      <th>1</th>\n",
       "      <td>Super Mario Bros.</td>\n",
       "      <td>NES</td>\n",
       "      <td>1985.0</td>\n",
       "      <td>Platform</td>\n",
       "      <td>29.08</td>\n",
       "      <td>3.58</td>\n",
       "      <td>6.81</td>\n",
       "      <td>0.77</td>\n",
       "      <td>NaN</td>\n",
       "      <td>NaN</td>\n",
       "      <td>NaN</td>\n",
       "    </tr>\n",
       "    <tr>\n",
       "      <th>2</th>\n",
       "      <td>Mario Kart Wii</td>\n",
       "      <td>Wii</td>\n",
       "      <td>2008.0</td>\n",
       "      <td>Racing</td>\n",
       "      <td>15.68</td>\n",
       "      <td>12.76</td>\n",
       "      <td>3.79</td>\n",
       "      <td>3.29</td>\n",
       "      <td>82.0</td>\n",
       "      <td>8.3</td>\n",
       "      <td>E</td>\n",
       "    </tr>\n",
       "    <tr>\n",
       "      <th>3</th>\n",
       "      <td>Wii Sports Resort</td>\n",
       "      <td>Wii</td>\n",
       "      <td>2009.0</td>\n",
       "      <td>Sports</td>\n",
       "      <td>15.61</td>\n",
       "      <td>10.93</td>\n",
       "      <td>3.28</td>\n",
       "      <td>2.95</td>\n",
       "      <td>80.0</td>\n",
       "      <td>8</td>\n",
       "      <td>E</td>\n",
       "    </tr>\n",
       "    <tr>\n",
       "      <th>4</th>\n",
       "      <td>Pokemon Red/Pokemon Blue</td>\n",
       "      <td>GB</td>\n",
       "      <td>1996.0</td>\n",
       "      <td>Role-Playing</td>\n",
       "      <td>11.27</td>\n",
       "      <td>8.89</td>\n",
       "      <td>10.22</td>\n",
       "      <td>1.00</td>\n",
       "      <td>NaN</td>\n",
       "      <td>NaN</td>\n",
       "      <td>NaN</td>\n",
       "    </tr>\n",
       "    <tr>\n",
       "      <th>5</th>\n",
       "      <td>Tetris</td>\n",
       "      <td>GB</td>\n",
       "      <td>1989.0</td>\n",
       "      <td>Puzzle</td>\n",
       "      <td>23.20</td>\n",
       "      <td>2.26</td>\n",
       "      <td>4.22</td>\n",
       "      <td>0.58</td>\n",
       "      <td>NaN</td>\n",
       "      <td>NaN</td>\n",
       "      <td>NaN</td>\n",
       "    </tr>\n",
       "    <tr>\n",
       "      <th>6</th>\n",
       "      <td>New Super Mario Bros.</td>\n",
       "      <td>DS</td>\n",
       "      <td>2006.0</td>\n",
       "      <td>Platform</td>\n",
       "      <td>11.28</td>\n",
       "      <td>9.14</td>\n",
       "      <td>6.50</td>\n",
       "      <td>2.88</td>\n",
       "      <td>89.0</td>\n",
       "      <td>8.5</td>\n",
       "      <td>E</td>\n",
       "    </tr>\n",
       "    <tr>\n",
       "      <th>7</th>\n",
       "      <td>Wii Play</td>\n",
       "      <td>Wii</td>\n",
       "      <td>2006.0</td>\n",
       "      <td>Misc</td>\n",
       "      <td>13.96</td>\n",
       "      <td>9.18</td>\n",
       "      <td>2.93</td>\n",
       "      <td>2.84</td>\n",
       "      <td>58.0</td>\n",
       "      <td>6.6</td>\n",
       "      <td>E</td>\n",
       "    </tr>\n",
       "    <tr>\n",
       "      <th>8</th>\n",
       "      <td>New Super Mario Bros. Wii</td>\n",
       "      <td>Wii</td>\n",
       "      <td>2009.0</td>\n",
       "      <td>Platform</td>\n",
       "      <td>14.44</td>\n",
       "      <td>6.94</td>\n",
       "      <td>4.70</td>\n",
       "      <td>2.24</td>\n",
       "      <td>87.0</td>\n",
       "      <td>8.4</td>\n",
       "      <td>E</td>\n",
       "    </tr>\n",
       "    <tr>\n",
       "      <th>9</th>\n",
       "      <td>Duck Hunt</td>\n",
       "      <td>NES</td>\n",
       "      <td>1984.0</td>\n",
       "      <td>Shooter</td>\n",
       "      <td>26.93</td>\n",
       "      <td>0.63</td>\n",
       "      <td>0.28</td>\n",
       "      <td>0.47</td>\n",
       "      <td>NaN</td>\n",
       "      <td>NaN</td>\n",
       "      <td>NaN</td>\n",
       "    </tr>\n",
       "  </tbody>\n",
       "</table>\n",
       "</div>"
      ],
      "text/plain": [
       "                        Name Platform  Year_of_Release         Genre  \\\n",
       "0                 Wii Sports      Wii           2006.0        Sports   \n",
       "1          Super Mario Bros.      NES           1985.0      Platform   \n",
       "2             Mario Kart Wii      Wii           2008.0        Racing   \n",
       "3          Wii Sports Resort      Wii           2009.0        Sports   \n",
       "4   Pokemon Red/Pokemon Blue       GB           1996.0  Role-Playing   \n",
       "5                     Tetris       GB           1989.0        Puzzle   \n",
       "6      New Super Mario Bros.       DS           2006.0      Platform   \n",
       "7                   Wii Play      Wii           2006.0          Misc   \n",
       "8  New Super Mario Bros. Wii      Wii           2009.0      Platform   \n",
       "9                  Duck Hunt      NES           1984.0       Shooter   \n",
       "\n",
       "   NA_sales  EU_sales  JP_sales  Other_sales  Critic_Score User_Score Rating  \n",
       "0     41.36     28.96      3.77         8.45          76.0          8      E  \n",
       "1     29.08      3.58      6.81         0.77           NaN        NaN    NaN  \n",
       "2     15.68     12.76      3.79         3.29          82.0        8.3      E  \n",
       "3     15.61     10.93      3.28         2.95          80.0          8      E  \n",
       "4     11.27      8.89     10.22         1.00           NaN        NaN    NaN  \n",
       "5     23.20      2.26      4.22         0.58           NaN        NaN    NaN  \n",
       "6     11.28      9.14      6.50         2.88          89.0        8.5      E  \n",
       "7     13.96      9.18      2.93         2.84          58.0        6.6      E  \n",
       "8     14.44      6.94      4.70         2.24          87.0        8.4      E  \n",
       "9     26.93      0.63      0.28         0.47           NaN        NaN    NaN  "
      ]
     },
     "metadata": {},
     "output_type": "display_data"
    },
    {
     "data": {
      "text/html": [
       "<div>\n",
       "<style scoped>\n",
       "    .dataframe tbody tr th:only-of-type {\n",
       "        vertical-align: middle;\n",
       "    }\n",
       "\n",
       "    .dataframe tbody tr th {\n",
       "        vertical-align: top;\n",
       "    }\n",
       "\n",
       "    .dataframe thead th {\n",
       "        text-align: right;\n",
       "    }\n",
       "</style>\n",
       "<table border=\"1\" class=\"dataframe\">\n",
       "  <thead>\n",
       "    <tr style=\"text-align: right;\">\n",
       "      <th></th>\n",
       "      <th>Name</th>\n",
       "      <th>Platform</th>\n",
       "      <th>Year_of_Release</th>\n",
       "      <th>Genre</th>\n",
       "      <th>NA_sales</th>\n",
       "      <th>EU_sales</th>\n",
       "      <th>JP_sales</th>\n",
       "      <th>Other_sales</th>\n",
       "      <th>Critic_Score</th>\n",
       "      <th>User_Score</th>\n",
       "      <th>Rating</th>\n",
       "    </tr>\n",
       "  </thead>\n",
       "  <tbody>\n",
       "    <tr>\n",
       "      <th>16710</th>\n",
       "      <td>Samurai Warriors: Sanada Maru</td>\n",
       "      <td>PS3</td>\n",
       "      <td>2016.0</td>\n",
       "      <td>Action</td>\n",
       "      <td>0.00</td>\n",
       "      <td>0.00</td>\n",
       "      <td>0.01</td>\n",
       "      <td>0.0</td>\n",
       "      <td>NaN</td>\n",
       "      <td>NaN</td>\n",
       "      <td>NaN</td>\n",
       "    </tr>\n",
       "    <tr>\n",
       "      <th>16711</th>\n",
       "      <td>LMA Manager 2007</td>\n",
       "      <td>X360</td>\n",
       "      <td>2006.0</td>\n",
       "      <td>Sports</td>\n",
       "      <td>0.00</td>\n",
       "      <td>0.01</td>\n",
       "      <td>0.00</td>\n",
       "      <td>0.0</td>\n",
       "      <td>NaN</td>\n",
       "      <td>NaN</td>\n",
       "      <td>NaN</td>\n",
       "    </tr>\n",
       "    <tr>\n",
       "      <th>16712</th>\n",
       "      <td>Haitaka no Psychedelica</td>\n",
       "      <td>PSV</td>\n",
       "      <td>2016.0</td>\n",
       "      <td>Adventure</td>\n",
       "      <td>0.00</td>\n",
       "      <td>0.00</td>\n",
       "      <td>0.01</td>\n",
       "      <td>0.0</td>\n",
       "      <td>NaN</td>\n",
       "      <td>NaN</td>\n",
       "      <td>NaN</td>\n",
       "    </tr>\n",
       "    <tr>\n",
       "      <th>16713</th>\n",
       "      <td>Spirits &amp; Spells</td>\n",
       "      <td>GBA</td>\n",
       "      <td>2003.0</td>\n",
       "      <td>Platform</td>\n",
       "      <td>0.01</td>\n",
       "      <td>0.00</td>\n",
       "      <td>0.00</td>\n",
       "      <td>0.0</td>\n",
       "      <td>NaN</td>\n",
       "      <td>NaN</td>\n",
       "      <td>NaN</td>\n",
       "    </tr>\n",
       "    <tr>\n",
       "      <th>16714</th>\n",
       "      <td>Winning Post 8 2016</td>\n",
       "      <td>PSV</td>\n",
       "      <td>2016.0</td>\n",
       "      <td>Simulation</td>\n",
       "      <td>0.00</td>\n",
       "      <td>0.00</td>\n",
       "      <td>0.01</td>\n",
       "      <td>0.0</td>\n",
       "      <td>NaN</td>\n",
       "      <td>NaN</td>\n",
       "      <td>NaN</td>\n",
       "    </tr>\n",
       "  </tbody>\n",
       "</table>\n",
       "</div>"
      ],
      "text/plain": [
       "                                Name Platform  Year_of_Release       Genre  \\\n",
       "16710  Samurai Warriors: Sanada Maru      PS3           2016.0      Action   \n",
       "16711               LMA Manager 2007     X360           2006.0      Sports   \n",
       "16712        Haitaka no Psychedelica      PSV           2016.0   Adventure   \n",
       "16713               Spirits & Spells      GBA           2003.0    Platform   \n",
       "16714            Winning Post 8 2016      PSV           2016.0  Simulation   \n",
       "\n",
       "       NA_sales  EU_sales  JP_sales  Other_sales  Critic_Score User_Score  \\\n",
       "16710      0.00      0.00      0.01          0.0           NaN        NaN   \n",
       "16711      0.00      0.01      0.00          0.0           NaN        NaN   \n",
       "16712      0.00      0.00      0.01          0.0           NaN        NaN   \n",
       "16713      0.01      0.00      0.00          0.0           NaN        NaN   \n",
       "16714      0.00      0.00      0.01          0.0           NaN        NaN   \n",
       "\n",
       "      Rating  \n",
       "16710    NaN  \n",
       "16711    NaN  \n",
       "16712    NaN  \n",
       "16713    NaN  \n",
       "16714    NaN  "
      ]
     },
     "metadata": {},
     "output_type": "display_data"
    }
   ],
   "source": [
    "df = pd.read_csv('/datasets/games.csv')  # читаем файл csv\n",
    "\n",
    "display(df.head(10)) # первые сьтроки датасета\n",
    "display(df.tail()) # последние сьтроки датасета"
   ]
  },
  {
   "cell_type": "code",
   "execution_count": 3,
   "metadata": {},
   "outputs": [
    {
     "name": "stdout",
     "output_type": "stream",
     "text": [
      "<class 'pandas.core.frame.DataFrame'>\n",
      "RangeIndex: 16715 entries, 0 to 16714\n",
      "Data columns (total 11 columns):\n",
      " #   Column           Non-Null Count  Dtype  \n",
      "---  ------           --------------  -----  \n",
      " 0   Name             16713 non-null  object \n",
      " 1   Platform         16715 non-null  object \n",
      " 2   Year_of_Release  16446 non-null  float64\n",
      " 3   Genre            16713 non-null  object \n",
      " 4   NA_sales         16715 non-null  float64\n",
      " 5   EU_sales         16715 non-null  float64\n",
      " 6   JP_sales         16715 non-null  float64\n",
      " 7   Other_sales      16715 non-null  float64\n",
      " 8   Critic_Score     8137 non-null   float64\n",
      " 9   User_Score       10014 non-null  object \n",
      " 10  Rating           9949 non-null   object \n",
      "dtypes: float64(6), object(5)\n",
      "memory usage: 1.4+ MB\n"
     ]
    }
   ],
   "source": [
    "df.info() # основная информация"
   ]
  },
  {
   "cell_type": "code",
   "execution_count": 4,
   "metadata": {},
   "outputs": [
    {
     "data": {
      "text/html": [
       "<div>\n",
       "<style scoped>\n",
       "    .dataframe tbody tr th:only-of-type {\n",
       "        vertical-align: middle;\n",
       "    }\n",
       "\n",
       "    .dataframe tbody tr th {\n",
       "        vertical-align: top;\n",
       "    }\n",
       "\n",
       "    .dataframe thead th {\n",
       "        text-align: right;\n",
       "    }\n",
       "</style>\n",
       "<table border=\"1\" class=\"dataframe\">\n",
       "  <thead>\n",
       "    <tr style=\"text-align: right;\">\n",
       "      <th></th>\n",
       "      <th>Year_of_Release</th>\n",
       "      <th>NA_sales</th>\n",
       "      <th>EU_sales</th>\n",
       "      <th>JP_sales</th>\n",
       "      <th>Other_sales</th>\n",
       "      <th>Critic_Score</th>\n",
       "    </tr>\n",
       "  </thead>\n",
       "  <tbody>\n",
       "    <tr>\n",
       "      <th>count</th>\n",
       "      <td>16446.000000</td>\n",
       "      <td>16715.000000</td>\n",
       "      <td>16715.000000</td>\n",
       "      <td>16715.000000</td>\n",
       "      <td>16715.000000</td>\n",
       "      <td>8137.000000</td>\n",
       "    </tr>\n",
       "    <tr>\n",
       "      <th>mean</th>\n",
       "      <td>2006.484616</td>\n",
       "      <td>0.263377</td>\n",
       "      <td>0.145060</td>\n",
       "      <td>0.077617</td>\n",
       "      <td>0.047342</td>\n",
       "      <td>68.967679</td>\n",
       "    </tr>\n",
       "    <tr>\n",
       "      <th>std</th>\n",
       "      <td>5.877050</td>\n",
       "      <td>0.813604</td>\n",
       "      <td>0.503339</td>\n",
       "      <td>0.308853</td>\n",
       "      <td>0.186731</td>\n",
       "      <td>13.938165</td>\n",
       "    </tr>\n",
       "    <tr>\n",
       "      <th>min</th>\n",
       "      <td>1980.000000</td>\n",
       "      <td>0.000000</td>\n",
       "      <td>0.000000</td>\n",
       "      <td>0.000000</td>\n",
       "      <td>0.000000</td>\n",
       "      <td>13.000000</td>\n",
       "    </tr>\n",
       "    <tr>\n",
       "      <th>25%</th>\n",
       "      <td>2003.000000</td>\n",
       "      <td>0.000000</td>\n",
       "      <td>0.000000</td>\n",
       "      <td>0.000000</td>\n",
       "      <td>0.000000</td>\n",
       "      <td>60.000000</td>\n",
       "    </tr>\n",
       "    <tr>\n",
       "      <th>50%</th>\n",
       "      <td>2007.000000</td>\n",
       "      <td>0.080000</td>\n",
       "      <td>0.020000</td>\n",
       "      <td>0.000000</td>\n",
       "      <td>0.010000</td>\n",
       "      <td>71.000000</td>\n",
       "    </tr>\n",
       "    <tr>\n",
       "      <th>75%</th>\n",
       "      <td>2010.000000</td>\n",
       "      <td>0.240000</td>\n",
       "      <td>0.110000</td>\n",
       "      <td>0.040000</td>\n",
       "      <td>0.030000</td>\n",
       "      <td>79.000000</td>\n",
       "    </tr>\n",
       "    <tr>\n",
       "      <th>max</th>\n",
       "      <td>2016.000000</td>\n",
       "      <td>41.360000</td>\n",
       "      <td>28.960000</td>\n",
       "      <td>10.220000</td>\n",
       "      <td>10.570000</td>\n",
       "      <td>98.000000</td>\n",
       "    </tr>\n",
       "  </tbody>\n",
       "</table>\n",
       "</div>"
      ],
      "text/plain": [
       "       Year_of_Release      NA_sales      EU_sales      JP_sales  \\\n",
       "count     16446.000000  16715.000000  16715.000000  16715.000000   \n",
       "mean       2006.484616      0.263377      0.145060      0.077617   \n",
       "std           5.877050      0.813604      0.503339      0.308853   \n",
       "min        1980.000000      0.000000      0.000000      0.000000   \n",
       "25%        2003.000000      0.000000      0.000000      0.000000   \n",
       "50%        2007.000000      0.080000      0.020000      0.000000   \n",
       "75%        2010.000000      0.240000      0.110000      0.040000   \n",
       "max        2016.000000     41.360000     28.960000     10.220000   \n",
       "\n",
       "        Other_sales  Critic_Score  \n",
       "count  16715.000000   8137.000000  \n",
       "mean       0.047342     68.967679  \n",
       "std        0.186731     13.938165  \n",
       "min        0.000000     13.000000  \n",
       "25%        0.000000     60.000000  \n",
       "50%        0.010000     71.000000  \n",
       "75%        0.030000     79.000000  \n",
       "max       10.570000     98.000000  "
      ]
     },
     "metadata": {},
     "output_type": "display_data"
    }
   ],
   "source": [
    "# общие показатели\n",
    "display(df.describe())"
   ]
  },
  {
   "cell_type": "code",
   "execution_count": 5,
   "metadata": {},
   "outputs": [
    {
     "data": {
      "text/plain": [
       "Critic_Score       8578\n",
       "Rating             6766\n",
       "User_Score         6701\n",
       "Year_of_Release     269\n",
       "Name                  2\n",
       "Genre                 2\n",
       "Platform              0\n",
       "NA_sales              0\n",
       "EU_sales              0\n",
       "JP_sales              0\n",
       "Other_sales           0\n",
       "dtype: int64"
      ]
     },
     "execution_count": 5,
     "metadata": {},
     "output_type": "execute_result"
    }
   ],
   "source": [
    "df.isna().sum().sort_values(ascending=False)  # кол-во пропусков по столбцам"
   ]
  },
  {
   "cell_type": "code",
   "execution_count": 6,
   "metadata": {},
   "outputs": [
    {
     "data": {
      "text/plain": [
       "Critic_Score       51.319174\n",
       "Rating             40.478612\n",
       "User_Score         40.089740\n",
       "Year_of_Release     1.609333\n",
       "Name                0.011965\n",
       "Genre               0.011965\n",
       "Platform            0.000000\n",
       "NA_sales            0.000000\n",
       "EU_sales            0.000000\n",
       "JP_sales            0.000000\n",
       "Other_sales         0.000000\n",
       "dtype: float64"
      ]
     },
     "metadata": {},
     "output_type": "display_data"
    }
   ],
   "source": [
    "#процент пропусков от всего датасета\n",
    "display(df.isna().mean().sort_values(ascending=False)*100)"
   ]
  },
  {
   "cell_type": "code",
   "execution_count": 7,
   "metadata": {},
   "outputs": [
    {
     "data": {
      "text/html": [
       "<style  type=\"text/css\" >\n",
       "#T_43d52_row0_col0{\n",
       "            background-color:  #b40426;\n",
       "            color:  #f1f1f1;\n",
       "        }#T_43d52_row1_col0{\n",
       "            background-color:  #ef886b;\n",
       "            color:  #000000;\n",
       "        }#T_43d52_row2_col0{\n",
       "            background-color:  #f08b6e;\n",
       "            color:  #000000;\n",
       "        }#T_43d52_row3_col0{\n",
       "            background-color:  #4358cb;\n",
       "            color:  #f1f1f1;\n",
       "        }#T_43d52_row4_col0,#T_43d52_row5_col0,#T_43d52_row6_col0,#T_43d52_row7_col0,#T_43d52_row8_col0,#T_43d52_row9_col0,#T_43d52_row10_col0{\n",
       "            background-color:  #3b4cc0;\n",
       "            color:  #f1f1f1;\n",
       "        }</style><table id=\"T_43d52_\" ><thead>    <tr>        <th class=\"blank level0\" ></th>        <th class=\"col_heading level0 col0\" >0</th>    </tr></thead><tbody>\n",
       "                <tr>\n",
       "                        <th id=\"T_43d52_level0_row0\" class=\"row_heading level0 row0\" >Critic_Score</th>\n",
       "                        <td id=\"T_43d52_row0_col0\" class=\"data row0 col0\" >51.300000</td>\n",
       "            </tr>\n",
       "            <tr>\n",
       "                        <th id=\"T_43d52_level0_row1\" class=\"row_heading level0 row1\" >Rating</th>\n",
       "                        <td id=\"T_43d52_row1_col0\" class=\"data row1 col0\" >40.500000</td>\n",
       "            </tr>\n",
       "            <tr>\n",
       "                        <th id=\"T_43d52_level0_row2\" class=\"row_heading level0 row2\" >User_Score</th>\n",
       "                        <td id=\"T_43d52_row2_col0\" class=\"data row2 col0\" >40.100000</td>\n",
       "            </tr>\n",
       "            <tr>\n",
       "                        <th id=\"T_43d52_level0_row3\" class=\"row_heading level0 row3\" >Year_of_Release</th>\n",
       "                        <td id=\"T_43d52_row3_col0\" class=\"data row3 col0\" >1.600000</td>\n",
       "            </tr>\n",
       "            <tr>\n",
       "                        <th id=\"T_43d52_level0_row4\" class=\"row_heading level0 row4\" >Name</th>\n",
       "                        <td id=\"T_43d52_row4_col0\" class=\"data row4 col0\" >0.000000</td>\n",
       "            </tr>\n",
       "            <tr>\n",
       "                        <th id=\"T_43d52_level0_row5\" class=\"row_heading level0 row5\" >Genre</th>\n",
       "                        <td id=\"T_43d52_row5_col0\" class=\"data row5 col0\" >0.000000</td>\n",
       "            </tr>\n",
       "            <tr>\n",
       "                        <th id=\"T_43d52_level0_row6\" class=\"row_heading level0 row6\" >Platform</th>\n",
       "                        <td id=\"T_43d52_row6_col0\" class=\"data row6 col0\" >0.000000</td>\n",
       "            </tr>\n",
       "            <tr>\n",
       "                        <th id=\"T_43d52_level0_row7\" class=\"row_heading level0 row7\" >NA_sales</th>\n",
       "                        <td id=\"T_43d52_row7_col0\" class=\"data row7 col0\" >0.000000</td>\n",
       "            </tr>\n",
       "            <tr>\n",
       "                        <th id=\"T_43d52_level0_row8\" class=\"row_heading level0 row8\" >EU_sales</th>\n",
       "                        <td id=\"T_43d52_row8_col0\" class=\"data row8 col0\" >0.000000</td>\n",
       "            </tr>\n",
       "            <tr>\n",
       "                        <th id=\"T_43d52_level0_row9\" class=\"row_heading level0 row9\" >JP_sales</th>\n",
       "                        <td id=\"T_43d52_row9_col0\" class=\"data row9 col0\" >0.000000</td>\n",
       "            </tr>\n",
       "            <tr>\n",
       "                        <th id=\"T_43d52_level0_row10\" class=\"row_heading level0 row10\" >Other_sales</th>\n",
       "                        <td id=\"T_43d52_row10_col0\" class=\"data row10 col0\" >0.000000</td>\n",
       "            </tr>\n",
       "    </tbody></table>"
      ],
      "text/plain": [
       "<pandas.io.formats.style.Styler at 0x7f27ecc659d0>"
      ]
     },
     "execution_count": 7,
     "metadata": {},
     "output_type": "execute_result"
    }
   ],
   "source": [
    "pd.DataFrame(\n",
    "    round(df.isna().mean().sort_values(ascending=False)*100,1)).style.background_gradient('coolwarm')"
   ]
  },
  {
   "cell_type": "code",
   "execution_count": 8,
   "metadata": {},
   "outputs": [
    {
     "data": {
      "text/plain": [
       "0"
      ]
     },
     "execution_count": 8,
     "metadata": {},
     "output_type": "execute_result"
    }
   ],
   "source": [
    "df.duplicated().sum() # проверка на явные дубликаты"
   ]
  },
  {
   "cell_type": "code",
   "execution_count": 9,
   "metadata": {},
   "outputs": [
    {
     "data": {
      "text/html": [
       "<style  type=\"text/css\" >\n",
       "#T_4336b_row0_col0,#T_4336b_row1_col1,#T_4336b_row2_col2,#T_4336b_row3_col3,#T_4336b_row4_col4,#T_4336b_row5_col5{\n",
       "            background-color:  #b40426;\n",
       "            color:  #f1f1f1;\n",
       "        }#T_4336b_row0_col1,#T_4336b_row0_col2,#T_4336b_row0_col3,#T_4336b_row0_col4,#T_4336b_row0_col5,#T_4336b_row3_col0{\n",
       "            background-color:  #3b4cc0;\n",
       "            color:  #f1f1f1;\n",
       "        }#T_4336b_row1_col0{\n",
       "            background-color:  #4e68d8;\n",
       "            color:  #000000;\n",
       "        }#T_4336b_row1_col2{\n",
       "            background-color:  #f39475;\n",
       "            color:  #000000;\n",
       "        }#T_4336b_row1_col3{\n",
       "            background-color:  #e4d9d2;\n",
       "            color:  #000000;\n",
       "        }#T_4336b_row1_col4{\n",
       "            background-color:  #f4c5ad;\n",
       "            color:  #000000;\n",
       "        }#T_4336b_row1_col5{\n",
       "            background-color:  #86a9fc;\n",
       "            color:  #000000;\n",
       "        }#T_4336b_row2_col0{\n",
       "            background-color:  #688aef;\n",
       "            color:  #000000;\n",
       "        }#T_4336b_row2_col1{\n",
       "            background-color:  #f08a6c;\n",
       "            color:  #000000;\n",
       "        }#T_4336b_row2_col3{\n",
       "            background-color:  #e1dad6;\n",
       "            color:  #000000;\n",
       "        }#T_4336b_row2_col4{\n",
       "            background-color:  #f7a889;\n",
       "            color:  #000000;\n",
       "        }#T_4336b_row2_col5{\n",
       "            background-color:  #80a3fa;\n",
       "            color:  #000000;\n",
       "        }#T_4336b_row3_col1{\n",
       "            background-color:  #dcdddd;\n",
       "            color:  #000000;\n",
       "        }#T_4336b_row3_col2{\n",
       "            background-color:  #cad8ef;\n",
       "            color:  #000000;\n",
       "        }#T_4336b_row3_col4{\n",
       "            background-color:  #92b4fe;\n",
       "            color:  #000000;\n",
       "        }#T_4336b_row3_col5{\n",
       "            background-color:  #6788ee;\n",
       "            color:  #000000;\n",
       "        }#T_4336b_row4_col0{\n",
       "            background-color:  #7396f5;\n",
       "            color:  #000000;\n",
       "        }#T_4336b_row4_col1{\n",
       "            background-color:  #f7b79b;\n",
       "            color:  #000000;\n",
       "        }#T_4336b_row4_col2{\n",
       "            background-color:  #f6a586;\n",
       "            color:  #000000;\n",
       "        }#T_4336b_row4_col3{\n",
       "            background-color:  #bed2f6;\n",
       "            color:  #000000;\n",
       "        }#T_4336b_row4_col5{\n",
       "            background-color:  #779af7;\n",
       "            color:  #000000;\n",
       "        }#T_4336b_row5_col0{\n",
       "            background-color:  #6b8df0;\n",
       "            color:  #000000;\n",
       "        }#T_4336b_row5_col1{\n",
       "            background-color:  #a1c0ff;\n",
       "            color:  #000000;\n",
       "        }#T_4336b_row5_col2{\n",
       "            background-color:  #81a4fb;\n",
       "            color:  #000000;\n",
       "        }#T_4336b_row5_col3{\n",
       "            background-color:  #96b7ff;\n",
       "            color:  #000000;\n",
       "        }#T_4336b_row5_col4{\n",
       "            background-color:  #6f92f3;\n",
       "            color:  #000000;\n",
       "        }</style><table id=\"T_4336b_\" ><thead>    <tr>        <th class=\"blank level0\" ></th>        <th class=\"col_heading level0 col0\" >Year_of_Release</th>        <th class=\"col_heading level0 col1\" >NA_sales</th>        <th class=\"col_heading level0 col2\" >EU_sales</th>        <th class=\"col_heading level0 col3\" >JP_sales</th>        <th class=\"col_heading level0 col4\" >Other_sales</th>        <th class=\"col_heading level0 col5\" >Critic_Score</th>    </tr></thead><tbody>\n",
       "                <tr>\n",
       "                        <th id=\"T_4336b_level0_row0\" class=\"row_heading level0 row0\" >Year_of_Release</th>\n",
       "                        <td id=\"T_4336b_row0_col0\" class=\"data row0 col0\" >1.000000</td>\n",
       "                        <td id=\"T_4336b_row0_col1\" class=\"data row0 col1\" >-0.092500</td>\n",
       "                        <td id=\"T_4336b_row0_col2\" class=\"data row0 col2\" >0.003978</td>\n",
       "                        <td id=\"T_4336b_row0_col3\" class=\"data row0 col3\" >-0.168366</td>\n",
       "                        <td id=\"T_4336b_row0_col4\" class=\"data row0 col4\" >0.037820</td>\n",
       "                        <td id=\"T_4336b_row0_col5\" class=\"data row0 col5\" >0.011411</td>\n",
       "            </tr>\n",
       "            <tr>\n",
       "                        <th id=\"T_4336b_level0_row1\" class=\"row_heading level0 row1\" >NA_sales</th>\n",
       "                        <td id=\"T_4336b_row1_col0\" class=\"data row1 col0\" >-0.092500</td>\n",
       "                        <td id=\"T_4336b_row1_col1\" class=\"data row1 col1\" >1.000000</td>\n",
       "                        <td id=\"T_4336b_row1_col2\" class=\"data row1 col2\" >0.765335</td>\n",
       "                        <td id=\"T_4336b_row1_col3\" class=\"data row1 col3\" >0.449594</td>\n",
       "                        <td id=\"T_4336b_row1_col4\" class=\"data row1 col4\" >0.638649</td>\n",
       "                        <td id=\"T_4336b_row1_col5\" class=\"data row1 col5\" >0.240755</td>\n",
       "            </tr>\n",
       "            <tr>\n",
       "                        <th id=\"T_4336b_level0_row2\" class=\"row_heading level0 row2\" >EU_sales</th>\n",
       "                        <td id=\"T_4336b_row2_col0\" class=\"data row2 col0\" >0.003978</td>\n",
       "                        <td id=\"T_4336b_row2_col1\" class=\"data row2 col1\" >0.765335</td>\n",
       "                        <td id=\"T_4336b_row2_col2\" class=\"data row2 col2\" >1.000000</td>\n",
       "                        <td id=\"T_4336b_row2_col3\" class=\"data row2 col3\" >0.435061</td>\n",
       "                        <td id=\"T_4336b_row2_col4\" class=\"data row2 col4\" >0.722792</td>\n",
       "                        <td id=\"T_4336b_row2_col5\" class=\"data row2 col5\" >0.220752</td>\n",
       "            </tr>\n",
       "            <tr>\n",
       "                        <th id=\"T_4336b_level0_row3\" class=\"row_heading level0 row3\" >JP_sales</th>\n",
       "                        <td id=\"T_4336b_row3_col0\" class=\"data row3 col0\" >-0.168366</td>\n",
       "                        <td id=\"T_4336b_row3_col1\" class=\"data row3 col1\" >0.449594</td>\n",
       "                        <td id=\"T_4336b_row3_col2\" class=\"data row3 col2\" >0.435061</td>\n",
       "                        <td id=\"T_4336b_row3_col3\" class=\"data row3 col3\" >1.000000</td>\n",
       "                        <td id=\"T_4336b_row3_col4\" class=\"data row3 col4\" >0.291089</td>\n",
       "                        <td id=\"T_4336b_row3_col5\" class=\"data row3 col5\" >0.152593</td>\n",
       "            </tr>\n",
       "            <tr>\n",
       "                        <th id=\"T_4336b_level0_row4\" class=\"row_heading level0 row4\" >Other_sales</th>\n",
       "                        <td id=\"T_4336b_row4_col0\" class=\"data row4 col0\" >0.037820</td>\n",
       "                        <td id=\"T_4336b_row4_col1\" class=\"data row4 col1\" >0.638649</td>\n",
       "                        <td id=\"T_4336b_row4_col2\" class=\"data row4 col2\" >0.722792</td>\n",
       "                        <td id=\"T_4336b_row4_col3\" class=\"data row4 col3\" >0.291089</td>\n",
       "                        <td id=\"T_4336b_row4_col4\" class=\"data row4 col4\" >1.000000</td>\n",
       "                        <td id=\"T_4336b_row4_col5\" class=\"data row4 col5\" >0.198554</td>\n",
       "            </tr>\n",
       "            <tr>\n",
       "                        <th id=\"T_4336b_level0_row5\" class=\"row_heading level0 row5\" >Critic_Score</th>\n",
       "                        <td id=\"T_4336b_row5_col0\" class=\"data row5 col0\" >0.011411</td>\n",
       "                        <td id=\"T_4336b_row5_col1\" class=\"data row5 col1\" >0.240755</td>\n",
       "                        <td id=\"T_4336b_row5_col2\" class=\"data row5 col2\" >0.220752</td>\n",
       "                        <td id=\"T_4336b_row5_col3\" class=\"data row5 col3\" >0.152593</td>\n",
       "                        <td id=\"T_4336b_row5_col4\" class=\"data row5 col4\" >0.198554</td>\n",
       "                        <td id=\"T_4336b_row5_col5\" class=\"data row5 col5\" >1.000000</td>\n",
       "            </tr>\n",
       "    </tbody></table>"
      ],
      "text/plain": [
       "<pandas.io.formats.style.Styler at 0x7f27ecc65e50>"
      ]
     },
     "execution_count": 9,
     "metadata": {},
     "output_type": "execute_result"
    }
   ],
   "source": [
    "corr_df = df.corr() # формируем матрицу корреляции\n",
    "corr_df.style.background_gradient(cmap='coolwarm') # применяем расцветку ячеек"
   ]
  },
  {
   "cell_type": "markdown",
   "metadata": {},
   "source": [
    "**Обнаружены пропуски в датасете, количество в некоторых столбце достигало 88%. Количество столбцов с пропусками 6 (всего в датасете 11 столбца). Явных дубликатов нет.\n",
    "Необходимо скорректировать user_score(оценки пользователей)  - некорректный тип, должен быть с плавающей точкой. Так же разно регистровое наименование столбцов.**"
   ]
  },
  {
   "cell_type": "markdown",
   "metadata": {},
   "source": [
    "### Подготовка данных"
   ]
  },
  {
   "cell_type": "code",
   "execution_count": 10,
   "metadata": {},
   "outputs": [
    {
     "data": {
      "text/plain": [
       "Index(['name', 'platform', 'year_of_release', 'genre', 'na_sales', 'eu_sales',\n",
       "       'jp_sales', 'other_sales', 'critic_score', 'user_score', 'rating'],\n",
       "      dtype='object')"
      ]
     },
     "execution_count": 10,
     "metadata": {},
     "output_type": "execute_result"
    }
   ],
   "source": [
    "# приведение наименования столбцов к нижнему регистру\n",
    "df.columns = df.columns.str.lower()\n",
    "# проверяем внесенные изменения\n",
    "df.columns"
   ]
  },
  {
   "cell_type": "markdown",
   "metadata": {},
   "source": [
    "#### Распределения, типы данных, пропуски."
   ]
  },
  {
   "cell_type": "code",
   "execution_count": 11,
   "metadata": {},
   "outputs": [
    {
     "data": {
      "text/plain": [
       "array([2006., 1985., 2008., 2009., 1996., 1989., 1984., 2005., 1999.,\n",
       "       2007., 2010., 2013., 2004., 1990., 1988., 2002., 2001., 2011.,\n",
       "       1998., 2015., 2012., 2014., 1992., 1997., 1993., 1994., 1982.,\n",
       "       2016., 2003., 1986., 2000.,   nan, 1995., 1991., 1981., 1987.,\n",
       "       1980., 1983.])"
      ]
     },
     "metadata": {},
     "output_type": "display_data"
    },
    {
     "data": {
      "text/plain": [
       "38"
      ]
     },
     "metadata": {},
     "output_type": "display_data"
    }
   ],
   "source": [
    "# смотрим уникальные значения года выпуска\n",
    "display(df.year_of_release.unique())\n",
    "display(len(df['year_of_release'].unique()))  # кол-во уникальных значений"
   ]
  },
  {
   "cell_type": "code",
   "execution_count": 12,
   "metadata": {},
   "outputs": [
    {
     "data": {
      "text/plain": [
       "year_of_release    269\n",
       "critic_score       115\n",
       "user_score          94\n",
       "rating              88\n",
       "name                 0\n",
       "platform             0\n",
       "genre                0\n",
       "na_sales             0\n",
       "eu_sales             0\n",
       "jp_sales             0\n",
       "other_sales          0\n",
       "dtype: int64"
      ]
     },
     "execution_count": 12,
     "metadata": {},
     "output_type": "execute_result"
    }
   ],
   "source": [
    "# смотрим другие пропуски в столбцах, где отсуствует год релиза.\n",
    "df_year_of_release_isna = df.loc[df['year_of_release'].isna()]\n",
    "df_year_of_release_isna.isna().sum().sort_values(ascending=False)"
   ]
  },
  {
   "cell_type": "markdown",
   "metadata": {},
   "source": [
    "Удаляем пустые строки с годом релиза игры т.к. их доля в тадасете всего 1,6% и данный параметр один из самых важных при исследовании. Так же в этих строках имеются пропуски рейтинга, оценок критиков и пользователей. Таким образом мы оптимизировали датаесет сразу по нескольким параметрам."
   ]
  },
  {
   "cell_type": "code",
   "execution_count": 13,
   "metadata": {},
   "outputs": [
    {
     "data": {
      "text/plain": [
       "0"
      ]
     },
     "execution_count": 13,
     "metadata": {},
     "output_type": "execute_result"
    }
   ],
   "source": [
    "df = df.dropna(subset=['year_of_release']).reset_index(drop=True) #удаление пропусков и сброс индекса\n",
    "df['year_of_release'].isna().sum() #проверка"
   ]
  },
  {
   "cell_type": "code",
   "execution_count": 14,
   "metadata": {},
   "outputs": [],
   "source": [
    "df['year_of_release'] = np.ceil(df['year_of_release']).astype(int) # меняем тип на int"
   ]
  },
  {
   "cell_type": "code",
   "execution_count": 15,
   "metadata": {},
   "outputs": [
    {
     "data": {
      "text/plain": [
       "E       3921\n",
       "T       2905\n",
       "M       1536\n",
       "E10+    1393\n",
       "EC         8\n",
       "K-A        3\n",
       "RP         1\n",
       "AO         1\n",
       "Name: rating, dtype: int64"
      ]
     },
     "execution_count": 15,
     "metadata": {},
     "output_type": "execute_result"
    }
   ],
   "source": [
    "# смотрим значения рейтинга и их кол-во\n",
    "df['rating'].value_counts()"
   ]
  },
  {
   "cell_type": "markdown",
   "metadata": {},
   "source": [
    "Процент пропусков рейтинга в данных 40%. Такую большую долю пропусков целесообразно заполнить \"заглушкой\" и обращать внимание на нее при категоризации в дальнейшем."
   ]
  },
  {
   "cell_type": "code",
   "execution_count": 16,
   "metadata": {},
   "outputs": [
    {
     "data": {
      "text/plain": [
       "rating             6678\n",
       "critic_score       6597\n",
       "user_score         6545\n",
       "name                  2\n",
       "genre                 2\n",
       "platform              0\n",
       "year_of_release       0\n",
       "na_sales              0\n",
       "eu_sales              0\n",
       "jp_sales              0\n",
       "other_sales           0\n",
       "dtype: int64"
      ]
     },
     "execution_count": 16,
     "metadata": {},
     "output_type": "execute_result"
    }
   ],
   "source": [
    "df_rating_isna = df.loc[df['rating'].isna()] # переменная датафрейма с пустыми рейтингами\n",
    "df_rating_isna.isna().sum().sort_values(ascending=False)"
   ]
  },
  {
   "cell_type": "markdown",
   "metadata": {},
   "source": [
    "Видим, что пустые строки в рейтинге совпадаю с пустыми строками с оценками пользователей и критиков."
   ]
  },
  {
   "cell_type": "code",
   "execution_count": 17,
   "metadata": {},
   "outputs": [],
   "source": [
    "# загрушка\n",
    "df.loc[df['rating'].isna(), 'rating'] = 'unknown'"
   ]
  },
  {
   "cell_type": "code",
   "execution_count": 18,
   "metadata": {},
   "outputs": [
    {
     "data": {
      "text/plain": [
       "0"
      ]
     },
     "execution_count": 18,
     "metadata": {},
     "output_type": "execute_result"
    }
   ],
   "source": [
    "df['rating'].isna().sum() #проверка"
   ]
  },
  {
   "cell_type": "code",
   "execution_count": 19,
   "metadata": {},
   "outputs": [
    {
     "data": {
      "text/plain": [
       "array(['8', nan, '8.3', '8.5', '6.6', '8.4', '8.6', '7.7', '6.3', '7.4',\n",
       "       '8.2', '9', '7.9', '8.1', '8.7', '7.1', '3.4', '5.3', '4.8', '3.2',\n",
       "       '8.9', '6.4', '7.8', '7.5', '2.6', '7.2', '9.2', '7', '7.3', '4.3',\n",
       "       '7.6', '5.7', '5', '9.1', '6.5', 'tbd', '8.8', '6.9', '9.4', '6.8',\n",
       "       '6.1', '6.7', '5.4', '4', '4.9', '4.5', '9.3', '6.2', '4.2', '6',\n",
       "       '3.7', '4.1', '5.8', '5.6', '5.5', '4.4', '4.6', '5.9', '3.9',\n",
       "       '3.1', '2.9', '5.2', '3.3', '4.7', '5.1', '3.5', '2.5', '1.9', '3',\n",
       "       '2.7', '2.2', '2', '9.5', '2.1', '3.6', '2.8', '1.8', '3.8', '0',\n",
       "       '1.6', '9.6', '2.4', '1.7', '1.1', '0.3', '1.5', '0.7', '1.2',\n",
       "       '2.3', '0.5', '1.3', '0.2', '0.6', '1.4', '0.9', '1', '9.7'],\n",
       "      dtype=object)"
      ]
     },
     "metadata": {},
     "output_type": "display_data"
    },
    {
     "data": {
      "text/plain": [
       "97"
      ]
     },
     "metadata": {},
     "output_type": "display_data"
    },
    {
     "data": {
      "text/plain": [
       "tbd    2376\n",
       "7.8     322\n",
       "8       285\n",
       "8.2     276\n",
       "8.3     252\n",
       "Name: user_score, dtype: int64"
      ]
     },
     "execution_count": 19,
     "metadata": {},
     "output_type": "execute_result"
    }
   ],
   "source": [
    "display(df['user_score'].unique())\n",
    "display(len(df['user_score'].unique()))  # кол-во уникальных значений оценок пользователей\n",
    "df['user_score'].value_counts().head() # самые популярные значения оценок пользователей"
   ]
  },
  {
   "cell_type": "markdown",
   "metadata": {},
   "source": [
    "Аббревиатура 'tbd' в столбце с оценкой встречается чаще всего. Очевидно это не означает отсутствие рейтинга т.к. имеются игры с оценкой 0. Из открытых источников определили, что 'tbd'- To Be Determined, то есть \"Будет определено\" и скорее всего относится к играм с недавним релизом. Проверим эту гипотезу."
   ]
  },
  {
   "cell_type": "code",
   "execution_count": 20,
   "metadata": {},
   "outputs": [
    {
     "data": {
      "text/plain": [
       "'Количетво годов в которых есть tbd - '"
      ]
     },
     "metadata": {},
     "output_type": "display_data"
    },
    {
     "data": {
      "text/plain": [
       "19"
      ]
     },
     "metadata": {},
     "output_type": "display_data"
    },
    {
     "data": {
      "image/png": "[encoded data removed]",
      "text/plain": [
       "<Figure size 720x360 with 1 Axes>"
      ]
     },
     "metadata": {
      "needs_background": "light"
     },
     "output_type": "display_data"
    }
   ],
   "source": [
    "display(\n",
    "      'Количетво годов в которых есть tbd - ',\n",
    "      len(df[df['user_score'] == 'tbd']['year_of_release'].unique())\n",
    "     )\n",
    "(df[df['user_score'] == 'tbd']['year_of_release']\n",
    " .value_counts().sort_index(ascending=True)\n",
    " .plot(kind='bar', figsize = (10,5))\n",
    ");"
   ]
  },
  {
   "cell_type": "markdown",
   "metadata": {},
   "source": [
    "'tbd' распределен на последние 20 лет исследуемых данных. Отсутствующий рейтинг игры пользователем не можем объяснить датой релиза. Вместе с тем, пропусков рейтинга слишком много, чтобы мы могли их удалить или восстановить каким-либо логическим способом.\n",
    "Правильным решением будет оставить пропуски заменить 'tbd' на nan."
   ]
  },
  {
   "cell_type": "code",
   "execution_count": 21,
   "metadata": {},
   "outputs": [],
   "source": [
    "df['user_score'] = df['user_score'].replace('tbd', np.nan) # 'tbd' в nan"
   ]
  },
  {
   "cell_type": "code",
   "execution_count": 22,
   "metadata": {},
   "outputs": [],
   "source": [
    "df['user_score'] = pd.to_numeric(df['user_score'], errors='coerce') # меняем тип столбца на числовой"
   ]
  },
  {
   "cell_type": "code",
   "execution_count": 23,
   "metadata": {},
   "outputs": [
    {
     "data": {
      "text/plain": [
       "7.8    322\n",
       "8.0    285\n",
       "8.2    276\n",
       "8.3    252\n",
       "7.5    249\n",
       "Name: user_score, dtype: int64"
      ]
     },
     "execution_count": 23,
     "metadata": {},
     "output_type": "execute_result"
    }
   ],
   "source": [
    "df['user_score'].value_counts().head() # проверяем тип и наличие 'tbd'"
   ]
  },
  {
   "cell_type": "code",
   "execution_count": 24,
   "metadata": {},
   "outputs": [
    {
     "data": {
      "text/plain": [
       "array([76., nan, 82., 80., 89., 58., 87., 91., 61., 97., 95., 77., 88.,\n",
       "       83., 94., 93., 85., 86., 98., 96., 90., 84., 73., 74., 78., 92.,\n",
       "       71., 72., 68., 62., 49., 67., 81., 66., 56., 79., 70., 59., 64.,\n",
       "       75., 60., 63., 69., 50., 25., 42., 44., 55., 48., 57., 29., 47.,\n",
       "       65., 54., 20., 53., 37., 38., 33., 52., 30., 32., 43., 45., 51.,\n",
       "       40., 46., 39., 34., 41., 36., 31., 27., 35., 26., 19., 28., 23.,\n",
       "       24., 21., 17., 13.])"
      ]
     },
     "metadata": {},
     "output_type": "display_data"
    },
    {
     "data": {
      "text/plain": [
       "82"
      ]
     },
     "metadata": {},
     "output_type": "display_data"
    },
    {
     "data": {
      "text/plain": [
       "70.0    252\n",
       "71.0    248\n",
       "75.0    240\n",
       "80.0    235\n",
       "73.0    234\n",
       "Name: critic_score, dtype: int64"
      ]
     },
     "execution_count": 24,
     "metadata": {},
     "output_type": "execute_result"
    }
   ],
   "source": [
    "display(df['critic_score'].unique()) # смотрим значения столбца оценок критиков\n",
    "display(len(df['critic_score'].unique()))  # кол-во уникальных значений оценок критиков\n",
    "df['critic_score'].value_counts().head()# самые популярные значения оценок критиков"
   ]
  },
  {
   "cell_type": "markdown",
   "metadata": {},
   "source": [
    "Оставляем тип данных без изменений, он целочисленный. Пропуски достигают 51%, заполнять их медианой или средним считаю не верным т.к. их доля в данных слишком большая и это приведет к аномальным значениям на графиках и искажениям исследования."
   ]
  },
  {
   "cell_type": "markdown",
   "metadata": {},
   "source": [
    "Пропусков в столбцах название игры и жанр всего 2. Оставляем их, на исследование не повлияют."
   ]
  },
  {
   "cell_type": "code",
   "execution_count": 25,
   "metadata": {},
   "outputs": [],
   "source": [
    "# посчитайтем суммарные продажи во всех регионах\n",
    "df['sales'] = df[['na_sales','eu_sales','jp_sales', 'other_sales']].sum(axis = 1)"
   ]
  },
  {
   "cell_type": "code",
   "execution_count": 26,
   "metadata": {},
   "outputs": [
    {
     "data": {
      "text/plain": [
       "array(['Wii', 'NES', 'GB', 'DS', 'X360', 'PS3', 'PS2', 'SNES', 'GBA',\n",
       "       'PS4', '3DS', 'N64', 'PS', 'XB', 'PC', '2600', 'PSP', 'XOne',\n",
       "       'WiiU', 'GC', 'GEN', 'DC', 'PSV', 'SAT', 'SCD', 'WS', 'NG', 'TG16',\n",
       "       '3DO', 'GG', 'PCFX'], dtype=object)"
      ]
     },
     "metadata": {},
     "output_type": "display_data"
    },
    {
     "data": {
      "text/plain": [
       "31"
      ]
     },
     "metadata": {},
     "output_type": "display_data"
    },
    {
     "data": {
      "text/plain": [
       "PS2     2127\n",
       "DS      2121\n",
       "PS3     1306\n",
       "Wii     1286\n",
       "X360    1232\n",
       "Name: platform, dtype: int64"
      ]
     },
     "execution_count": 26,
     "metadata": {},
     "output_type": "execute_result"
    }
   ],
   "source": [
    "display(df['platform'].unique()) # смотрим значения столбца платформ\n",
    "display(len(df['platform'].unique()))  # кол-во уникальных значений платформ\n",
    "df['platform'].value_counts().head() # самые популярные платформы "
   ]
  },
  {
   "cell_type": "code",
   "execution_count": 27,
   "metadata": {},
   "outputs": [
    {
     "data": {
      "text/plain": [
       "user_score         8983\n",
       "critic_score       8463\n",
       "name                  2\n",
       "genre                 2\n",
       "platform              0\n",
       "year_of_release       0\n",
       "na_sales              0\n",
       "eu_sales              0\n",
       "jp_sales              0\n",
       "other_sales           0\n",
       "rating                0\n",
       "sales                 0\n",
       "dtype: int64"
      ]
     },
     "execution_count": 27,
     "metadata": {},
     "output_type": "execute_result"
    }
   ],
   "source": [
    "df.isna().sum().sort_values(ascending=False)  # кол-во пропусков по столбцам"
   ]
  },
  {
   "cell_type": "markdown",
   "metadata": {},
   "source": [
    "**После предобработки данных процент пропусков больше половины имеется в столбцах оценок пользователей и критиков. В Японии достаточно специфичный игровой рынок и другая рейтинговая система. То есть отсутствие рейтинга и оценок игр может быть связано с отсутствием релиза игры в Японии, уникальными платформенными играми и малыми копиями продаж.\n",
    "Так же новые игры, которые не успели оценить пользователи или критики.\n",
    "По таблице ниже видим разбросы продаж по регионам с разными платформами, бросается в глаза разница в количестве копий. Заполнять их медианой или средним считаем не верным т.к. это приведет к аномальным значениям на графиках и искажениям исследования.**"
   ]
  },
  {
   "cell_type": "code",
   "execution_count": 28,
   "metadata": {},
   "outputs": [
    {
     "data": {
      "text/html": [
       "<div>\n",
       "<style scoped>\n",
       "    .dataframe tbody tr th:only-of-type {\n",
       "        vertical-align: middle;\n",
       "    }\n",
       "\n",
       "    .dataframe tbody tr th {\n",
       "        vertical-align: top;\n",
       "    }\n",
       "\n",
       "    .dataframe thead tr th {\n",
       "        text-align: left;\n",
       "    }\n",
       "</style>\n",
       "<table border=\"1\" class=\"dataframe\">\n",
       "  <thead>\n",
       "    <tr>\n",
       "      <th></th>\n",
       "      <th>platform</th>\n",
       "      <th colspan=\"4\" halign=\"left\">sum</th>\n",
       "    </tr>\n",
       "    <tr>\n",
       "      <th></th>\n",
       "      <th></th>\n",
       "      <th>eu_sales</th>\n",
       "      <th>jp_sales</th>\n",
       "      <th>na_sales</th>\n",
       "      <th>other_sales</th>\n",
       "    </tr>\n",
       "  </thead>\n",
       "  <tbody>\n",
       "    <tr>\n",
       "      <th>0</th>\n",
       "      <td>2600</td>\n",
       "      <td>4.86</td>\n",
       "      <td>0.00</td>\n",
       "      <td>80.78</td>\n",
       "      <td>0.84</td>\n",
       "    </tr>\n",
       "    <tr>\n",
       "      <th>1</th>\n",
       "      <td>3DO</td>\n",
       "      <td>0.00</td>\n",
       "      <td>0.10</td>\n",
       "      <td>0.00</td>\n",
       "      <td>0.00</td>\n",
       "    </tr>\n",
       "    <tr>\n",
       "      <th>2</th>\n",
       "      <td>3DS</td>\n",
       "      <td>25.02</td>\n",
       "      <td>65.68</td>\n",
       "      <td>30.07</td>\n",
       "      <td>5.06</td>\n",
       "    </tr>\n",
       "    <tr>\n",
       "      <th>3</th>\n",
       "      <td>DC</td>\n",
       "      <td>1.40</td>\n",
       "      <td>5.90</td>\n",
       "      <td>3.89</td>\n",
       "      <td>0.21</td>\n",
       "    </tr>\n",
       "    <tr>\n",
       "      <th>4</th>\n",
       "      <td>DS</td>\n",
       "      <td>53.21</td>\n",
       "      <td>87.75</td>\n",
       "      <td>88.33</td>\n",
       "      <td>14.59</td>\n",
       "    </tr>\n",
       "    <tr>\n",
       "      <th>5</th>\n",
       "      <td>GB</td>\n",
       "      <td>47.51</td>\n",
       "      <td>85.12</td>\n",
       "      <td>113.64</td>\n",
       "      <td>8.16</td>\n",
       "    </tr>\n",
       "    <tr>\n",
       "      <th>6</th>\n",
       "      <td>GBA</td>\n",
       "      <td>26.20</td>\n",
       "      <td>29.45</td>\n",
       "      <td>65.88</td>\n",
       "      <td>2.92</td>\n",
       "    </tr>\n",
       "    <tr>\n",
       "      <th>7</th>\n",
       "      <td>GC</td>\n",
       "      <td>5.03</td>\n",
       "      <td>5.22</td>\n",
       "      <td>14.60</td>\n",
       "      <td>0.64</td>\n",
       "    </tr>\n",
       "    <tr>\n",
       "      <th>8</th>\n",
       "      <td>GEN</td>\n",
       "      <td>6.05</td>\n",
       "      <td>2.70</td>\n",
       "      <td>21.05</td>\n",
       "      <td>0.97</td>\n",
       "    </tr>\n",
       "    <tr>\n",
       "      <th>9</th>\n",
       "      <td>GG</td>\n",
       "      <td>0.00</td>\n",
       "      <td>0.04</td>\n",
       "      <td>0.00</td>\n",
       "      <td>0.00</td>\n",
       "    </tr>\n",
       "    <tr>\n",
       "      <th>10</th>\n",
       "      <td>N64</td>\n",
       "      <td>41.03</td>\n",
       "      <td>33.76</td>\n",
       "      <td>138.91</td>\n",
       "      <td>4.31</td>\n",
       "    </tr>\n",
       "    <tr>\n",
       "      <th>11</th>\n",
       "      <td>NES</td>\n",
       "      <td>21.15</td>\n",
       "      <td>98.65</td>\n",
       "      <td>125.94</td>\n",
       "      <td>5.31</td>\n",
       "    </tr>\n",
       "    <tr>\n",
       "      <th>12</th>\n",
       "      <td>NG</td>\n",
       "      <td>0.00</td>\n",
       "      <td>1.44</td>\n",
       "      <td>0.00</td>\n",
       "      <td>0.00</td>\n",
       "    </tr>\n",
       "    <tr>\n",
       "      <th>13</th>\n",
       "      <td>PC</td>\n",
       "      <td>29.37</td>\n",
       "      <td>0.00</td>\n",
       "      <td>19.71</td>\n",
       "      <td>3.20</td>\n",
       "    </tr>\n",
       "    <tr>\n",
       "      <th>14</th>\n",
       "      <td>PCFX</td>\n",
       "      <td>0.00</td>\n",
       "      <td>0.03</td>\n",
       "      <td>0.00</td>\n",
       "      <td>0.00</td>\n",
       "    </tr>\n",
       "    <tr>\n",
       "      <th>15</th>\n",
       "      <td>PS</td>\n",
       "      <td>136.61</td>\n",
       "      <td>99.92</td>\n",
       "      <td>228.95</td>\n",
       "      <td>27.54</td>\n",
       "    </tr>\n",
       "    <tr>\n",
       "      <th>16</th>\n",
       "      <td>PS2</td>\n",
       "      <td>46.35</td>\n",
       "      <td>59.72</td>\n",
       "      <td>56.75</td>\n",
       "      <td>26.49</td>\n",
       "    </tr>\n",
       "    <tr>\n",
       "      <th>17</th>\n",
       "      <td>PS3</td>\n",
       "      <td>34.90</td>\n",
       "      <td>20.78</td>\n",
       "      <td>25.94</td>\n",
       "      <td>12.33</td>\n",
       "    </tr>\n",
       "    <tr>\n",
       "      <th>18</th>\n",
       "      <td>PS4</td>\n",
       "      <td>27.99</td>\n",
       "      <td>6.25</td>\n",
       "      <td>23.77</td>\n",
       "      <td>10.19</td>\n",
       "    </tr>\n",
       "    <tr>\n",
       "      <th>19</th>\n",
       "      <td>PSP</td>\n",
       "      <td>11.23</td>\n",
       "      <td>49.83</td>\n",
       "      <td>10.95</td>\n",
       "      <td>5.44</td>\n",
       "    </tr>\n",
       "    <tr>\n",
       "      <th>20</th>\n",
       "      <td>PSV</td>\n",
       "      <td>2.72</td>\n",
       "      <td>13.09</td>\n",
       "      <td>2.02</td>\n",
       "      <td>1.31</td>\n",
       "    </tr>\n",
       "    <tr>\n",
       "      <th>21</th>\n",
       "      <td>SAT</td>\n",
       "      <td>0.54</td>\n",
       "      <td>32.26</td>\n",
       "      <td>0.72</td>\n",
       "      <td>0.07</td>\n",
       "    </tr>\n",
       "    <tr>\n",
       "      <th>22</th>\n",
       "      <td>SCD</td>\n",
       "      <td>0.36</td>\n",
       "      <td>0.45</td>\n",
       "      <td>1.00</td>\n",
       "      <td>0.05</td>\n",
       "    </tr>\n",
       "    <tr>\n",
       "      <th>23</th>\n",
       "      <td>SNES</td>\n",
       "      <td>19.04</td>\n",
       "      <td>116.55</td>\n",
       "      <td>61.23</td>\n",
       "      <td>3.22</td>\n",
       "    </tr>\n",
       "    <tr>\n",
       "      <th>24</th>\n",
       "      <td>TG16</td>\n",
       "      <td>0.00</td>\n",
       "      <td>0.16</td>\n",
       "      <td>0.00</td>\n",
       "      <td>0.00</td>\n",
       "    </tr>\n",
       "    <tr>\n",
       "      <th>25</th>\n",
       "      <td>WS</td>\n",
       "      <td>0.00</td>\n",
       "      <td>1.42</td>\n",
       "      <td>0.00</td>\n",
       "      <td>0.00</td>\n",
       "    </tr>\n",
       "    <tr>\n",
       "      <th>26</th>\n",
       "      <td>Wii</td>\n",
       "      <td>29.20</td>\n",
       "      <td>15.36</td>\n",
       "      <td>44.17</td>\n",
       "      <td>7.52</td>\n",
       "    </tr>\n",
       "    <tr>\n",
       "      <th>27</th>\n",
       "      <td>WiiU</td>\n",
       "      <td>4.01</td>\n",
       "      <td>2.84</td>\n",
       "      <td>6.71</td>\n",
       "      <td>1.02</td>\n",
       "    </tr>\n",
       "    <tr>\n",
       "      <th>28</th>\n",
       "      <td>X360</td>\n",
       "      <td>22.15</td>\n",
       "      <td>2.07</td>\n",
       "      <td>31.21</td>\n",
       "      <td>5.42</td>\n",
       "    </tr>\n",
       "    <tr>\n",
       "      <th>29</th>\n",
       "      <td>XB</td>\n",
       "      <td>5.95</td>\n",
       "      <td>0.18</td>\n",
       "      <td>16.77</td>\n",
       "      <td>0.86</td>\n",
       "    </tr>\n",
       "    <tr>\n",
       "      <th>30</th>\n",
       "      <td>XOne</td>\n",
       "      <td>8.30</td>\n",
       "      <td>0.05</td>\n",
       "      <td>14.63</td>\n",
       "      <td>2.28</td>\n",
       "    </tr>\n",
       "  </tbody>\n",
       "</table>\n",
       "</div>"
      ],
      "text/plain": [
       "   platform      sum                              \n",
       "            eu_sales jp_sales na_sales other_sales\n",
       "0      2600     4.86     0.00    80.78        0.84\n",
       "1       3DO     0.00     0.10     0.00        0.00\n",
       "2       3DS    25.02    65.68    30.07        5.06\n",
       "3        DC     1.40     5.90     3.89        0.21\n",
       "4        DS    53.21    87.75    88.33       14.59\n",
       "5        GB    47.51    85.12   113.64        8.16\n",
       "6       GBA    26.20    29.45    65.88        2.92\n",
       "7        GC     5.03     5.22    14.60        0.64\n",
       "8       GEN     6.05     2.70    21.05        0.97\n",
       "9        GG     0.00     0.04     0.00        0.00\n",
       "10      N64    41.03    33.76   138.91        4.31\n",
       "11      NES    21.15    98.65   125.94        5.31\n",
       "12       NG     0.00     1.44     0.00        0.00\n",
       "13       PC    29.37     0.00    19.71        3.20\n",
       "14     PCFX     0.00     0.03     0.00        0.00\n",
       "15       PS   136.61    99.92   228.95       27.54\n",
       "16      PS2    46.35    59.72    56.75       26.49\n",
       "17      PS3    34.90    20.78    25.94       12.33\n",
       "18      PS4    27.99     6.25    23.77       10.19\n",
       "19      PSP    11.23    49.83    10.95        5.44\n",
       "20      PSV     2.72    13.09     2.02        1.31\n",
       "21      SAT     0.54    32.26     0.72        0.07\n",
       "22      SCD     0.36     0.45     1.00        0.05\n",
       "23     SNES    19.04   116.55    61.23        3.22\n",
       "24     TG16     0.00     0.16     0.00        0.00\n",
       "25       WS     0.00     1.42     0.00        0.00\n",
       "26      Wii    29.20    15.36    44.17        7.52\n",
       "27     WiiU     4.01     2.84     6.71        1.02\n",
       "28     X360    22.15     2.07    31.21        5.42\n",
       "29       XB     5.95     0.18    16.77        0.86\n",
       "30     XOne     8.30     0.05    14.63        2.28"
      ]
     },
     "metadata": {},
     "output_type": "display_data"
    }
   ],
   "source": [
    "# группировка по платформе с показателями\n",
    "# в одной таблице сумма продаж по регионам\n",
    "display(df_rating_isna.pivot_table(\n",
    "            index=['platform'],\\\n",
    "            values=['na_sales', 'eu_sales', 'jp_sales', 'other_sales'],\\\n",
    "            aggfunc=['sum']  #  aggfunc=['mean', 'std', 'median']\\\n",
    ").reset_index())"
   ]
  },
  {
   "cell_type": "markdown",
   "metadata": {},
   "source": [
    "### Проводим исследовательский анализ данных"
   ]
  },
  {
   "cell_type": "markdown",
   "metadata": {},
   "source": [
    "#### Cколько игр выпускалось в разные годы."
   ]
  },
  {
   "cell_type": "code",
   "execution_count": 29,
   "metadata": {},
   "outputs": [
    {
     "data": {
      "image/png": "[encoded data removed]",
      "text/plain": [
       "<Figure size 720x360 with 1 Axes>"
      ]
     },
     "metadata": {
      "needs_background": "light"
     },
     "output_type": "display_data"
    }
   ],
   "source": [
    "#  смотрим гистаграмму в диапозоне значений\n",
    "df['year_of_release'].plot(\n",
    "    y='year_of_release', \n",
    "    kind='hist', \n",
    "    bins=37, \n",
    "    range=(1980,2016),\n",
    "    figsize = (10,5),\n",
    "    grid=True);\n",
    "plt.title('Гистограмма года релиза игры')\n",
    "plt.xlabel('Год релиза')\n",
    "plt.ylabel('Количество')\n",
    "plt.show()"
   ]
  },
  {
   "cell_type": "markdown",
   "metadata": {},
   "source": [
    "Резкий рост объема выпущенных игр виден с 2002 года с пиком -2009 гг. Заметно снижение объема с 2012 года. Для целей исследования выделим года, по которым будет оптимально анализировать динамику продаж. Диапазон 2002-2016 г. Более ранний срок мало скажет о закономерностях успешности современных игр на популярных платформах в данный момент."
   ]
  },
  {
   "cell_type": "code",
   "execution_count": 30,
   "metadata": {},
   "outputs": [],
   "source": [
    "# оставим в датафрейме только нужные года\n",
    "df_year = df.query(\"2002 <= year_of_release <= 2016\").reset_index(drop=True)"
   ]
  },
  {
   "cell_type": "markdown",
   "metadata": {},
   "source": [
    "#### Как менялись продажи по платформам."
   ]
  },
  {
   "cell_type": "code",
   "execution_count": 31,
   "metadata": {},
   "outputs": [
    {
     "data": {
      "image/png": "[encoded data removed]",
      "text/plain": [
       "<Figure size 1080x504 with 1 Axes>"
      ]
     },
     "metadata": {
      "needs_background": "light"
     },
     "output_type": "display_data"
    }
   ],
   "source": [
    "# построим график распределения по годам платформ с долями проданных копий\n",
    "df_year.pivot_table(\n",
    "    index='year_of_release', columns = 'platform', values='sales', aggfunc='sum').plot(grid=True, figsize=(15, 7))\n",
    "plt.show()"
   ]
  },
  {
   "cell_type": "markdown",
   "metadata": {},
   "source": [
    "Отчетливо видны падения продаж на устаревающих платформах в период 2006-2008г. Так же спад продаж на консолях следующего поколения начиная с 2012 года. И рост продаж на платформах последнего поколения РS4 и XOne."
   ]
  },
  {
   "cell_type": "markdown",
   "metadata": {},
   "source": [
    "#### Рассмотрим какой срок жизни у платформы"
   ]
  },
  {
   "cell_type": "code",
   "execution_count": 32,
   "metadata": {},
   "outputs": [
    {
     "data": {
      "text/html": [
       "<div>\n",
       "<style scoped>\n",
       "    .dataframe tbody tr th:only-of-type {\n",
       "        vertical-align: middle;\n",
       "    }\n",
       "\n",
       "    .dataframe tbody tr th {\n",
       "        vertical-align: top;\n",
       "    }\n",
       "\n",
       "    .dataframe thead th {\n",
       "        text-align: right;\n",
       "    }\n",
       "</style>\n",
       "<table border=\"1\" class=\"dataframe\">\n",
       "  <thead>\n",
       "    <tr style=\"text-align: right;\">\n",
       "      <th></th>\n",
       "      <th>year_of_release</th>\n",
       "    </tr>\n",
       "    <tr>\n",
       "      <th>platform</th>\n",
       "      <th></th>\n",
       "    </tr>\n",
       "  </thead>\n",
       "  <tbody>\n",
       "    <tr>\n",
       "      <th>PC</th>\n",
       "      <td>26</td>\n",
       "    </tr>\n",
       "    <tr>\n",
       "      <th>GB</th>\n",
       "      <td>13</td>\n",
       "    </tr>\n",
       "    <tr>\n",
       "      <th>NES</th>\n",
       "      <td>12</td>\n",
       "    </tr>\n",
       "    <tr>\n",
       "      <th>X360</th>\n",
       "      <td>12</td>\n",
       "    </tr>\n",
       "    <tr>\n",
       "      <th>PSP</th>\n",
       "      <td>12</td>\n",
       "    </tr>\n",
       "    <tr>\n",
       "      <th>PS2</th>\n",
       "      <td>12</td>\n",
       "    </tr>\n",
       "    <tr>\n",
       "      <th>Wii</th>\n",
       "      <td>11</td>\n",
       "    </tr>\n",
       "    <tr>\n",
       "      <th>DS</th>\n",
       "      <td>11</td>\n",
       "    </tr>\n",
       "    <tr>\n",
       "      <th>PS3</th>\n",
       "      <td>11</td>\n",
       "    </tr>\n",
       "    <tr>\n",
       "      <th>2600</th>\n",
       "      <td>10</td>\n",
       "    </tr>\n",
       "    <tr>\n",
       "      <th>SNES</th>\n",
       "      <td>10</td>\n",
       "    </tr>\n",
       "    <tr>\n",
       "      <th>PS</th>\n",
       "      <td>10</td>\n",
       "    </tr>\n",
       "    <tr>\n",
       "      <th>XB</th>\n",
       "      <td>9</td>\n",
       "    </tr>\n",
       "    <tr>\n",
       "      <th>GBA</th>\n",
       "      <td>8</td>\n",
       "    </tr>\n",
       "    <tr>\n",
       "      <th>DC</th>\n",
       "      <td>7</td>\n",
       "    </tr>\n",
       "  </tbody>\n",
       "</table>\n",
       "</div>"
      ],
      "text/plain": [
       "          year_of_release\n",
       "platform                 \n",
       "PC                     26\n",
       "GB                     13\n",
       "NES                    12\n",
       "X360                   12\n",
       "PSP                    12\n",
       "PS2                    12\n",
       "Wii                    11\n",
       "DS                     11\n",
       "PS3                    11\n",
       "2600                   10\n",
       "SNES                   10\n",
       "PS                     10\n",
       "XB                      9\n",
       "GBA                     8\n",
       "DC                      7"
      ]
     },
     "execution_count": 32,
     "metadata": {},
     "output_type": "execute_result"
    }
   ],
   "source": [
    "# суммируем по количеству релизов в год каждой платформы\n",
    "term = (df.loc[:,['year_of_release', 'platform']]\n",
    "        .drop_duplicates() # убираем дубликаты \n",
    "         # кол-во лет релизов каждой платформы с 2002 года\n",
    "        .pivot_table(index=['platform'], values='year_of_release', aggfunc='count')\n",
    "       )\n",
    "term.sort_values(by='year_of_release', ascending=False).head(15)"
   ]
  },
  {
   "cell_type": "code",
   "execution_count": 33,
   "metadata": {},
   "outputs": [
    {
     "data": {
      "text/plain": [
       "count    31.000000\n",
       "mean      7.677419\n",
       "std       5.081910\n",
       "min       1.000000\n",
       "25%       4.000000\n",
       "50%       7.000000\n",
       "75%      11.000000\n",
       "max      26.000000\n",
       "Name: year_of_release, dtype: float64"
      ]
     },
     "execution_count": 33,
     "metadata": {},
     "output_type": "execute_result"
    }
   ],
   "source": [
    "term.year_of_release.describe() # общие показатели группы"
   ]
  },
  {
   "cell_type": "markdown",
   "metadata": {},
   "source": [
    "Средний возраст платформы утвердим 7 лет. "
   ]
  },
  {
   "cell_type": "code",
   "execution_count": 34,
   "metadata": {},
   "outputs": [],
   "source": [
    "# оставим в датафрейме только последние года с современными платформами\n",
    "df = df.query(\"2013 <= year_of_release <= 2016\").reset_index(drop=True)"
   ]
  },
  {
   "cell_type": "code",
   "execution_count": 36,
   "metadata": {},
   "outputs": [
    {
     "data": {
      "text/html": [
       "<div>\n",
       "<style scoped>\n",
       "    .dataframe tbody tr th:only-of-type {\n",
       "        vertical-align: middle;\n",
       "    }\n",
       "\n",
       "    .dataframe tbody tr th {\n",
       "        vertical-align: top;\n",
       "    }\n",
       "\n",
       "    .dataframe thead th {\n",
       "        text-align: right;\n",
       "    }\n",
       "</style>\n",
       "<table border=\"1\" class=\"dataframe\">\n",
       "  <thead>\n",
       "    <tr style=\"text-align: right;\">\n",
       "      <th></th>\n",
       "      <th>sales</th>\n",
       "    </tr>\n",
       "    <tr>\n",
       "      <th>platform</th>\n",
       "      <th></th>\n",
       "    </tr>\n",
       "  </thead>\n",
       "  <tbody>\n",
       "    <tr>\n",
       "      <th>PS4</th>\n",
       "      <td>314.14</td>\n",
       "    </tr>\n",
       "    <tr>\n",
       "      <th>PS3</th>\n",
       "      <td>181.43</td>\n",
       "    </tr>\n",
       "    <tr>\n",
       "      <th>XOne</th>\n",
       "      <td>159.32</td>\n",
       "    </tr>\n",
       "    <tr>\n",
       "      <th>3DS</th>\n",
       "      <td>143.25</td>\n",
       "    </tr>\n",
       "    <tr>\n",
       "      <th>X360</th>\n",
       "      <td>136.80</td>\n",
       "    </tr>\n",
       "    <tr>\n",
       "      <th>WiiU</th>\n",
       "      <td>64.63</td>\n",
       "    </tr>\n",
       "    <tr>\n",
       "      <th>PC</th>\n",
       "      <td>39.43</td>\n",
       "    </tr>\n",
       "    <tr>\n",
       "      <th>PSV</th>\n",
       "      <td>32.99</td>\n",
       "    </tr>\n",
       "    <tr>\n",
       "      <th>Wii</th>\n",
       "      <td>13.66</td>\n",
       "    </tr>\n",
       "    <tr>\n",
       "      <th>PSP</th>\n",
       "      <td>3.50</td>\n",
       "    </tr>\n",
       "    <tr>\n",
       "      <th>DS</th>\n",
       "      <td>1.54</td>\n",
       "    </tr>\n",
       "  </tbody>\n",
       "</table>\n",
       "</div>"
      ],
      "text/plain": [
       "           sales\n",
       "platform        \n",
       "PS4       314.14\n",
       "PS3       181.43\n",
       "XOne      159.32\n",
       "3DS       143.25\n",
       "X360      136.80\n",
       "WiiU       64.63\n",
       "PC         39.43\n",
       "PSV        32.99\n",
       "Wii        13.66\n",
       "PSP         3.50\n",
       "DS          1.54"
      ]
     },
     "metadata": {},
     "output_type": "display_data"
    }
   ],
   "source": [
    "display(df.pivot_table(index=['platform'], values='sales', aggfunc='sum').sort_values(by='sales', ascending=False))"
   ]
  },
  {
   "cell_type": "markdown",
   "metadata": {},
   "source": [
    "Наиболее прибыльные платформы последних лет - PS4, XOne, 3DS, PS3, X360. Самые перспективные платформы с точки зрения срока платформы на рынке и роста продаж PS4, XOne. Небольшие объемы продаж этаж платформ в 2016 году на графике связаны с неполным периодом года в данных. Выберем актуальный период и определим его с учетом нашей цели построить прогноз на следующий год с 2013 по 2016 годы."
   ]
  },
  {
   "cell_type": "markdown",
   "metadata": {},
   "source": [
    "#### Cтроим график «ящик с усами»"
   ]
  },
  {
   "cell_type": "code",
   "execution_count": 37,
   "metadata": {},
   "outputs": [
    {
     "data": {
      "image/png": "[encoded data removed]",
      "text/plain": [
       "<Figure size 1800x720 with 1 Axes>"
      ]
     },
     "metadata": {
      "needs_background": "light"
     },
     "output_type": "display_data"
    }
   ],
   "source": [
    "# построим общую диаграмму размаха по платформам\n",
    "df.boxplot(column='sales', by='platform', figsize=(25,10));\n",
    "plt.show()"
   ]
  },
  {
   "cell_type": "markdown",
   "metadata": {},
   "source": [
    "В представленной диаграмме мы видим, что есть очень редкие выбросы с продажами более 20 млн (видимо эта игра была очень популярна), так же редкие, в отличие от других, выбросы есть в диапазоне от 5 до 20 млн. Уберем эти выбросы и еще раз посмотрим на диаграмму размаха."
   ]
  },
  {
   "cell_type": "code",
   "execution_count": 38,
   "metadata": {},
   "outputs": [
    {
     "data": {
      "image/png": "[encoded data removed]",
      "text/plain": [
       "<Figure size 1800x720 with 1 Axes>"
      ]
     },
     "metadata": {
      "needs_background": "light"
     },
     "output_type": "display_data"
    }
   ],
   "source": [
    "# построим общую диаграмму размаха в диапозоне до 5 млн.продаж\n",
    "df.boxplot(column='sales', by='platform', figsize=(25,10));\n",
    "plt.ylim(0, 5)\n",
    "plt.show()"
   ]
  },
  {
   "cell_type": "markdown",
   "metadata": {},
   "source": [
    "На данной диаграмме хорошо видно тело боксплота. Наблюдаем, что наши перспективные платформы PS4, XOne схожи по распределению, хоть и объем продаж PS4 немного больше."
   ]
  },
  {
   "cell_type": "markdown",
   "metadata": {},
   "source": [
    "#### Как влияют на продажи внутри одной популярной платформы отзывы пользователей и критиков."
   ]
  },
  {
   "cell_type": "code",
   "execution_count": 39,
   "metadata": {},
   "outputs": [
    {
     "data": {
      "image/png": "[encoded data removed]",
      "text/plain": [
       "<Figure size 720x360 with 1 Axes>"
      ]
     },
     "metadata": {
      "needs_background": "light"
     },
     "output_type": "display_data"
    }
   ],
   "source": [
    "df_PS4 = df[df['platform'] == 'PS4']\n",
    "# построим диаграмму рассеяния для более информативного графика цены и площади\n",
    "df_PS4.plot(x='critic_score', \n",
    "          y='user_score', \n",
    "          kind='scatter',\n",
    "          alpha= 0.5,\n",
    "          ylim = ( 0 ,10),\n",
    "          xlim = ( 0 ,100),\n",
    "          grid= True,\n",
    "          figsize=(10, 5)\n",
    "          );\n",
    "plt.title('Диаграмма рассеяния оценок пользователей и критиков на PS4')\n",
    "plt.xlabel('Оценки критиков')\n",
    "plt.ylabel('Оценки пользователей')\n",
    "plt.show() "
   ]
  },
  {
   "cell_type": "code",
   "execution_count": 49,
   "metadata": {},
   "outputs": [
    {
     "data": {
      "image/png": "[encoded data removed]",
      "text/plain": [
       "<Figure size 432x288 with 1 Axes>"
      ]
     },
     "metadata": {
      "needs_background": "light"
     },
     "output_type": "display_data"
    },
    {
     "data": {
      "text/plain": [
       "0.40656790206178095"
      ]
     },
     "metadata": {},
     "output_type": "display_data"
    },
    {
     "data": {
      "text/plain": [
       "-0.031957110204556376"
      ]
     },
     "metadata": {},
     "output_type": "display_data"
    }
   ],
   "source": [
    "# используем seaborn, что бы увидеть корреляцию с продажами\n",
    "sns.scatterplot(df_PS4['critic_score'], df_PS4['user_score'], hue=df_PS4['sales'])\n",
    "plt.title('Скаттерплот оценок пользователей и критиков с продажами')\n",
    "plt.xlabel('Оценка критиков')\n",
    "plt.ylabel('Оценка пользоватлей')\n",
    "plt.show() \n",
    "# корреляция цены от площади\n",
    "display(df_PS4['critic_score'].corr(df_PS4['sales']))\n",
    "display(df_PS4['user_score'].corr(df_PS4['sales']))"
   ]
  },
  {
   "cell_type": "markdown",
   "metadata": {},
   "source": [
    "Общая тенденция такая, что ни каждая игра с хорошей оценкой от критиков имеет хорошую у пользователей. И даже имеются игры с большими продажами и низким рейтингом пользователей. Практически все игры с большими продажами имеют большую оценку от критиков (корреляция составляет 0,4 и она видна на диаграмме). Большинство игр имеют положительную оценку. Снова видна игра с аномально большими продажами и высокими оценками."
   ]
  },
  {
   "cell_type": "markdown",
   "metadata": {},
   "source": [
    "Сравним выводы с продажами игр на других платформах."
   ]
  },
  {
   "cell_type": "code",
   "execution_count": 41,
   "metadata": {},
   "outputs": [
    {
     "data": {
      "text/html": [
       "<div>\n",
       "<style scoped>\n",
       "    .dataframe tbody tr th:only-of-type {\n",
       "        vertical-align: middle;\n",
       "    }\n",
       "\n",
       "    .dataframe tbody tr th {\n",
       "        vertical-align: top;\n",
       "    }\n",
       "\n",
       "    .dataframe thead th {\n",
       "        text-align: right;\n",
       "    }\n",
       "</style>\n",
       "<table border=\"1\" class=\"dataframe\">\n",
       "  <thead>\n",
       "    <tr style=\"text-align: right;\">\n",
       "      <th></th>\n",
       "      <th>count</th>\n",
       "      <th>mean</th>\n",
       "      <th>std</th>\n",
       "      <th>min</th>\n",
       "      <th>25%</th>\n",
       "      <th>50%</th>\n",
       "      <th>75%</th>\n",
       "      <th>max</th>\n",
       "    </tr>\n",
       "    <tr>\n",
       "      <th>platform</th>\n",
       "      <th></th>\n",
       "      <th></th>\n",
       "      <th></th>\n",
       "      <th></th>\n",
       "      <th></th>\n",
       "      <th></th>\n",
       "      <th></th>\n",
       "      <th></th>\n",
       "    </tr>\n",
       "  </thead>\n",
       "  <tbody>\n",
       "    <tr>\n",
       "      <th>3DS</th>\n",
       "      <td>303.0</td>\n",
       "      <td>0.472772</td>\n",
       "      <td>1.381347</td>\n",
       "      <td>0.01</td>\n",
       "      <td>0.0400</td>\n",
       "      <td>0.090</td>\n",
       "      <td>0.2800</td>\n",
       "      <td>14.60</td>\n",
       "    </tr>\n",
       "    <tr>\n",
       "      <th>DS</th>\n",
       "      <td>8.0</td>\n",
       "      <td>0.192500</td>\n",
       "      <td>0.172026</td>\n",
       "      <td>0.03</td>\n",
       "      <td>0.0675</td>\n",
       "      <td>0.150</td>\n",
       "      <td>0.2525</td>\n",
       "      <td>0.51</td>\n",
       "    </tr>\n",
       "    <tr>\n",
       "      <th>PC</th>\n",
       "      <td>189.0</td>\n",
       "      <td>0.208624</td>\n",
       "      <td>0.352304</td>\n",
       "      <td>0.01</td>\n",
       "      <td>0.0300</td>\n",
       "      <td>0.080</td>\n",
       "      <td>0.2300</td>\n",
       "      <td>3.05</td>\n",
       "    </tr>\n",
       "    <tr>\n",
       "      <th>PS3</th>\n",
       "      <td>345.0</td>\n",
       "      <td>0.525884</td>\n",
       "      <td>1.451939</td>\n",
       "      <td>0.01</td>\n",
       "      <td>0.0400</td>\n",
       "      <td>0.150</td>\n",
       "      <td>0.5100</td>\n",
       "      <td>21.05</td>\n",
       "    </tr>\n",
       "    <tr>\n",
       "      <th>PS4</th>\n",
       "      <td>392.0</td>\n",
       "      <td>0.801378</td>\n",
       "      <td>1.609456</td>\n",
       "      <td>0.01</td>\n",
       "      <td>0.0600</td>\n",
       "      <td>0.200</td>\n",
       "      <td>0.7300</td>\n",
       "      <td>14.63</td>\n",
       "    </tr>\n",
       "    <tr>\n",
       "      <th>PSP</th>\n",
       "      <td>67.0</td>\n",
       "      <td>0.052239</td>\n",
       "      <td>0.059768</td>\n",
       "      <td>0.01</td>\n",
       "      <td>0.0150</td>\n",
       "      <td>0.020</td>\n",
       "      <td>0.0700</td>\n",
       "      <td>0.24</td>\n",
       "    </tr>\n",
       "    <tr>\n",
       "      <th>PSV</th>\n",
       "      <td>358.0</td>\n",
       "      <td>0.092151</td>\n",
       "      <td>0.153816</td>\n",
       "      <td>0.01</td>\n",
       "      <td>0.0200</td>\n",
       "      <td>0.040</td>\n",
       "      <td>0.1100</td>\n",
       "      <td>1.96</td>\n",
       "    </tr>\n",
       "    <tr>\n",
       "      <th>Wii</th>\n",
       "      <td>23.0</td>\n",
       "      <td>0.593913</td>\n",
       "      <td>0.915432</td>\n",
       "      <td>0.01</td>\n",
       "      <td>0.0450</td>\n",
       "      <td>0.180</td>\n",
       "      <td>0.7550</td>\n",
       "      <td>3.58</td>\n",
       "    </tr>\n",
       "    <tr>\n",
       "      <th>WiiU</th>\n",
       "      <td>115.0</td>\n",
       "      <td>0.562000</td>\n",
       "      <td>1.038778</td>\n",
       "      <td>0.01</td>\n",
       "      <td>0.0600</td>\n",
       "      <td>0.200</td>\n",
       "      <td>0.5950</td>\n",
       "      <td>7.09</td>\n",
       "    </tr>\n",
       "    <tr>\n",
       "      <th>X360</th>\n",
       "      <td>186.0</td>\n",
       "      <td>0.735484</td>\n",
       "      <td>1.663275</td>\n",
       "      <td>0.01</td>\n",
       "      <td>0.0800</td>\n",
       "      <td>0.265</td>\n",
       "      <td>0.7950</td>\n",
       "      <td>16.27</td>\n",
       "    </tr>\n",
       "    <tr>\n",
       "      <th>XOne</th>\n",
       "      <td>247.0</td>\n",
       "      <td>0.645020</td>\n",
       "      <td>1.036139</td>\n",
       "      <td>0.01</td>\n",
       "      <td>0.0600</td>\n",
       "      <td>0.220</td>\n",
       "      <td>0.6850</td>\n",
       "      <td>7.39</td>\n",
       "    </tr>\n",
       "  </tbody>\n",
       "</table>\n",
       "</div>"
      ],
      "text/plain": [
       "          count      mean       std   min     25%    50%     75%    max\n",
       "platform                                                               \n",
       "3DS       303.0  0.472772  1.381347  0.01  0.0400  0.090  0.2800  14.60\n",
       "DS          8.0  0.192500  0.172026  0.03  0.0675  0.150  0.2525   0.51\n",
       "PC        189.0  0.208624  0.352304  0.01  0.0300  0.080  0.2300   3.05\n",
       "PS3       345.0  0.525884  1.451939  0.01  0.0400  0.150  0.5100  21.05\n",
       "PS4       392.0  0.801378  1.609456  0.01  0.0600  0.200  0.7300  14.63\n",
       "PSP        67.0  0.052239  0.059768  0.01  0.0150  0.020  0.0700   0.24\n",
       "PSV       358.0  0.092151  0.153816  0.01  0.0200  0.040  0.1100   1.96\n",
       "Wii        23.0  0.593913  0.915432  0.01  0.0450  0.180  0.7550   3.58\n",
       "WiiU      115.0  0.562000  1.038778  0.01  0.0600  0.200  0.5950   7.09\n",
       "X360      186.0  0.735484  1.663275  0.01  0.0800  0.265  0.7950  16.27\n",
       "XOne      247.0  0.645020  1.036139  0.01  0.0600  0.220  0.6850   7.39"
      ]
     },
     "execution_count": 41,
     "metadata": {},
     "output_type": "execute_result"
    }
   ],
   "source": [
    "df.groupby('platform')['sales'].describe()"
   ]
  },
  {
   "cell_type": "markdown",
   "metadata": {},
   "source": [
    "Оценки критиков и пользователей влияют на продажи, как на самой популярной платформе, так и на остальных. \n",
    "PS4  является лидером по продажам. В менее популярных платформах продажи значительно ниже, за юсключением X360 и платформ PS3,PSV. Вместе с тем, первый,третий квартилии и средняя выше только у PS4,X360, и боксплот изобилует выбросами вверх. Это говорит, о том что игр на платформе много с большими долями продаж и явными хитами. Убеждаемся в правильности выбора перспективных платформ PS4,X360."
   ]
  },
  {
   "cell_type": "markdown",
   "metadata": {},
   "source": [
    "#### Распределение игр по жанрам"
   ]
  },
  {
   "cell_type": "code",
   "execution_count": 54,
   "metadata": {},
   "outputs": [
    {
     "data": {
      "image/png": "[encoded data removed]",
      "text/plain": [
       "<Figure size 432x288 with 1 Axes>"
      ]
     },
     "metadata": {
      "needs_background": "light"
     },
     "output_type": "display_data"
    }
   ],
   "source": [
    "sns.barplot(y=df['sales'], x=df['genre']);\n",
    "plt.title('Продажи игр по жанрам')\n",
    "plt.xlabel('Жанр')\n",
    "plt.ylabel('Продажи')\n",
    "plt.xticks(rotation=90)\n",
    "plt.show() "
   ]
  },
  {
   "cell_type": "code",
   "execution_count": 43,
   "metadata": {},
   "outputs": [
    {
     "data": {
      "text/html": [
       "<div>\n",
       "<style scoped>\n",
       "    .dataframe tbody tr th:only-of-type {\n",
       "        vertical-align: middle;\n",
       "    }\n",
       "\n",
       "    .dataframe tbody tr th {\n",
       "        vertical-align: top;\n",
       "    }\n",
       "\n",
       "    .dataframe thead th {\n",
       "        text-align: right;\n",
       "    }\n",
       "</style>\n",
       "<table border=\"1\" class=\"dataframe\">\n",
       "  <thead>\n",
       "    <tr style=\"text-align: right;\">\n",
       "      <th></th>\n",
       "      <th>count</th>\n",
       "      <th>mean</th>\n",
       "      <th>std</th>\n",
       "      <th>min</th>\n",
       "      <th>25%</th>\n",
       "      <th>50%</th>\n",
       "      <th>75%</th>\n",
       "      <th>max</th>\n",
       "    </tr>\n",
       "    <tr>\n",
       "      <th>genre</th>\n",
       "      <th></th>\n",
       "      <th></th>\n",
       "      <th></th>\n",
       "      <th></th>\n",
       "      <th></th>\n",
       "      <th></th>\n",
       "      <th></th>\n",
       "      <th></th>\n",
       "    </tr>\n",
       "  </thead>\n",
       "  <tbody>\n",
       "    <tr>\n",
       "      <th>Shooter</th>\n",
       "      <td>187.0</td>\n",
       "      <td>1.245882</td>\n",
       "      <td>2.014107</td>\n",
       "      <td>0.01</td>\n",
       "      <td>0.14</td>\n",
       "      <td>0.450</td>\n",
       "      <td>1.4250</td>\n",
       "      <td>14.63</td>\n",
       "    </tr>\n",
       "    <tr>\n",
       "      <th>Sports</th>\n",
       "      <td>214.0</td>\n",
       "      <td>0.703972</td>\n",
       "      <td>1.219237</td>\n",
       "      <td>0.01</td>\n",
       "      <td>0.07</td>\n",
       "      <td>0.240</td>\n",
       "      <td>0.7650</td>\n",
       "      <td>8.58</td>\n",
       "    </tr>\n",
       "    <tr>\n",
       "      <th>Platform</th>\n",
       "      <td>74.0</td>\n",
       "      <td>0.576081</td>\n",
       "      <td>0.806808</td>\n",
       "      <td>0.01</td>\n",
       "      <td>0.09</td>\n",
       "      <td>0.225</td>\n",
       "      <td>0.6275</td>\n",
       "      <td>4.32</td>\n",
       "    </tr>\n",
       "    <tr>\n",
       "      <th>Role-Playing</th>\n",
       "      <td>292.0</td>\n",
       "      <td>0.499623</td>\n",
       "      <td>1.353164</td>\n",
       "      <td>0.01</td>\n",
       "      <td>0.06</td>\n",
       "      <td>0.125</td>\n",
       "      <td>0.3825</td>\n",
       "      <td>14.60</td>\n",
       "    </tr>\n",
       "    <tr>\n",
       "      <th>Racing</th>\n",
       "      <td>85.0</td>\n",
       "      <td>0.469294</td>\n",
       "      <td>0.964101</td>\n",
       "      <td>0.01</td>\n",
       "      <td>0.05</td>\n",
       "      <td>0.120</td>\n",
       "      <td>0.3800</td>\n",
       "      <td>7.09</td>\n",
       "    </tr>\n",
       "    <tr>\n",
       "      <th>Fighting</th>\n",
       "      <td>80.0</td>\n",
       "      <td>0.441375</td>\n",
       "      <td>1.048883</td>\n",
       "      <td>0.01</td>\n",
       "      <td>0.06</td>\n",
       "      <td>0.125</td>\n",
       "      <td>0.3225</td>\n",
       "      <td>7.55</td>\n",
       "    </tr>\n",
       "    <tr>\n",
       "      <th>Action</th>\n",
       "      <td>766.0</td>\n",
       "      <td>0.420196</td>\n",
       "      <td>1.253909</td>\n",
       "      <td>0.01</td>\n",
       "      <td>0.03</td>\n",
       "      <td>0.110</td>\n",
       "      <td>0.3375</td>\n",
       "      <td>21.05</td>\n",
       "    </tr>\n",
       "    <tr>\n",
       "      <th>Misc</th>\n",
       "      <td>155.0</td>\n",
       "      <td>0.405290</td>\n",
       "      <td>1.007985</td>\n",
       "      <td>0.01</td>\n",
       "      <td>0.03</td>\n",
       "      <td>0.100</td>\n",
       "      <td>0.3300</td>\n",
       "      <td>9.18</td>\n",
       "    </tr>\n",
       "    <tr>\n",
       "      <th>Simulation</th>\n",
       "      <td>62.0</td>\n",
       "      <td>0.350968</td>\n",
       "      <td>0.849163</td>\n",
       "      <td>0.01</td>\n",
       "      <td>0.03</td>\n",
       "      <td>0.100</td>\n",
       "      <td>0.2950</td>\n",
       "      <td>5.22</td>\n",
       "    </tr>\n",
       "    <tr>\n",
       "      <th>Puzzle</th>\n",
       "      <td>17.0</td>\n",
       "      <td>0.186471</td>\n",
       "      <td>0.325172</td>\n",
       "      <td>0.01</td>\n",
       "      <td>0.02</td>\n",
       "      <td>0.060</td>\n",
       "      <td>0.1100</td>\n",
       "      <td>1.19</td>\n",
       "    </tr>\n",
       "    <tr>\n",
       "      <th>Strategy</th>\n",
       "      <td>56.0</td>\n",
       "      <td>0.180000</td>\n",
       "      <td>0.279441</td>\n",
       "      <td>0.01</td>\n",
       "      <td>0.04</td>\n",
       "      <td>0.080</td>\n",
       "      <td>0.2325</td>\n",
       "      <td>1.67</td>\n",
       "    </tr>\n",
       "    <tr>\n",
       "      <th>Adventure</th>\n",
       "      <td>245.0</td>\n",
       "      <td>0.096490</td>\n",
       "      <td>0.216445</td>\n",
       "      <td>0.01</td>\n",
       "      <td>0.02</td>\n",
       "      <td>0.030</td>\n",
       "      <td>0.0700</td>\n",
       "      <td>1.66</td>\n",
       "    </tr>\n",
       "  </tbody>\n",
       "</table>\n",
       "</div>"
      ],
      "text/plain": [
       "              count      mean       std   min   25%    50%     75%    max\n",
       "genre                                                                    \n",
       "Shooter       187.0  1.245882  2.014107  0.01  0.14  0.450  1.4250  14.63\n",
       "Sports        214.0  0.703972  1.219237  0.01  0.07  0.240  0.7650   8.58\n",
       "Platform       74.0  0.576081  0.806808  0.01  0.09  0.225  0.6275   4.32\n",
       "Role-Playing  292.0  0.499623  1.353164  0.01  0.06  0.125  0.3825  14.60\n",
       "Racing         85.0  0.469294  0.964101  0.01  0.05  0.120  0.3800   7.09\n",
       "Fighting       80.0  0.441375  1.048883  0.01  0.06  0.125  0.3225   7.55\n",
       "Action        766.0  0.420196  1.253909  0.01  0.03  0.110  0.3375  21.05\n",
       "Misc          155.0  0.405290  1.007985  0.01  0.03  0.100  0.3300   9.18\n",
       "Simulation     62.0  0.350968  0.849163  0.01  0.03  0.100  0.2950   5.22\n",
       "Puzzle         17.0  0.186471  0.325172  0.01  0.02  0.060  0.1100   1.19\n",
       "Strategy       56.0  0.180000  0.279441  0.01  0.04  0.080  0.2325   1.67\n",
       "Adventure     245.0  0.096490  0.216445  0.01  0.02  0.030  0.0700   1.66"
      ]
     },
     "execution_count": 43,
     "metadata": {},
     "output_type": "execute_result"
    }
   ],
   "source": [
    "# сортируем по средним показателям продаж платформ.\n",
    "df.groupby('genre')['sales'].describe().sort_values(by='mean', ascending=False)"
   ]
  },
  {
   "cell_type": "markdown",
   "metadata": {},
   "source": [
    "Самые популярные жанры: Action, Shooter, Sports, Role-Playing, Adventure. Самые низкие продажи у жанра Puzzle.\n",
    "Несомненным лидером является Shooter, средняя и медиана которого выше других. Делаем вывод, что Shooter самый прибыльный жанр."
   ]
  },
  {
   "cell_type": "markdown",
   "metadata": {},
   "source": [
    "### Составляем портрет пользователя каждого региона"
   ]
  },
  {
   "cell_type": "markdown",
   "metadata": {},
   "source": [
    "#### Самые популярные платформы (топ-5)"
   ]
  },
  {
   "cell_type": "code",
   "execution_count": 44,
   "metadata": {},
   "outputs": [
    {
     "data": {
      "image/png": "[encoded data removed]",
      "text/plain": [
       "<Figure size 1080x360 with 3 Axes>"
      ]
     },
     "metadata": {},
     "output_type": "display_data"
    }
   ],
   "source": [
    "regions_sales = ['eu_sales', 'na_sales', 'jp_sales']\n",
    "fig, ax = plt.subplots(1, len(regions_sales), figsize=(15,5))\n",
    "for i, region in enumerate(regions_sales):\n",
    "    region_platform = df.query('year_of_release >= 2013').groupby('platform').agg({region: 'sum'}).sort_values(by=region, ascending=False).reset_index()\n",
    "    region_platform.loc[5] = ['Другие', region_platform.loc[5:][region].sum().round(2)]\n",
    "    region_top_platform = region_platform.head(6)        \n",
    "    ax[i].pie(region_top_platform[region], labels=region_top_platform['platform'], autopct=lambda x: f'{x:.1f}%' if x > 5 else None)\n",
    "    ax[i].set_title(region)\n",
    "plt.suptitle('ТОП-5 платформ с наибольшими продажами в Европе и Северной Америке и Японии', fontsize=14)\n",
    "plt.tight_layout()\n",
    "plt.show()"
   ]
  },
  {
   "cell_type": "markdown",
   "metadata": {},
   "source": [
    "Самые популярные платформы (топ-5) в Европе: PS4, XOne, PS3, 3DS, PC;\n",
    "CША: PS4, XOne, PS3, 3DS, X360;\n",
    "Япония: 3DS, PS4, PSV, PS3, WiiU.\n",
    "На лицо приверженность регионов к \"родным\" консолям, там где находится компания-производитель, там и лучший спрос на ее продукцию. Очевидно так же, что самую большую долю во всех регионах, кроме Японии занимает PS4."
   ]
  },
  {
   "cell_type": "markdown",
   "metadata": {},
   "source": [
    "#### Самые популярные жанры (топ-5)"
   ]
  },
  {
   "cell_type": "code",
   "execution_count": 45,
   "metadata": {},
   "outputs": [
    {
     "data": {
      "image/png": "[encoded data removed]",
      "text/plain": [
       "<Figure size 1080x360 with 3 Axes>"
      ]
     },
     "metadata": {},
     "output_type": "display_data"
    }
   ],
   "source": [
    "fig, ax = plt.subplots(1, len(regions_sales), figsize=(15,5))\n",
    "for i, region in enumerate(regions_sales):\n",
    "    region_genre = df.query('year_of_release >= 2013').groupby('genre').agg({region: 'sum'}).sort_values(by=region, ascending=False).reset_index()\n",
    "    region_genre.loc[5] = ['Другие', region_genre.loc[5:][region].sum().round(2)]\n",
    "    region_top_genre = region_genre.head(6)        \n",
    "    ax[i].pie(region_top_genre[region], labels=region_top_genre['genre'], autopct=lambda x: f'{x:.1f}%' if x > 5 else None)\n",
    "    ax[i].set_title(region)\n",
    "plt.suptitle('ТОП-5 жанров с наибольшими продажами в Европе и Северной Америке и Японии', fontsize=14)\n",
    "plt.tight_layout()\n",
    "plt.show()"
   ]
  },
  {
   "cell_type": "markdown",
   "metadata": {},
   "source": [
    "В зависимости от региона доля разных жанров в продажах сильно разниться. В Японии популярны больше остальных регионов, ролевые игры. Action популярны везде, а Shooter в Европе и США."
   ]
  },
  {
   "cell_type": "markdown",
   "metadata": {},
   "source": [
    "#### Влияние рейтинга ESRB на продажи в отдельном регионе"
   ]
  },
  {
   "cell_type": "code",
   "execution_count": 46,
   "metadata": {},
   "outputs": [
    {
     "data": {
      "image/png": "[encoded data removed]",
      "text/plain": [
       "<Figure size 1080x360 with 3 Axes>"
      ]
     },
     "metadata": {},
     "output_type": "display_data"
    }
   ],
   "source": [
    "fig, ax = plt.subplots(1, len(regions_sales), figsize=(15,5))\n",
    "for i, region in enumerate(regions_sales):\n",
    "    region_rating = df.query('year_of_release >= 2013').groupby('rating').agg({region: 'sum'}).sort_values(by=region, ascending=False).reset_index()\n",
    "    region_rating.loc[5] = ['Другие', region_rating.loc[5:][region].sum().round(2)]\n",
    "    region_top_rating = region_rating.head(6)        \n",
    "    ax[i].pie(region_top_rating[region], labels=region_top_rating['rating'], autopct=lambda x: f'{x:.1f}%' if x > 5 else None)\n",
    "    ax[i].set_title(region)\n",
    "plt.suptitle('Влияние рейтинга ESRB на продажи в отдельном регионе', fontsize=14)\n",
    "plt.tight_layout()\n",
    "plt.show()"
   ]
  },
  {
   "cell_type": "markdown",
   "metadata": {},
   "source": [
    "В Японии рейтинги у игр, в которых жанры неопределенны являются аномально большими, это связано с нашей пред обработкой данных (заполнение пропусков \"заглушкой\"). Самые популярные жанры Т («Подросткам»: Игра подходит для лиц от 13 лет.), Е («Для всех») и М («Для взрослых»: Материалы игры не подходят для подростков младше 17 лет).  В Японии своя рейтинговая система и сравнивать ее с другими регионами не корректно.\n",
    "\n",
    "В Европе самые высокие рейтинги у жанра M («Для взрослых»: Материалы игры не подходят для подростков младше 17 лет.), Е («Для всех»). Далее по популярности игры, в которых жанры неопределенны.\n",
    "\n",
    "В Северной Америке самые высокие рейтинги у жанра M («Для взрослых»: Материалы игры не подходят для подростков младше 17 лет.), далее по популярности игры, в которых жанры неопределенны, Е («Для всех») и Е10+ «Для всех от 10 лет и старше».\n",
    "\n",
    "**Рейтинг ESRB на продажи в отдельном регионе влияет незначительно. Самый популярный рейтинг во всех регионах M («Для взрослых»: Материалы игры не подходят для подростков младше 17 лет.)**"
   ]
  },
  {
   "cell_type": "markdown",
   "metadata": {},
   "source": [
    "### Проверка гипотез"
   ]
  },
  {
   "cell_type": "markdown",
   "metadata": {},
   "source": [
    "#### Средние пользовательские рейтинги платформ Xbox One и PC одинаковые"
   ]
  },
  {
   "cell_type": "markdown",
   "metadata": {},
   "source": [
    "Нулевая гипотеза гласит, что средние пользовательские рейтинги платформ Xbox One и PC одинаковые.\n",
    "\n",
    "Альтернативная же звучит как - средние пользовательские рейтинги платформ Xbox One и PC разные."
   ]
  },
  {
   "cell_type": "code",
   "execution_count": 47,
   "metadata": {},
   "outputs": [
    {
     "name": "stdout",
     "output_type": "stream",
     "text": [
      "p-значение: 0.14759594013430463\n",
      "Не получилось отвергнуть нулевую гипотезу\n"
     ]
    }
   ],
   "source": [
    "from scipy import stats as st\n",
    "import numpy as np\n",
    "\n",
    "sample_1 = df.query('platform == \"XOne\"')['user_score'].dropna().astype('float')\n",
    "sample_2 = df.query('platform == \"PC\"')['user_score'].dropna().astype('float')\n",
    "\n",
    "alpha = .05 # критический уровень статистической значимости\n",
    "# если p-value окажется меньше него - отвергнем гипотезу\n",
    "\n",
    "results = st.ttest_ind( # проверяем гипотезу о равенстве средних двух независимых совокупностей\n",
    "    sample_1, \n",
    "    sample_2,\n",
    "    equal_var = False)\n",
    "\n",
    "print('p-значение:', results.pvalue)\n",
    "\n",
    "if results.pvalue < alpha: # сравниваем получившееся p-значение с заданным уровнем статистической значимости:\n",
    "    print(\"Отвергаем нулевую гипотезу\") \n",
    "else:\n",
    "    print(\"Не получилось отвергнуть нулевую гипотезу\") "
   ]
  },
  {
   "cell_type": "markdown",
   "metadata": {},
   "source": [
    "Критерий - это правило, по которому мы отвергаем или не отвергаем нулевую гипотезу на основе выборочных наблюдений. Не получилось отвергнуть нулевую гипотезу."
   ]
  },
  {
   "cell_type": "markdown",
   "metadata": {},
   "source": [
    "#### Средние пользовательские рейтинги жанров Action и Sports разные."
   ]
  },
  {
   "cell_type": "markdown",
   "metadata": {},
   "source": [
    "Нулевая гипотеза гласит, что cредние пользовательские рейтинги жанров Action и Sports одинаковые. \n",
    "\n",
    "Альтернативная же звучит как - cредние пользовательские рейтинги жанров Action и Sports разные."
   ]
  },
  {
   "cell_type": "code",
   "execution_count": 48,
   "metadata": {},
   "outputs": [
    {
     "name": "stdout",
     "output_type": "stream",
     "text": [
      "p-значение: 1.4460039700704315e-20\n",
      "Отвергаем нулевую гипотезу\n"
     ]
    }
   ],
   "source": [
    "sample_1 = df.query('genre == \"Action\"')['user_score'].dropna().astype('float')\n",
    "sample_2 = df.query('genre == \"Sports\"')['user_score'].dropna().astype('float')\n",
    "\n",
    "alpha = .05 # критический уровень статистической значимости\n",
    "# если p-value окажется меньше него - отвергнем гипотезу\n",
    "\n",
    "results = st.ttest_ind( # проверяем гипотезу о равенстве средних двух независимых совокупностей\n",
    "    sample_1, \n",
    "    sample_2,\n",
    "    equal_var = False)\n",
    "\n",
    "print('p-значение:', results.pvalue)\n",
    "\n",
    "if results.pvalue < alpha: # сравниваем получившееся p-значение с заданным уровнем статистической значимости:\n",
    "    print(\"Отвергаем нулевую гипотезу\") \n",
    "else:\n",
    "    print(\"Не получилось отвергнуть нулевую гипотезу\") "
   ]
  },
  {
   "cell_type": "markdown",
   "metadata": {},
   "source": [
    "Критерий - это правило, по которому мы отвергаем или не отвергаем нулевую гипотезу на основе выборочных наблюдений. Отвергаем нулевую гипотезу."
   ]
  },
  {
   "cell_type": "markdown",
   "metadata": {},
   "source": [
    "### Общий вывод"
   ]
  },
  {
   "cell_type": "markdown",
   "metadata": {},
   "source": [
    "**Исследование успешности игр**\n",
    "\n",
    "\n",
    "**Изначально проведен общий анализ**\n",
    "\n",
    "Обнаружены пропуски в датасете, количество в некоторых столбце достигало 88%. Количество столбцов с пропусками 6 (всего в датасете 11 столбца). Явных дубликатов нет.\n",
    "Необходимо скорректировать  user_score(оценки пользователей) - некорректный тип, должен быть с плавающей точкой. Так же разно регистровое наименование столбцов.\n",
    "\n",
    "**Подготовка данных**\n",
    "\n",
    "Изменены типы данных. Устранены пропуски «заглушками», где-то оставили пропуски. Устранено разно регистровое наименование столбцов.\n",
    "Удалили пустые строки с годом релиза игры т.к. их доля в дадасете всего 1,6% и данный параметр один из самых важных при исследовании. Так же в этих строках имеются пропуски рейтинга, оценок критиков и пользователей. Таким образом мы оптимизировали датаесет сразу по нескольким параметрам.\n",
    "Аббревиатура 'tbd' в столбце с оценкой встречается чаще всего и равномерно распределен по годам (заменили на nan). Пропусков в столбцах название игры и жанр всего 2. Оставили их, на исследование не повлияют.\n",
    "После предобработки данных процент пропусков больше половины имеется в столбцах оценок пользователей и критиков. Их слишком много, чтобы мы могли их удалить или восстановить каким-либо логическим способом. Заполнять их медианой или средним считаем не верным т.к. это приведет к аномальным значениям на графиках и искажениям исследования.\n",
    "\n",
    "**Проводим исследовательский анализ данных**\n",
    "\n",
    "**Cколько игр выпускалось в разные годы.**\n",
    "\n",
    "Резкий рост объема выпущенных игр виден с 2002 года с пиком -2009 гг. Заметно снижение объема с 2012 года. Для целей исследования выделим года, по которым будет оптимально анализировать динамику продаж. Диапазон 2002-2016 г. Более ранний срок мало скажет о закономерностях успешности современных игр на популярных платформах в данный момент.\n",
    "\n",
    "**Как менялись продажи по платформам.**\n",
    "\n",
    "Отчетливо видны падения продаж на устаревающих платформах в период 2006-2008г. Так же спад продаж на консолях следующего поколения начиная с 2012 года. И рост продаж на платформах последнего поколения РS4 и XOne.\n",
    "\n",
    "**Рассмотрим какой срок жизни у платформы**\n",
    "\n",
    "Средний возраст платформы утвердили 7 лет.\n",
    "Наиболее прибыльные платформы последних лет - PS4, XOne, 3DS, PS3, X360. Самые перспективные платформы с точки зрения срока платформы на рынке и роста продаж PS4, XOne. Небольшие объемы продаж этаж платформ в 2016 году на графике связаны с неполным периодом года в данных. Выберем  актуальный период и определим его с учетом нашей цели построить прогноз на следующий год с 2013 по 2016 годы.\n",
    "\n",
    "**Cтроим график «ящик с усами»**\n",
    "\n",
    "В представленной диаграмме мы видим, что есть очень редкие выбросы с продажами более 20 млн (видимо эта игра была очень популярна), так же редкие, в отличие от других, выбросы есть в диапазоне от 5 до 20 млн.\n",
    "На боксплоте меньшего диапазона наблюдаем, что наши перспективные платформы PS4, XOne схожи по распределению, хоть и объем продаж PS4 немного больше.\n",
    "\n",
    "**Как влияют на продажи внутри одной популярной платформы отзывы пользователей и критиков.**\n",
    "\n",
    "Общая тенденция такая, что ни каждая игра с хорошей оценкой от критиков имеет хорошую у пользователей. И даже имеются игры с большими продажами и низким рейтингом пользователей. Практически все игры с большими продажами имеют большую оценку от критиков (корреляция составляет 0,4 и она видна на диаграмме). Большинство игр имеют положительную оценку. Снова видна игра с аномально большими продажами и высокими оценками.\n",
    "    \n",
    "PS4 является лидером по продажам. В менее популярных платформах продажи значительно ниже, за исключениям X360 и платформ PS3,PSV. Вместе с тем, первый, третий квартили и средняя выше только у PS4,X360, и боксплот изобилует выбросами вверх. Это говорит, о том что игр на платформе много с большими долями продаж и явными хитами. Убеждаемся в правильности выбора перспективных платформ PS4,X360.\n",
    "\n",
    "**Распределение игр по жанрам**\n",
    "\n",
    "Самые популярные жанры: Action, Shooter, Sports, Role-Playing. Самые низкие продажи у жанра Puzzle.\n",
    "\n",
    "Несомненным лидером по прибыльности является Shooter, средняя и медиана которого выше других.\n",
    "\n",
    "**Составляем портрет пользователя каждого региона:**\n",
    "\n",
    "**Самые популярные платформы (топ-5)**\n",
    "\n",
    "Самые популярные платформы (топ-5) в Европе: PS4, XOne, PS3, 3DS, PC;\n",
    "CША: PS4, XOne, PS3, 3DS, X360;\n",
    "Япония: 3DS, PS4, PSV, PS3, WiiU.\n",
    "На лицо приверженность регионов к \"родным\" консолям, там где находится компания-производитель, там и лучший спрос на ее продукцию. Очевидно так же, что самую большую долю во всех регионах занимает PS4.\n",
    "\n",
    "**Самые популярные жанры (топ-5)**\n",
    "\n",
    "В зависимости от региона доля разных жанров в продажах сильно разниться. В Японии популярны больше остальных регионов, ролевые игры. Action популярны везде, а Shooter в Европе и США.\n",
    "\n",
    "**Влияние рейтинга ESRB на продажи в отдельном регионе**\n",
    "\n",
    "Рейтинг ESRB на продажи в отдельном регионе влияет незначительно. Самый популярный рейтинг во всех регионах M («Для взрослых»: Материалы игры не подходят для подростков младше 17 лет.)\n",
    "\n",
    "**Проверка гипотез:**\n",
    "\n",
    "**Средние пользовательские рейтинги платформ Xbox One и PC одинаковые**\n",
    "\n",
    "Нулевая гипотеза гласит, что средние пользовательские рейтинги платформ Xbox One и PC разные. Альтернативная же звучит как - средние пользовательские рейтинги платформ Xbox One и PC одинаковые. Критерий - это правило, по которому мы отвергаем или не отвергаем нулевую гипотезу на основе выборочных наблюдений. Итог: p-значение: 0.14759594013430463\n",
    ",\n",
    "Не получилось отвергнуть нулевую гипотезу.\n",
    "\n",
    "**Средние пользовательские рейтинги жанров Action и Sports разные.**\n",
    "\n",
    "Нулевая гипотеза гласит, что cредние пользовательские рейтинги жанров Action и Sports одинаковые. Альтернативная же звучит как - cредние пользовательские рейтинги жанров Action и Sports разные. Итог: p-значение: 1.4460039700704315e-20,\n",
    "Не получилось отвергнуть нулевую гипотезу.\n",
    "\n",
    "**Итоги:**\n",
    "\n",
    "**На успешность игры в следующем году больше всего повлияют: жанр (Action), оценка критиков (более 7), платформа (PS4, XOne), срок жизни платформы, рейтинг М («Для взрослых»).  Несмотря на падение рынка в последние годы платформы PS4, XOne имеют начальный срок жизни и значительные объемы продаж на текущий момент, а так же хитовые (аномальные) игры, что будет привлекать новых игроков на платформу и разработчиков игр. Однозначным лидером по всем регионам является платформа PS4.**\n",
    "\n",
    "**И так сделать ставку на потенциально популярный продукт и спланировать рекламные кампании следует на продукт который разработан для платформы PS4, с жанром Action, рейтингом М и развивать во всех регионах.**"
   ]
  }
 ],
 "metadata": {
  "ExecuteTimeLog": [
   {
    "duration": 1437,
    "start_time": "2023-01-12T15:09:50.554Z"
   },
   {
    "duration": 183,
    "start_time": "2023-01-12T15:11:17.534Z"
   },
   {
    "duration": 114,
    "start_time": "2023-01-12T15:11:31.175Z"
   },
   {
    "duration": 141,
    "start_time": "2023-01-12T15:11:58.434Z"
   },
   {
    "duration": 117,
    "start_time": "2023-01-12T15:12:25.654Z"
   },
   {
    "duration": 13,
    "start_time": "2023-01-12T15:13:09.433Z"
   },
   {
    "duration": 9,
    "start_time": "2023-01-12T15:29:07.086Z"
   },
   {
    "duration": 30,
    "start_time": "2023-01-12T15:29:13.917Z"
   },
   {
    "duration": 10,
    "start_time": "2023-01-12T15:34:21.157Z"
   },
   {
    "duration": 11,
    "start_time": "2023-01-12T15:34:40.677Z"
   },
   {
    "duration": 15,
    "start_time": "2023-01-12T15:39:59.347Z"
   },
   {
    "duration": 864,
    "start_time": "2023-01-12T15:40:05.997Z"
   },
   {
    "duration": 677,
    "start_time": "2023-01-12T15:40:56.377Z"
   },
   {
    "duration": 10,
    "start_time": "2023-01-12T15:42:17.807Z"
   },
   {
    "duration": 15,
    "start_time": "2023-01-12T15:42:24.738Z"
   },
   {
    "duration": 42,
    "start_time": "2023-01-12T15:43:46.888Z"
   },
   {
    "duration": 66,
    "start_time": "2023-01-12T15:45:56.598Z"
   },
   {
    "duration": 11,
    "start_time": "2023-01-12T16:25:05.375Z"
   },
   {
    "duration": 5,
    "start_time": "2023-01-12T16:25:14.664Z"
   },
   {
    "duration": 10,
    "start_time": "2023-01-12T16:25:29.454Z"
   },
   {
    "duration": 12,
    "start_time": "2023-01-12T16:27:03.214Z"
   },
   {
    "duration": 4,
    "start_time": "2023-01-12T16:27:27.555Z"
   },
   {
    "duration": 8,
    "start_time": "2023-01-12T16:28:32.914Z"
   },
   {
    "duration": 9,
    "start_time": "2023-01-12T16:29:27.484Z"
   },
   {
    "duration": 14,
    "start_time": "2023-01-12T16:29:39.705Z"
   },
   {
    "duration": 16,
    "start_time": "2023-01-12T16:42:33.604Z"
   },
   {
    "duration": 17,
    "start_time": "2023-01-12T16:42:42.624Z"
   },
   {
    "duration": 9,
    "start_time": "2023-01-12T16:42:58.174Z"
   },
   {
    "duration": 6,
    "start_time": "2023-01-12T16:43:01.775Z"
   },
   {
    "duration": 14,
    "start_time": "2023-01-12T16:43:08.785Z"
   },
   {
    "duration": 12,
    "start_time": "2023-01-12T16:43:19.855Z"
   },
   {
    "duration": 10,
    "start_time": "2023-01-12T16:49:28.684Z"
   },
   {
    "duration": 13,
    "start_time": "2023-01-12T16:54:35.805Z"
   },
   {
    "duration": 13,
    "start_time": "2023-01-12T16:54:44.154Z"
   },
   {
    "duration": 7,
    "start_time": "2023-01-12T16:55:00.144Z"
   },
   {
    "duration": 6,
    "start_time": "2023-01-12T16:56:48.228Z"
   },
   {
    "duration": 6,
    "start_time": "2023-01-12T16:56:57.755Z"
   },
   {
    "duration": 1092,
    "start_time": "2023-01-12T16:58:09.995Z"
   },
   {
    "duration": 4,
    "start_time": "2023-01-12T16:58:54.935Z"
   },
   {
    "duration": 28,
    "start_time": "2023-01-12T16:58:58.516Z"
   },
   {
    "duration": 10,
    "start_time": "2023-01-12T17:05:24.355Z"
   },
   {
    "duration": 17,
    "start_time": "2023-01-12T17:05:38.226Z"
   },
   {
    "duration": 11,
    "start_time": "2023-01-12T17:12:28.536Z"
   },
   {
    "duration": 858,
    "start_time": "2023-01-12T17:12:38.936Z"
   },
   {
    "duration": 83,
    "start_time": "2023-01-12T17:14:58.016Z"
   },
   {
    "duration": 82,
    "start_time": "2023-01-12T17:15:21.486Z"
   },
   {
    "duration": 75,
    "start_time": "2023-01-12T17:15:34.536Z"
   },
   {
    "duration": 75,
    "start_time": "2023-01-12T17:15:57.027Z"
   },
   {
    "duration": 766,
    "start_time": "2023-01-12T17:16:57.587Z"
   },
   {
    "duration": 694,
    "start_time": "2023-01-12T17:17:11.657Z"
   },
   {
    "duration": 700,
    "start_time": "2023-01-12T17:18:03.726Z"
   },
   {
    "duration": 684,
    "start_time": "2023-01-12T17:18:19.496Z"
   },
   {
    "duration": 1216,
    "start_time": "2023-01-12T17:18:36.013Z"
   },
   {
    "duration": 20,
    "start_time": "2023-01-12T17:18:37.231Z"
   },
   {
    "duration": 28,
    "start_time": "2023-01-12T17:18:37.253Z"
   },
   {
    "duration": 29,
    "start_time": "2023-01-12T17:18:37.283Z"
   },
   {
    "duration": 11,
    "start_time": "2023-01-12T17:18:37.315Z"
   },
   {
    "duration": 17,
    "start_time": "2023-01-12T17:18:37.328Z"
   },
   {
    "duration": 78,
    "start_time": "2023-01-12T17:18:37.347Z"
   },
   {
    "duration": 4,
    "start_time": "2023-01-12T17:18:37.427Z"
   },
   {
    "duration": 10,
    "start_time": "2023-01-12T17:18:37.433Z"
   },
   {
    "duration": 119,
    "start_time": "2023-01-12T17:18:37.445Z"
   },
   {
    "duration": 0,
    "start_time": "2023-01-12T17:18:37.567Z"
   },
   {
    "duration": 0,
    "start_time": "2023-01-12T17:18:37.567Z"
   },
   {
    "duration": 0,
    "start_time": "2023-01-12T17:18:37.569Z"
   },
   {
    "duration": 0,
    "start_time": "2023-01-12T17:18:37.571Z"
   },
   {
    "duration": 0,
    "start_time": "2023-01-12T17:18:37.572Z"
   },
   {
    "duration": 0,
    "start_time": "2023-01-12T17:18:37.574Z"
   },
   {
    "duration": 6,
    "start_time": "2023-01-12T17:32:40.673Z"
   },
   {
    "duration": 7,
    "start_time": "2023-01-12T17:33:42.172Z"
   },
   {
    "duration": 27,
    "start_time": "2023-01-12T17:33:54.803Z"
   },
   {
    "duration": 10,
    "start_time": "2023-01-12T17:38:01.357Z"
   },
   {
    "duration": 10,
    "start_time": "2023-01-12T17:38:19.360Z"
   },
   {
    "duration": 8,
    "start_time": "2023-01-12T17:38:36.992Z"
   },
   {
    "duration": 6,
    "start_time": "2023-01-12T17:47:32.064Z"
   },
   {
    "duration": 9,
    "start_time": "2023-01-12T17:48:03.075Z"
   },
   {
    "duration": 9,
    "start_time": "2023-01-12T17:48:25.290Z"
   },
   {
    "duration": 7,
    "start_time": "2023-01-12T17:48:38.556Z"
   },
   {
    "duration": 461,
    "start_time": "2023-01-12T17:50:12.442Z"
   },
   {
    "duration": 12,
    "start_time": "2023-01-12T17:50:28.781Z"
   },
   {
    "duration": 13,
    "start_time": "2023-01-12T17:50:49.259Z"
   },
   {
    "duration": 286,
    "start_time": "2023-01-12T17:53:05.001Z"
   },
   {
    "duration": 54,
    "start_time": "2023-01-12T17:53:11.975Z"
   },
   {
    "duration": 9,
    "start_time": "2023-01-12T17:53:20.972Z"
   },
   {
    "duration": 5,
    "start_time": "2023-01-12T17:53:28.259Z"
   },
   {
    "duration": 46,
    "start_time": "2023-01-12T18:06:14.854Z"
   },
   {
    "duration": 48,
    "start_time": "2023-01-12T18:13:31.163Z"
   },
   {
    "duration": 4,
    "start_time": "2023-01-12T18:13:38.874Z"
   },
   {
    "duration": 17,
    "start_time": "2023-01-12T18:14:01.793Z"
   },
   {
    "duration": 10,
    "start_time": "2023-01-12T18:14:54.851Z"
   },
   {
    "duration": 32,
    "start_time": "2023-01-12T18:15:03.514Z"
   },
   {
    "duration": 9,
    "start_time": "2023-01-12T18:18:14.910Z"
   },
   {
    "duration": 29,
    "start_time": "2023-01-12T18:19:34.262Z"
   },
   {
    "duration": 10,
    "start_time": "2023-01-12T18:23:24.120Z"
   },
   {
    "duration": 11,
    "start_time": "2023-01-12T18:40:02.199Z"
   },
   {
    "duration": 11,
    "start_time": "2023-01-12T18:40:29.865Z"
   },
   {
    "duration": 14,
    "start_time": "2023-01-12T18:40:40.929Z"
   },
   {
    "duration": 991,
    "start_time": "2023-01-12T18:47:19.546Z"
   },
   {
    "duration": 8,
    "start_time": "2023-01-12T18:50:08.875Z"
   },
   {
    "duration": 1216,
    "start_time": "2023-01-12T18:50:20.641Z"
   },
   {
    "duration": 14,
    "start_time": "2023-01-12T18:50:21.860Z"
   },
   {
    "duration": 55,
    "start_time": "2023-01-12T18:50:21.876Z"
   },
   {
    "duration": 10,
    "start_time": "2023-01-12T18:50:21.934Z"
   },
   {
    "duration": 25,
    "start_time": "2023-01-12T18:50:21.945Z"
   },
   {
    "duration": 17,
    "start_time": "2023-01-12T18:50:21.973Z"
   },
   {
    "duration": 75,
    "start_time": "2023-01-12T18:50:21.992Z"
   },
   {
    "duration": 5,
    "start_time": "2023-01-12T18:50:22.069Z"
   },
   {
    "duration": 16,
    "start_time": "2023-01-12T18:50:22.075Z"
   },
   {
    "duration": 29,
    "start_time": "2023-01-12T18:50:22.093Z"
   },
   {
    "duration": 1042,
    "start_time": "2023-01-12T18:50:22.124Z"
   },
   {
    "duration": 0,
    "start_time": "2023-01-12T18:50:23.169Z"
   },
   {
    "duration": 0,
    "start_time": "2023-01-12T18:50:23.170Z"
   },
   {
    "duration": 0,
    "start_time": "2023-01-12T18:50:23.171Z"
   },
   {
    "duration": 0,
    "start_time": "2023-01-12T18:50:23.172Z"
   },
   {
    "duration": 11,
    "start_time": "2023-01-12T18:50:39.941Z"
   },
   {
    "duration": 12,
    "start_time": "2023-01-12T18:51:34.651Z"
   },
   {
    "duration": 9,
    "start_time": "2023-01-12T18:51:42.962Z"
   },
   {
    "duration": 7,
    "start_time": "2023-01-12T18:58:38.271Z"
   },
   {
    "duration": 9,
    "start_time": "2023-01-12T19:04:42.601Z"
   },
   {
    "duration": 8,
    "start_time": "2023-01-12T19:04:48.961Z"
   },
   {
    "duration": 8,
    "start_time": "2023-01-12T19:04:55.424Z"
   },
   {
    "duration": 5,
    "start_time": "2023-01-12T19:05:02.421Z"
   },
   {
    "duration": 9,
    "start_time": "2023-01-12T19:05:19.401Z"
   },
   {
    "duration": 5,
    "start_time": "2023-01-12T19:05:47.591Z"
   },
   {
    "duration": 8,
    "start_time": "2023-01-12T19:14:25.771Z"
   },
   {
    "duration": 4,
    "start_time": "2023-01-12T19:15:18.112Z"
   },
   {
    "duration": 10,
    "start_time": "2023-01-12T19:15:37.081Z"
   },
   {
    "duration": 26,
    "start_time": "2023-01-12T19:16:17.411Z"
   },
   {
    "duration": 6,
    "start_time": "2023-01-12T19:20:55.462Z"
   },
   {
    "duration": 6,
    "start_time": "2023-01-12T19:23:17.752Z"
   },
   {
    "duration": 12,
    "start_time": "2023-01-12T19:24:10.172Z"
   },
   {
    "duration": 15,
    "start_time": "2023-01-12T19:24:25.213Z"
   },
   {
    "duration": 10,
    "start_time": "2023-01-12T19:33:10.362Z"
   },
   {
    "duration": 12,
    "start_time": "2023-01-12T19:38:06.696Z"
   },
   {
    "duration": 227,
    "start_time": "2023-01-12T19:39:18.797Z"
   },
   {
    "duration": 225,
    "start_time": "2023-01-12T19:40:22.012Z"
   },
   {
    "duration": 203,
    "start_time": "2023-01-12T19:42:27.861Z"
   },
   {
    "duration": 5,
    "start_time": "2023-01-12T19:53:18.502Z"
   },
   {
    "duration": 5,
    "start_time": "2023-01-12T19:54:08.652Z"
   },
   {
    "duration": 10,
    "start_time": "2023-01-12T19:54:48.202Z"
   },
   {
    "duration": 6,
    "start_time": "2023-01-12T19:58:04.980Z"
   },
   {
    "duration": 9,
    "start_time": "2023-01-12T19:58:09.982Z"
   },
   {
    "duration": 8,
    "start_time": "2023-01-12T19:58:35.182Z"
   },
   {
    "duration": 1207,
    "start_time": "2023-01-12T20:01:22.302Z"
   },
   {
    "duration": 21,
    "start_time": "2023-01-12T20:01:23.511Z"
   },
   {
    "duration": 30,
    "start_time": "2023-01-12T20:01:23.534Z"
   },
   {
    "duration": 10,
    "start_time": "2023-01-12T20:01:23.566Z"
   },
   {
    "duration": 12,
    "start_time": "2023-01-12T20:01:23.579Z"
   },
   {
    "duration": 20,
    "start_time": "2023-01-12T20:01:23.614Z"
   },
   {
    "duration": 53,
    "start_time": "2023-01-12T20:01:23.635Z"
   },
   {
    "duration": 5,
    "start_time": "2023-01-12T20:01:23.689Z"
   },
   {
    "duration": 96,
    "start_time": "2023-01-12T20:01:23.715Z"
   },
   {
    "duration": 0,
    "start_time": "2023-01-12T20:01:23.814Z"
   },
   {
    "duration": 0,
    "start_time": "2023-01-12T20:01:23.815Z"
   },
   {
    "duration": 0,
    "start_time": "2023-01-12T20:01:23.815Z"
   },
   {
    "duration": 0,
    "start_time": "2023-01-12T20:01:23.816Z"
   },
   {
    "duration": 0,
    "start_time": "2023-01-12T20:01:23.817Z"
   },
   {
    "duration": 0,
    "start_time": "2023-01-12T20:01:23.818Z"
   },
   {
    "duration": 0,
    "start_time": "2023-01-12T20:01:23.822Z"
   },
   {
    "duration": 0,
    "start_time": "2023-01-12T20:01:23.823Z"
   },
   {
    "duration": 0,
    "start_time": "2023-01-12T20:01:23.823Z"
   },
   {
    "duration": 0,
    "start_time": "2023-01-12T20:01:23.824Z"
   },
   {
    "duration": 0,
    "start_time": "2023-01-12T20:01:23.825Z"
   },
   {
    "duration": 0,
    "start_time": "2023-01-12T20:01:23.827Z"
   },
   {
    "duration": 0,
    "start_time": "2023-01-12T20:01:23.828Z"
   },
   {
    "duration": 11,
    "start_time": "2023-01-12T20:01:45.451Z"
   },
   {
    "duration": 8,
    "start_time": "2023-01-12T20:01:55.028Z"
   },
   {
    "duration": 1230,
    "start_time": "2023-01-12T20:01:58.868Z"
   },
   {
    "duration": 19,
    "start_time": "2023-01-12T20:02:00.100Z"
   },
   {
    "duration": 71,
    "start_time": "2023-01-12T20:02:00.121Z"
   },
   {
    "duration": 20,
    "start_time": "2023-01-12T20:02:00.197Z"
   },
   {
    "duration": 47,
    "start_time": "2023-01-12T20:02:00.220Z"
   },
   {
    "duration": 30,
    "start_time": "2023-01-12T20:02:00.269Z"
   },
   {
    "duration": 76,
    "start_time": "2023-01-12T20:02:00.301Z"
   },
   {
    "duration": 4,
    "start_time": "2023-01-12T20:02:00.378Z"
   },
   {
    "duration": 17,
    "start_time": "2023-01-12T20:02:00.384Z"
   },
   {
    "duration": 17,
    "start_time": "2023-01-12T20:02:00.403Z"
   },
   {
    "duration": 33,
    "start_time": "2023-01-12T20:02:00.422Z"
   },
   {
    "duration": 11,
    "start_time": "2023-01-12T20:02:00.457Z"
   },
   {
    "duration": 13,
    "start_time": "2023-01-12T20:02:00.471Z"
   },
   {
    "duration": 11,
    "start_time": "2023-01-12T20:02:00.486Z"
   },
   {
    "duration": 6,
    "start_time": "2023-01-12T20:02:00.499Z"
   },
   {
    "duration": 25,
    "start_time": "2023-01-12T20:02:00.508Z"
   },
   {
    "duration": 265,
    "start_time": "2023-01-12T20:02:00.536Z"
   },
   {
    "duration": 17,
    "start_time": "2023-01-12T20:02:00.803Z"
   },
   {
    "duration": 42,
    "start_time": "2023-01-12T20:02:00.821Z"
   },
   {
    "duration": 19,
    "start_time": "2023-01-12T20:02:00.866Z"
   },
   {
    "duration": 15,
    "start_time": "2023-01-12T20:02:00.888Z"
   },
   {
    "duration": 50,
    "start_time": "2023-01-12T20:02:00.905Z"
   },
   {
    "duration": 7,
    "start_time": "2023-01-12T20:03:06.926Z"
   },
   {
    "duration": 11,
    "start_time": "2023-01-12T20:14:59.858Z"
   },
   {
    "duration": 11,
    "start_time": "2023-01-12T20:19:26.279Z"
   },
   {
    "duration": 10,
    "start_time": "2023-01-12T20:20:25.592Z"
   },
   {
    "duration": 137,
    "start_time": "2023-01-12T20:34:08.159Z"
   },
   {
    "duration": 198,
    "start_time": "2023-01-12T20:34:21.884Z"
   },
   {
    "duration": 218,
    "start_time": "2023-01-12T20:35:04.816Z"
   },
   {
    "duration": 211,
    "start_time": "2023-01-12T20:35:29.055Z"
   },
   {
    "duration": 211,
    "start_time": "2023-01-12T20:35:39.027Z"
   },
   {
    "duration": 219,
    "start_time": "2023-01-12T20:36:31.264Z"
   },
   {
    "duration": 19,
    "start_time": "2023-01-12T20:38:21.404Z"
   },
   {
    "duration": 23,
    "start_time": "2023-01-12T20:40:37.321Z"
   },
   {
    "duration": 11,
    "start_time": "2023-01-12T20:51:50.455Z"
   },
   {
    "duration": 6,
    "start_time": "2023-01-12T20:52:21.686Z"
   },
   {
    "duration": 47,
    "start_time": "2023-01-12T20:52:28.628Z"
   },
   {
    "duration": 60,
    "start_time": "2023-01-12T20:52:39.432Z"
   },
   {
    "duration": 1192,
    "start_time": "2023-01-12T20:53:00.271Z"
   },
   {
    "duration": 16,
    "start_time": "2023-01-12T20:53:01.465Z"
   },
   {
    "duration": 56,
    "start_time": "2023-01-12T20:53:01.482Z"
   },
   {
    "duration": 12,
    "start_time": "2023-01-12T20:53:01.540Z"
   },
   {
    "duration": 17,
    "start_time": "2023-01-12T20:53:01.554Z"
   },
   {
    "duration": 26,
    "start_time": "2023-01-12T20:53:01.573Z"
   },
   {
    "duration": 62,
    "start_time": "2023-01-12T20:53:01.612Z"
   },
   {
    "duration": 5,
    "start_time": "2023-01-12T20:53:01.677Z"
   },
   {
    "duration": 262,
    "start_time": "2023-01-12T20:53:01.683Z"
   },
   {
    "duration": 7,
    "start_time": "2023-01-12T20:53:01.947Z"
   },
   {
    "duration": 16,
    "start_time": "2023-01-12T20:53:01.956Z"
   },
   {
    "duration": 21,
    "start_time": "2023-01-12T20:53:01.973Z"
   },
   {
    "duration": 44,
    "start_time": "2023-01-12T20:53:01.996Z"
   },
   {
    "duration": 17,
    "start_time": "2023-01-12T20:53:02.043Z"
   },
   {
    "duration": 12,
    "start_time": "2023-01-12T20:53:02.062Z"
   },
   {
    "duration": 52,
    "start_time": "2023-01-12T20:53:02.075Z"
   },
   {
    "duration": 26,
    "start_time": "2023-01-12T20:53:02.130Z"
   },
   {
    "duration": 236,
    "start_time": "2023-01-12T20:53:02.157Z"
   },
   {
    "duration": 5,
    "start_time": "2023-01-12T20:53:02.395Z"
   },
   {
    "duration": 26,
    "start_time": "2023-01-12T20:53:02.402Z"
   },
   {
    "duration": 18,
    "start_time": "2023-01-12T20:53:02.433Z"
   },
   {
    "duration": 11,
    "start_time": "2023-01-12T20:53:02.454Z"
   },
   {
    "duration": 6,
    "start_time": "2023-01-12T20:53:02.467Z"
   },
   {
    "duration": 72,
    "start_time": "2023-01-12T20:53:02.475Z"
   },
   {
    "duration": 19,
    "start_time": "2023-01-12T20:53:38.930Z"
   },
   {
    "duration": 16,
    "start_time": "2023-01-12T20:54:02.220Z"
   },
   {
    "duration": 14,
    "start_time": "2023-01-12T20:54:39.090Z"
   },
   {
    "duration": 0,
    "start_time": "2023-01-12T21:02:55.879Z"
   },
   {
    "duration": 1219,
    "start_time": "2023-01-12T21:02:55.968Z"
   },
   {
    "duration": 15,
    "start_time": "2023-01-12T21:02:57.190Z"
   },
   {
    "duration": 31,
    "start_time": "2023-01-12T21:02:57.207Z"
   },
   {
    "duration": 9,
    "start_time": "2023-01-12T21:02:57.239Z"
   },
   {
    "duration": 9,
    "start_time": "2023-01-12T21:02:57.250Z"
   },
   {
    "duration": 14,
    "start_time": "2023-01-12T21:02:57.261Z"
   },
   {
    "duration": 85,
    "start_time": "2023-01-12T21:02:57.277Z"
   },
   {
    "duration": 5,
    "start_time": "2023-01-12T21:02:57.364Z"
   },
   {
    "duration": 11,
    "start_time": "2023-01-12T21:02:57.371Z"
   },
   {
    "duration": 29,
    "start_time": "2023-01-12T21:02:57.384Z"
   },
   {
    "duration": 18,
    "start_time": "2023-01-12T21:02:57.415Z"
   },
   {
    "duration": 5,
    "start_time": "2023-01-12T21:02:57.435Z"
   },
   {
    "duration": 7,
    "start_time": "2023-01-12T21:02:57.441Z"
   },
   {
    "duration": 5,
    "start_time": "2023-01-12T21:02:57.451Z"
   },
   {
    "duration": 7,
    "start_time": "2023-01-12T21:02:57.457Z"
   },
   {
    "duration": 12,
    "start_time": "2023-01-12T21:02:57.466Z"
   },
   {
    "duration": 229,
    "start_time": "2023-01-12T21:02:57.512Z"
   },
   {
    "duration": 5,
    "start_time": "2023-01-12T21:02:57.743Z"
   },
   {
    "duration": 10,
    "start_time": "2023-01-12T21:02:57.750Z"
   },
   {
    "duration": 10,
    "start_time": "2023-01-12T21:02:57.762Z"
   },
   {
    "duration": 14,
    "start_time": "2023-01-12T21:02:57.774Z"
   },
   {
    "duration": 34,
    "start_time": "2023-01-12T21:02:57.790Z"
   },
   {
    "duration": 10,
    "start_time": "2023-01-12T21:02:57.825Z"
   },
   {
    "duration": 220,
    "start_time": "2023-01-12T21:02:57.837Z"
   },
   {
    "duration": 67,
    "start_time": "2023-01-12T21:11:37.373Z"
   },
   {
    "duration": 5,
    "start_time": "2023-01-12T21:11:45.324Z"
   },
   {
    "duration": 1213,
    "start_time": "2023-01-12T21:14:16.143Z"
   },
   {
    "duration": 13,
    "start_time": "2023-01-12T21:14:17.358Z"
   },
   {
    "duration": 31,
    "start_time": "2023-01-12T21:14:17.372Z"
   },
   {
    "duration": 21,
    "start_time": "2023-01-12T21:14:17.404Z"
   },
   {
    "duration": 32,
    "start_time": "2023-01-12T21:14:17.427Z"
   },
   {
    "duration": 16,
    "start_time": "2023-01-12T21:14:17.461Z"
   },
   {
    "duration": 61,
    "start_time": "2023-01-12T21:14:17.479Z"
   },
   {
    "duration": 4,
    "start_time": "2023-01-12T21:14:17.542Z"
   },
   {
    "duration": 20,
    "start_time": "2023-01-12T21:14:17.548Z"
   },
   {
    "duration": 29,
    "start_time": "2023-01-12T21:14:17.569Z"
   },
   {
    "duration": 18,
    "start_time": "2023-01-12T21:14:17.600Z"
   },
   {
    "duration": 17,
    "start_time": "2023-01-12T21:14:17.619Z"
   },
   {
    "duration": 16,
    "start_time": "2023-01-12T21:14:17.638Z"
   },
   {
    "duration": 15,
    "start_time": "2023-01-12T21:14:17.656Z"
   },
   {
    "duration": 27,
    "start_time": "2023-01-12T21:14:17.673Z"
   },
   {
    "duration": 23,
    "start_time": "2023-01-12T21:14:17.702Z"
   },
   {
    "duration": 242,
    "start_time": "2023-01-12T21:14:17.726Z"
   },
   {
    "duration": 4,
    "start_time": "2023-01-12T21:14:17.970Z"
   },
   {
    "duration": 21,
    "start_time": "2023-01-12T21:14:17.976Z"
   },
   {
    "duration": 31,
    "start_time": "2023-01-12T21:14:17.999Z"
   },
   {
    "duration": 1035,
    "start_time": "2023-01-12T21:14:18.031Z"
   },
   {
    "duration": 0,
    "start_time": "2023-01-12T21:14:19.068Z"
   },
   {
    "duration": 0,
    "start_time": "2023-01-12T21:14:19.070Z"
   },
   {
    "duration": 0,
    "start_time": "2023-01-12T21:14:19.071Z"
   },
   {
    "duration": 11,
    "start_time": "2023-01-12T21:15:03.495Z"
   },
   {
    "duration": 5,
    "start_time": "2023-01-12T21:15:06.933Z"
   },
   {
    "duration": 9,
    "start_time": "2023-01-12T21:15:08.973Z"
   },
   {
    "duration": 237,
    "start_time": "2023-01-12T21:15:13.453Z"
   },
   {
    "duration": 10,
    "start_time": "2023-01-12T21:16:43.825Z"
   },
   {
    "duration": 6,
    "start_time": "2023-01-12T21:16:49.202Z"
   },
   {
    "duration": 15,
    "start_time": "2023-01-12T21:19:09.453Z"
   },
   {
    "duration": 15,
    "start_time": "2023-01-12T21:33:11.130Z"
   },
   {
    "duration": 415,
    "start_time": "2023-01-12T21:33:19.727Z"
   },
   {
    "duration": 11,
    "start_time": "2023-01-12T21:35:47.183Z"
   },
   {
    "duration": 18,
    "start_time": "2023-01-12T21:36:10.625Z"
   },
   {
    "duration": 8,
    "start_time": "2023-01-12T21:43:09.563Z"
   },
   {
    "duration": 59,
    "start_time": "2023-01-12T21:44:08.002Z"
   },
   {
    "duration": 53,
    "start_time": "2023-01-12T21:44:17.013Z"
   },
   {
    "duration": 43,
    "start_time": "2023-01-12T21:44:28.944Z"
   },
   {
    "duration": 39,
    "start_time": "2023-01-12T21:44:35.763Z"
   },
   {
    "duration": 412,
    "start_time": "2023-01-12T21:44:41.589Z"
   },
   {
    "duration": 9,
    "start_time": "2023-01-12T21:51:10.904Z"
   },
   {
    "duration": 7,
    "start_time": "2023-01-12T21:51:20.173Z"
   },
   {
    "duration": 9,
    "start_time": "2023-01-12T21:51:54.593Z"
   },
   {
    "duration": 7,
    "start_time": "2023-01-12T21:52:11.763Z"
   },
   {
    "duration": 13,
    "start_time": "2023-01-12T21:57:23.164Z"
   },
   {
    "duration": 15,
    "start_time": "2023-01-12T21:57:45.943Z"
   },
   {
    "duration": 12,
    "start_time": "2023-01-12T21:58:07.653Z"
   },
   {
    "duration": 16,
    "start_time": "2023-01-12T21:58:24.413Z"
   },
   {
    "duration": 14,
    "start_time": "2023-01-12T21:58:34.353Z"
   },
   {
    "duration": 15,
    "start_time": "2023-01-12T21:59:01.054Z"
   },
   {
    "duration": 17,
    "start_time": "2023-01-12T21:59:15.728Z"
   },
   {
    "duration": 8,
    "start_time": "2023-01-12T22:10:35.385Z"
   },
   {
    "duration": 313,
    "start_time": "2023-01-12T22:10:54.520Z"
   },
   {
    "duration": 8,
    "start_time": "2023-01-12T22:14:05.575Z"
   },
   {
    "duration": 8,
    "start_time": "2023-01-12T22:14:18.685Z"
   },
   {
    "duration": 29,
    "start_time": "2023-01-12T22:24:34.136Z"
   },
   {
    "duration": 8,
    "start_time": "2023-01-12T22:24:37.986Z"
   },
   {
    "duration": 14,
    "start_time": "2023-01-12T22:27:33.897Z"
   },
   {
    "duration": 11,
    "start_time": "2023-01-12T22:27:58.996Z"
   },
   {
    "duration": 8,
    "start_time": "2023-01-12T22:43:50.376Z"
   },
   {
    "duration": 27,
    "start_time": "2023-01-12T22:46:12.777Z"
   },
   {
    "duration": 18,
    "start_time": "2023-01-12T22:46:31.046Z"
   },
   {
    "duration": 16,
    "start_time": "2023-01-12T22:46:44.006Z"
   },
   {
    "duration": 2381,
    "start_time": "2023-01-12T22:47:28.436Z"
   },
   {
    "duration": 17,
    "start_time": "2023-01-12T22:47:30.820Z"
   },
   {
    "duration": 50,
    "start_time": "2023-01-12T22:47:30.838Z"
   },
   {
    "duration": 21,
    "start_time": "2023-01-12T22:47:30.890Z"
   },
   {
    "duration": 16,
    "start_time": "2023-01-12T22:47:30.914Z"
   },
   {
    "duration": 40,
    "start_time": "2023-01-12T22:47:30.932Z"
   },
   {
    "duration": 88,
    "start_time": "2023-01-12T22:47:30.974Z"
   },
   {
    "duration": 5,
    "start_time": "2023-01-12T22:47:31.065Z"
   },
   {
    "duration": 27,
    "start_time": "2023-01-12T22:47:31.072Z"
   },
   {
    "duration": 16,
    "start_time": "2023-01-12T22:47:31.101Z"
   },
   {
    "duration": 21,
    "start_time": "2023-01-12T22:47:31.119Z"
   },
   {
    "duration": 13,
    "start_time": "2023-01-12T22:47:31.142Z"
   },
   {
    "duration": 13,
    "start_time": "2023-01-12T22:47:31.156Z"
   },
   {
    "duration": 12,
    "start_time": "2023-01-12T22:47:31.172Z"
   },
   {
    "duration": 29,
    "start_time": "2023-01-12T22:47:31.186Z"
   },
   {
    "duration": 18,
    "start_time": "2023-01-12T22:47:31.217Z"
   },
   {
    "duration": 231,
    "start_time": "2023-01-12T22:47:31.237Z"
   },
   {
    "duration": 5,
    "start_time": "2023-01-12T22:47:31.470Z"
   },
   {
    "duration": 12,
    "start_time": "2023-01-12T22:47:31.477Z"
   },
   {
    "duration": 20,
    "start_time": "2023-01-12T22:47:31.491Z"
   },
   {
    "duration": 21,
    "start_time": "2023-01-12T22:47:31.513Z"
   },
   {
    "duration": 16,
    "start_time": "2023-01-12T22:47:31.536Z"
   },
   {
    "duration": 21,
    "start_time": "2023-01-12T22:47:31.553Z"
   },
   {
    "duration": 9,
    "start_time": "2023-01-12T22:47:31.575Z"
   },
   {
    "duration": 217,
    "start_time": "2023-01-12T22:47:31.585Z"
   },
   {
    "duration": 11,
    "start_time": "2023-01-12T22:47:31.804Z"
   },
   {
    "duration": 412,
    "start_time": "2023-01-12T22:47:31.817Z"
   },
   {
    "duration": 121,
    "start_time": "2023-01-12T22:47:32.230Z"
   },
   {
    "duration": 0,
    "start_time": "2023-01-12T22:47:32.353Z"
   },
   {
    "duration": 0,
    "start_time": "2023-01-12T22:47:32.354Z"
   },
   {
    "duration": 0,
    "start_time": "2023-01-12T22:47:32.355Z"
   },
   {
    "duration": 16,
    "start_time": "2023-01-12T22:47:43.245Z"
   },
   {
    "duration": 16,
    "start_time": "2023-01-12T22:47:57.445Z"
   },
   {
    "duration": 8,
    "start_time": "2023-01-12T22:48:31.635Z"
   },
   {
    "duration": 18,
    "start_time": "2023-01-12T22:50:08.005Z"
   },
   {
    "duration": 7,
    "start_time": "2023-01-12T22:51:48.967Z"
   },
   {
    "duration": 379,
    "start_time": "2023-01-12T22:51:50.845Z"
   },
   {
    "duration": 1158,
    "start_time": "2023-01-12T22:53:36.447Z"
   },
   {
    "duration": 18,
    "start_time": "2023-01-12T22:53:37.607Z"
   },
   {
    "duration": 28,
    "start_time": "2023-01-12T22:53:37.627Z"
   },
   {
    "duration": 11,
    "start_time": "2023-01-12T22:53:37.657Z"
   },
   {
    "duration": 43,
    "start_time": "2023-01-12T22:53:37.671Z"
   },
   {
    "duration": 25,
    "start_time": "2023-01-12T22:53:37.716Z"
   },
   {
    "duration": 107,
    "start_time": "2023-01-12T22:53:37.744Z"
   },
   {
    "duration": 6,
    "start_time": "2023-01-12T22:53:37.866Z"
   },
   {
    "duration": 19,
    "start_time": "2023-01-12T22:53:37.874Z"
   },
   {
    "duration": 13,
    "start_time": "2023-01-12T22:53:37.895Z"
   },
   {
    "duration": 15,
    "start_time": "2023-01-12T22:53:37.909Z"
   },
   {
    "duration": 5,
    "start_time": "2023-01-12T22:53:37.926Z"
   },
   {
    "duration": 8,
    "start_time": "2023-01-12T22:53:37.933Z"
   },
   {
    "duration": 8,
    "start_time": "2023-01-12T22:53:37.945Z"
   },
   {
    "duration": 6,
    "start_time": "2023-01-12T22:53:37.955Z"
   },
   {
    "duration": 14,
    "start_time": "2023-01-12T22:53:37.963Z"
   },
   {
    "duration": 218,
    "start_time": "2023-01-12T22:53:38.012Z"
   },
   {
    "duration": 5,
    "start_time": "2023-01-12T22:53:38.232Z"
   },
   {
    "duration": 18,
    "start_time": "2023-01-12T22:53:38.239Z"
   },
   {
    "duration": 8,
    "start_time": "2023-01-12T22:53:38.259Z"
   },
   {
    "duration": 13,
    "start_time": "2023-01-12T22:53:38.268Z"
   },
   {
    "duration": 5,
    "start_time": "2023-01-12T22:53:38.283Z"
   },
   {
    "duration": 14,
    "start_time": "2023-01-12T22:53:38.313Z"
   },
   {
    "duration": 12,
    "start_time": "2023-01-12T22:53:38.329Z"
   },
   {
    "duration": 213,
    "start_time": "2023-01-12T22:53:38.343Z"
   },
   {
    "duration": 7,
    "start_time": "2023-01-12T22:53:38.558Z"
   },
   {
    "duration": 378,
    "start_time": "2023-01-12T22:53:38.567Z"
   },
   {
    "duration": 19,
    "start_time": "2023-01-12T22:53:38.947Z"
   },
   {
    "duration": 7,
    "start_time": "2023-01-12T22:53:38.968Z"
   },
   {
    "duration": 42,
    "start_time": "2023-01-12T22:53:38.976Z"
   },
   {
    "duration": 9,
    "start_time": "2023-01-12T22:53:39.020Z"
   },
   {
    "duration": 100,
    "start_time": "2023-01-12T22:54:45.175Z"
   },
   {
    "duration": 21,
    "start_time": "2023-01-12T22:54:58.005Z"
   },
   {
    "duration": 14,
    "start_time": "2023-01-12T22:55:20.215Z"
   },
   {
    "duration": 1241,
    "start_time": "2023-01-12T22:55:55.608Z"
   },
   {
    "duration": 18,
    "start_time": "2023-01-12T22:55:56.857Z"
   },
   {
    "duration": 41,
    "start_time": "2023-01-12T22:55:56.877Z"
   },
   {
    "duration": 10,
    "start_time": "2023-01-12T22:55:56.920Z"
   },
   {
    "duration": 10,
    "start_time": "2023-01-12T22:55:56.932Z"
   },
   {
    "duration": 16,
    "start_time": "2023-01-12T22:55:56.944Z"
   },
   {
    "duration": 85,
    "start_time": "2023-01-12T22:55:56.961Z"
   },
   {
    "duration": 5,
    "start_time": "2023-01-12T22:55:57.048Z"
   },
   {
    "duration": 9,
    "start_time": "2023-01-12T22:55:57.054Z"
   },
   {
    "duration": 8,
    "start_time": "2023-01-12T22:55:57.064Z"
   },
   {
    "duration": 9,
    "start_time": "2023-01-12T22:55:57.074Z"
   },
   {
    "duration": 4,
    "start_time": "2023-01-12T22:55:57.112Z"
   },
   {
    "duration": 8,
    "start_time": "2023-01-12T22:55:57.118Z"
   },
   {
    "duration": 4,
    "start_time": "2023-01-12T22:55:57.129Z"
   },
   {
    "duration": 6,
    "start_time": "2023-01-12T22:55:57.134Z"
   },
   {
    "duration": 15,
    "start_time": "2023-01-12T22:55:57.142Z"
   },
   {
    "duration": 254,
    "start_time": "2023-01-12T22:55:57.158Z"
   },
   {
    "duration": 5,
    "start_time": "2023-01-12T22:55:57.413Z"
   },
   {
    "duration": 19,
    "start_time": "2023-01-12T22:55:57.420Z"
   },
   {
    "duration": 31,
    "start_time": "2023-01-12T22:55:57.441Z"
   },
   {
    "duration": 10,
    "start_time": "2023-01-12T22:55:57.474Z"
   },
   {
    "duration": 4,
    "start_time": "2023-01-12T22:55:57.486Z"
   },
   {
    "duration": 14,
    "start_time": "2023-01-12T22:55:57.492Z"
   },
   {
    "duration": 11,
    "start_time": "2023-01-12T22:55:57.513Z"
   },
   {
    "duration": 220,
    "start_time": "2023-01-12T22:55:57.526Z"
   },
   {
    "duration": 7,
    "start_time": "2023-01-12T22:55:57.748Z"
   },
   {
    "duration": 371,
    "start_time": "2023-01-12T22:55:57.757Z"
   },
   {
    "duration": 16,
    "start_time": "2023-01-12T22:55:58.130Z"
   },
   {
    "duration": 7,
    "start_time": "2023-01-12T22:55:58.148Z"
   },
   {
    "duration": 20,
    "start_time": "2023-01-12T22:55:58.157Z"
   },
   {
    "duration": 37,
    "start_time": "2023-01-12T22:55:58.179Z"
   },
   {
    "duration": 1155,
    "start_time": "2023-01-12T23:00:43.680Z"
   },
   {
    "duration": 15,
    "start_time": "2023-01-12T23:00:44.838Z"
   },
   {
    "duration": 33,
    "start_time": "2023-01-12T23:00:44.855Z"
   },
   {
    "duration": 26,
    "start_time": "2023-01-12T23:00:44.891Z"
   },
   {
    "duration": 14,
    "start_time": "2023-01-12T23:00:44.919Z"
   },
   {
    "duration": 31,
    "start_time": "2023-01-12T23:00:44.934Z"
   },
   {
    "duration": 76,
    "start_time": "2023-01-12T23:00:44.967Z"
   },
   {
    "duration": 5,
    "start_time": "2023-01-12T23:00:45.045Z"
   },
   {
    "duration": 21,
    "start_time": "2023-01-12T23:00:45.052Z"
   },
   {
    "duration": 21,
    "start_time": "2023-01-12T23:00:45.075Z"
   },
   {
    "duration": 21,
    "start_time": "2023-01-12T23:00:45.098Z"
   },
   {
    "duration": 5,
    "start_time": "2023-01-12T23:00:45.121Z"
   },
   {
    "duration": 11,
    "start_time": "2023-01-12T23:00:45.128Z"
   },
   {
    "duration": 7,
    "start_time": "2023-01-12T23:00:45.141Z"
   },
   {
    "duration": 17,
    "start_time": "2023-01-12T23:00:45.150Z"
   },
   {
    "duration": 14,
    "start_time": "2023-01-12T23:00:45.169Z"
   },
   {
    "duration": 262,
    "start_time": "2023-01-12T23:00:45.184Z"
   },
   {
    "duration": 5,
    "start_time": "2023-01-12T23:00:45.448Z"
   },
   {
    "duration": 9,
    "start_time": "2023-01-12T23:00:45.455Z"
   },
   {
    "duration": 10,
    "start_time": "2023-01-12T23:00:45.466Z"
   },
   {
    "duration": 10,
    "start_time": "2023-01-12T23:00:45.478Z"
   },
   {
    "duration": 5,
    "start_time": "2023-01-12T23:00:45.513Z"
   },
   {
    "duration": 15,
    "start_time": "2023-01-12T23:00:45.520Z"
   },
   {
    "duration": 10,
    "start_time": "2023-01-12T23:00:45.537Z"
   },
   {
    "duration": 243,
    "start_time": "2023-01-12T23:00:45.548Z"
   },
   {
    "duration": 19,
    "start_time": "2023-01-12T23:00:45.793Z"
   },
   {
    "duration": 382,
    "start_time": "2023-01-12T23:00:45.814Z"
   },
   {
    "duration": 25,
    "start_time": "2023-01-12T23:00:46.200Z"
   },
   {
    "duration": 8,
    "start_time": "2023-01-12T23:00:46.226Z"
   },
   {
    "duration": 7,
    "start_time": "2023-01-12T23:00:46.236Z"
   },
   {
    "duration": 15,
    "start_time": "2023-01-12T23:00:46.245Z"
   },
   {
    "duration": 1255,
    "start_time": "2023-01-12T23:05:24.000Z"
   },
   {
    "duration": 18,
    "start_time": "2023-01-12T23:05:25.257Z"
   },
   {
    "duration": 45,
    "start_time": "2023-01-12T23:05:25.277Z"
   },
   {
    "duration": 13,
    "start_time": "2023-01-12T23:05:25.324Z"
   },
   {
    "duration": 17,
    "start_time": "2023-01-12T23:05:25.339Z"
   },
   {
    "duration": 14,
    "start_time": "2023-01-12T23:05:25.358Z"
   },
   {
    "duration": 79,
    "start_time": "2023-01-12T23:05:25.373Z"
   },
   {
    "duration": 5,
    "start_time": "2023-01-12T23:05:25.453Z"
   },
   {
    "duration": 9,
    "start_time": "2023-01-12T23:05:25.460Z"
   },
   {
    "duration": 10,
    "start_time": "2023-01-12T23:05:25.471Z"
   },
   {
    "duration": 34,
    "start_time": "2023-01-12T23:05:25.482Z"
   },
   {
    "duration": 4,
    "start_time": "2023-01-12T23:05:25.518Z"
   },
   {
    "duration": 12,
    "start_time": "2023-01-12T23:05:25.523Z"
   },
   {
    "duration": 10,
    "start_time": "2023-01-12T23:05:25.537Z"
   },
   {
    "duration": 8,
    "start_time": "2023-01-12T23:05:25.549Z"
   },
   {
    "duration": 15,
    "start_time": "2023-01-12T23:05:25.559Z"
   },
   {
    "duration": 284,
    "start_time": "2023-01-12T23:05:25.576Z"
   },
   {
    "duration": 5,
    "start_time": "2023-01-12T23:05:25.862Z"
   },
   {
    "duration": 12,
    "start_time": "2023-01-12T23:05:25.869Z"
   },
   {
    "duration": 12,
    "start_time": "2023-01-12T23:05:25.882Z"
   },
   {
    "duration": 23,
    "start_time": "2023-01-12T23:05:25.896Z"
   },
   {
    "duration": 4,
    "start_time": "2023-01-12T23:05:25.921Z"
   },
   {
    "duration": 25,
    "start_time": "2023-01-12T23:05:25.927Z"
   },
   {
    "duration": 12,
    "start_time": "2023-01-12T23:05:25.954Z"
   },
   {
    "duration": 233,
    "start_time": "2023-01-12T23:05:25.968Z"
   },
   {
    "duration": 13,
    "start_time": "2023-01-12T23:05:26.203Z"
   },
   {
    "duration": 423,
    "start_time": "2023-01-12T23:05:26.218Z"
   },
   {
    "duration": 17,
    "start_time": "2023-01-12T23:05:26.643Z"
   },
   {
    "duration": 12,
    "start_time": "2023-01-12T23:05:26.661Z"
   },
   {
    "duration": 33,
    "start_time": "2023-01-12T23:05:26.675Z"
   },
   {
    "duration": 30,
    "start_time": "2023-01-12T23:05:26.710Z"
   },
   {
    "duration": 1204,
    "start_time": "2023-01-12T23:06:10.110Z"
   },
   {
    "duration": 19,
    "start_time": "2023-01-12T23:06:11.317Z"
   },
   {
    "duration": 53,
    "start_time": "2023-01-12T23:06:11.338Z"
   },
   {
    "duration": 20,
    "start_time": "2023-01-12T23:06:11.394Z"
   },
   {
    "duration": 20,
    "start_time": "2023-01-12T23:06:11.416Z"
   },
   {
    "duration": 18,
    "start_time": "2023-01-12T23:06:11.438Z"
   },
   {
    "duration": 68,
    "start_time": "2023-01-12T23:06:11.458Z"
   },
   {
    "duration": 6,
    "start_time": "2023-01-12T23:06:11.528Z"
   },
   {
    "duration": 12,
    "start_time": "2023-01-12T23:06:11.536Z"
   },
   {
    "duration": 23,
    "start_time": "2023-01-12T23:06:11.551Z"
   },
   {
    "duration": 23,
    "start_time": "2023-01-12T23:06:11.576Z"
   },
   {
    "duration": 19,
    "start_time": "2023-01-12T23:06:11.601Z"
   },
   {
    "duration": 37,
    "start_time": "2023-01-12T23:06:11.621Z"
   },
   {
    "duration": 36,
    "start_time": "2023-01-12T23:06:11.661Z"
   },
   {
    "duration": 12,
    "start_time": "2023-01-12T23:06:11.700Z"
   },
   {
    "duration": 24,
    "start_time": "2023-01-12T23:06:11.714Z"
   },
   {
    "duration": 219,
    "start_time": "2023-01-12T23:06:11.740Z"
   },
   {
    "duration": 5,
    "start_time": "2023-01-12T23:06:11.960Z"
   },
   {
    "duration": 29,
    "start_time": "2023-01-12T23:06:11.966Z"
   },
   {
    "duration": 23,
    "start_time": "2023-01-12T23:06:11.996Z"
   },
   {
    "duration": 28,
    "start_time": "2023-01-12T23:06:12.021Z"
   },
   {
    "duration": 17,
    "start_time": "2023-01-12T23:06:12.051Z"
   },
   {
    "duration": 47,
    "start_time": "2023-01-12T23:06:12.069Z"
   },
   {
    "duration": 30,
    "start_time": "2023-01-12T23:06:12.117Z"
   },
   {
    "duration": 227,
    "start_time": "2023-01-12T23:06:12.148Z"
   },
   {
    "duration": 9,
    "start_time": "2023-01-12T23:06:12.377Z"
   },
   {
    "duration": 377,
    "start_time": "2023-01-12T23:06:12.388Z"
   },
   {
    "duration": 15,
    "start_time": "2023-01-12T23:06:12.768Z"
   },
   {
    "duration": 19,
    "start_time": "2023-01-12T23:06:12.785Z"
   },
   {
    "duration": 11,
    "start_time": "2023-01-12T23:06:12.812Z"
   },
   {
    "duration": 18,
    "start_time": "2023-01-12T23:06:12.824Z"
   },
   {
    "duration": 1158,
    "start_time": "2023-01-12T23:10:51.955Z"
   },
   {
    "duration": 14,
    "start_time": "2023-01-12T23:10:53.116Z"
   },
   {
    "duration": 28,
    "start_time": "2023-01-12T23:10:53.132Z"
   },
   {
    "duration": 9,
    "start_time": "2023-01-12T23:10:53.163Z"
   },
   {
    "duration": 16,
    "start_time": "2023-01-12T23:10:53.173Z"
   },
   {
    "duration": 36,
    "start_time": "2023-01-12T23:10:53.190Z"
   },
   {
    "duration": 57,
    "start_time": "2023-01-12T23:10:53.227Z"
   },
   {
    "duration": 5,
    "start_time": "2023-01-12T23:10:53.285Z"
   },
   {
    "duration": 27,
    "start_time": "2023-01-12T23:10:53.292Z"
   },
   {
    "duration": 8,
    "start_time": "2023-01-12T23:10:53.323Z"
   },
   {
    "duration": 14,
    "start_time": "2023-01-12T23:10:53.334Z"
   },
   {
    "duration": 7,
    "start_time": "2023-01-12T23:10:53.350Z"
   },
   {
    "duration": 19,
    "start_time": "2023-01-12T23:10:53.358Z"
   },
   {
    "duration": 10,
    "start_time": "2023-01-12T23:10:53.379Z"
   },
   {
    "duration": 23,
    "start_time": "2023-01-12T23:10:53.390Z"
   },
   {
    "duration": 14,
    "start_time": "2023-01-12T23:10:53.415Z"
   },
   {
    "duration": 231,
    "start_time": "2023-01-12T23:10:53.431Z"
   },
   {
    "duration": 4,
    "start_time": "2023-01-12T23:10:53.664Z"
   },
   {
    "duration": 12,
    "start_time": "2023-01-12T23:10:53.670Z"
   },
   {
    "duration": 32,
    "start_time": "2023-01-12T23:10:53.683Z"
   },
   {
    "duration": 32,
    "start_time": "2023-01-12T23:10:53.716Z"
   },
   {
    "duration": 13,
    "start_time": "2023-01-12T23:10:53.749Z"
   },
   {
    "duration": 17,
    "start_time": "2023-01-12T23:10:53.764Z"
   },
   {
    "duration": 9,
    "start_time": "2023-01-12T23:10:53.782Z"
   },
   {
    "duration": 228,
    "start_time": "2023-01-12T23:10:53.792Z"
   },
   {
    "duration": 8,
    "start_time": "2023-01-12T23:10:54.023Z"
   },
   {
    "duration": 357,
    "start_time": "2023-01-12T23:10:54.032Z"
   },
   {
    "duration": 21,
    "start_time": "2023-01-12T23:10:54.392Z"
   },
   {
    "duration": 7,
    "start_time": "2023-01-12T23:10:54.414Z"
   },
   {
    "duration": 11,
    "start_time": "2023-01-12T23:10:54.422Z"
   },
   {
    "duration": 28,
    "start_time": "2023-01-12T23:10:54.434Z"
   },
   {
    "duration": 103,
    "start_time": "2023-01-12T23:23:55.018Z"
   },
   {
    "duration": 214,
    "start_time": "2023-01-12T23:24:02.277Z"
   },
   {
    "duration": 266,
    "start_time": "2023-01-12T23:24:43.448Z"
   },
   {
    "duration": 381,
    "start_time": "2023-01-12T23:24:50.608Z"
   },
   {
    "duration": 419,
    "start_time": "2023-01-12T23:30:48.308Z"
   },
   {
    "duration": 327,
    "start_time": "2023-01-12T23:31:23.088Z"
   },
   {
    "duration": 346,
    "start_time": "2023-01-12T23:31:44.848Z"
   },
   {
    "duration": 4,
    "start_time": "2023-01-12T23:53:28.499Z"
   },
   {
    "duration": 138,
    "start_time": "2023-01-12T23:54:59.479Z"
   },
   {
    "duration": 129,
    "start_time": "2023-01-12T23:55:29.869Z"
   },
   {
    "duration": 238,
    "start_time": "2023-01-12T23:55:43.340Z"
   },
   {
    "duration": 141,
    "start_time": "2023-01-12T23:55:59.359Z"
   },
   {
    "duration": 156,
    "start_time": "2023-01-12T23:57:08.979Z"
   },
   {
    "duration": 155,
    "start_time": "2023-01-12T23:57:22.539Z"
   },
   {
    "duration": 151,
    "start_time": "2023-01-12T23:57:36.932Z"
   },
   {
    "duration": 158,
    "start_time": "2023-01-12T23:57:47.499Z"
   },
   {
    "duration": 151,
    "start_time": "2023-01-12T23:57:59.459Z"
   },
   {
    "duration": 135,
    "start_time": "2023-01-13T00:01:25.928Z"
   },
   {
    "duration": 141,
    "start_time": "2023-01-13T00:02:23.121Z"
   },
   {
    "duration": 289,
    "start_time": "2023-01-13T00:03:39.259Z"
   },
   {
    "duration": 273,
    "start_time": "2023-01-13T00:09:42.489Z"
   },
   {
    "duration": 42,
    "start_time": "2023-01-13T00:25:48.682Z"
   },
   {
    "duration": 34,
    "start_time": "2023-01-13T00:28:27.268Z"
   },
   {
    "duration": 34,
    "start_time": "2023-01-13T00:28:51.089Z"
   },
   {
    "duration": 7,
    "start_time": "2023-01-13T00:30:06.097Z"
   },
   {
    "duration": 7,
    "start_time": "2023-01-13T00:30:20.348Z"
   },
   {
    "duration": 48,
    "start_time": "2023-01-13T00:30:26.225Z"
   },
   {
    "duration": 0,
    "start_time": "2023-01-13T00:30:26.275Z"
   },
   {
    "duration": 0,
    "start_time": "2023-01-13T00:30:26.276Z"
   },
   {
    "duration": 0,
    "start_time": "2023-01-13T00:30:26.277Z"
   },
   {
    "duration": 0,
    "start_time": "2023-01-13T00:30:26.278Z"
   },
   {
    "duration": 0,
    "start_time": "2023-01-13T00:30:26.279Z"
   },
   {
    "duration": 0,
    "start_time": "2023-01-13T00:30:26.280Z"
   },
   {
    "duration": 0,
    "start_time": "2023-01-13T00:30:26.282Z"
   },
   {
    "duration": 0,
    "start_time": "2023-01-13T00:30:26.283Z"
   },
   {
    "duration": 0,
    "start_time": "2023-01-13T00:30:26.286Z"
   },
   {
    "duration": 0,
    "start_time": "2023-01-13T00:30:26.288Z"
   },
   {
    "duration": 0,
    "start_time": "2023-01-13T00:30:26.289Z"
   },
   {
    "duration": 0,
    "start_time": "2023-01-13T00:30:26.291Z"
   },
   {
    "duration": 0,
    "start_time": "2023-01-13T00:30:26.292Z"
   },
   {
    "duration": 0,
    "start_time": "2023-01-13T00:30:26.293Z"
   },
   {
    "duration": 0,
    "start_time": "2023-01-13T00:30:26.295Z"
   },
   {
    "duration": 0,
    "start_time": "2023-01-13T00:30:26.296Z"
   },
   {
    "duration": 0,
    "start_time": "2023-01-13T00:30:26.298Z"
   },
   {
    "duration": 0,
    "start_time": "2023-01-13T00:30:26.299Z"
   },
   {
    "duration": 0,
    "start_time": "2023-01-13T00:30:26.301Z"
   },
   {
    "duration": 67,
    "start_time": "2023-01-13T00:30:26.305Z"
   },
   {
    "duration": 0,
    "start_time": "2023-01-13T00:30:26.375Z"
   },
   {
    "duration": 0,
    "start_time": "2023-01-13T00:30:26.376Z"
   },
   {
    "duration": 0,
    "start_time": "2023-01-13T00:30:26.411Z"
   },
   {
    "duration": 0,
    "start_time": "2023-01-13T00:30:26.412Z"
   },
   {
    "duration": 0,
    "start_time": "2023-01-13T00:30:26.413Z"
   },
   {
    "duration": 0,
    "start_time": "2023-01-13T00:30:26.415Z"
   },
   {
    "duration": 0,
    "start_time": "2023-01-13T00:30:26.418Z"
   },
   {
    "duration": 0,
    "start_time": "2023-01-13T00:30:26.419Z"
   },
   {
    "duration": 0,
    "start_time": "2023-01-13T00:30:26.420Z"
   },
   {
    "duration": 0,
    "start_time": "2023-01-13T00:30:26.420Z"
   },
   {
    "duration": 0,
    "start_time": "2023-01-13T00:30:26.422Z"
   },
   {
    "duration": 0,
    "start_time": "2023-01-13T00:30:26.424Z"
   },
   {
    "duration": 0,
    "start_time": "2023-01-13T00:30:26.425Z"
   },
   {
    "duration": 0,
    "start_time": "2023-01-13T00:30:26.427Z"
   },
   {
    "duration": 0,
    "start_time": "2023-01-13T00:30:26.428Z"
   },
   {
    "duration": 1234,
    "start_time": "2023-01-13T00:31:22.283Z"
   },
   {
    "duration": 13,
    "start_time": "2023-01-13T00:31:23.519Z"
   },
   {
    "duration": 33,
    "start_time": "2023-01-13T00:31:23.534Z"
   },
   {
    "duration": 9,
    "start_time": "2023-01-13T00:31:23.568Z"
   },
   {
    "duration": 12,
    "start_time": "2023-01-13T00:31:23.579Z"
   },
   {
    "duration": 14,
    "start_time": "2023-01-13T00:31:23.613Z"
   },
   {
    "duration": 55,
    "start_time": "2023-01-13T00:31:23.628Z"
   },
   {
    "duration": 5,
    "start_time": "2023-01-13T00:31:23.685Z"
   },
   {
    "duration": 7,
    "start_time": "2023-01-13T00:31:23.713Z"
   },
   {
    "duration": 8,
    "start_time": "2023-01-13T00:31:23.722Z"
   },
   {
    "duration": 10,
    "start_time": "2023-01-13T00:31:23.732Z"
   },
   {
    "duration": 4,
    "start_time": "2023-01-13T00:31:23.744Z"
   },
   {
    "duration": 7,
    "start_time": "2023-01-13T00:31:23.750Z"
   },
   {
    "duration": 4,
    "start_time": "2023-01-13T00:31:23.761Z"
   },
   {
    "duration": 49,
    "start_time": "2023-01-13T00:31:23.766Z"
   },
   {
    "duration": 12,
    "start_time": "2023-01-13T00:31:23.817Z"
   },
   {
    "duration": 221,
    "start_time": "2023-01-13T00:31:23.831Z"
   },
   {
    "duration": 5,
    "start_time": "2023-01-13T00:31:24.054Z"
   },
   {
    "duration": 8,
    "start_time": "2023-01-13T00:31:24.061Z"
   },
   {
    "duration": 12,
    "start_time": "2023-01-13T00:31:24.071Z"
   },
   {
    "duration": 27,
    "start_time": "2023-01-13T00:31:24.085Z"
   },
   {
    "duration": 12,
    "start_time": "2023-01-13T00:31:24.114Z"
   },
   {
    "duration": 23,
    "start_time": "2023-01-13T00:31:24.128Z"
   },
   {
    "duration": 20,
    "start_time": "2023-01-13T00:31:24.154Z"
   },
   {
    "duration": 217,
    "start_time": "2023-01-13T00:31:24.176Z"
   },
   {
    "duration": 17,
    "start_time": "2023-01-13T00:31:24.395Z"
   },
   {
    "duration": 373,
    "start_time": "2023-01-13T00:31:24.414Z"
   },
   {
    "duration": 24,
    "start_time": "2023-01-13T00:31:24.788Z"
   },
   {
    "duration": 8,
    "start_time": "2023-01-13T00:31:24.813Z"
   },
   {
    "duration": 16,
    "start_time": "2023-01-13T00:31:24.823Z"
   },
   {
    "duration": 15,
    "start_time": "2023-01-13T00:31:24.841Z"
   },
   {
    "duration": 328,
    "start_time": "2023-01-13T00:31:24.858Z"
   },
   {
    "duration": 317,
    "start_time": "2023-01-13T00:31:25.188Z"
   },
   {
    "duration": 245,
    "start_time": "2023-01-13T00:31:25.506Z"
   },
   {
    "duration": 286,
    "start_time": "2023-01-13T00:31:25.753Z"
   },
   {
    "duration": 139,
    "start_time": "2023-01-13T00:31:26.041Z"
   },
   {
    "duration": 30,
    "start_time": "2023-01-13T00:31:44.251Z"
   },
   {
    "duration": 31,
    "start_time": "2023-01-13T00:31:56.753Z"
   },
   {
    "duration": 47,
    "start_time": "2023-01-13T00:32:03.142Z"
   },
   {
    "duration": 311,
    "start_time": "2023-01-13T00:41:17.850Z"
   },
   {
    "duration": 16,
    "start_time": "2023-01-13T00:44:44.570Z"
   },
   {
    "duration": 843,
    "start_time": "2023-01-13T00:46:07.391Z"
   },
   {
    "duration": 1013,
    "start_time": "2023-01-13T00:46:25.190Z"
   },
   {
    "duration": 1093,
    "start_time": "2023-01-13T00:50:59.060Z"
   },
   {
    "duration": 358,
    "start_time": "2023-01-13T00:55:37.920Z"
   },
   {
    "duration": 16,
    "start_time": "2023-01-13T00:58:25.730Z"
   },
   {
    "duration": 15,
    "start_time": "2023-01-13T00:58:42.749Z"
   },
   {
    "duration": 375,
    "start_time": "2023-01-13T00:59:21.140Z"
   },
   {
    "duration": 239,
    "start_time": "2023-01-13T00:59:43.800Z"
   },
   {
    "duration": 179,
    "start_time": "2023-01-13T01:00:20.230Z"
   },
   {
    "duration": 16,
    "start_time": "2023-01-13T01:03:04.899Z"
   },
   {
    "duration": 421,
    "start_time": "2023-01-13T01:35:16.960Z"
   },
   {
    "duration": 446,
    "start_time": "2023-01-13T01:40:16.930Z"
   },
   {
    "duration": 1123,
    "start_time": "2023-01-13T01:40:48.910Z"
   },
   {
    "duration": 428,
    "start_time": "2023-01-13T01:43:36.270Z"
   },
   {
    "duration": 387,
    "start_time": "2023-01-13T02:13:18.449Z"
   },
   {
    "duration": 17,
    "start_time": "2023-01-13T02:18:33.509Z"
   },
   {
    "duration": 16,
    "start_time": "2023-01-13T02:19:08.739Z"
   },
   {
    "duration": 15,
    "start_time": "2023-01-13T02:21:23.189Z"
   },
   {
    "duration": 162,
    "start_time": "2023-01-13T02:23:38.718Z"
   },
   {
    "duration": 135,
    "start_time": "2023-01-13T02:24:01.379Z"
   },
   {
    "duration": 11,
    "start_time": "2023-01-13T02:25:08.819Z"
   },
   {
    "duration": 181,
    "start_time": "2023-01-13T02:25:15.909Z"
   },
   {
    "duration": 164,
    "start_time": "2023-01-13T02:26:16.559Z"
   },
   {
    "duration": 153,
    "start_time": "2023-01-13T02:26:32.329Z"
   },
   {
    "duration": 10,
    "start_time": "2023-01-13T02:27:08.119Z"
   },
   {
    "duration": 178,
    "start_time": "2023-01-13T02:27:13.829Z"
   },
   {
    "duration": 52,
    "start_time": "2023-01-13T07:18:32.933Z"
   },
   {
    "duration": 1670,
    "start_time": "2023-01-13T07:18:53.072Z"
   },
   {
    "duration": 15,
    "start_time": "2023-01-13T07:18:54.745Z"
   },
   {
    "duration": 29,
    "start_time": "2023-01-13T07:18:54.761Z"
   },
   {
    "duration": 8,
    "start_time": "2023-01-13T07:18:54.792Z"
   },
   {
    "duration": 18,
    "start_time": "2023-01-13T07:18:54.802Z"
   },
   {
    "duration": 18,
    "start_time": "2023-01-13T07:18:54.822Z"
   },
   {
    "duration": 60,
    "start_time": "2023-01-13T07:18:54.841Z"
   },
   {
    "duration": 4,
    "start_time": "2023-01-13T07:18:54.903Z"
   },
   {
    "duration": 24,
    "start_time": "2023-01-13T07:18:54.909Z"
   },
   {
    "duration": 25,
    "start_time": "2023-01-13T07:18:54.934Z"
   },
   {
    "duration": 31,
    "start_time": "2023-01-13T07:18:54.961Z"
   },
   {
    "duration": 8,
    "start_time": "2023-01-13T07:18:54.993Z"
   },
   {
    "duration": 14,
    "start_time": "2023-01-13T07:18:55.002Z"
   },
   {
    "duration": 6,
    "start_time": "2023-01-13T07:18:55.019Z"
   },
   {
    "duration": 6,
    "start_time": "2023-01-13T07:18:55.027Z"
   },
   {
    "duration": 15,
    "start_time": "2023-01-13T07:18:55.035Z"
   },
   {
    "duration": 204,
    "start_time": "2023-01-13T07:18:55.051Z"
   },
   {
    "duration": 4,
    "start_time": "2023-01-13T07:18:55.256Z"
   },
   {
    "duration": 17,
    "start_time": "2023-01-13T07:18:55.262Z"
   },
   {
    "duration": 9,
    "start_time": "2023-01-13T07:18:55.281Z"
   },
   {
    "duration": 10,
    "start_time": "2023-01-13T07:18:55.292Z"
   },
   {
    "duration": 9,
    "start_time": "2023-01-13T07:18:55.303Z"
   },
   {
    "duration": 15,
    "start_time": "2023-01-13T07:18:55.313Z"
   },
   {
    "duration": 12,
    "start_time": "2023-01-13T07:18:55.329Z"
   },
   {
    "duration": 212,
    "start_time": "2023-01-13T07:18:55.342Z"
   },
   {
    "duration": 8,
    "start_time": "2023-01-13T07:18:55.556Z"
   },
   {
    "duration": 394,
    "start_time": "2023-01-13T07:18:55.566Z"
   },
   {
    "duration": 14,
    "start_time": "2023-01-13T07:18:55.962Z"
   },
   {
    "duration": 11,
    "start_time": "2023-01-13T07:18:55.977Z"
   },
   {
    "duration": 8,
    "start_time": "2023-01-13T07:18:55.990Z"
   },
   {
    "duration": 14,
    "start_time": "2023-01-13T07:18:55.999Z"
   },
   {
    "duration": 298,
    "start_time": "2023-01-13T07:18:56.015Z"
   },
   {
    "duration": 327,
    "start_time": "2023-01-13T07:18:56.315Z"
   },
   {
    "duration": 211,
    "start_time": "2023-01-13T07:18:56.644Z"
   },
   {
    "duration": 266,
    "start_time": "2023-01-13T07:18:56.856Z"
   },
   {
    "duration": 34,
    "start_time": "2023-01-13T07:18:57.123Z"
   },
   {
    "duration": 265,
    "start_time": "2023-01-13T07:18:57.159Z"
   },
   {
    "duration": 374,
    "start_time": "2023-01-13T07:18:57.426Z"
   },
   {
    "duration": 13,
    "start_time": "2023-01-13T07:18:57.802Z"
   },
   {
    "duration": 491,
    "start_time": "2023-01-13T07:18:57.817Z"
   },
   {
    "duration": 456,
    "start_time": "2023-01-13T07:18:58.312Z"
   },
   {
    "duration": 431,
    "start_time": "2023-01-13T07:18:58.769Z"
   },
   {
    "duration": 174,
    "start_time": "2023-01-13T07:18:59.202Z"
   },
   {
    "duration": 256,
    "start_time": "2023-01-13T07:18:59.377Z"
   },
   {
    "duration": 165,
    "start_time": "2023-01-13T07:18:59.635Z"
   },
   {
    "duration": 188,
    "start_time": "2023-01-13T07:18:59.802Z"
   },
   {
    "duration": 112,
    "start_time": "2023-01-13T07:18:59.992Z"
   },
   {
    "duration": 10,
    "start_time": "2023-01-13T07:33:33.731Z"
   },
   {
    "duration": 12,
    "start_time": "2023-01-13T08:05:54.461Z"
   },
   {
    "duration": 11,
    "start_time": "2023-01-13T08:11:36.411Z"
   },
   {
    "duration": 10,
    "start_time": "2023-01-13T08:13:46.541Z"
   },
   {
    "duration": 13,
    "start_time": "2023-01-13T08:14:02.371Z"
   },
   {
    "duration": 1208,
    "start_time": "2023-01-13T08:15:47.651Z"
   },
   {
    "duration": 15,
    "start_time": "2023-01-13T08:15:48.861Z"
   },
   {
    "duration": 48,
    "start_time": "2023-01-13T08:15:48.878Z"
   },
   {
    "duration": 11,
    "start_time": "2023-01-13T08:15:48.927Z"
   },
   {
    "duration": 22,
    "start_time": "2023-01-13T08:15:48.939Z"
   },
   {
    "duration": 21,
    "start_time": "2023-01-13T08:15:48.962Z"
   },
   {
    "duration": 77,
    "start_time": "2023-01-13T08:15:48.985Z"
   },
   {
    "duration": 18,
    "start_time": "2023-01-13T08:15:49.064Z"
   },
   {
    "duration": 22,
    "start_time": "2023-01-13T08:15:49.083Z"
   },
   {
    "duration": 13,
    "start_time": "2023-01-13T08:15:49.108Z"
   },
   {
    "duration": 16,
    "start_time": "2023-01-13T08:15:49.122Z"
   },
   {
    "duration": 5,
    "start_time": "2023-01-13T08:15:49.140Z"
   },
   {
    "duration": 12,
    "start_time": "2023-01-13T08:15:49.146Z"
   },
   {
    "duration": 19,
    "start_time": "2023-01-13T08:15:49.159Z"
   },
   {
    "duration": 6,
    "start_time": "2023-01-13T08:15:49.180Z"
   },
   {
    "duration": 35,
    "start_time": "2023-01-13T08:15:49.188Z"
   },
   {
    "duration": 231,
    "start_time": "2023-01-13T08:15:49.225Z"
   },
   {
    "duration": 5,
    "start_time": "2023-01-13T08:15:49.458Z"
   },
   {
    "duration": 19,
    "start_time": "2023-01-13T08:15:49.464Z"
   },
   {
    "duration": 17,
    "start_time": "2023-01-13T08:15:49.485Z"
   },
   {
    "duration": 12,
    "start_time": "2023-01-13T08:15:49.504Z"
   },
   {
    "duration": 4,
    "start_time": "2023-01-13T08:15:49.517Z"
   },
   {
    "duration": 12,
    "start_time": "2023-01-13T08:15:49.523Z"
   },
   {
    "duration": 13,
    "start_time": "2023-01-13T08:15:49.536Z"
   },
   {
    "duration": 261,
    "start_time": "2023-01-13T08:15:49.551Z"
   },
   {
    "duration": 9,
    "start_time": "2023-01-13T08:15:49.814Z"
   },
   {
    "duration": 392,
    "start_time": "2023-01-13T08:15:49.824Z"
   },
   {
    "duration": 15,
    "start_time": "2023-01-13T08:15:50.219Z"
   },
   {
    "duration": 8,
    "start_time": "2023-01-13T08:15:50.235Z"
   },
   {
    "duration": 13,
    "start_time": "2023-01-13T08:15:50.244Z"
   },
   {
    "duration": 27,
    "start_time": "2023-01-13T08:15:50.258Z"
   },
   {
    "duration": 316,
    "start_time": "2023-01-13T08:15:50.288Z"
   },
   {
    "duration": 301,
    "start_time": "2023-01-13T08:15:50.605Z"
   },
   {
    "duration": 239,
    "start_time": "2023-01-13T08:15:50.908Z"
   },
   {
    "duration": 261,
    "start_time": "2023-01-13T08:15:51.148Z"
   },
   {
    "duration": 35,
    "start_time": "2023-01-13T08:15:51.410Z"
   },
   {
    "duration": 291,
    "start_time": "2023-01-13T08:15:51.447Z"
   },
   {
    "duration": 421,
    "start_time": "2023-01-13T08:15:51.739Z"
   },
   {
    "duration": 22,
    "start_time": "2023-01-13T08:15:52.162Z"
   },
   {
    "duration": 499,
    "start_time": "2023-01-13T08:15:52.186Z"
   },
   {
    "duration": 516,
    "start_time": "2023-01-13T08:15:52.687Z"
   },
   {
    "duration": 493,
    "start_time": "2023-01-13T08:15:53.205Z"
   },
   {
    "duration": 11,
    "start_time": "2023-01-13T08:15:53.700Z"
   },
   {
    "duration": 18,
    "start_time": "2023-01-13T08:15:53.714Z"
   },
   {
    "duration": 629,
    "start_time": "2023-01-13T08:19:13.684Z"
   },
   {
    "duration": 1211,
    "start_time": "2023-01-13T08:21:41.665Z"
   },
   {
    "duration": 14,
    "start_time": "2023-01-13T08:21:42.878Z"
   },
   {
    "duration": 31,
    "start_time": "2023-01-13T08:21:42.894Z"
   },
   {
    "duration": 10,
    "start_time": "2023-01-13T08:21:42.927Z"
   },
   {
    "duration": 17,
    "start_time": "2023-01-13T08:21:42.938Z"
   },
   {
    "duration": 34,
    "start_time": "2023-01-13T08:21:42.957Z"
   },
   {
    "duration": 55,
    "start_time": "2023-01-13T08:21:42.992Z"
   },
   {
    "duration": 6,
    "start_time": "2023-01-13T08:21:43.049Z"
   },
   {
    "duration": 7,
    "start_time": "2023-01-13T08:21:43.078Z"
   },
   {
    "duration": 10,
    "start_time": "2023-01-13T08:21:43.087Z"
   },
   {
    "duration": 17,
    "start_time": "2023-01-13T08:21:43.099Z"
   },
   {
    "duration": 8,
    "start_time": "2023-01-13T08:21:43.118Z"
   },
   {
    "duration": 10,
    "start_time": "2023-01-13T08:21:43.128Z"
   },
   {
    "duration": 12,
    "start_time": "2023-01-13T08:21:43.140Z"
   },
   {
    "duration": 20,
    "start_time": "2023-01-13T08:21:43.153Z"
   },
   {
    "duration": 16,
    "start_time": "2023-01-13T08:21:43.175Z"
   },
   {
    "duration": 247,
    "start_time": "2023-01-13T08:21:43.192Z"
   },
   {
    "duration": 5,
    "start_time": "2023-01-13T08:21:43.441Z"
   },
   {
    "duration": 18,
    "start_time": "2023-01-13T08:21:43.447Z"
   },
   {
    "duration": 22,
    "start_time": "2023-01-13T08:21:43.467Z"
   },
   {
    "duration": 23,
    "start_time": "2023-01-13T08:21:43.491Z"
   },
   {
    "duration": 17,
    "start_time": "2023-01-13T08:21:43.516Z"
   },
   {
    "duration": 24,
    "start_time": "2023-01-13T08:21:43.535Z"
   },
   {
    "duration": 17,
    "start_time": "2023-01-13T08:21:43.561Z"
   },
   {
    "duration": 219,
    "start_time": "2023-01-13T08:21:43.579Z"
   },
   {
    "duration": 8,
    "start_time": "2023-01-13T08:21:43.800Z"
   },
   {
    "duration": 435,
    "start_time": "2023-01-13T08:21:43.809Z"
   },
   {
    "duration": 15,
    "start_time": "2023-01-13T08:21:44.247Z"
   },
   {
    "duration": 12,
    "start_time": "2023-01-13T08:21:44.264Z"
   },
   {
    "duration": 9,
    "start_time": "2023-01-13T08:21:44.278Z"
   },
   {
    "duration": 16,
    "start_time": "2023-01-13T08:21:44.289Z"
   },
   {
    "duration": 299,
    "start_time": "2023-01-13T08:21:44.306Z"
   },
   {
    "duration": 308,
    "start_time": "2023-01-13T08:21:44.607Z"
   },
   {
    "duration": 229,
    "start_time": "2023-01-13T08:21:44.917Z"
   },
   {
    "duration": 258,
    "start_time": "2023-01-13T08:21:45.147Z"
   },
   {
    "duration": 33,
    "start_time": "2023-01-13T08:21:45.407Z"
   },
   {
    "duration": 279,
    "start_time": "2023-01-13T08:21:45.442Z"
   },
   {
    "duration": 384,
    "start_time": "2023-01-13T08:21:45.723Z"
   },
   {
    "duration": 15,
    "start_time": "2023-01-13T08:21:46.109Z"
   },
   {
    "duration": 440,
    "start_time": "2023-01-13T08:21:46.125Z"
   },
   {
    "duration": 507,
    "start_time": "2023-01-13T08:21:46.566Z"
   },
   {
    "duration": 467,
    "start_time": "2023-01-13T08:21:47.075Z"
   },
   {
    "duration": 11,
    "start_time": "2023-01-13T08:21:47.543Z"
   },
   {
    "duration": 24,
    "start_time": "2023-01-13T08:21:47.555Z"
   },
   {
    "duration": 438,
    "start_time": "2023-01-13T09:34:29.346Z"
   },
   {
    "duration": 143,
    "start_time": "2023-01-13T10:04:42.166Z"
   },
   {
    "duration": 1152,
    "start_time": "2023-01-13T10:10:54.223Z"
   },
   {
    "duration": 13,
    "start_time": "2023-01-13T10:10:55.377Z"
   },
   {
    "duration": 26,
    "start_time": "2023-01-13T10:10:55.392Z"
   },
   {
    "duration": 9,
    "start_time": "2023-01-13T10:10:55.420Z"
   },
   {
    "duration": 19,
    "start_time": "2023-01-13T10:10:55.436Z"
   },
   {
    "duration": 24,
    "start_time": "2023-01-13T10:10:55.456Z"
   },
   {
    "duration": 53,
    "start_time": "2023-01-13T10:10:55.483Z"
   },
   {
    "duration": 5,
    "start_time": "2023-01-13T10:10:55.537Z"
   },
   {
    "duration": 21,
    "start_time": "2023-01-13T10:10:55.544Z"
   },
   {
    "duration": 14,
    "start_time": "2023-01-13T10:10:55.578Z"
   },
   {
    "duration": 11,
    "start_time": "2023-01-13T10:10:55.594Z"
   },
   {
    "duration": 17,
    "start_time": "2023-01-13T10:10:55.607Z"
   },
   {
    "duration": 10,
    "start_time": "2023-01-13T10:10:55.625Z"
   },
   {
    "duration": 30,
    "start_time": "2023-01-13T10:10:55.637Z"
   },
   {
    "duration": 39,
    "start_time": "2023-01-13T10:10:55.668Z"
   },
   {
    "duration": 39,
    "start_time": "2023-01-13T10:10:55.709Z"
   },
   {
    "duration": 210,
    "start_time": "2023-01-13T10:10:55.750Z"
   },
   {
    "duration": 5,
    "start_time": "2023-01-13T10:10:55.962Z"
   },
   {
    "duration": 24,
    "start_time": "2023-01-13T10:10:55.968Z"
   },
   {
    "duration": 12,
    "start_time": "2023-01-13T10:10:55.994Z"
   },
   {
    "duration": 10,
    "start_time": "2023-01-13T10:10:56.008Z"
   },
   {
    "duration": 20,
    "start_time": "2023-01-13T10:10:56.020Z"
   },
   {
    "duration": 29,
    "start_time": "2023-01-13T10:10:56.042Z"
   },
   {
    "duration": 9,
    "start_time": "2023-01-13T10:10:56.073Z"
   },
   {
    "duration": 195,
    "start_time": "2023-01-13T10:10:56.083Z"
   },
   {
    "duration": 9,
    "start_time": "2023-01-13T10:10:56.279Z"
   },
   {
    "duration": 383,
    "start_time": "2023-01-13T10:10:56.289Z"
   },
   {
    "duration": 14,
    "start_time": "2023-01-13T10:10:56.674Z"
   },
   {
    "duration": 7,
    "start_time": "2023-01-13T10:10:56.689Z"
   },
   {
    "duration": 10,
    "start_time": "2023-01-13T10:10:56.698Z"
   },
   {
    "duration": 21,
    "start_time": "2023-01-13T10:10:56.710Z"
   },
   {
    "duration": 307,
    "start_time": "2023-01-13T10:10:56.733Z"
   },
   {
    "duration": 299,
    "start_time": "2023-01-13T10:10:57.041Z"
   },
   {
    "duration": 241,
    "start_time": "2023-01-13T10:10:57.341Z"
   },
   {
    "duration": 275,
    "start_time": "2023-01-13T10:10:57.584Z"
   },
   {
    "duration": 55,
    "start_time": "2023-01-13T10:10:57.861Z"
   },
   {
    "duration": 285,
    "start_time": "2023-01-13T10:10:57.918Z"
   },
   {
    "duration": 390,
    "start_time": "2023-01-13T10:10:58.204Z"
   },
   {
    "duration": 16,
    "start_time": "2023-01-13T10:10:58.595Z"
   },
   {
    "duration": 458,
    "start_time": "2023-01-13T10:10:58.612Z"
   },
   {
    "duration": 470,
    "start_time": "2023-01-13T10:10:59.080Z"
   },
   {
    "duration": 433,
    "start_time": "2023-01-13T10:10:59.551Z"
   },
   {
    "duration": 10,
    "start_time": "2023-01-13T10:10:59.987Z"
   },
   {
    "duration": 77,
    "start_time": "2023-01-13T10:10:59.999Z"
   },
   {
    "duration": 1293,
    "start_time": "2023-01-13T10:36:35.512Z"
   },
   {
    "duration": 20,
    "start_time": "2023-01-13T10:36:36.807Z"
   },
   {
    "duration": 31,
    "start_time": "2023-01-13T10:36:36.828Z"
   },
   {
    "duration": 9,
    "start_time": "2023-01-13T10:36:36.861Z"
   },
   {
    "duration": 10,
    "start_time": "2023-01-13T10:36:36.872Z"
   },
   {
    "duration": 35,
    "start_time": "2023-01-13T10:36:36.883Z"
   },
   {
    "duration": 62,
    "start_time": "2023-01-13T10:36:36.919Z"
   },
   {
    "duration": 5,
    "start_time": "2023-01-13T10:36:36.983Z"
   },
   {
    "duration": 9,
    "start_time": "2023-01-13T10:36:36.989Z"
   },
   {
    "duration": 10,
    "start_time": "2023-01-13T10:36:37.016Z"
   },
   {
    "duration": 14,
    "start_time": "2023-01-13T10:36:37.029Z"
   },
   {
    "duration": 5,
    "start_time": "2023-01-13T10:36:37.044Z"
   },
   {
    "duration": 8,
    "start_time": "2023-01-13T10:36:37.051Z"
   },
   {
    "duration": 6,
    "start_time": "2023-01-13T10:36:37.061Z"
   },
   {
    "duration": 8,
    "start_time": "2023-01-13T10:36:37.069Z"
   },
   {
    "duration": 52,
    "start_time": "2023-01-13T10:36:37.079Z"
   },
   {
    "duration": 224,
    "start_time": "2023-01-13T10:36:37.133Z"
   },
   {
    "duration": 6,
    "start_time": "2023-01-13T10:36:37.359Z"
   },
   {
    "duration": 12,
    "start_time": "2023-01-13T10:36:37.366Z"
   },
   {
    "duration": 11,
    "start_time": "2023-01-13T10:36:37.380Z"
   },
   {
    "duration": 37,
    "start_time": "2023-01-13T10:36:37.393Z"
   },
   {
    "duration": 9,
    "start_time": "2023-01-13T10:36:37.432Z"
   },
   {
    "duration": 15,
    "start_time": "2023-01-13T10:36:37.442Z"
   },
   {
    "duration": 9,
    "start_time": "2023-01-13T10:36:37.459Z"
   },
   {
    "duration": 230,
    "start_time": "2023-01-13T10:36:37.470Z"
   },
   {
    "duration": 24,
    "start_time": "2023-01-13T10:36:37.702Z"
   },
   {
    "duration": 425,
    "start_time": "2023-01-13T10:36:37.728Z"
   },
   {
    "duration": 18,
    "start_time": "2023-01-13T10:36:38.157Z"
   },
   {
    "duration": 10,
    "start_time": "2023-01-13T10:36:38.177Z"
   },
   {
    "duration": 40,
    "start_time": "2023-01-13T10:36:38.189Z"
   },
   {
    "duration": 17,
    "start_time": "2023-01-13T10:36:38.232Z"
   },
   {
    "duration": 345,
    "start_time": "2023-01-13T10:36:38.252Z"
   },
   {
    "duration": 360,
    "start_time": "2023-01-13T10:36:38.599Z"
   },
   {
    "duration": 266,
    "start_time": "2023-01-13T10:36:38.961Z"
   },
   {
    "duration": 310,
    "start_time": "2023-01-13T10:36:39.229Z"
   },
   {
    "duration": 38,
    "start_time": "2023-01-13T10:36:39.541Z"
   },
   {
    "duration": 309,
    "start_time": "2023-01-13T10:36:39.581Z"
   },
   {
    "duration": 435,
    "start_time": "2023-01-13T10:36:39.892Z"
   },
   {
    "duration": 15,
    "start_time": "2023-01-13T10:36:40.328Z"
   },
   {
    "duration": 465,
    "start_time": "2023-01-13T10:36:40.344Z"
   },
   {
    "duration": 525,
    "start_time": "2023-01-13T10:36:40.812Z"
   },
   {
    "duration": 491,
    "start_time": "2023-01-13T10:36:41.338Z"
   },
   {
    "duration": 10,
    "start_time": "2023-01-13T10:36:41.831Z"
   },
   {
    "duration": 12,
    "start_time": "2023-01-13T10:36:41.844Z"
   },
   {
    "duration": 1315,
    "start_time": "2023-01-13T11:16:56.746Z"
   },
   {
    "duration": 24,
    "start_time": "2023-01-13T11:16:58.065Z"
   },
   {
    "duration": 44,
    "start_time": "2023-01-13T11:16:58.091Z"
   },
   {
    "duration": 10,
    "start_time": "2023-01-13T11:16:58.137Z"
   },
   {
    "duration": 14,
    "start_time": "2023-01-13T11:16:58.149Z"
   },
   {
    "duration": 19,
    "start_time": "2023-01-13T11:16:58.165Z"
   },
   {
    "duration": 64,
    "start_time": "2023-01-13T11:16:58.211Z"
   },
   {
    "duration": 15,
    "start_time": "2023-01-13T11:16:58.277Z"
   },
   {
    "duration": 24,
    "start_time": "2023-01-13T11:16:58.295Z"
   },
   {
    "duration": 18,
    "start_time": "2023-01-13T11:16:58.321Z"
   },
   {
    "duration": 14,
    "start_time": "2023-01-13T11:16:58.341Z"
   },
   {
    "duration": 5,
    "start_time": "2023-01-13T11:16:58.356Z"
   },
   {
    "duration": 9,
    "start_time": "2023-01-13T11:16:58.363Z"
   },
   {
    "duration": 38,
    "start_time": "2023-01-13T11:16:58.375Z"
   },
   {
    "duration": 6,
    "start_time": "2023-01-13T11:16:58.415Z"
   },
   {
    "duration": 17,
    "start_time": "2023-01-13T11:16:58.423Z"
   },
   {
    "duration": 263,
    "start_time": "2023-01-13T11:16:58.442Z"
   },
   {
    "duration": 5,
    "start_time": "2023-01-13T11:16:58.713Z"
   },
   {
    "duration": 12,
    "start_time": "2023-01-13T11:16:58.719Z"
   },
   {
    "duration": 13,
    "start_time": "2023-01-13T11:16:58.733Z"
   },
   {
    "duration": 14,
    "start_time": "2023-01-13T11:16:58.748Z"
   },
   {
    "duration": 6,
    "start_time": "2023-01-13T11:16:58.764Z"
   },
   {
    "duration": 45,
    "start_time": "2023-01-13T11:16:58.772Z"
   },
   {
    "duration": 9,
    "start_time": "2023-01-13T11:16:58.819Z"
   },
   {
    "duration": 241,
    "start_time": "2023-01-13T11:16:58.830Z"
   },
   {
    "duration": 13,
    "start_time": "2023-01-13T11:16:59.074Z"
   },
   {
    "duration": 456,
    "start_time": "2023-01-13T11:16:59.089Z"
   },
   {
    "duration": 17,
    "start_time": "2023-01-13T11:16:59.547Z"
   },
   {
    "duration": 12,
    "start_time": "2023-01-13T11:16:59.566Z"
   },
   {
    "duration": 39,
    "start_time": "2023-01-13T11:16:59.580Z"
   },
   {
    "duration": 25,
    "start_time": "2023-01-13T11:16:59.621Z"
   },
   {
    "duration": 352,
    "start_time": "2023-01-13T11:16:59.648Z"
   },
   {
    "duration": 367,
    "start_time": "2023-01-13T11:17:00.002Z"
   },
   {
    "duration": 272,
    "start_time": "2023-01-13T11:17:00.371Z"
   },
   {
    "duration": 316,
    "start_time": "2023-01-13T11:17:00.645Z"
   },
   {
    "duration": 80,
    "start_time": "2023-01-13T11:17:00.964Z"
   },
   {
    "duration": 293,
    "start_time": "2023-01-13T11:17:01.046Z"
   },
   {
    "duration": 414,
    "start_time": "2023-01-13T11:17:01.341Z"
   },
   {
    "duration": 19,
    "start_time": "2023-01-13T11:17:01.757Z"
   },
   {
    "duration": 520,
    "start_time": "2023-01-13T11:17:01.778Z"
   },
   {
    "duration": 524,
    "start_time": "2023-01-13T11:17:02.303Z"
   },
   {
    "duration": 470,
    "start_time": "2023-01-13T11:17:02.829Z"
   },
   {
    "duration": 18,
    "start_time": "2023-01-13T11:17:03.301Z"
   },
   {
    "duration": 15,
    "start_time": "2023-01-13T11:17:03.321Z"
   },
   {
    "duration": 1433,
    "start_time": "2023-01-14T09:23:53.660Z"
   },
   {
    "duration": 124,
    "start_time": "2023-01-14T09:23:55.095Z"
   },
   {
    "duration": 27,
    "start_time": "2023-01-14T09:23:55.223Z"
   },
   {
    "duration": 34,
    "start_time": "2023-01-14T09:23:55.252Z"
   },
   {
    "duration": 37,
    "start_time": "2023-01-14T09:23:55.288Z"
   },
   {
    "duration": 18,
    "start_time": "2023-01-14T09:23:55.327Z"
   },
   {
    "duration": 29,
    "start_time": "2023-01-14T09:23:55.347Z"
   },
   {
    "duration": 86,
    "start_time": "2023-01-14T09:23:55.378Z"
   },
   {
    "duration": 6,
    "start_time": "2023-01-14T09:23:55.466Z"
   },
   {
    "duration": 17,
    "start_time": "2023-01-14T09:23:55.476Z"
   },
   {
    "duration": 14,
    "start_time": "2023-01-14T09:23:55.495Z"
   },
   {
    "duration": 39,
    "start_time": "2023-01-14T09:23:55.511Z"
   },
   {
    "duration": 6,
    "start_time": "2023-01-14T09:23:55.551Z"
   },
   {
    "duration": 8,
    "start_time": "2023-01-14T09:23:55.560Z"
   },
   {
    "duration": 13,
    "start_time": "2023-01-14T09:23:55.569Z"
   },
   {
    "duration": 9,
    "start_time": "2023-01-14T09:23:55.583Z"
   },
   {
    "duration": 16,
    "start_time": "2023-01-14T09:23:55.593Z"
   },
   {
    "duration": 235,
    "start_time": "2023-01-14T09:23:55.611Z"
   },
   {
    "duration": 5,
    "start_time": "2023-01-14T09:23:55.848Z"
   },
   {
    "duration": 13,
    "start_time": "2023-01-14T09:23:55.855Z"
   },
   {
    "duration": 11,
    "start_time": "2023-01-14T09:23:55.869Z"
   },
   {
    "duration": 12,
    "start_time": "2023-01-14T09:23:55.881Z"
   },
   {
    "duration": 26,
    "start_time": "2023-01-14T09:23:55.896Z"
   },
   {
    "duration": 20,
    "start_time": "2023-01-14T09:23:55.923Z"
   },
   {
    "duration": 9,
    "start_time": "2023-01-14T09:23:55.944Z"
   },
   {
    "duration": 219,
    "start_time": "2023-01-14T09:23:55.955Z"
   },
   {
    "duration": 8,
    "start_time": "2023-01-14T09:23:56.175Z"
   },
   {
    "duration": 410,
    "start_time": "2023-01-14T09:23:56.186Z"
   },
   {
    "duration": 15,
    "start_time": "2023-01-14T09:23:56.598Z"
   },
   {
    "duration": 9,
    "start_time": "2023-01-14T09:23:56.615Z"
   },
   {
    "duration": 27,
    "start_time": "2023-01-14T09:23:56.626Z"
   },
   {
    "duration": 20,
    "start_time": "2023-01-14T09:23:56.655Z"
   },
   {
    "duration": 321,
    "start_time": "2023-01-14T09:23:56.677Z"
   },
   {
    "duration": 341,
    "start_time": "2023-01-14T09:23:57.000Z"
   },
   {
    "duration": 253,
    "start_time": "2023-01-14T09:23:57.343Z"
   },
   {
    "duration": 303,
    "start_time": "2023-01-14T09:23:57.598Z"
   },
   {
    "duration": 59,
    "start_time": "2023-01-14T09:23:57.902Z"
   },
   {
    "duration": 307,
    "start_time": "2023-01-14T09:23:57.964Z"
   },
   {
    "duration": 443,
    "start_time": "2023-01-14T09:23:58.273Z"
   },
   {
    "duration": 25,
    "start_time": "2023-01-14T09:23:58.717Z"
   },
   {
    "duration": 539,
    "start_time": "2023-01-14T09:23:58.744Z"
   },
   {
    "duration": 475,
    "start_time": "2023-01-14T09:23:59.285Z"
   },
   {
    "duration": 476,
    "start_time": "2023-01-14T09:23:59.761Z"
   },
   {
    "duration": 11,
    "start_time": "2023-01-14T09:24:00.239Z"
   },
   {
    "duration": 22,
    "start_time": "2023-01-14T09:24:00.252Z"
   },
   {
    "duration": 18,
    "start_time": "2023-01-14T09:32:30.090Z"
   },
   {
    "duration": 14,
    "start_time": "2023-01-14T09:33:24.189Z"
   },
   {
    "duration": 25,
    "start_time": "2023-01-14T09:33:37.509Z"
   },
   {
    "duration": 18,
    "start_time": "2023-01-14T09:41:47.109Z"
   },
   {
    "duration": 92,
    "start_time": "2023-01-14T15:14:10.919Z"
   },
   {
    "duration": 46,
    "start_time": "2023-01-14T15:16:41.669Z"
   },
   {
    "duration": 1429,
    "start_time": "2023-01-14T15:16:50.640Z"
   },
   {
    "duration": 293,
    "start_time": "2023-01-14T15:16:52.071Z"
   },
   {
    "duration": 15,
    "start_time": "2023-01-14T15:16:52.365Z"
   },
   {
    "duration": 30,
    "start_time": "2023-01-14T15:16:52.383Z"
   },
   {
    "duration": 28,
    "start_time": "2023-01-14T15:16:52.414Z"
   },
   {
    "duration": 11,
    "start_time": "2023-01-14T15:16:52.444Z"
   },
   {
    "duration": 54,
    "start_time": "2023-01-14T15:16:52.457Z"
   },
   {
    "duration": 40,
    "start_time": "2023-01-14T15:16:52.513Z"
   },
   {
    "duration": 23,
    "start_time": "2023-01-14T15:16:52.555Z"
   },
   {
    "duration": 5,
    "start_time": "2023-01-14T15:16:52.581Z"
   },
   {
    "duration": 22,
    "start_time": "2023-01-14T15:16:52.588Z"
   },
   {
    "duration": 26,
    "start_time": "2023-01-14T15:16:52.612Z"
   },
   {
    "duration": 25,
    "start_time": "2023-01-14T15:16:52.641Z"
   },
   {
    "duration": 9,
    "start_time": "2023-01-14T15:16:52.668Z"
   },
   {
    "duration": 21,
    "start_time": "2023-01-14T15:16:52.679Z"
   },
   {
    "duration": 13,
    "start_time": "2023-01-14T15:16:52.702Z"
   },
   {
    "duration": 21,
    "start_time": "2023-01-14T15:16:52.717Z"
   },
   {
    "duration": 35,
    "start_time": "2023-01-14T15:16:52.740Z"
   },
   {
    "duration": 216,
    "start_time": "2023-01-14T15:16:52.777Z"
   },
   {
    "duration": 5,
    "start_time": "2023-01-14T15:16:52.995Z"
   },
   {
    "duration": 21,
    "start_time": "2023-01-14T15:16:53.002Z"
   },
   {
    "duration": 19,
    "start_time": "2023-01-14T15:16:53.025Z"
   },
   {
    "duration": 28,
    "start_time": "2023-01-14T15:16:53.047Z"
   },
   {
    "duration": 15,
    "start_time": "2023-01-14T15:16:53.077Z"
   },
   {
    "duration": 31,
    "start_time": "2023-01-14T15:16:53.094Z"
   },
   {
    "duration": 22,
    "start_time": "2023-01-14T15:16:53.127Z"
   },
   {
    "duration": 229,
    "start_time": "2023-01-14T15:16:53.152Z"
   },
   {
    "duration": 10,
    "start_time": "2023-01-14T15:16:53.384Z"
   },
   {
    "duration": 431,
    "start_time": "2023-01-14T15:16:53.395Z"
   },
   {
    "duration": 18,
    "start_time": "2023-01-14T15:16:53.828Z"
   },
   {
    "duration": 30,
    "start_time": "2023-01-14T15:16:53.849Z"
   },
   {
    "duration": 17,
    "start_time": "2023-01-14T15:16:53.881Z"
   },
   {
    "duration": 40,
    "start_time": "2023-01-14T15:16:53.900Z"
   },
   {
    "duration": 339,
    "start_time": "2023-01-14T15:16:53.943Z"
   },
   {
    "duration": 331,
    "start_time": "2023-01-14T15:16:54.284Z"
   },
   {
    "duration": 251,
    "start_time": "2023-01-14T15:16:54.617Z"
   },
   {
    "duration": 290,
    "start_time": "2023-01-14T15:16:54.870Z"
   },
   {
    "duration": 37,
    "start_time": "2023-01-14T15:16:55.162Z"
   },
   {
    "duration": 285,
    "start_time": "2023-01-14T15:16:55.201Z"
   },
   {
    "duration": 420,
    "start_time": "2023-01-14T15:16:55.488Z"
   },
   {
    "duration": 26,
    "start_time": "2023-01-14T15:16:55.910Z"
   },
   {
    "duration": 555,
    "start_time": "2023-01-14T15:16:55.939Z"
   },
   {
    "duration": 505,
    "start_time": "2023-01-14T15:16:56.496Z"
   },
   {
    "duration": 503,
    "start_time": "2023-01-14T15:16:57.004Z"
   },
   {
    "duration": 12,
    "start_time": "2023-01-14T15:16:57.508Z"
   },
   {
    "duration": 28,
    "start_time": "2023-01-14T15:16:57.521Z"
   },
   {
    "duration": 16,
    "start_time": "2023-01-14T15:21:27.929Z"
   },
   {
    "duration": 1131,
    "start_time": "2023-01-14T15:21:46.670Z"
   },
   {
    "duration": 88,
    "start_time": "2023-01-14T15:21:47.803Z"
   },
   {
    "duration": 16,
    "start_time": "2023-01-14T15:21:47.893Z"
   },
   {
    "duration": 53,
    "start_time": "2023-01-14T15:21:47.910Z"
   },
   {
    "duration": 10,
    "start_time": "2023-01-14T15:21:47.966Z"
   },
   {
    "duration": 14,
    "start_time": "2023-01-14T15:21:47.978Z"
   },
   {
    "duration": 77,
    "start_time": "2023-01-14T15:21:47.994Z"
   },
   {
    "duration": 18,
    "start_time": "2023-01-14T15:21:48.073Z"
   },
   {
    "duration": 22,
    "start_time": "2023-01-14T15:21:48.093Z"
   },
   {
    "duration": 24,
    "start_time": "2023-01-14T15:21:48.116Z"
   },
   {
    "duration": 11,
    "start_time": "2023-01-14T15:21:48.142Z"
   },
   {
    "duration": 8,
    "start_time": "2023-01-14T15:21:48.154Z"
   },
   {
    "duration": 13,
    "start_time": "2023-01-14T15:21:48.164Z"
   },
   {
    "duration": 4,
    "start_time": "2023-01-14T15:21:48.181Z"
   },
   {
    "duration": 11,
    "start_time": "2023-01-14T15:21:48.187Z"
   },
   {
    "duration": 39,
    "start_time": "2023-01-14T15:21:48.199Z"
   },
   {
    "duration": 18,
    "start_time": "2023-01-14T15:21:48.240Z"
   },
   {
    "duration": 6,
    "start_time": "2023-01-14T15:21:48.260Z"
   },
   {
    "duration": 16,
    "start_time": "2023-01-14T15:21:48.268Z"
   },
   {
    "duration": 244,
    "start_time": "2023-01-14T15:21:48.286Z"
   },
   {
    "duration": 5,
    "start_time": "2023-01-14T15:21:48.537Z"
   },
   {
    "duration": 11,
    "start_time": "2023-01-14T15:21:48.543Z"
   },
   {
    "duration": 23,
    "start_time": "2023-01-14T15:21:48.556Z"
   },
   {
    "duration": 14,
    "start_time": "2023-01-14T15:21:48.581Z"
   },
   {
    "duration": 5,
    "start_time": "2023-01-14T15:21:48.597Z"
   },
   {
    "duration": 34,
    "start_time": "2023-01-14T15:21:48.603Z"
   },
   {
    "duration": 10,
    "start_time": "2023-01-14T15:21:48.639Z"
   },
   {
    "duration": 274,
    "start_time": "2023-01-14T15:21:48.651Z"
   },
   {
    "duration": 15,
    "start_time": "2023-01-14T15:21:48.928Z"
   },
   {
    "duration": 476,
    "start_time": "2023-01-14T15:21:48.946Z"
   },
   {
    "duration": 17,
    "start_time": "2023-01-14T15:21:49.424Z"
   },
   {
    "duration": 8,
    "start_time": "2023-01-14T15:21:49.443Z"
   },
   {
    "duration": 13,
    "start_time": "2023-01-14T15:21:49.453Z"
   },
   {
    "duration": 23,
    "start_time": "2023-01-14T15:21:49.467Z"
   },
   {
    "duration": 347,
    "start_time": "2023-01-14T15:21:49.492Z"
   },
   {
    "duration": 351,
    "start_time": "2023-01-14T15:21:49.842Z"
   },
   {
    "duration": 260,
    "start_time": "2023-01-14T15:21:50.195Z"
   },
   {
    "duration": 322,
    "start_time": "2023-01-14T15:21:50.458Z"
   },
   {
    "duration": 55,
    "start_time": "2023-01-14T15:21:50.782Z"
   },
   {
    "duration": 328,
    "start_time": "2023-01-14T15:21:50.839Z"
   },
   {
    "duration": 433,
    "start_time": "2023-01-14T15:21:51.171Z"
   },
   {
    "duration": 16,
    "start_time": "2023-01-14T15:21:51.606Z"
   },
   {
    "duration": 564,
    "start_time": "2023-01-14T15:21:51.624Z"
   },
   {
    "duration": 472,
    "start_time": "2023-01-14T15:21:52.190Z"
   },
   {
    "duration": 486,
    "start_time": "2023-01-14T15:21:52.664Z"
   },
   {
    "duration": 12,
    "start_time": "2023-01-14T15:21:53.152Z"
   },
   {
    "duration": 23,
    "start_time": "2023-01-14T15:21:53.166Z"
   },
   {
    "duration": 1176,
    "start_time": "2023-01-14T15:24:10.929Z"
   },
   {
    "duration": 84,
    "start_time": "2023-01-14T15:24:12.107Z"
   },
   {
    "duration": 15,
    "start_time": "2023-01-14T15:24:12.193Z"
   },
   {
    "duration": 55,
    "start_time": "2023-01-14T15:24:12.210Z"
   },
   {
    "duration": 9,
    "start_time": "2023-01-14T15:24:12.268Z"
   },
   {
    "duration": 35,
    "start_time": "2023-01-14T15:24:12.279Z"
   },
   {
    "duration": 80,
    "start_time": "2023-01-14T15:24:12.316Z"
   },
   {
    "duration": 16,
    "start_time": "2023-01-14T15:24:12.398Z"
   },
   {
    "duration": 36,
    "start_time": "2023-01-14T15:24:12.416Z"
   },
   {
    "duration": 5,
    "start_time": "2023-01-14T15:24:12.454Z"
   },
   {
    "duration": 9,
    "start_time": "2023-01-14T15:24:12.460Z"
   },
   {
    "duration": 8,
    "start_time": "2023-01-14T15:24:12.470Z"
   },
   {
    "duration": 12,
    "start_time": "2023-01-14T15:24:12.480Z"
   },
   {
    "duration": 4,
    "start_time": "2023-01-14T15:24:12.496Z"
   },
   {
    "duration": 7,
    "start_time": "2023-01-14T15:24:12.538Z"
   },
   {
    "duration": 5,
    "start_time": "2023-01-14T15:24:12.547Z"
   },
   {
    "duration": 9,
    "start_time": "2023-01-14T15:24:12.554Z"
   },
   {
    "duration": 7,
    "start_time": "2023-01-14T15:24:12.564Z"
   },
   {
    "duration": 12,
    "start_time": "2023-01-14T15:24:12.573Z"
   },
   {
    "duration": 260,
    "start_time": "2023-01-14T15:24:12.587Z"
   },
   {
    "duration": 5,
    "start_time": "2023-01-14T15:24:12.849Z"
   },
   {
    "duration": 13,
    "start_time": "2023-01-14T15:24:12.856Z"
   },
   {
    "duration": 8,
    "start_time": "2023-01-14T15:24:12.870Z"
   },
   {
    "duration": 11,
    "start_time": "2023-01-14T15:24:12.879Z"
   },
   {
    "duration": 4,
    "start_time": "2023-01-14T15:24:12.892Z"
   },
   {
    "duration": 46,
    "start_time": "2023-01-14T15:24:12.897Z"
   },
   {
    "duration": 9,
    "start_time": "2023-01-14T15:24:12.945Z"
   },
   {
    "duration": 222,
    "start_time": "2023-01-14T15:24:12.957Z"
   },
   {
    "duration": 11,
    "start_time": "2023-01-14T15:24:13.181Z"
   },
   {
    "duration": 429,
    "start_time": "2023-01-14T15:24:13.193Z"
   },
   {
    "duration": 18,
    "start_time": "2023-01-14T15:24:13.625Z"
   },
   {
    "duration": 8,
    "start_time": "2023-01-14T15:24:13.645Z"
   },
   {
    "duration": 11,
    "start_time": "2023-01-14T15:24:13.655Z"
   },
   {
    "duration": 15,
    "start_time": "2023-01-14T15:24:13.668Z"
   },
   {
    "duration": 362,
    "start_time": "2023-01-14T15:24:13.685Z"
   },
   {
    "duration": 351,
    "start_time": "2023-01-14T15:24:14.049Z"
   },
   {
    "duration": 247,
    "start_time": "2023-01-14T15:24:14.402Z"
   },
   {
    "duration": 313,
    "start_time": "2023-01-14T15:24:14.651Z"
   },
   {
    "duration": 37,
    "start_time": "2023-01-14T15:24:14.966Z"
   },
   {
    "duration": 295,
    "start_time": "2023-01-14T15:24:15.005Z"
   },
   {
    "duration": 411,
    "start_time": "2023-01-14T15:24:15.304Z"
   },
   {
    "duration": 20,
    "start_time": "2023-01-14T15:24:15.717Z"
   },
   {
    "duration": 527,
    "start_time": "2023-01-14T15:24:15.739Z"
   },
   {
    "duration": 494,
    "start_time": "2023-01-14T15:24:16.268Z"
   },
   {
    "duration": 497,
    "start_time": "2023-01-14T15:24:16.764Z"
   },
   {
    "duration": 12,
    "start_time": "2023-01-14T15:24:17.263Z"
   },
   {
    "duration": 12,
    "start_time": "2023-01-14T15:24:17.277Z"
   },
   {
    "duration": 123,
    "start_time": "2023-01-14T15:37:52.039Z"
   },
   {
    "duration": 1175,
    "start_time": "2023-01-14T15:38:11.390Z"
   },
   {
    "duration": 81,
    "start_time": "2023-01-14T15:38:12.567Z"
   },
   {
    "duration": 15,
    "start_time": "2023-01-14T15:38:12.650Z"
   },
   {
    "duration": 29,
    "start_time": "2023-01-14T15:38:12.667Z"
   },
   {
    "duration": 10,
    "start_time": "2023-01-14T15:38:12.698Z"
   },
   {
    "duration": 39,
    "start_time": "2023-01-14T15:38:12.709Z"
   },
   {
    "duration": 53,
    "start_time": "2023-01-14T15:38:12.750Z"
   },
   {
    "duration": 17,
    "start_time": "2023-01-14T15:38:12.804Z"
   },
   {
    "duration": 34,
    "start_time": "2023-01-14T15:38:12.823Z"
   },
   {
    "duration": 4,
    "start_time": "2023-01-14T15:38:12.859Z"
   },
   {
    "duration": 9,
    "start_time": "2023-01-14T15:38:12.865Z"
   },
   {
    "duration": 8,
    "start_time": "2023-01-14T15:38:12.876Z"
   },
   {
    "duration": 13,
    "start_time": "2023-01-14T15:38:12.885Z"
   },
   {
    "duration": 39,
    "start_time": "2023-01-14T15:38:12.901Z"
   },
   {
    "duration": 9,
    "start_time": "2023-01-14T15:38:12.942Z"
   },
   {
    "duration": 7,
    "start_time": "2023-01-14T15:38:12.953Z"
   },
   {
    "duration": 16,
    "start_time": "2023-01-14T15:38:12.961Z"
   },
   {
    "duration": 7,
    "start_time": "2023-01-14T15:38:12.978Z"
   },
   {
    "duration": 15,
    "start_time": "2023-01-14T15:38:12.987Z"
   },
   {
    "duration": 243,
    "start_time": "2023-01-14T15:38:13.004Z"
   },
   {
    "duration": 4,
    "start_time": "2023-01-14T15:38:13.249Z"
   },
   {
    "duration": 9,
    "start_time": "2023-01-14T15:38:13.255Z"
   },
   {
    "duration": 9,
    "start_time": "2023-01-14T15:38:13.266Z"
   },
   {
    "duration": 10,
    "start_time": "2023-01-14T15:38:13.277Z"
   },
   {
    "duration": 5,
    "start_time": "2023-01-14T15:38:13.289Z"
   },
   {
    "duration": 48,
    "start_time": "2023-01-14T15:38:13.295Z"
   },
   {
    "duration": 9,
    "start_time": "2023-01-14T15:38:13.345Z"
   },
   {
    "duration": 310,
    "start_time": "2023-01-14T15:38:13.356Z"
   },
   {
    "duration": 213,
    "start_time": "2023-01-14T15:38:13.668Z"
   },
   {
    "duration": 10,
    "start_time": "2023-01-14T15:38:13.884Z"
   },
   {
    "duration": 430,
    "start_time": "2023-01-14T15:38:13.896Z"
   },
   {
    "duration": 16,
    "start_time": "2023-01-14T15:38:14.329Z"
   },
   {
    "duration": 17,
    "start_time": "2023-01-14T15:38:14.347Z"
   },
   {
    "duration": 25,
    "start_time": "2023-01-14T15:38:14.366Z"
   },
   {
    "duration": 30,
    "start_time": "2023-01-14T15:38:14.393Z"
   },
   {
    "duration": 318,
    "start_time": "2023-01-14T15:38:14.425Z"
   },
   {
    "duration": 436,
    "start_time": "2023-01-14T15:38:14.744Z"
   },
   {
    "duration": 160,
    "start_time": "2023-01-14T15:38:15.181Z"
   },
   {
    "duration": 282,
    "start_time": "2023-01-14T15:38:15.343Z"
   },
   {
    "duration": 45,
    "start_time": "2023-01-14T15:38:15.627Z"
   },
   {
    "duration": 352,
    "start_time": "2023-01-14T15:38:15.675Z"
   },
   {
    "duration": 407,
    "start_time": "2023-01-14T15:38:16.037Z"
   },
   {
    "duration": 15,
    "start_time": "2023-01-14T15:38:16.446Z"
   },
   {
    "duration": 477,
    "start_time": "2023-01-14T15:38:16.463Z"
   },
   {
    "duration": 495,
    "start_time": "2023-01-14T15:38:16.942Z"
   },
   {
    "duration": 570,
    "start_time": "2023-01-14T15:38:17.439Z"
   },
   {
    "duration": 11,
    "start_time": "2023-01-14T15:38:18.011Z"
   },
   {
    "duration": 23,
    "start_time": "2023-01-14T15:38:18.024Z"
   },
   {
    "duration": 15,
    "start_time": "2023-01-14T15:45:00.449Z"
   },
   {
    "duration": 108,
    "start_time": "2023-01-14T15:46:22.559Z"
   },
   {
    "duration": 12,
    "start_time": "2023-01-14T16:40:13.568Z"
   },
   {
    "duration": 1288,
    "start_time": "2023-01-14T16:40:18.879Z"
   },
   {
    "duration": 82,
    "start_time": "2023-01-14T16:40:20.169Z"
   },
   {
    "duration": 16,
    "start_time": "2023-01-14T16:40:20.253Z"
   },
   {
    "duration": 43,
    "start_time": "2023-01-14T16:40:20.272Z"
   },
   {
    "duration": 21,
    "start_time": "2023-01-14T16:40:20.317Z"
   },
   {
    "duration": 13,
    "start_time": "2023-01-14T16:40:20.340Z"
   },
   {
    "duration": 69,
    "start_time": "2023-01-14T16:40:20.354Z"
   },
   {
    "duration": 27,
    "start_time": "2023-01-14T16:40:20.425Z"
   },
   {
    "duration": 21,
    "start_time": "2023-01-14T16:40:20.454Z"
   },
   {
    "duration": 5,
    "start_time": "2023-01-14T16:40:20.476Z"
   },
   {
    "duration": 14,
    "start_time": "2023-01-14T16:40:20.483Z"
   },
   {
    "duration": 41,
    "start_time": "2023-01-14T16:40:20.499Z"
   },
   {
    "duration": 13,
    "start_time": "2023-01-14T16:40:20.543Z"
   },
   {
    "duration": 8,
    "start_time": "2023-01-14T16:40:20.560Z"
   },
   {
    "duration": 20,
    "start_time": "2023-01-14T16:40:20.570Z"
   },
   {
    "duration": 17,
    "start_time": "2023-01-14T16:40:20.592Z"
   },
   {
    "duration": 24,
    "start_time": "2023-01-14T16:40:20.611Z"
   },
   {
    "duration": 32,
    "start_time": "2023-01-14T16:40:20.637Z"
   },
   {
    "duration": 20,
    "start_time": "2023-01-14T16:40:20.670Z"
   },
   {
    "duration": 269,
    "start_time": "2023-01-14T16:40:20.692Z"
   },
   {
    "duration": 5,
    "start_time": "2023-01-14T16:40:20.962Z"
   },
   {
    "duration": 10,
    "start_time": "2023-01-14T16:40:20.968Z"
   },
   {
    "duration": 9,
    "start_time": "2023-01-14T16:40:20.980Z"
   },
   {
    "duration": 11,
    "start_time": "2023-01-14T16:40:20.991Z"
   },
   {
    "duration": 37,
    "start_time": "2023-01-14T16:40:21.003Z"
   },
   {
    "duration": 17,
    "start_time": "2023-01-14T16:40:21.042Z"
   },
   {
    "duration": 9,
    "start_time": "2023-01-14T16:40:21.061Z"
   },
   {
    "duration": 328,
    "start_time": "2023-01-14T16:40:21.072Z"
   },
   {
    "duration": 116,
    "start_time": "2023-01-14T16:40:21.402Z"
   },
   {
    "duration": 0,
    "start_time": "2023-01-14T16:40:21.521Z"
   },
   {
    "duration": 0,
    "start_time": "2023-01-14T16:40:21.522Z"
   },
   {
    "duration": 0,
    "start_time": "2023-01-14T16:40:21.524Z"
   },
   {
    "duration": 0,
    "start_time": "2023-01-14T16:40:21.525Z"
   },
   {
    "duration": 0,
    "start_time": "2023-01-14T16:40:21.538Z"
   },
   {
    "duration": 0,
    "start_time": "2023-01-14T16:40:21.539Z"
   },
   {
    "duration": 0,
    "start_time": "2023-01-14T16:40:21.541Z"
   },
   {
    "duration": 0,
    "start_time": "2023-01-14T16:40:21.543Z"
   },
   {
    "duration": 0,
    "start_time": "2023-01-14T16:40:21.544Z"
   },
   {
    "duration": 0,
    "start_time": "2023-01-14T16:40:21.546Z"
   },
   {
    "duration": 0,
    "start_time": "2023-01-14T16:40:21.548Z"
   },
   {
    "duration": 0,
    "start_time": "2023-01-14T16:40:21.550Z"
   },
   {
    "duration": 0,
    "start_time": "2023-01-14T16:40:21.551Z"
   },
   {
    "duration": 0,
    "start_time": "2023-01-14T16:40:21.553Z"
   },
   {
    "duration": 0,
    "start_time": "2023-01-14T16:40:21.555Z"
   },
   {
    "duration": 0,
    "start_time": "2023-01-14T16:40:21.556Z"
   },
   {
    "duration": 0,
    "start_time": "2023-01-14T16:40:21.558Z"
   },
   {
    "duration": 0,
    "start_time": "2023-01-14T16:40:21.559Z"
   },
   {
    "duration": 0,
    "start_time": "2023-01-14T16:40:21.562Z"
   },
   {
    "duration": 0,
    "start_time": "2023-01-14T16:40:21.563Z"
   },
   {
    "duration": 10,
    "start_time": "2023-01-14T16:42:33.108Z"
   },
   {
    "duration": 17,
    "start_time": "2023-01-14T16:49:01.439Z"
   },
   {
    "duration": 1189,
    "start_time": "2023-01-14T16:50:43.230Z"
   },
   {
    "duration": 79,
    "start_time": "2023-01-14T16:50:44.421Z"
   },
   {
    "duration": 16,
    "start_time": "2023-01-14T16:50:44.502Z"
   },
   {
    "duration": 46,
    "start_time": "2023-01-14T16:50:44.520Z"
   },
   {
    "duration": 9,
    "start_time": "2023-01-14T16:50:44.569Z"
   },
   {
    "duration": 17,
    "start_time": "2023-01-14T16:50:44.580Z"
   },
   {
    "duration": 72,
    "start_time": "2023-01-14T16:50:44.599Z"
   },
   {
    "duration": 18,
    "start_time": "2023-01-14T16:50:44.673Z"
   },
   {
    "duration": 21,
    "start_time": "2023-01-14T16:50:44.692Z"
   },
   {
    "duration": 25,
    "start_time": "2023-01-14T16:50:44.715Z"
   },
   {
    "duration": 22,
    "start_time": "2023-01-14T16:50:44.742Z"
   },
   {
    "duration": 15,
    "start_time": "2023-01-14T16:50:44.766Z"
   },
   {
    "duration": 26,
    "start_time": "2023-01-14T16:50:44.783Z"
   },
   {
    "duration": 13,
    "start_time": "2023-01-14T16:50:44.813Z"
   },
   {
    "duration": 26,
    "start_time": "2023-01-14T16:50:44.827Z"
   },
   {
    "duration": 28,
    "start_time": "2023-01-14T16:50:44.855Z"
   },
   {
    "duration": 5,
    "start_time": "2023-01-14T16:50:44.884Z"
   },
   {
    "duration": 19,
    "start_time": "2023-01-14T16:50:44.891Z"
   },
   {
    "duration": 24,
    "start_time": "2023-01-14T16:50:44.911Z"
   },
   {
    "duration": 231,
    "start_time": "2023-01-14T16:50:44.937Z"
   },
   {
    "duration": 5,
    "start_time": "2023-01-14T16:50:45.169Z"
   },
   {
    "duration": 12,
    "start_time": "2023-01-14T16:50:45.176Z"
   },
   {
    "duration": 32,
    "start_time": "2023-01-14T16:50:45.190Z"
   },
   {
    "duration": 10,
    "start_time": "2023-01-14T16:50:45.224Z"
   },
   {
    "duration": 16,
    "start_time": "2023-01-14T16:50:45.237Z"
   },
   {
    "duration": 32,
    "start_time": "2023-01-14T16:50:45.256Z"
   },
   {
    "duration": 27,
    "start_time": "2023-01-14T16:50:45.290Z"
   },
   {
    "duration": 282,
    "start_time": "2023-01-14T16:50:45.319Z"
   },
   {
    "duration": 116,
    "start_time": "2023-01-14T16:50:45.603Z"
   },
   {
    "duration": 0,
    "start_time": "2023-01-14T16:50:45.721Z"
   },
   {
    "duration": 0,
    "start_time": "2023-01-14T16:50:45.722Z"
   },
   {
    "duration": 0,
    "start_time": "2023-01-14T16:50:45.723Z"
   },
   {
    "duration": 0,
    "start_time": "2023-01-14T16:50:45.724Z"
   },
   {
    "duration": 0,
    "start_time": "2023-01-14T16:50:45.725Z"
   },
   {
    "duration": 0,
    "start_time": "2023-01-14T16:50:45.726Z"
   },
   {
    "duration": 0,
    "start_time": "2023-01-14T16:50:45.727Z"
   },
   {
    "duration": 0,
    "start_time": "2023-01-14T16:50:45.737Z"
   },
   {
    "duration": 0,
    "start_time": "2023-01-14T16:50:45.738Z"
   },
   {
    "duration": 0,
    "start_time": "2023-01-14T16:50:45.739Z"
   },
   {
    "duration": 0,
    "start_time": "2023-01-14T16:50:45.740Z"
   },
   {
    "duration": 0,
    "start_time": "2023-01-14T16:50:45.742Z"
   },
   {
    "duration": 0,
    "start_time": "2023-01-14T16:50:45.743Z"
   },
   {
    "duration": 0,
    "start_time": "2023-01-14T16:50:45.745Z"
   },
   {
    "duration": 0,
    "start_time": "2023-01-14T16:50:45.746Z"
   },
   {
    "duration": 0,
    "start_time": "2023-01-14T16:50:45.748Z"
   },
   {
    "duration": 1,
    "start_time": "2023-01-14T16:50:45.749Z"
   },
   {
    "duration": 0,
    "start_time": "2023-01-14T16:50:45.751Z"
   },
   {
    "duration": 0,
    "start_time": "2023-01-14T16:50:45.753Z"
   },
   {
    "duration": 0,
    "start_time": "2023-01-14T16:50:45.755Z"
   },
   {
    "duration": 12,
    "start_time": "2023-01-14T16:53:48.179Z"
   },
   {
    "duration": 15,
    "start_time": "2023-01-14T16:54:18.789Z"
   },
   {
    "duration": 10,
    "start_time": "2023-01-14T16:54:26.279Z"
   },
   {
    "duration": 19,
    "start_time": "2023-01-14T16:56:30.219Z"
   },
   {
    "duration": 10,
    "start_time": "2023-01-14T16:57:45.422Z"
   },
   {
    "duration": 9,
    "start_time": "2023-01-14T16:58:17.369Z"
   },
   {
    "duration": 1215,
    "start_time": "2023-01-14T16:59:08.572Z"
   },
   {
    "duration": 98,
    "start_time": "2023-01-14T16:59:09.789Z"
   },
   {
    "duration": 22,
    "start_time": "2023-01-14T16:59:09.889Z"
   },
   {
    "duration": 40,
    "start_time": "2023-01-14T16:59:09.914Z"
   },
   {
    "duration": 10,
    "start_time": "2023-01-14T16:59:09.956Z"
   },
   {
    "duration": 14,
    "start_time": "2023-01-14T16:59:09.967Z"
   },
   {
    "duration": 70,
    "start_time": "2023-01-14T16:59:09.983Z"
   },
   {
    "duration": 17,
    "start_time": "2023-01-14T16:59:10.054Z"
   },
   {
    "duration": 20,
    "start_time": "2023-01-14T16:59:10.073Z"
   },
   {
    "duration": 5,
    "start_time": "2023-01-14T16:59:10.095Z"
   },
   {
    "duration": 41,
    "start_time": "2023-01-14T16:59:10.102Z"
   },
   {
    "duration": 9,
    "start_time": "2023-01-14T16:59:10.145Z"
   },
   {
    "duration": 21,
    "start_time": "2023-01-14T16:59:10.156Z"
   },
   {
    "duration": 5,
    "start_time": "2023-01-14T16:59:10.180Z"
   },
   {
    "duration": 11,
    "start_time": "2023-01-14T16:59:10.187Z"
   },
   {
    "duration": 51,
    "start_time": "2023-01-14T16:59:10.200Z"
   },
   {
    "duration": 5,
    "start_time": "2023-01-14T16:59:10.254Z"
   },
   {
    "duration": 7,
    "start_time": "2023-01-14T16:59:10.260Z"
   },
   {
    "duration": 17,
    "start_time": "2023-01-14T16:59:10.268Z"
   },
   {
    "duration": 238,
    "start_time": "2023-01-14T16:59:10.286Z"
   },
   {
    "duration": 12,
    "start_time": "2023-01-14T16:59:10.526Z"
   },
   {
    "duration": 7,
    "start_time": "2023-01-14T16:59:10.539Z"
   },
   {
    "duration": 10,
    "start_time": "2023-01-14T16:59:10.548Z"
   },
   {
    "duration": 14,
    "start_time": "2023-01-14T16:59:10.560Z"
   },
   {
    "duration": 4,
    "start_time": "2023-01-14T16:59:10.576Z"
   },
   {
    "duration": 15,
    "start_time": "2023-01-14T16:59:10.582Z"
   },
   {
    "duration": 45,
    "start_time": "2023-01-14T16:59:10.599Z"
   },
   {
    "duration": 319,
    "start_time": "2023-01-14T16:59:10.647Z"
   },
   {
    "duration": 110,
    "start_time": "2023-01-14T16:59:10.968Z"
   },
   {
    "duration": 1,
    "start_time": "2023-01-14T16:59:11.080Z"
   },
   {
    "duration": 0,
    "start_time": "2023-01-14T16:59:11.082Z"
   },
   {
    "duration": 0,
    "start_time": "2023-01-14T16:59:11.083Z"
   },
   {
    "duration": 0,
    "start_time": "2023-01-14T16:59:11.084Z"
   },
   {
    "duration": 0,
    "start_time": "2023-01-14T16:59:11.085Z"
   },
   {
    "duration": 0,
    "start_time": "2023-01-14T16:59:11.086Z"
   },
   {
    "duration": 0,
    "start_time": "2023-01-14T16:59:11.088Z"
   },
   {
    "duration": 0,
    "start_time": "2023-01-14T16:59:11.089Z"
   },
   {
    "duration": 0,
    "start_time": "2023-01-14T16:59:11.090Z"
   },
   {
    "duration": 0,
    "start_time": "2023-01-14T16:59:11.091Z"
   },
   {
    "duration": 0,
    "start_time": "2023-01-14T16:59:11.092Z"
   },
   {
    "duration": 0,
    "start_time": "2023-01-14T16:59:11.093Z"
   },
   {
    "duration": 0,
    "start_time": "2023-01-14T16:59:11.096Z"
   },
   {
    "duration": 0,
    "start_time": "2023-01-14T16:59:11.097Z"
   },
   {
    "duration": 0,
    "start_time": "2023-01-14T16:59:11.098Z"
   },
   {
    "duration": 0,
    "start_time": "2023-01-14T16:59:11.100Z"
   },
   {
    "duration": 0,
    "start_time": "2023-01-14T16:59:11.101Z"
   },
   {
    "duration": 0,
    "start_time": "2023-01-14T16:59:11.102Z"
   },
   {
    "duration": 0,
    "start_time": "2023-01-14T16:59:11.103Z"
   },
   {
    "duration": 0,
    "start_time": "2023-01-14T16:59:11.138Z"
   },
   {
    "duration": 13,
    "start_time": "2023-01-14T17:00:34.872Z"
   },
   {
    "duration": 10,
    "start_time": "2023-01-14T17:02:03.093Z"
   },
   {
    "duration": 13,
    "start_time": "2023-01-14T17:02:28.492Z"
   },
   {
    "duration": 17,
    "start_time": "2023-01-14T17:07:11.302Z"
   },
   {
    "duration": 28,
    "start_time": "2023-01-14T17:12:26.842Z"
   },
   {
    "duration": 77,
    "start_time": "2023-01-14T17:14:59.892Z"
   },
   {
    "duration": 10,
    "start_time": "2023-01-14T17:15:15.705Z"
   },
   {
    "duration": 12,
    "start_time": "2023-01-14T17:15:37.792Z"
   },
   {
    "duration": 15,
    "start_time": "2023-01-14T17:23:56.552Z"
   },
   {
    "duration": 18,
    "start_time": "2023-01-14T17:25:05.502Z"
   },
   {
    "duration": 18,
    "start_time": "2023-01-14T17:25:18.363Z"
   },
   {
    "duration": 25,
    "start_time": "2023-01-14T17:25:56.563Z"
   },
   {
    "duration": 24,
    "start_time": "2023-01-14T17:26:22.683Z"
   },
   {
    "duration": 24,
    "start_time": "2023-01-14T17:27:02.262Z"
   },
   {
    "duration": 19,
    "start_time": "2023-01-14T17:27:23.692Z"
   },
   {
    "duration": 19,
    "start_time": "2023-01-14T17:28:13.363Z"
   },
   {
    "duration": 24,
    "start_time": "2023-01-14T17:32:49.072Z"
   },
   {
    "duration": 164,
    "start_time": "2023-01-14T17:37:40.683Z"
   },
   {
    "duration": 186,
    "start_time": "2023-01-14T17:38:31.892Z"
   },
   {
    "duration": 14,
    "start_time": "2023-01-14T17:39:51.802Z"
   },
   {
    "duration": 26,
    "start_time": "2023-01-14T17:40:38.232Z"
   },
   {
    "duration": 4,
    "start_time": "2023-01-14T17:41:32.932Z"
   },
   {
    "duration": 32,
    "start_time": "2023-01-14T17:41:45.778Z"
   },
   {
    "duration": 20,
    "start_time": "2023-01-14T17:42:21.232Z"
   },
   {
    "duration": 22,
    "start_time": "2023-01-14T17:43:44.032Z"
   },
   {
    "duration": 21,
    "start_time": "2023-01-14T17:44:11.613Z"
   },
   {
    "duration": 18,
    "start_time": "2023-01-14T17:46:09.502Z"
   },
   {
    "duration": 17,
    "start_time": "2023-01-14T17:47:10.372Z"
   },
   {
    "duration": 52,
    "start_time": "2023-01-14T17:48:06.342Z"
   },
   {
    "duration": 45,
    "start_time": "2023-01-14T17:49:18.502Z"
   },
   {
    "duration": 41,
    "start_time": "2023-01-14T17:50:04.322Z"
   },
   {
    "duration": 13,
    "start_time": "2023-01-14T17:52:30.452Z"
   },
   {
    "duration": 94,
    "start_time": "2023-01-14T18:03:26.132Z"
   },
   {
    "duration": 71,
    "start_time": "2023-01-14T18:03:47.582Z"
   },
   {
    "duration": 73,
    "start_time": "2023-01-14T18:04:07.342Z"
   },
   {
    "duration": 141,
    "start_time": "2023-01-14T18:04:51.401Z"
   },
   {
    "duration": 77,
    "start_time": "2023-01-14T18:05:49.323Z"
   },
   {
    "duration": 74,
    "start_time": "2023-01-14T18:06:03.492Z"
   },
   {
    "duration": 15,
    "start_time": "2023-01-14T18:06:09.353Z"
   },
   {
    "duration": 84,
    "start_time": "2023-01-14T18:06:12.962Z"
   },
   {
    "duration": 15,
    "start_time": "2023-01-14T18:06:26.651Z"
   },
   {
    "duration": 69,
    "start_time": "2023-01-14T18:07:50.252Z"
   },
   {
    "duration": 16,
    "start_time": "2023-01-14T18:07:59.861Z"
   },
   {
    "duration": 22,
    "start_time": "2023-01-14T18:08:44.842Z"
   },
   {
    "duration": 71,
    "start_time": "2023-01-14T18:09:23.032Z"
   },
   {
    "duration": 69,
    "start_time": "2023-01-14T18:09:35.442Z"
   },
   {
    "duration": 74,
    "start_time": "2023-01-14T18:09:50.552Z"
   },
   {
    "duration": 76,
    "start_time": "2023-01-14T18:10:43.491Z"
   },
   {
    "duration": 15,
    "start_time": "2023-01-14T18:10:51.644Z"
   },
   {
    "duration": 16,
    "start_time": "2023-01-14T18:11:12.631Z"
   },
   {
    "duration": 15,
    "start_time": "2023-01-14T18:11:24.452Z"
   },
   {
    "duration": 59,
    "start_time": "2023-01-15T08:10:12.108Z"
   },
   {
    "duration": 1499,
    "start_time": "2023-01-15T08:10:25.258Z"
   },
   {
    "duration": 275,
    "start_time": "2023-01-15T08:10:26.760Z"
   },
   {
    "duration": 26,
    "start_time": "2023-01-15T08:10:27.037Z"
   },
   {
    "duration": 36,
    "start_time": "2023-01-15T08:10:27.065Z"
   },
   {
    "duration": 35,
    "start_time": "2023-01-15T08:10:27.104Z"
   },
   {
    "duration": 19,
    "start_time": "2023-01-15T08:10:27.141Z"
   },
   {
    "duration": 100,
    "start_time": "2023-01-15T08:10:27.163Z"
   },
   {
    "duration": 18,
    "start_time": "2023-01-15T08:10:27.265Z"
   },
   {
    "duration": 30,
    "start_time": "2023-01-15T08:10:27.284Z"
   },
   {
    "duration": 7,
    "start_time": "2023-01-15T08:10:27.337Z"
   },
   {
    "duration": 36,
    "start_time": "2023-01-15T08:10:27.346Z"
   },
   {
    "duration": 11,
    "start_time": "2023-01-15T08:10:27.384Z"
   },
   {
    "duration": 13,
    "start_time": "2023-01-15T08:10:27.397Z"
   },
   {
    "duration": 6,
    "start_time": "2023-01-15T08:10:27.414Z"
   },
   {
    "duration": 17,
    "start_time": "2023-01-15T08:10:27.421Z"
   },
   {
    "duration": 22,
    "start_time": "2023-01-15T08:10:27.441Z"
   },
   {
    "duration": 5,
    "start_time": "2023-01-15T08:10:27.465Z"
   },
   {
    "duration": 9,
    "start_time": "2023-01-15T08:10:27.472Z"
   },
   {
    "duration": 13,
    "start_time": "2023-01-15T08:10:27.482Z"
   },
   {
    "duration": 268,
    "start_time": "2023-01-15T08:10:27.497Z"
   },
   {
    "duration": 5,
    "start_time": "2023-01-15T08:10:27.766Z"
   },
   {
    "duration": 11,
    "start_time": "2023-01-15T08:10:27.773Z"
   },
   {
    "duration": 9,
    "start_time": "2023-01-15T08:10:27.786Z"
   },
   {
    "duration": 13,
    "start_time": "2023-01-15T08:10:27.796Z"
   },
   {
    "duration": 4,
    "start_time": "2023-01-15T08:10:27.811Z"
   },
   {
    "duration": 39,
    "start_time": "2023-01-15T08:10:27.841Z"
   },
   {
    "duration": 18,
    "start_time": "2023-01-15T08:10:27.882Z"
   },
   {
    "duration": 318,
    "start_time": "2023-01-15T08:10:27.902Z"
   },
   {
    "duration": 29,
    "start_time": "2023-01-15T08:10:28.222Z"
   },
   {
    "duration": 16,
    "start_time": "2023-01-15T08:10:28.253Z"
   },
   {
    "duration": 240,
    "start_time": "2023-01-15T08:10:28.271Z"
   },
   {
    "duration": 8,
    "start_time": "2023-01-15T08:10:28.512Z"
   },
   {
    "duration": 492,
    "start_time": "2023-01-15T08:10:28.538Z"
   },
   {
    "duration": 31,
    "start_time": "2023-01-15T08:10:29.033Z"
   },
   {
    "duration": 18,
    "start_time": "2023-01-15T08:10:29.067Z"
   },
   {
    "duration": 7,
    "start_time": "2023-01-15T08:10:29.087Z"
   },
   {
    "duration": 18,
    "start_time": "2023-01-15T08:10:29.096Z"
   },
   {
    "duration": 364,
    "start_time": "2023-01-15T08:10:29.115Z"
   },
   {
    "duration": 443,
    "start_time": "2023-01-15T08:10:29.481Z"
   },
   {
    "duration": 171,
    "start_time": "2023-01-15T08:10:29.926Z"
   },
   {
    "duration": 319,
    "start_time": "2023-01-15T08:10:30.101Z"
   },
   {
    "duration": 54,
    "start_time": "2023-01-15T08:10:30.422Z"
   },
   {
    "duration": 299,
    "start_time": "2023-01-15T08:10:30.478Z"
   },
   {
    "duration": 426,
    "start_time": "2023-01-15T08:10:30.779Z"
   },
   {
    "duration": 15,
    "start_time": "2023-01-15T08:10:31.206Z"
   },
   {
    "duration": 567,
    "start_time": "2023-01-15T08:10:31.223Z"
   },
   {
    "duration": 508,
    "start_time": "2023-01-15T08:10:31.791Z"
   },
   {
    "duration": 622,
    "start_time": "2023-01-15T08:10:32.301Z"
   },
   {
    "duration": 26,
    "start_time": "2023-01-15T08:10:32.926Z"
   },
   {
    "duration": 16,
    "start_time": "2023-01-15T08:10:32.956Z"
   },
   {
    "duration": 69,
    "start_time": "2023-01-15T08:12:10.927Z"
   },
   {
    "duration": 136,
    "start_time": "2023-01-15T08:14:47.696Z"
   },
   {
    "duration": 135,
    "start_time": "2023-01-15T08:30:28.387Z"
   },
   {
    "duration": 331,
    "start_time": "2023-01-15T08:30:49.497Z"
   },
   {
    "duration": 473,
    "start_time": "2023-01-15T08:33:24.457Z"
   },
   {
    "duration": 8,
    "start_time": "2023-01-15T08:35:19.667Z"
   },
   {
    "duration": 7,
    "start_time": "2023-01-15T08:35:42.547Z"
   },
   {
    "duration": 6,
    "start_time": "2023-01-15T08:36:32.257Z"
   },
   {
    "duration": 9,
    "start_time": "2023-01-15T08:36:48.957Z"
   },
   {
    "duration": 6,
    "start_time": "2023-01-15T08:37:59.907Z"
   },
   {
    "duration": 71,
    "start_time": "2023-01-15T08:41:55.447Z"
   },
   {
    "duration": 22,
    "start_time": "2023-01-15T08:42:27.717Z"
   },
   {
    "duration": 26,
    "start_time": "2023-01-15T08:42:48.247Z"
   },
   {
    "duration": 26,
    "start_time": "2023-01-15T08:43:18.747Z"
   },
   {
    "duration": 38,
    "start_time": "2023-01-15T08:43:28.969Z"
   },
   {
    "duration": 23,
    "start_time": "2023-01-15T08:56:44.241Z"
   },
   {
    "duration": 23,
    "start_time": "2023-01-15T08:57:08.262Z"
   },
   {
    "duration": 26,
    "start_time": "2023-01-15T08:57:21.072Z"
   },
   {
    "duration": 7,
    "start_time": "2023-01-15T09:00:40.851Z"
   },
   {
    "duration": 6,
    "start_time": "2023-01-15T09:00:56.402Z"
   },
   {
    "duration": 6,
    "start_time": "2023-01-15T09:01:30.581Z"
   },
   {
    "duration": 6,
    "start_time": "2023-01-15T09:02:04.291Z"
   },
   {
    "duration": 20,
    "start_time": "2023-01-15T09:04:55.932Z"
   },
   {
    "duration": 22,
    "start_time": "2023-01-15T09:05:19.321Z"
   },
   {
    "duration": 26,
    "start_time": "2023-01-15T09:05:59.992Z"
   },
   {
    "duration": 28,
    "start_time": "2023-01-15T09:07:03.222Z"
   },
   {
    "duration": 28,
    "start_time": "2023-01-15T09:07:48.572Z"
   },
   {
    "duration": 39,
    "start_time": "2023-01-15T09:08:54.711Z"
   },
   {
    "duration": 28,
    "start_time": "2023-01-15T09:16:00.742Z"
   },
   {
    "duration": 30,
    "start_time": "2023-01-15T09:16:53.562Z"
   },
   {
    "duration": 26,
    "start_time": "2023-01-15T09:18:02.971Z"
   },
   {
    "duration": 27,
    "start_time": "2023-01-15T09:25:03.702Z"
   },
   {
    "duration": 22,
    "start_time": "2023-01-15T09:27:04.482Z"
   },
   {
    "duration": 32,
    "start_time": "2023-01-15T09:27:55.764Z"
   },
   {
    "duration": 25,
    "start_time": "2023-01-15T09:38:11.721Z"
   },
   {
    "duration": 40,
    "start_time": "2023-01-15T09:38:31.132Z"
   },
   {
    "duration": 28,
    "start_time": "2023-01-15T09:38:38.182Z"
   },
   {
    "duration": 25,
    "start_time": "2023-01-15T09:45:33.732Z"
   },
   {
    "duration": 1241,
    "start_time": "2023-01-15T09:46:06.147Z"
   },
   {
    "duration": 149,
    "start_time": "2023-01-15T09:46:07.390Z"
   },
   {
    "duration": 20,
    "start_time": "2023-01-15T09:46:07.541Z"
   },
   {
    "duration": 86,
    "start_time": "2023-01-15T09:46:07.564Z"
   },
   {
    "duration": 16,
    "start_time": "2023-01-15T09:46:07.652Z"
   },
   {
    "duration": 14,
    "start_time": "2023-01-15T09:46:07.670Z"
   },
   {
    "duration": 104,
    "start_time": "2023-01-15T09:46:07.686Z"
   },
   {
    "duration": 56,
    "start_time": "2023-01-15T09:46:07.792Z"
   },
   {
    "duration": 21,
    "start_time": "2023-01-15T09:46:07.850Z"
   },
   {
    "duration": 9,
    "start_time": "2023-01-15T09:46:07.874Z"
   },
   {
    "duration": 23,
    "start_time": "2023-01-15T09:46:07.884Z"
   },
   {
    "duration": 29,
    "start_time": "2023-01-15T09:46:07.909Z"
   },
   {
    "duration": 14,
    "start_time": "2023-01-15T09:46:07.941Z"
   },
   {
    "duration": 9,
    "start_time": "2023-01-15T09:46:07.956Z"
   },
   {
    "duration": 13,
    "start_time": "2023-01-15T09:46:07.967Z"
   },
   {
    "duration": 13,
    "start_time": "2023-01-15T09:46:07.982Z"
   },
   {
    "duration": 5,
    "start_time": "2023-01-15T09:46:07.997Z"
   },
   {
    "duration": 36,
    "start_time": "2023-01-15T09:46:08.003Z"
   },
   {
    "duration": 14,
    "start_time": "2023-01-15T09:46:08.041Z"
   },
   {
    "duration": 261,
    "start_time": "2023-01-15T09:46:08.056Z"
   },
   {
    "duration": 5,
    "start_time": "2023-01-15T09:46:08.318Z"
   },
   {
    "duration": 18,
    "start_time": "2023-01-15T09:46:08.325Z"
   },
   {
    "duration": 11,
    "start_time": "2023-01-15T09:46:08.345Z"
   },
   {
    "duration": 10,
    "start_time": "2023-01-15T09:46:08.357Z"
   },
   {
    "duration": 4,
    "start_time": "2023-01-15T09:46:08.369Z"
   },
   {
    "duration": 13,
    "start_time": "2023-01-15T09:46:08.375Z"
   },
   {
    "duration": 54,
    "start_time": "2023-01-15T09:46:08.391Z"
   },
   {
    "duration": 27,
    "start_time": "2023-01-15T09:46:08.449Z"
   },
   {
    "duration": 229,
    "start_time": "2023-01-15T09:46:08.478Z"
   },
   {
    "duration": 9,
    "start_time": "2023-01-15T09:46:08.709Z"
   },
   {
    "duration": 494,
    "start_time": "2023-01-15T09:46:08.720Z"
   },
   {
    "duration": 16,
    "start_time": "2023-01-15T09:46:09.216Z"
   },
   {
    "duration": 8,
    "start_time": "2023-01-15T09:46:09.234Z"
   },
   {
    "duration": 8,
    "start_time": "2023-01-15T09:46:09.244Z"
   },
   {
    "duration": 15,
    "start_time": "2023-01-15T09:46:09.254Z"
   },
   {
    "duration": 337,
    "start_time": "2023-01-15T09:46:09.270Z"
   },
   {
    "duration": 348,
    "start_time": "2023-01-15T09:46:09.609Z"
   },
   {
    "duration": 244,
    "start_time": "2023-01-15T09:46:09.959Z"
   },
   {
    "duration": 296,
    "start_time": "2023-01-15T09:46:10.205Z"
   },
   {
    "duration": 50,
    "start_time": "2023-01-15T09:46:10.503Z"
   },
   {
    "duration": 286,
    "start_time": "2023-01-15T09:46:10.554Z"
   },
   {
    "duration": 408,
    "start_time": "2023-01-15T09:46:10.842Z"
   },
   {
    "duration": 21,
    "start_time": "2023-01-15T09:46:11.252Z"
   },
   {
    "duration": 472,
    "start_time": "2023-01-15T09:46:11.275Z"
   },
   {
    "duration": 537,
    "start_time": "2023-01-15T09:46:11.748Z"
   },
   {
    "duration": 476,
    "start_time": "2023-01-15T09:46:12.286Z"
   },
   {
    "duration": 16,
    "start_time": "2023-01-15T09:46:12.764Z"
   },
   {
    "duration": 32,
    "start_time": "2023-01-15T09:46:12.782Z"
   },
   {
    "duration": 17,
    "start_time": "2023-01-15T10:02:49.537Z"
   },
   {
    "duration": 1249,
    "start_time": "2023-01-15T10:03:01.913Z"
   },
   {
    "duration": 86,
    "start_time": "2023-01-15T10:03:03.165Z"
   },
   {
    "duration": 15,
    "start_time": "2023-01-15T10:03:03.253Z"
   },
   {
    "duration": 53,
    "start_time": "2023-01-15T10:03:03.270Z"
   },
   {
    "duration": 13,
    "start_time": "2023-01-15T10:03:03.325Z"
   },
   {
    "duration": 22,
    "start_time": "2023-01-15T10:03:03.339Z"
   },
   {
    "duration": 78,
    "start_time": "2023-01-15T10:03:03.362Z"
   },
   {
    "duration": 17,
    "start_time": "2023-01-15T10:03:03.441Z"
   },
   {
    "duration": 31,
    "start_time": "2023-01-15T10:03:03.460Z"
   },
   {
    "duration": 5,
    "start_time": "2023-01-15T10:03:03.494Z"
   },
   {
    "duration": 22,
    "start_time": "2023-01-15T10:03:03.500Z"
   },
   {
    "duration": 28,
    "start_time": "2023-01-15T10:03:03.523Z"
   },
   {
    "duration": 18,
    "start_time": "2023-01-15T10:03:03.553Z"
   },
   {
    "duration": 18,
    "start_time": "2023-01-15T10:03:03.573Z"
   },
   {
    "duration": 11,
    "start_time": "2023-01-15T10:03:03.592Z"
   },
   {
    "duration": 17,
    "start_time": "2023-01-15T10:03:03.605Z"
   },
   {
    "duration": 5,
    "start_time": "2023-01-15T10:03:03.624Z"
   },
   {
    "duration": 11,
    "start_time": "2023-01-15T10:03:03.630Z"
   },
   {
    "duration": 16,
    "start_time": "2023-01-15T10:03:03.643Z"
   },
   {
    "duration": 234,
    "start_time": "2023-01-15T10:03:03.661Z"
   },
   {
    "duration": 5,
    "start_time": "2023-01-15T10:03:03.897Z"
   },
   {
    "duration": 26,
    "start_time": "2023-01-15T10:03:03.903Z"
   },
   {
    "duration": 28,
    "start_time": "2023-01-15T10:03:03.930Z"
   },
   {
    "duration": 30,
    "start_time": "2023-01-15T10:03:03.960Z"
   },
   {
    "duration": 24,
    "start_time": "2023-01-15T10:03:03.991Z"
   },
   {
    "duration": 26,
    "start_time": "2023-01-15T10:03:04.017Z"
   },
   {
    "duration": 21,
    "start_time": "2023-01-15T10:03:04.044Z"
   },
   {
    "duration": 50,
    "start_time": "2023-01-15T10:03:04.069Z"
   },
   {
    "duration": 238,
    "start_time": "2023-01-15T10:03:04.120Z"
   },
   {
    "duration": 9,
    "start_time": "2023-01-15T10:03:04.360Z"
   },
   {
    "duration": 455,
    "start_time": "2023-01-15T10:03:04.371Z"
   },
   {
    "duration": 17,
    "start_time": "2023-01-15T10:03:04.828Z"
   },
   {
    "duration": 16,
    "start_time": "2023-01-15T10:03:04.847Z"
   },
   {
    "duration": 35,
    "start_time": "2023-01-15T10:03:04.864Z"
   },
   {
    "duration": 39,
    "start_time": "2023-01-15T10:03:04.900Z"
   },
   {
    "duration": 30,
    "start_time": "2023-01-15T10:03:04.941Z"
   },
   {
    "duration": 354,
    "start_time": "2023-01-15T10:03:04.974Z"
   },
   {
    "duration": 357,
    "start_time": "2023-01-15T10:03:05.329Z"
   },
   {
    "duration": 257,
    "start_time": "2023-01-15T10:03:05.688Z"
   },
   {
    "duration": 288,
    "start_time": "2023-01-15T10:03:05.946Z"
   },
   {
    "duration": 53,
    "start_time": "2023-01-15T10:03:06.235Z"
   },
   {
    "duration": 301,
    "start_time": "2023-01-15T10:03:06.290Z"
   },
   {
    "duration": 397,
    "start_time": "2023-01-15T10:03:06.592Z"
   },
   {
    "duration": 15,
    "start_time": "2023-01-15T10:03:06.991Z"
   },
   {
    "duration": 535,
    "start_time": "2023-01-15T10:03:07.008Z"
   },
   {
    "duration": 523,
    "start_time": "2023-01-15T10:03:07.545Z"
   },
   {
    "duration": 470,
    "start_time": "2023-01-15T10:03:08.070Z"
   },
   {
    "duration": 12,
    "start_time": "2023-01-15T10:03:08.542Z"
   },
   {
    "duration": 15,
    "start_time": "2023-01-15T10:03:08.556Z"
   },
   {
    "duration": 137,
    "start_time": "2023-01-15T10:16:49.132Z"
   },
   {
    "duration": 34,
    "start_time": "2023-01-15T10:16:56.681Z"
   },
   {
    "duration": 37,
    "start_time": "2023-01-15T10:17:42.181Z"
   },
   {
    "duration": 35,
    "start_time": "2023-01-15T10:18:15.262Z"
   },
   {
    "duration": 38,
    "start_time": "2023-01-15T10:24:18.371Z"
   },
   {
    "duration": 573,
    "start_time": "2023-01-15T10:41:17.151Z"
   },
   {
    "duration": 472,
    "start_time": "2023-01-15T10:58:48.001Z"
   },
   {
    "duration": 590,
    "start_time": "2023-01-15T10:58:58.541Z"
   },
   {
    "duration": 18,
    "start_time": "2023-01-15T11:02:05.131Z"
   },
   {
    "duration": 14,
    "start_time": "2023-01-15T11:02:19.721Z"
   },
   {
    "duration": 45,
    "start_time": "2023-01-15T11:03:02.251Z"
   },
   {
    "duration": 22,
    "start_time": "2023-01-15T11:03:34.211Z"
   },
   {
    "duration": 18,
    "start_time": "2023-01-15T11:03:49.371Z"
   },
   {
    "duration": 42,
    "start_time": "2023-01-15T11:04:03.611Z"
   },
   {
    "duration": 42,
    "start_time": "2023-01-15T11:04:35.556Z"
   },
   {
    "duration": 44,
    "start_time": "2023-01-15T11:05:01.762Z"
   },
   {
    "duration": 11,
    "start_time": "2023-01-15T11:24:26.991Z"
   },
   {
    "duration": 13,
    "start_time": "2023-01-15T11:25:27.942Z"
   },
   {
    "duration": 92,
    "start_time": "2023-01-15T11:27:12.471Z"
   },
   {
    "duration": 76,
    "start_time": "2023-01-15T11:29:09.381Z"
   },
   {
    "duration": 1317,
    "start_time": "2023-01-15T11:33:53.079Z"
   },
   {
    "duration": 94,
    "start_time": "2023-01-15T11:33:54.398Z"
   },
   {
    "duration": 16,
    "start_time": "2023-01-15T11:33:54.493Z"
   },
   {
    "duration": 48,
    "start_time": "2023-01-15T11:33:54.510Z"
   },
   {
    "duration": 15,
    "start_time": "2023-01-15T11:33:54.561Z"
   },
   {
    "duration": 12,
    "start_time": "2023-01-15T11:33:54.578Z"
   },
   {
    "duration": 86,
    "start_time": "2023-01-15T11:33:54.591Z"
   },
   {
    "duration": 20,
    "start_time": "2023-01-15T11:33:54.679Z"
   },
   {
    "duration": 45,
    "start_time": "2023-01-15T11:33:54.701Z"
   },
   {
    "duration": 7,
    "start_time": "2023-01-15T11:33:54.749Z"
   },
   {
    "duration": 19,
    "start_time": "2023-01-15T11:33:54.758Z"
   },
   {
    "duration": 13,
    "start_time": "2023-01-15T11:33:54.779Z"
   },
   {
    "duration": 18,
    "start_time": "2023-01-15T11:33:54.793Z"
   },
   {
    "duration": 24,
    "start_time": "2023-01-15T11:33:54.814Z"
   },
   {
    "duration": 35,
    "start_time": "2023-01-15T11:33:54.840Z"
   },
   {
    "duration": 17,
    "start_time": "2023-01-15T11:33:54.877Z"
   },
   {
    "duration": 4,
    "start_time": "2023-01-15T11:33:54.896Z"
   },
   {
    "duration": 9,
    "start_time": "2023-01-15T11:33:54.902Z"
   },
   {
    "duration": 12,
    "start_time": "2023-01-15T11:33:54.913Z"
   },
   {
    "duration": 266,
    "start_time": "2023-01-15T11:33:54.927Z"
   },
   {
    "duration": 5,
    "start_time": "2023-01-15T11:33:55.195Z"
   },
   {
    "duration": 13,
    "start_time": "2023-01-15T11:33:55.202Z"
   },
   {
    "duration": 20,
    "start_time": "2023-01-15T11:33:55.216Z"
   },
   {
    "duration": 16,
    "start_time": "2023-01-15T11:33:55.238Z"
   },
   {
    "duration": 7,
    "start_time": "2023-01-15T11:33:55.257Z"
   },
   {
    "duration": 19,
    "start_time": "2023-01-15T11:33:55.266Z"
   },
   {
    "duration": 9,
    "start_time": "2023-01-15T11:33:55.287Z"
   },
   {
    "duration": 66,
    "start_time": "2023-01-15T11:33:55.297Z"
   },
   {
    "duration": 257,
    "start_time": "2023-01-15T11:33:55.366Z"
   },
   {
    "duration": 13,
    "start_time": "2023-01-15T11:33:55.625Z"
   },
   {
    "duration": 518,
    "start_time": "2023-01-15T11:33:55.640Z"
   },
   {
    "duration": 21,
    "start_time": "2023-01-15T11:33:56.161Z"
   },
   {
    "duration": 8,
    "start_time": "2023-01-15T11:33:56.184Z"
   },
   {
    "duration": 9,
    "start_time": "2023-01-15T11:33:56.194Z"
   },
   {
    "duration": 15,
    "start_time": "2023-01-15T11:33:56.205Z"
   },
   {
    "duration": 27,
    "start_time": "2023-01-15T11:33:56.222Z"
   },
   {
    "duration": 397,
    "start_time": "2023-01-15T11:33:56.251Z"
   },
   {
    "duration": 419,
    "start_time": "2023-01-15T11:33:56.651Z"
   },
   {
    "duration": 296,
    "start_time": "2023-01-15T11:33:57.073Z"
   },
   {
    "duration": 336,
    "start_time": "2023-01-15T11:33:57.371Z"
   },
   {
    "duration": 59,
    "start_time": "2023-01-15T11:33:57.711Z"
   },
   {
    "duration": 461,
    "start_time": "2023-01-15T11:33:57.772Z"
   },
   {
    "duration": 43,
    "start_time": "2023-01-15T11:33:58.234Z"
   },
   {
    "duration": 486,
    "start_time": "2023-01-15T11:33:58.279Z"
   },
   {
    "duration": 543,
    "start_time": "2023-01-15T11:33:58.767Z"
   },
   {
    "duration": 491,
    "start_time": "2023-01-15T11:33:59.312Z"
   },
   {
    "duration": 15,
    "start_time": "2023-01-15T11:33:59.805Z"
   },
   {
    "duration": 26,
    "start_time": "2023-01-15T11:33:59.822Z"
   },
   {
    "duration": 72,
    "start_time": "2023-01-15T11:38:41.220Z"
   },
   {
    "duration": 1126,
    "start_time": "2023-01-15T11:46:35.970Z"
   },
   {
    "duration": 88,
    "start_time": "2023-01-15T11:46:37.099Z"
   },
   {
    "duration": 15,
    "start_time": "2023-01-15T11:46:37.189Z"
   },
   {
    "duration": 49,
    "start_time": "2023-01-15T11:46:37.206Z"
   },
   {
    "duration": 10,
    "start_time": "2023-01-15T11:46:37.258Z"
   },
   {
    "duration": 14,
    "start_time": "2023-01-15T11:46:37.269Z"
   },
   {
    "duration": 78,
    "start_time": "2023-01-15T11:46:37.284Z"
   },
   {
    "duration": 16,
    "start_time": "2023-01-15T11:46:37.363Z"
   },
   {
    "duration": 19,
    "start_time": "2023-01-15T11:46:37.384Z"
   },
   {
    "duration": 5,
    "start_time": "2023-01-15T11:46:37.405Z"
   },
   {
    "duration": 29,
    "start_time": "2023-01-15T11:46:37.411Z"
   },
   {
    "duration": 9,
    "start_time": "2023-01-15T11:46:37.441Z"
   },
   {
    "duration": 12,
    "start_time": "2023-01-15T11:46:37.451Z"
   },
   {
    "duration": 4,
    "start_time": "2023-01-15T11:46:37.466Z"
   },
   {
    "duration": 11,
    "start_time": "2023-01-15T11:46:37.471Z"
   },
   {
    "duration": 12,
    "start_time": "2023-01-15T11:46:37.483Z"
   },
   {
    "duration": 5,
    "start_time": "2023-01-15T11:46:37.497Z"
   },
   {
    "duration": 6,
    "start_time": "2023-01-15T11:46:37.538Z"
   },
   {
    "duration": 13,
    "start_time": "2023-01-15T11:46:37.545Z"
   },
   {
    "duration": 250,
    "start_time": "2023-01-15T11:46:37.560Z"
   },
   {
    "duration": 5,
    "start_time": "2023-01-15T11:46:37.812Z"
   },
   {
    "duration": 19,
    "start_time": "2023-01-15T11:46:37.819Z"
   },
   {
    "duration": 12,
    "start_time": "2023-01-15T11:46:37.840Z"
   },
   {
    "duration": 16,
    "start_time": "2023-01-15T11:46:37.855Z"
   },
   {
    "duration": 5,
    "start_time": "2023-01-15T11:46:37.872Z"
   },
   {
    "duration": 16,
    "start_time": "2023-01-15T11:46:37.879Z"
   },
   {
    "duration": 43,
    "start_time": "2023-01-15T11:46:37.897Z"
   },
   {
    "duration": 27,
    "start_time": "2023-01-15T11:46:37.942Z"
   },
   {
    "duration": 232,
    "start_time": "2023-01-15T11:46:37.971Z"
   },
   {
    "duration": 9,
    "start_time": "2023-01-15T11:46:38.205Z"
   },
   {
    "duration": 402,
    "start_time": "2023-01-15T11:46:38.216Z"
   },
   {
    "duration": 16,
    "start_time": "2023-01-15T11:46:38.620Z"
   },
   {
    "duration": 7,
    "start_time": "2023-01-15T11:46:38.638Z"
   },
   {
    "duration": 8,
    "start_time": "2023-01-15T11:46:38.647Z"
   },
   {
    "duration": 13,
    "start_time": "2023-01-15T11:46:38.657Z"
   },
   {
    "duration": 21,
    "start_time": "2023-01-15T11:46:38.672Z"
   },
   {
    "duration": 407,
    "start_time": "2023-01-15T11:46:38.695Z"
   },
   {
    "duration": 318,
    "start_time": "2023-01-15T11:46:39.104Z"
   },
   {
    "duration": 241,
    "start_time": "2023-01-15T11:46:39.424Z"
   },
   {
    "duration": 289,
    "start_time": "2023-01-15T11:46:39.667Z"
   },
   {
    "duration": 39,
    "start_time": "2023-01-15T11:46:39.960Z"
   },
   {
    "duration": 412,
    "start_time": "2023-01-15T11:46:40.001Z"
   },
   {
    "duration": 48,
    "start_time": "2023-01-15T11:46:40.415Z"
   },
   {
    "duration": 486,
    "start_time": "2023-01-15T11:46:40.465Z"
   },
   {
    "duration": 501,
    "start_time": "2023-01-15T11:46:40.953Z"
   },
   {
    "duration": 492,
    "start_time": "2023-01-15T11:46:41.455Z"
   },
   {
    "duration": 11,
    "start_time": "2023-01-15T11:46:41.949Z"
   },
   {
    "duration": 25,
    "start_time": "2023-01-15T11:46:41.962Z"
   },
   {
    "duration": 1249,
    "start_time": "2023-01-15T11:54:36.342Z"
   },
   {
    "duration": 223,
    "start_time": "2023-01-15T11:54:37.593Z"
   },
   {
    "duration": 15,
    "start_time": "2023-01-15T11:54:37.818Z"
   },
   {
    "duration": 32,
    "start_time": "2023-01-15T11:54:37.836Z"
   },
   {
    "duration": 27,
    "start_time": "2023-01-15T11:54:37.870Z"
   },
   {
    "duration": 39,
    "start_time": "2023-01-15T11:54:37.899Z"
   },
   {
    "duration": 85,
    "start_time": "2023-01-15T11:54:37.940Z"
   },
   {
    "duration": 18,
    "start_time": "2023-01-15T11:54:38.026Z"
   },
   {
    "duration": 25,
    "start_time": "2023-01-15T11:54:38.046Z"
   },
   {
    "duration": 18,
    "start_time": "2023-01-15T11:54:38.078Z"
   },
   {
    "duration": 30,
    "start_time": "2023-01-15T11:54:38.097Z"
   },
   {
    "duration": 27,
    "start_time": "2023-01-15T11:54:38.128Z"
   },
   {
    "duration": 48,
    "start_time": "2023-01-15T11:54:38.156Z"
   },
   {
    "duration": 57,
    "start_time": "2023-01-15T11:54:38.205Z"
   },
   {
    "duration": 48,
    "start_time": "2023-01-15T11:54:38.263Z"
   },
   {
    "duration": 40,
    "start_time": "2023-01-15T11:54:38.313Z"
   },
   {
    "duration": 24,
    "start_time": "2023-01-15T11:54:38.355Z"
   },
   {
    "duration": 21,
    "start_time": "2023-01-15T11:54:38.380Z"
   },
   {
    "duration": 46,
    "start_time": "2023-01-15T11:54:38.403Z"
   },
   {
    "duration": 231,
    "start_time": "2023-01-15T11:54:38.451Z"
   },
   {
    "duration": 5,
    "start_time": "2023-01-15T11:54:38.683Z"
   },
   {
    "duration": 24,
    "start_time": "2023-01-15T11:54:38.689Z"
   },
   {
    "duration": 20,
    "start_time": "2023-01-15T11:54:38.714Z"
   },
   {
    "duration": 24,
    "start_time": "2023-01-15T11:54:38.735Z"
   },
   {
    "duration": 19,
    "start_time": "2023-01-15T11:54:38.760Z"
   },
   {
    "duration": 41,
    "start_time": "2023-01-15T11:54:38.780Z"
   },
   {
    "duration": 43,
    "start_time": "2023-01-15T11:54:38.823Z"
   },
   {
    "duration": 47,
    "start_time": "2023-01-15T11:54:38.869Z"
   },
   {
    "duration": 186,
    "start_time": "2023-01-15T11:54:38.918Z"
   },
   {
    "duration": 9,
    "start_time": "2023-01-15T11:54:39.106Z"
   },
   {
    "duration": 393,
    "start_time": "2023-01-15T11:54:39.116Z"
   },
   {
    "duration": 14,
    "start_time": "2023-01-15T11:54:39.511Z"
   },
   {
    "duration": 25,
    "start_time": "2023-01-15T11:54:39.526Z"
   },
   {
    "duration": 26,
    "start_time": "2023-01-15T11:54:39.553Z"
   },
   {
    "duration": 36,
    "start_time": "2023-01-15T11:54:39.580Z"
   },
   {
    "duration": 19,
    "start_time": "2023-01-15T11:54:39.617Z"
   },
   {
    "duration": 321,
    "start_time": "2023-01-15T11:54:39.638Z"
   },
   {
    "duration": 310,
    "start_time": "2023-01-15T11:54:39.961Z"
   },
   {
    "duration": 211,
    "start_time": "2023-01-15T11:54:40.278Z"
   },
   {
    "duration": 273,
    "start_time": "2023-01-15T11:54:40.491Z"
   },
   {
    "duration": 40,
    "start_time": "2023-01-15T11:54:40.765Z"
   },
   {
    "duration": 377,
    "start_time": "2023-01-15T11:54:40.807Z"
   },
   {
    "duration": 36,
    "start_time": "2023-01-15T11:54:41.185Z"
   },
   {
    "duration": 486,
    "start_time": "2023-01-15T11:54:41.222Z"
   },
   {
    "duration": 450,
    "start_time": "2023-01-15T11:54:41.710Z"
   },
   {
    "duration": 423,
    "start_time": "2023-01-15T11:54:42.162Z"
   },
   {
    "duration": 12,
    "start_time": "2023-01-15T11:54:42.587Z"
   },
   {
    "duration": 46,
    "start_time": "2023-01-15T11:54:42.602Z"
   },
   {
    "duration": 53,
    "start_time": "2023-10-05T11:50:44.194Z"
   },
   {
    "duration": 1348,
    "start_time": "2023-10-05T11:50:52.643Z"
   },
   {
    "duration": 229,
    "start_time": "2023-10-05T11:50:53.993Z"
   },
   {
    "duration": 17,
    "start_time": "2023-10-05T11:50:54.224Z"
   },
   {
    "duration": 36,
    "start_time": "2023-10-05T11:50:54.243Z"
   },
   {
    "duration": 11,
    "start_time": "2023-10-05T11:50:54.280Z"
   },
   {
    "duration": 12,
    "start_time": "2023-10-05T11:50:54.292Z"
   },
   {
    "duration": 78,
    "start_time": "2023-10-05T11:50:54.305Z"
   },
   {
    "duration": 17,
    "start_time": "2023-10-05T11:50:54.385Z"
   },
   {
    "duration": 22,
    "start_time": "2023-10-05T11:50:54.404Z"
   },
   {
    "duration": 5,
    "start_time": "2023-10-05T11:50:54.429Z"
   },
   {
    "duration": 7,
    "start_time": "2023-10-05T11:50:54.457Z"
   },
   {
    "duration": 14,
    "start_time": "2023-10-05T11:50:54.466Z"
   },
   {
    "duration": 15,
    "start_time": "2023-10-05T11:50:54.482Z"
   },
   {
    "duration": 14,
    "start_time": "2023-10-05T11:50:54.499Z"
   },
   {
    "duration": 32,
    "start_time": "2023-10-05T11:50:54.515Z"
   },
   {
    "duration": 52,
    "start_time": "2023-10-05T11:50:54.549Z"
   },
   {
    "duration": 6,
    "start_time": "2023-10-05T11:50:54.604Z"
   },
   {
    "duration": 22,
    "start_time": "2023-10-05T11:50:54.612Z"
   },
   {
    "duration": 75,
    "start_time": "2023-10-05T11:50:54.636Z"
   },
   {
    "duration": 270,
    "start_time": "2023-10-05T11:50:54.713Z"
   },
   {
    "duration": 6,
    "start_time": "2023-10-05T11:50:54.985Z"
   },
   {
    "duration": 24,
    "start_time": "2023-10-05T11:50:54.993Z"
   },
   {
    "duration": 17,
    "start_time": "2023-10-05T11:50:55.018Z"
   },
   {
    "duration": 26,
    "start_time": "2023-10-05T11:50:55.037Z"
   },
   {
    "duration": 12,
    "start_time": "2023-10-05T11:50:55.065Z"
   },
   {
    "duration": 17,
    "start_time": "2023-10-05T11:50:55.079Z"
   },
   {
    "duration": 15,
    "start_time": "2023-10-05T11:50:55.098Z"
   },
   {
    "duration": 60,
    "start_time": "2023-10-05T11:50:55.118Z"
   },
   {
    "duration": 237,
    "start_time": "2023-10-05T11:50:55.180Z"
   },
   {
    "duration": 11,
    "start_time": "2023-10-05T11:50:55.419Z"
   },
   {
    "duration": 453,
    "start_time": "2023-10-05T11:50:55.432Z"
   },
   {
    "duration": 19,
    "start_time": "2023-10-05T11:50:55.887Z"
   },
   {
    "duration": 39,
    "start_time": "2023-10-05T11:50:55.908Z"
   },
   {
    "duration": 23,
    "start_time": "2023-10-05T11:50:55.950Z"
   },
   {
    "duration": 37,
    "start_time": "2023-10-05T11:50:55.975Z"
   },
   {
    "duration": 20,
    "start_time": "2023-10-05T11:50:56.014Z"
   },
   {
    "duration": 335,
    "start_time": "2023-10-05T11:50:56.036Z"
   },
   {
    "duration": 354,
    "start_time": "2023-10-05T11:50:56.373Z"
   },
   {
    "duration": 282,
    "start_time": "2023-10-05T11:50:56.729Z"
   },
   {
    "duration": 298,
    "start_time": "2023-10-05T11:50:57.013Z"
   },
   {
    "duration": 50,
    "start_time": "2023-10-05T11:50:57.313Z"
   },
   {
    "duration": 404,
    "start_time": "2023-10-05T11:50:57.365Z"
   },
   {
    "duration": 43,
    "start_time": "2023-10-05T11:50:57.771Z"
   },
   {
    "duration": 561,
    "start_time": "2023-10-05T11:50:57.816Z"
   },
   {
    "duration": 563,
    "start_time": "2023-10-05T11:50:58.379Z"
   },
   {
    "duration": 535,
    "start_time": "2023-10-05T11:50:58.945Z"
   },
   {
    "duration": 13,
    "start_time": "2023-10-05T11:50:59.482Z"
   },
   {
    "duration": 41,
    "start_time": "2023-10-05T11:50:59.497Z"
   },
   {
    "duration": 111,
    "start_time": "2023-10-05T12:00:33.693Z"
   },
   {
    "duration": 6,
    "start_time": "2023-10-05T12:00:45.345Z"
   },
   {
    "duration": 1286,
    "start_time": "2023-10-05T12:01:03.681Z"
   },
   {
    "duration": 92,
    "start_time": "2023-10-05T12:01:04.970Z"
   },
   {
    "duration": 17,
    "start_time": "2023-10-05T12:01:05.064Z"
   },
   {
    "duration": 38,
    "start_time": "2023-10-05T12:01:05.083Z"
   },
   {
    "duration": 37,
    "start_time": "2023-10-05T12:01:05.122Z"
   },
   {
    "duration": 13,
    "start_time": "2023-10-05T12:01:05.162Z"
   },
   {
    "duration": 65,
    "start_time": "2023-10-05T12:01:05.178Z"
   },
   {
    "duration": 19,
    "start_time": "2023-10-05T12:01:05.257Z"
   },
   {
    "duration": 25,
    "start_time": "2023-10-05T12:01:05.278Z"
   },
   {
    "duration": 6,
    "start_time": "2023-10-05T12:01:05.307Z"
   },
   {
    "duration": 44,
    "start_time": "2023-10-05T12:01:05.314Z"
   },
   {
    "duration": 49,
    "start_time": "2023-10-05T12:01:05.360Z"
   },
   {
    "duration": 37,
    "start_time": "2023-10-05T12:01:05.410Z"
   },
   {
    "duration": 15,
    "start_time": "2023-10-05T12:01:05.449Z"
   },
   {
    "duration": 51,
    "start_time": "2023-10-05T12:01:05.466Z"
   },
   {
    "duration": 71,
    "start_time": "2023-10-05T12:01:05.518Z"
   },
   {
    "duration": 30,
    "start_time": "2023-10-05T12:01:05.590Z"
   },
   {
    "duration": 44,
    "start_time": "2023-10-05T12:01:05.621Z"
   },
   {
    "duration": 42,
    "start_time": "2023-10-05T12:01:05.667Z"
   },
   {
    "duration": 229,
    "start_time": "2023-10-05T12:01:05.710Z"
   },
   {
    "duration": 15,
    "start_time": "2023-10-05T12:01:05.941Z"
   },
   {
    "duration": 26,
    "start_time": "2023-10-05T12:01:05.958Z"
   },
   {
    "duration": 31,
    "start_time": "2023-10-05T12:01:05.986Z"
   },
   {
    "duration": 37,
    "start_time": "2023-10-05T12:01:06.019Z"
   },
   {
    "duration": 46,
    "start_time": "2023-10-05T12:01:06.058Z"
   },
   {
    "duration": 64,
    "start_time": "2023-10-05T12:01:06.106Z"
   },
   {
    "duration": 32,
    "start_time": "2023-10-05T12:01:06.172Z"
   },
   {
    "duration": 72,
    "start_time": "2023-10-05T12:01:06.208Z"
   },
   {
    "duration": 224,
    "start_time": "2023-10-05T12:01:06.282Z"
   },
   {
    "duration": 9,
    "start_time": "2023-10-05T12:01:06.509Z"
   },
   {
    "duration": 437,
    "start_time": "2023-10-05T12:01:06.520Z"
   },
   {
    "duration": 18,
    "start_time": "2023-10-05T12:01:06.959Z"
   },
   {
    "duration": 16,
    "start_time": "2023-10-05T12:01:06.979Z"
   },
   {
    "duration": 17,
    "start_time": "2023-10-05T12:01:06.997Z"
   },
   {
    "duration": 27,
    "start_time": "2023-10-05T12:01:07.016Z"
   },
   {
    "duration": 29,
    "start_time": "2023-10-05T12:01:07.044Z"
   },
   {
    "duration": 345,
    "start_time": "2023-10-05T12:01:07.075Z"
   },
   {
    "duration": 337,
    "start_time": "2023-10-05T12:01:07.422Z"
   },
   {
    "duration": 278,
    "start_time": "2023-10-05T12:01:07.761Z"
   },
   {
    "duration": 299,
    "start_time": "2023-10-05T12:01:08.042Z"
   },
   {
    "duration": 47,
    "start_time": "2023-10-05T12:01:08.343Z"
   },
   {
    "duration": 410,
    "start_time": "2023-10-05T12:01:08.392Z"
   },
   {
    "duration": 67,
    "start_time": "2023-10-05T12:01:08.805Z"
   },
   {
    "duration": 493,
    "start_time": "2023-10-05T12:01:08.875Z"
   },
   {
    "duration": 497,
    "start_time": "2023-10-05T12:01:09.370Z"
   },
   {
    "duration": 487,
    "start_time": "2023-10-05T12:01:09.869Z"
   },
   {
    "duration": 12,
    "start_time": "2023-10-05T12:01:10.358Z"
   },
   {
    "duration": 38,
    "start_time": "2023-10-05T12:01:10.372Z"
   },
   {
    "duration": 296,
    "start_time": "2023-10-05T12:29:20.071Z"
   },
   {
    "duration": 434,
    "start_time": "2023-10-05T12:43:36.935Z"
   },
   {
    "duration": 550,
    "start_time": "2023-10-05T12:44:29.661Z"
   },
   {
    "duration": 433,
    "start_time": "2023-10-05T12:46:48.157Z"
   },
   {
    "duration": 460,
    "start_time": "2023-10-05T12:47:57.596Z"
   },
   {
    "duration": 500,
    "start_time": "2023-10-05T12:54:20.845Z"
   }
  ],
  "kernelspec": {
   "display_name": "Python 3 (ipykernel)",
   "language": "python",
   "name": "python3"
  },
  "language_info": {
   "codemirror_mode": {
    "name": "ipython",
    "version": 3
   },
   "file_extension": ".py",
   "mimetype": "text/x-python",
   "name": "python",
   "nbconvert_exporter": "python",
   "pygments_lexer": "ipython3",
   "version": "3.9.5"
  },
  "toc": {
   "base_numbering": 1,
   "nav_menu": {},
   "number_sections": true,
   "sideBar": true,
   "skip_h1_title": true,
   "title_cell": "Table of Contents",
   "title_sidebar": "Contents",
   "toc_cell": false,
   "toc_position": {},
   "toc_section_display": true,
   "toc_window_display": false
  }
 },
 "nbformat": 4,
 "nbformat_minor": 2
}
