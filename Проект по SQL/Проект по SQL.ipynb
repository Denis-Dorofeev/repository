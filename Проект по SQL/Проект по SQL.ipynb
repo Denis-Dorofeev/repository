{
 "cells": [
  {
   "cell_type": "markdown",
   "metadata": {},
   "source": [
    "## Цели исследования"
   ]
  },
  {
   "cell_type": "markdown",
   "metadata": {},
   "source": [
    "Компания решила быть на волне и купила крупный сервис для чтения книг по подписке. Задача  — проанализировать базу данных. В ней — информация о книгах, издательствах, авторах, а также пользовательские обзоры книг. Эти данные помогут сформулировать ценностное предложение для нового продукта."
   ]
  },
  {
   "cell_type": "markdown",
   "metadata": {},
   "source": [
    "## Описание данных"
   ]
  },
  {
   "cell_type": "markdown",
   "metadata": {},
   "source": [
    "Таблица books\n",
    "\n",
    "Содержит данные о книгах:\n",
    "\n",
    "•\tbook_id — идентификатор книги;\n",
    "•\tauthor_id — идентификатор автора;\n",
    "•\ttitle — название книги;\n",
    "•\tnum_pages — количество страниц;\n",
    "•\tpublication_date — дата публикации книги;\n",
    "•\tpublisher_id — идентификатор издателя.\n",
    "\n",
    "Таблица authors\n",
    "\n",
    "Содержит данные об авторах:\n",
    "\n",
    "•\tauthor_id — идентификатор автора;\n",
    "•\tauthor — имя автора.\n",
    "\n",
    "Таблица publishers\n",
    "\n",
    "Содержит данные об издательствах:\n",
    "\n",
    "•\tpublisher_id — идентификатор издательства;\n",
    "•\tpublisher — название издательства;\n",
    "\n",
    "Таблица ratings\n",
    "\n",
    "Содержит данные о пользовательских оценках книг:\n",
    "\n",
    "•\trating_id — идентификатор оценки;\n",
    "•\tbook_id — идентификатор книги;\n",
    "•\tusername — имя пользователя, оставившего оценку;\n",
    "•\trating — оценка книги.\n",
    "\n",
    "Таблица reviews\n",
    "\n",
    "Содержит данные о пользовательских обзорах:\n",
    "\n",
    "•\treview_id — идентификатор обзора;\n",
    "•\tbook_id — идентификатор книги;\n",
    "•\tusername — имя автора обзора;\n",
    "•\ttext — текст обзора.\n"
   ]
  },
  {
   "cell_type": "markdown",
   "metadata": {},
   "source": [
    "## Исследуем таблицы"
   ]
  },
  {
   "cell_type": "code",
   "execution_count": 1,
   "metadata": {},
   "outputs": [],
   "source": [
    "# импортируем библиотеки\n",
    "import pandas as pd\n",
    "from sqlalchemy import text, create_engine"
   ]
  },
  {
   "cell_type": "code",
   "execution_count": 2,
   "metadata": {},
   "outputs": [],
   "source": [
    "# устанавливаем параметры\n",
    "db_config = {'user': 'praktikum_student', # имя пользователя\n",
    "'pwd': 'Sdf4$2;d-d30pp', # пароль\n",
    "'host': 'rc1b-wcoijxj3yxfsf3fs.mdb.yandexcloud.net',\n",
    "'port': 6432, # порт подключения\n",
    "'db': 'data-analyst-final-project-db'} # название базы данных\n",
    "connection_string = 'postgresql://{user}:{pwd}@{host}:{port}/{db}'.format(**db_config)\n",
    "# сохраняем коннектор\n",
    "engine = create_engine(connection_string, connect_args={'sslmode':'require'})"
   ]
  },
  {
   "cell_type": "markdown",
   "metadata": {},
   "source": [
    "Содержание таблиц:"
   ]
  },
  {
   "cell_type": "code",
   "execution_count": 3,
   "metadata": {},
   "outputs": [
    {
     "data": {
      "text/html": [
       "<div>\n",
       "<style scoped>\n",
       "    .dataframe tbody tr th:only-of-type {\n",
       "        vertical-align: middle;\n",
       "    }\n",
       "\n",
       "    .dataframe tbody tr th {\n",
       "        vertical-align: top;\n",
       "    }\n",
       "\n",
       "    .dataframe thead th {\n",
       "        text-align: right;\n",
       "    }\n",
       "</style>\n",
       "<table border=\"1\" class=\"dataframe\">\n",
       "  <thead>\n",
       "    <tr style=\"text-align: right;\">\n",
       "      <th></th>\n",
       "      <th>book_id</th>\n",
       "      <th>author_id</th>\n",
       "      <th>title</th>\n",
       "      <th>num_pages</th>\n",
       "      <th>publication_date</th>\n",
       "      <th>publisher_id</th>\n",
       "    </tr>\n",
       "  </thead>\n",
       "  <tbody>\n",
       "    <tr>\n",
       "      <th>0</th>\n",
       "      <td>1</td>\n",
       "      <td>546</td>\n",
       "      <td>'Salem's Lot</td>\n",
       "      <td>594</td>\n",
       "      <td>2005-11-01</td>\n",
       "      <td>93</td>\n",
       "    </tr>\n",
       "    <tr>\n",
       "      <th>1</th>\n",
       "      <td>2</td>\n",
       "      <td>465</td>\n",
       "      <td>1 000 Places to See Before You Die</td>\n",
       "      <td>992</td>\n",
       "      <td>2003-05-22</td>\n",
       "      <td>336</td>\n",
       "    </tr>\n",
       "    <tr>\n",
       "      <th>2</th>\n",
       "      <td>3</td>\n",
       "      <td>407</td>\n",
       "      <td>13 Little Blue Envelopes (Little Blue Envelope...</td>\n",
       "      <td>322</td>\n",
       "      <td>2010-12-21</td>\n",
       "      <td>135</td>\n",
       "    </tr>\n",
       "    <tr>\n",
       "      <th>3</th>\n",
       "      <td>4</td>\n",
       "      <td>82</td>\n",
       "      <td>1491: New Revelations of the Americas Before C...</td>\n",
       "      <td>541</td>\n",
       "      <td>2006-10-10</td>\n",
       "      <td>309</td>\n",
       "    </tr>\n",
       "    <tr>\n",
       "      <th>4</th>\n",
       "      <td>5</td>\n",
       "      <td>125</td>\n",
       "      <td>1776</td>\n",
       "      <td>386</td>\n",
       "      <td>2006-07-04</td>\n",
       "      <td>268</td>\n",
       "    </tr>\n",
       "  </tbody>\n",
       "</table>\n",
       "</div>"
      ],
      "text/plain": [
       "   book_id  author_id                                              title  \\\n",
       "0        1        546                                       'Salem's Lot   \n",
       "1        2        465                 1 000 Places to See Before You Die   \n",
       "2        3        407  13 Little Blue Envelopes (Little Blue Envelope...   \n",
       "3        4         82  1491: New Revelations of the Americas Before C...   \n",
       "4        5        125                                               1776   \n",
       "\n",
       "   num_pages publication_date  publisher_id  \n",
       "0        594       2005-11-01            93  \n",
       "1        992       2003-05-22           336  \n",
       "2        322       2010-12-21           135  \n",
       "3        541       2006-10-10           309  \n",
       "4        386       2006-07-04           268  "
      ]
     },
     "execution_count": 3,
     "metadata": {},
     "output_type": "execute_result"
    }
   ],
   "source": [
    "query = \"\"\"\n",
    "SELECT *\n",
    "FROM books\n",
    "LIMIT 5;\n",
    "\"\"\"\n",
    "ansver = pd.io.sql.read_sql(query, con = engine)\n",
    "ansver"
   ]
  },
  {
   "cell_type": "code",
   "execution_count": 4,
   "metadata": {},
   "outputs": [
    {
     "data": {
      "text/html": [
       "<div>\n",
       "<style scoped>\n",
       "    .dataframe tbody tr th:only-of-type {\n",
       "        vertical-align: middle;\n",
       "    }\n",
       "\n",
       "    .dataframe tbody tr th {\n",
       "        vertical-align: top;\n",
       "    }\n",
       "\n",
       "    .dataframe thead th {\n",
       "        text-align: right;\n",
       "    }\n",
       "</style>\n",
       "<table border=\"1\" class=\"dataframe\">\n",
       "  <thead>\n",
       "    <tr style=\"text-align: right;\">\n",
       "      <th></th>\n",
       "      <th>author_id</th>\n",
       "      <th>author</th>\n",
       "    </tr>\n",
       "  </thead>\n",
       "  <tbody>\n",
       "    <tr>\n",
       "      <th>0</th>\n",
       "      <td>1</td>\n",
       "      <td>A.S. Byatt</td>\n",
       "    </tr>\n",
       "    <tr>\n",
       "      <th>1</th>\n",
       "      <td>2</td>\n",
       "      <td>Aesop/Laura Harris/Laura Gibbs</td>\n",
       "    </tr>\n",
       "    <tr>\n",
       "      <th>2</th>\n",
       "      <td>3</td>\n",
       "      <td>Agatha Christie</td>\n",
       "    </tr>\n",
       "    <tr>\n",
       "      <th>3</th>\n",
       "      <td>4</td>\n",
       "      <td>Alan Brennert</td>\n",
       "    </tr>\n",
       "    <tr>\n",
       "      <th>4</th>\n",
       "      <td>5</td>\n",
       "      <td>Alan Moore/David   Lloyd</td>\n",
       "    </tr>\n",
       "  </tbody>\n",
       "</table>\n",
       "</div>"
      ],
      "text/plain": [
       "   author_id                          author\n",
       "0          1                      A.S. Byatt\n",
       "1          2  Aesop/Laura Harris/Laura Gibbs\n",
       "2          3                 Agatha Christie\n",
       "3          4                   Alan Brennert\n",
       "4          5        Alan Moore/David   Lloyd"
      ]
     },
     "execution_count": 4,
     "metadata": {},
     "output_type": "execute_result"
    }
   ],
   "source": [
    "query = \"\"\"\n",
    "SELECT *\n",
    "FROM authors\n",
    "LIMIT 5;\n",
    "\"\"\"\n",
    "ansver = pd.io.sql.read_sql(query, con = engine)\n",
    "ansver"
   ]
  },
  {
   "cell_type": "code",
   "execution_count": 5,
   "metadata": {},
   "outputs": [
    {
     "data": {
      "text/html": [
       "<div>\n",
       "<style scoped>\n",
       "    .dataframe tbody tr th:only-of-type {\n",
       "        vertical-align: middle;\n",
       "    }\n",
       "\n",
       "    .dataframe tbody tr th {\n",
       "        vertical-align: top;\n",
       "    }\n",
       "\n",
       "    .dataframe thead th {\n",
       "        text-align: right;\n",
       "    }\n",
       "</style>\n",
       "<table border=\"1\" class=\"dataframe\">\n",
       "  <thead>\n",
       "    <tr style=\"text-align: right;\">\n",
       "      <th></th>\n",
       "      <th>publisher_id</th>\n",
       "      <th>publisher</th>\n",
       "    </tr>\n",
       "  </thead>\n",
       "  <tbody>\n",
       "    <tr>\n",
       "      <th>0</th>\n",
       "      <td>1</td>\n",
       "      <td>Ace</td>\n",
       "    </tr>\n",
       "    <tr>\n",
       "      <th>1</th>\n",
       "      <td>2</td>\n",
       "      <td>Ace Book</td>\n",
       "    </tr>\n",
       "    <tr>\n",
       "      <th>2</th>\n",
       "      <td>3</td>\n",
       "      <td>Ace Books</td>\n",
       "    </tr>\n",
       "    <tr>\n",
       "      <th>3</th>\n",
       "      <td>4</td>\n",
       "      <td>Ace Hardcover</td>\n",
       "    </tr>\n",
       "    <tr>\n",
       "      <th>4</th>\n",
       "      <td>5</td>\n",
       "      <td>Addison Wesley Publishing Company</td>\n",
       "    </tr>\n",
       "  </tbody>\n",
       "</table>\n",
       "</div>"
      ],
      "text/plain": [
       "   publisher_id                          publisher\n",
       "0             1                                Ace\n",
       "1             2                           Ace Book\n",
       "2             3                          Ace Books\n",
       "3             4                      Ace Hardcover\n",
       "4             5  Addison Wesley Publishing Company"
      ]
     },
     "execution_count": 5,
     "metadata": {},
     "output_type": "execute_result"
    }
   ],
   "source": [
    "query = \"\"\"\n",
    "SELECT *\n",
    "FROM publishers\n",
    "LIMIT 5;\n",
    "\"\"\"\n",
    "ansver = pd.io.sql.read_sql(query, con = engine)\n",
    "ansver"
   ]
  },
  {
   "cell_type": "code",
   "execution_count": 6,
   "metadata": {},
   "outputs": [
    {
     "data": {
      "text/html": [
       "<div>\n",
       "<style scoped>\n",
       "    .dataframe tbody tr th:only-of-type {\n",
       "        vertical-align: middle;\n",
       "    }\n",
       "\n",
       "    .dataframe tbody tr th {\n",
       "        vertical-align: top;\n",
       "    }\n",
       "\n",
       "    .dataframe thead th {\n",
       "        text-align: right;\n",
       "    }\n",
       "</style>\n",
       "<table border=\"1\" class=\"dataframe\">\n",
       "  <thead>\n",
       "    <tr style=\"text-align: right;\">\n",
       "      <th></th>\n",
       "      <th>rating_id</th>\n",
       "      <th>book_id</th>\n",
       "      <th>username</th>\n",
       "      <th>rating</th>\n",
       "    </tr>\n",
       "  </thead>\n",
       "  <tbody>\n",
       "    <tr>\n",
       "      <th>0</th>\n",
       "      <td>1</td>\n",
       "      <td>1</td>\n",
       "      <td>ryanfranco</td>\n",
       "      <td>4</td>\n",
       "    </tr>\n",
       "    <tr>\n",
       "      <th>1</th>\n",
       "      <td>2</td>\n",
       "      <td>1</td>\n",
       "      <td>grantpatricia</td>\n",
       "      <td>2</td>\n",
       "    </tr>\n",
       "    <tr>\n",
       "      <th>2</th>\n",
       "      <td>3</td>\n",
       "      <td>1</td>\n",
       "      <td>brandtandrea</td>\n",
       "      <td>5</td>\n",
       "    </tr>\n",
       "    <tr>\n",
       "      <th>3</th>\n",
       "      <td>4</td>\n",
       "      <td>2</td>\n",
       "      <td>lorichen</td>\n",
       "      <td>3</td>\n",
       "    </tr>\n",
       "    <tr>\n",
       "      <th>4</th>\n",
       "      <td>5</td>\n",
       "      <td>2</td>\n",
       "      <td>mariokeller</td>\n",
       "      <td>2</td>\n",
       "    </tr>\n",
       "  </tbody>\n",
       "</table>\n",
       "</div>"
      ],
      "text/plain": [
       "   rating_id  book_id       username  rating\n",
       "0          1        1     ryanfranco       4\n",
       "1          2        1  grantpatricia       2\n",
       "2          3        1   brandtandrea       5\n",
       "3          4        2       lorichen       3\n",
       "4          5        2    mariokeller       2"
      ]
     },
     "execution_count": 6,
     "metadata": {},
     "output_type": "execute_result"
    }
   ],
   "source": [
    "query = \"\"\"\n",
    "SELECT *\n",
    "FROM ratings\n",
    "LIMIT 5;\n",
    "\"\"\"\n",
    "ansver = pd.io.sql.read_sql(query, con = engine)\n",
    "ansver"
   ]
  },
  {
   "cell_type": "code",
   "execution_count": 7,
   "metadata": {},
   "outputs": [
    {
     "data": {
      "text/html": [
       "<div>\n",
       "<style scoped>\n",
       "    .dataframe tbody tr th:only-of-type {\n",
       "        vertical-align: middle;\n",
       "    }\n",
       "\n",
       "    .dataframe tbody tr th {\n",
       "        vertical-align: top;\n",
       "    }\n",
       "\n",
       "    .dataframe thead th {\n",
       "        text-align: right;\n",
       "    }\n",
       "</style>\n",
       "<table border=\"1\" class=\"dataframe\">\n",
       "  <thead>\n",
       "    <tr style=\"text-align: right;\">\n",
       "      <th></th>\n",
       "      <th>review_id</th>\n",
       "      <th>book_id</th>\n",
       "      <th>username</th>\n",
       "      <th>text</th>\n",
       "    </tr>\n",
       "  </thead>\n",
       "  <tbody>\n",
       "    <tr>\n",
       "      <th>0</th>\n",
       "      <td>1</td>\n",
       "      <td>1</td>\n",
       "      <td>brandtandrea</td>\n",
       "      <td>Mention society tell send professor analysis. ...</td>\n",
       "    </tr>\n",
       "    <tr>\n",
       "      <th>1</th>\n",
       "      <td>2</td>\n",
       "      <td>1</td>\n",
       "      <td>ryanfranco</td>\n",
       "      <td>Foot glass pretty audience hit themselves. Amo...</td>\n",
       "    </tr>\n",
       "    <tr>\n",
       "      <th>2</th>\n",
       "      <td>3</td>\n",
       "      <td>2</td>\n",
       "      <td>lorichen</td>\n",
       "      <td>Listen treat keep worry. Miss husband tax but ...</td>\n",
       "    </tr>\n",
       "    <tr>\n",
       "      <th>3</th>\n",
       "      <td>4</td>\n",
       "      <td>3</td>\n",
       "      <td>johnsonamanda</td>\n",
       "      <td>Finally month interesting blue could nature cu...</td>\n",
       "    </tr>\n",
       "    <tr>\n",
       "      <th>4</th>\n",
       "      <td>5</td>\n",
       "      <td>3</td>\n",
       "      <td>scotttamara</td>\n",
       "      <td>Nation purpose heavy give wait song will. List...</td>\n",
       "    </tr>\n",
       "  </tbody>\n",
       "</table>\n",
       "</div>"
      ],
      "text/plain": [
       "   review_id  book_id       username  \\\n",
       "0          1        1   brandtandrea   \n",
       "1          2        1     ryanfranco   \n",
       "2          3        2       lorichen   \n",
       "3          4        3  johnsonamanda   \n",
       "4          5        3    scotttamara   \n",
       "\n",
       "                                                text  \n",
       "0  Mention society tell send professor analysis. ...  \n",
       "1  Foot glass pretty audience hit themselves. Amo...  \n",
       "2  Listen treat keep worry. Miss husband tax but ...  \n",
       "3  Finally month interesting blue could nature cu...  \n",
       "4  Nation purpose heavy give wait song will. List...  "
      ]
     },
     "execution_count": 7,
     "metadata": {},
     "output_type": "execute_result"
    }
   ],
   "source": [
    "query = \"\"\"\n",
    "SELECT *\n",
    "FROM reviews\n",
    "LIMIT 5;\n",
    "\"\"\"\n",
    "ansver = pd.io.sql.read_sql(query, con = engine)\n",
    "ansver"
   ]
  },
  {
   "cell_type": "markdown",
   "metadata": {},
   "source": [
    "## Задачи"
   ]
  },
  {
   "cell_type": "markdown",
   "metadata": {},
   "source": [
    "**Посчитаем, сколько книг вышло после 1 января 2000 года**"
   ]
  },
  {
   "cell_type": "code",
   "execution_count": 8,
   "metadata": {},
   "outputs": [
    {
     "data": {
      "text/html": [
       "<div>\n",
       "<style scoped>\n",
       "    .dataframe tbody tr th:only-of-type {\n",
       "        vertical-align: middle;\n",
       "    }\n",
       "\n",
       "    .dataframe tbody tr th {\n",
       "        vertical-align: top;\n",
       "    }\n",
       "\n",
       "    .dataframe thead th {\n",
       "        text-align: right;\n",
       "    }\n",
       "</style>\n",
       "<table border=\"1\" class=\"dataframe\">\n",
       "  <thead>\n",
       "    <tr style=\"text-align: right;\">\n",
       "      <th></th>\n",
       "      <th>count</th>\n",
       "    </tr>\n",
       "  </thead>\n",
       "  <tbody>\n",
       "    <tr>\n",
       "      <th>0</th>\n",
       "      <td>819</td>\n",
       "    </tr>\n",
       "  </tbody>\n",
       "</table>\n",
       "</div>"
      ],
      "text/plain": [
       "   count\n",
       "0    819"
      ]
     },
     "execution_count": 8,
     "metadata": {},
     "output_type": "execute_result"
    }
   ],
   "source": [
    "query = ('''\n",
    "\n",
    "SELECT COUNT(*)\n",
    "FROM books\n",
    "WHERE publication_date > '2000-01-01';\n",
    "\n",
    "''') \n",
    "\n",
    "pd.io.sql.read_sql(query, con = engine)"
   ]
  },
  {
   "cell_type": "markdown",
   "metadata": {},
   "source": [
    "После 1 января 2000 вышло 819 книг."
   ]
  },
  {
   "cell_type": "markdown",
   "metadata": {},
   "source": [
    "**Для каждой книги посчитаем количество обзоров и среднюю оценку**"
   ]
  },
  {
   "cell_type": "code",
   "execution_count": 9,
   "metadata": {},
   "outputs": [
    {
     "data": {
      "text/html": [
       "<div>\n",
       "<style scoped>\n",
       "    .dataframe tbody tr th:only-of-type {\n",
       "        vertical-align: middle;\n",
       "    }\n",
       "\n",
       "    .dataframe tbody tr th {\n",
       "        vertical-align: top;\n",
       "    }\n",
       "\n",
       "    .dataframe thead th {\n",
       "        text-align: right;\n",
       "    }\n",
       "</style>\n",
       "<table border=\"1\" class=\"dataframe\">\n",
       "  <thead>\n",
       "    <tr style=\"text-align: right;\">\n",
       "      <th></th>\n",
       "      <th>title</th>\n",
       "      <th>review_cnt</th>\n",
       "      <th>rating_avg</th>\n",
       "    </tr>\n",
       "  </thead>\n",
       "  <tbody>\n",
       "    <tr>\n",
       "      <th>0</th>\n",
       "      <td>A Dirty Job (Grim Reaper  #1)</td>\n",
       "      <td>4</td>\n",
       "      <td>5.00</td>\n",
       "    </tr>\n",
       "    <tr>\n",
       "      <th>1</th>\n",
       "      <td>Moneyball: The Art of Winning an Unfair Game</td>\n",
       "      <td>3</td>\n",
       "      <td>5.00</td>\n",
       "    </tr>\n",
       "    <tr>\n",
       "      <th>2</th>\n",
       "      <td>School's Out—Forever (Maximum Ride  #2)</td>\n",
       "      <td>3</td>\n",
       "      <td>5.00</td>\n",
       "    </tr>\n",
       "    <tr>\n",
       "      <th>3</th>\n",
       "      <td>The Ghost Map: The Story of London's Most Terr...</td>\n",
       "      <td>2</td>\n",
       "      <td>5.00</td>\n",
       "    </tr>\n",
       "    <tr>\n",
       "      <th>4</th>\n",
       "      <td>Emily of New Moon (Emily  #1)</td>\n",
       "      <td>2</td>\n",
       "      <td>5.00</td>\n",
       "    </tr>\n",
       "    <tr>\n",
       "      <th>...</th>\n",
       "      <td>...</td>\n",
       "      <td>...</td>\n",
       "      <td>...</td>\n",
       "    </tr>\n",
       "    <tr>\n",
       "      <th>995</th>\n",
       "      <td>The World Is Flat: A Brief History of the Twen...</td>\n",
       "      <td>3</td>\n",
       "      <td>2.25</td>\n",
       "    </tr>\n",
       "    <tr>\n",
       "      <th>996</th>\n",
       "      <td>Drowning Ruth</td>\n",
       "      <td>3</td>\n",
       "      <td>2.00</td>\n",
       "    </tr>\n",
       "    <tr>\n",
       "      <th>997</th>\n",
       "      <td>Junky</td>\n",
       "      <td>2</td>\n",
       "      <td>2.00</td>\n",
       "    </tr>\n",
       "    <tr>\n",
       "      <th>998</th>\n",
       "      <td>His Excellency: George Washington</td>\n",
       "      <td>2</td>\n",
       "      <td>2.00</td>\n",
       "    </tr>\n",
       "    <tr>\n",
       "      <th>999</th>\n",
       "      <td>Harvesting the Heart</td>\n",
       "      <td>2</td>\n",
       "      <td>1.50</td>\n",
       "    </tr>\n",
       "  </tbody>\n",
       "</table>\n",
       "<p>1000 rows × 3 columns</p>\n",
       "</div>"
      ],
      "text/plain": [
       "                                                 title  review_cnt  rating_avg\n",
       "0                        A Dirty Job (Grim Reaper  #1)           4        5.00\n",
       "1         Moneyball: The Art of Winning an Unfair Game           3        5.00\n",
       "2              School's Out—Forever (Maximum Ride  #2)           3        5.00\n",
       "3    The Ghost Map: The Story of London's Most Terr...           2        5.00\n",
       "4                        Emily of New Moon (Emily  #1)           2        5.00\n",
       "..                                                 ...         ...         ...\n",
       "995  The World Is Flat: A Brief History of the Twen...           3        2.25\n",
       "996                                      Drowning Ruth           3        2.00\n",
       "997                                              Junky           2        2.00\n",
       "998                  His Excellency: George Washington           2        2.00\n",
       "999                               Harvesting the Heart           2        1.50\n",
       "\n",
       "[1000 rows x 3 columns]"
      ]
     },
     "execution_count": 9,
     "metadata": {},
     "output_type": "execute_result"
    }
   ],
   "source": [
    "query = \"\"\"\n",
    "\n",
    "SELECT b.title,\n",
    "       COALESCE(review_cnt, 0) AS review_cnt,\n",
    "       ROUND(AVG(r.rating), 2) AS rating_avg\n",
    "FROM books AS b\n",
    "LEFT JOIN ratings AS r ON b.book_id = r.book_id\n",
    "LEFT JOIN\n",
    "  (SELECT book_id,\n",
    "          COUNT(DISTINCT review_id) AS review_cnt\n",
    "   FROM reviews\n",
    "   GROUP BY book_id) AS rv ON b.book_id = rv.book_id\n",
    "GROUP BY b.book_id,\n",
    "         b.title,\n",
    "         review_cnt\n",
    "ORDER BY rating_avg DESC,\n",
    "         review_cnt DESC;\n",
    "\n",
    "\"\"\"\n",
    "ansver = pd.io.sql.read_sql(query, con = engine)\n",
    "ansver"
   ]
  },
  {
   "cell_type": "markdown",
   "metadata": {},
   "source": [
    "1000 книг, ранжированных по средней оценке и количеству рецензий. Самая рейтинговая и рецензируемая книга - A Dirty Job (Grim Reaper #1)."
   ]
  },
  {
   "cell_type": "markdown",
   "metadata": {},
   "source": [
    "**Определим издательство, которое выпустило наибольшее число книг толще 50 страниц — так мы исключим из анализа брошюры**"
   ]
  },
  {
   "cell_type": "code",
   "execution_count": 10,
   "metadata": {},
   "outputs": [
    {
     "data": {
      "text/html": [
       "<div>\n",
       "<style scoped>\n",
       "    .dataframe tbody tr th:only-of-type {\n",
       "        vertical-align: middle;\n",
       "    }\n",
       "\n",
       "    .dataframe tbody tr th {\n",
       "        vertical-align: top;\n",
       "    }\n",
       "\n",
       "    .dataframe thead th {\n",
       "        text-align: right;\n",
       "    }\n",
       "</style>\n",
       "<table border=\"1\" class=\"dataframe\">\n",
       "  <thead>\n",
       "    <tr style=\"text-align: right;\">\n",
       "      <th></th>\n",
       "      <th>publisher</th>\n",
       "    </tr>\n",
       "  </thead>\n",
       "  <tbody>\n",
       "    <tr>\n",
       "      <th>0</th>\n",
       "      <td>Penguin Books</td>\n",
       "    </tr>\n",
       "  </tbody>\n",
       "</table>\n",
       "</div>"
      ],
      "text/plain": [
       "       publisher\n",
       "0  Penguin Books"
      ]
     },
     "execution_count": 10,
     "metadata": {},
     "output_type": "execute_result"
    }
   ],
   "source": [
    "query = \"\"\"\n",
    "\n",
    "SELECT p.publisher\n",
    "FROM publishers AS p\n",
    "INNER JOIN books AS b ON p.publisher_id = b.publisher_id\n",
    "WHERE num_pages > 50\n",
    "GROUP BY p.publisher\n",
    "HAVING COUNT(b.book_id) =\n",
    "  (SELECT COUNT(book_id)\n",
    "   FROM books\n",
    "   WHERE num_pages > 50\n",
    "   GROUP BY publisher_id\n",
    "   ORDER BY COUNT(book_id) DESC\n",
    "   LIMIT 1);\n",
    "\n",
    "\"\"\"\n",
    "ansver = pd.io.sql.read_sql(query, con = engine)\n",
    "ansver"
   ]
  },
  {
   "cell_type": "markdown",
   "metadata": {},
   "source": [
    "Penguin Books - издательство, которое выпускает больше всего книг толщиной более 50 страниц."
   ]
  },
  {
   "cell_type": "markdown",
   "metadata": {},
   "source": [
    "**Определим автора с самой высокой средней оценкой книг — учитываем только книги с 50 и более оценками**"
   ]
  },
  {
   "cell_type": "code",
   "execution_count": 11,
   "metadata": {},
   "outputs": [
    {
     "data": {
      "text/html": [
       "<div>\n",
       "<style scoped>\n",
       "    .dataframe tbody tr th:only-of-type {\n",
       "        vertical-align: middle;\n",
       "    }\n",
       "\n",
       "    .dataframe tbody tr th {\n",
       "        vertical-align: top;\n",
       "    }\n",
       "\n",
       "    .dataframe thead th {\n",
       "        text-align: right;\n",
       "    }\n",
       "</style>\n",
       "<table border=\"1\" class=\"dataframe\">\n",
       "  <thead>\n",
       "    <tr style=\"text-align: right;\">\n",
       "      <th></th>\n",
       "      <th>author</th>\n",
       "      <th>mean_rating</th>\n",
       "    </tr>\n",
       "  </thead>\n",
       "  <tbody>\n",
       "    <tr>\n",
       "      <th>0</th>\n",
       "      <td>J.K. Rowling/Mary GrandPré</td>\n",
       "      <td>4.287097</td>\n",
       "    </tr>\n",
       "  </tbody>\n",
       "</table>\n",
       "</div>"
      ],
      "text/plain": [
       "                       author  mean_rating\n",
       "0  J.K. Rowling/Mary GrandPré     4.287097"
      ]
     },
     "execution_count": 11,
     "metadata": {},
     "output_type": "execute_result"
    }
   ],
   "source": [
    "query = \"\"\"\n",
    "\n",
    "SELECT a.author,\n",
    "       AVG(r.rating) AS mean_rating\n",
    "FROM authors AS a,\n",
    "     books AS b,\n",
    "     ratings AS r\n",
    "WHERE a.author_id = b.author_id\n",
    "  AND b.book_id = r.book_id\n",
    "  AND b.book_id IN\n",
    "    (SELECT book_id\n",
    "     FROM ratings\n",
    "     GROUP BY book_id\n",
    "     HAVING COUNT(*) >= 50)\n",
    "GROUP BY a.author\n",
    "ORDER BY mean_rating DESC\n",
    "LIMIT 1;\n",
    "\n",
    "\"\"\"\n",
    "ansver = pd.io.sql.read_sql(query, con = engine)\n",
    "ansver"
   ]
  },
  {
   "cell_type": "markdown",
   "metadata": {},
   "source": [
    "J.K. Rowling/Mary GrandPré - автор книг с более 50 оценками и с наивысшей средней оценкой 4.287097."
   ]
  },
  {
   "cell_type": "markdown",
   "metadata": {},
   "source": [
    "**Посчитаем среднее количество обзоров от пользователей, которые поставили больше 48 оценок.**"
   ]
  },
  {
   "cell_type": "code",
   "execution_count": 12,
   "metadata": {},
   "outputs": [
    {
     "data": {
      "text/html": [
       "<div>\n",
       "<style scoped>\n",
       "    .dataframe tbody tr th:only-of-type {\n",
       "        vertical-align: middle;\n",
       "    }\n",
       "\n",
       "    .dataframe tbody tr th {\n",
       "        vertical-align: top;\n",
       "    }\n",
       "\n",
       "    .dataframe thead th {\n",
       "        text-align: right;\n",
       "    }\n",
       "</style>\n",
       "<table border=\"1\" class=\"dataframe\">\n",
       "  <thead>\n",
       "    <tr style=\"text-align: right;\">\n",
       "      <th></th>\n",
       "      <th>round</th>\n",
       "    </tr>\n",
       "  </thead>\n",
       "  <tbody>\n",
       "    <tr>\n",
       "      <th>0</th>\n",
       "      <td>24.0</td>\n",
       "    </tr>\n",
       "  </tbody>\n",
       "</table>\n",
       "</div>"
      ],
      "text/plain": [
       "   round\n",
       "0   24.0"
      ]
     },
     "execution_count": 12,
     "metadata": {},
     "output_type": "execute_result"
    }
   ],
   "source": [
    "query = \"\"\"\n",
    "\n",
    "SELECT ROUND(AVG(rereview_count))\n",
    "FROM\n",
    "  (SELECT COUNT(review_id) AS rereview_count\n",
    "   FROM reviews\n",
    "   WHERE username IN\n",
    "       (SELECT username\n",
    "        FROM ratings\n",
    "        GROUP BY username\n",
    "        HAVING COUNT(rating_id) > 48)\n",
    "   GROUP BY username) AS review_counts;\n",
    "   \n",
    "\"\"\"\n",
    "ansver = pd.io.sql.read_sql(query, con = engine)\n",
    "ansver"
   ]
  },
  {
   "cell_type": "markdown",
   "metadata": {},
   "source": [
    "Пользователи, поставившие более 48 оценок, в среднем пишут по 24 обзора."
   ]
  },
  {
   "cell_type": "markdown",
   "metadata": {},
   "source": [
    "## Вывод"
   ]
  },
  {
   "cell_type": "markdown",
   "metadata": {},
   "source": [
    "В проекте мы совершили несколько запросов SQL b ответили на несколько вопросов с такими резутьтатами:\n",
    "    \n",
    "    После 1 января 2000 вышло 819 книг.\n",
    "    \n",
    "    1000 книг, ранжированных по средней оценке и количеству рецензий. Самая рейтинговая и рецензируемая книга - A Dirty Job (Grim Reaper #1). \n",
    "   \n",
    "    Penguin Books - издательство, которое выпускает больше всего книг толщиной более 50 страниц.\n",
    "   \n",
    "    J.K. Rowling/Mary GrandPré - автор книг с более 50 оценками и с наивысшей средней оценкой 4.287097. \n",
    "   \n",
    "    Пользователи, поставившие более 48 оценок, в среднем пишут по 24 обзора.\n",
    "    \n",
    "В целом, проведенный анализ базы данных помогает компании лучше понять предпочтения пользователей, определить наиболее популярные книги и авторов, а также сформулировать ценностное предложение для нового продукта. Эти выводы могут служить основой для принятия решений и планирования дальнейших действий компании."
   ]
  }
 ],
 "metadata": {
  "ExecuteTimeLog": [
   {
    "duration": 9588,
    "start_time": "2023-06-15T19:25:23.109Z"
   },
   {
    "duration": 83,
    "start_time": "2023-06-15T19:25:55.623Z"
   },
   {
    "duration": 178,
    "start_time": "2023-06-15T19:27:01.194Z"
   },
   {
    "duration": 74,
    "start_time": "2023-06-15T19:27:12.813Z"
   },
   {
    "duration": 73,
    "start_time": "2023-06-15T19:27:40.223Z"
   },
   {
    "duration": 85,
    "start_time": "2023-06-15T19:27:42.823Z"
   },
   {
    "duration": 75,
    "start_time": "2023-06-15T19:27:53.422Z"
   },
   {
    "duration": 2,
    "start_time": "2023-06-15T19:29:12.003Z"
   },
   {
    "duration": 83,
    "start_time": "2023-06-15T19:30:55.343Z"
   },
   {
    "duration": 73,
    "start_time": "2023-06-15T19:31:38.454Z"
   },
   {
    "duration": 160,
    "start_time": "2023-06-15T19:32:56.933Z"
   },
   {
    "duration": 75,
    "start_time": "2023-06-15T19:33:03.196Z"
   },
   {
    "duration": 73,
    "start_time": "2023-06-15T19:33:22.533Z"
   },
   {
    "duration": 101,
    "start_time": "2023-06-15T19:35:57.094Z"
   },
   {
    "duration": 112,
    "start_time": "2023-06-15T19:36:19.505Z"
   },
   {
    "duration": 108,
    "start_time": "2023-06-15T19:36:57.602Z"
   },
   {
    "duration": 157,
    "start_time": "2023-06-15T19:38:27.204Z"
   },
   {
    "duration": 74,
    "start_time": "2023-06-15T19:39:01.897Z"
   },
   {
    "duration": 73,
    "start_time": "2023-06-15T19:39:43.089Z"
   },
   {
    "duration": 74,
    "start_time": "2023-06-15T19:40:43.920Z"
   },
   {
    "duration": 79,
    "start_time": "2023-06-15T19:42:53.202Z"
   },
   {
    "duration": 78,
    "start_time": "2023-06-15T19:43:23.634Z"
   },
   {
    "duration": 115,
    "start_time": "2023-06-15T19:43:37.001Z"
   },
   {
    "duration": 72,
    "start_time": "2023-06-15T19:43:50.405Z"
   },
   {
    "duration": 78,
    "start_time": "2023-06-15T19:44:50.517Z"
   },
   {
    "duration": 75,
    "start_time": "2023-06-15T19:45:20.330Z"
   },
   {
    "duration": 75,
    "start_time": "2023-06-15T19:45:41.853Z"
   },
   {
    "duration": 76,
    "start_time": "2023-06-15T19:46:20.243Z"
   },
   {
    "duration": 4,
    "start_time": "2023-06-15T19:52:30.453Z"
   },
   {
    "duration": 272,
    "start_time": "2023-06-15T19:52:34.507Z"
   },
   {
    "duration": 4,
    "start_time": "2023-06-15T19:52:46.206Z"
   },
   {
    "duration": 268,
    "start_time": "2023-06-15T19:52:48.406Z"
   },
   {
    "duration": 108,
    "start_time": "2023-06-15T19:56:04.302Z"
   },
   {
    "duration": 168,
    "start_time": "2023-06-15T19:57:22.033Z"
   },
   {
    "duration": 244,
    "start_time": "2023-06-15T20:03:30.807Z"
   },
   {
    "duration": 173,
    "start_time": "2023-06-15T20:04:39.033Z"
   },
   {
    "duration": 86,
    "start_time": "2023-06-15T20:06:33.319Z"
   },
   {
    "duration": 108,
    "start_time": "2023-06-15T20:14:41.499Z"
   },
   {
    "duration": 113,
    "start_time": "2023-06-15T20:15:44.902Z"
   },
   {
    "duration": 76,
    "start_time": "2023-06-15T20:17:19.344Z"
   },
   {
    "duration": 95,
    "start_time": "2023-06-15T20:17:42.806Z"
   },
   {
    "duration": 200,
    "start_time": "2023-06-15T20:19:29.202Z"
   },
   {
    "duration": 183,
    "start_time": "2023-06-15T20:20:47.654Z"
   },
   {
    "duration": 194,
    "start_time": "2023-06-15T20:21:03.739Z"
   },
   {
    "duration": 88,
    "start_time": "2023-06-15T20:23:37.506Z"
   },
   {
    "duration": 75,
    "start_time": "2023-06-15T20:24:32.177Z"
   },
   {
    "duration": 11317,
    "start_time": "2023-06-15T20:25:58.995Z"
   },
   {
    "duration": 316,
    "start_time": "2023-06-15T20:26:10.314Z"
   },
   {
    "duration": 98,
    "start_time": "2023-06-15T20:26:10.631Z"
   },
   {
    "duration": 91,
    "start_time": "2023-06-15T20:26:10.730Z"
   },
   {
    "duration": 88,
    "start_time": "2023-06-15T20:26:10.823Z"
   },
   {
    "duration": 96,
    "start_time": "2023-06-15T20:26:10.912Z"
   },
   {
    "duration": 101,
    "start_time": "2023-06-15T20:26:11.010Z"
   },
   {
    "duration": 131,
    "start_time": "2023-06-15T20:26:11.113Z"
   },
   {
    "duration": 86,
    "start_time": "2023-06-15T20:26:11.247Z"
   },
   {
    "duration": 89,
    "start_time": "2023-06-15T20:26:11.335Z"
   },
   {
    "duration": 82,
    "start_time": "2023-06-15T20:26:11.426Z"
   },
   {
    "duration": 498,
    "start_time": "2023-10-16T17:01:49.639Z"
   },
   {
    "duration": 11742,
    "start_time": "2023-10-16T17:01:50.139Z"
   },
   {
    "duration": 265,
    "start_time": "2023-10-16T17:02:01.882Z"
   },
   {
    "duration": 72,
    "start_time": "2023-10-16T17:02:02.149Z"
   },
   {
    "duration": 211,
    "start_time": "2023-10-16T17:02:02.224Z"
   },
   {
    "duration": 309,
    "start_time": "2023-10-16T17:02:02.437Z"
   },
   {
    "duration": 73,
    "start_time": "2023-10-16T17:02:02.748Z"
   },
   {
    "duration": 71,
    "start_time": "2023-10-16T17:02:02.823Z"
   },
   {
    "duration": 105,
    "start_time": "2023-10-16T17:02:02.895Z"
   },
   {
    "duration": 181,
    "start_time": "2023-10-16T17:02:03.002Z"
   },
   {
    "duration": 77,
    "start_time": "2023-10-16T17:02:03.185Z"
   },
   {
    "duration": 75,
    "start_time": "2023-10-16T17:02:03.263Z"
   },
   {
    "duration": 53,
    "start_time": "2023-10-17T12:01:39.452Z"
   },
   {
    "duration": 570,
    "start_time": "2023-10-17T12:01:46.232Z"
   },
   {
    "duration": 21145,
    "start_time": "2023-10-17T12:01:46.804Z"
   },
   {
    "duration": 260,
    "start_time": "2023-10-17T12:02:07.951Z"
   },
   {
    "duration": 72,
    "start_time": "2023-10-17T12:02:08.213Z"
   },
   {
    "duration": 72,
    "start_time": "2023-10-17T12:02:08.287Z"
   },
   {
    "duration": 72,
    "start_time": "2023-10-17T12:02:08.361Z"
   },
   {
    "duration": 72,
    "start_time": "2023-10-17T12:02:08.434Z"
   },
   {
    "duration": 73,
    "start_time": "2023-10-17T12:02:08.508Z"
   },
   {
    "duration": 71,
    "start_time": "2023-10-17T12:02:08.583Z"
   },
   {
    "duration": 106,
    "start_time": "2023-10-17T12:02:08.656Z"
   },
   {
    "duration": 72,
    "start_time": "2023-10-17T12:02:08.764Z"
   },
   {
    "duration": 75,
    "start_time": "2023-10-17T12:02:08.838Z"
   },
   {
    "duration": 74,
    "start_time": "2023-10-17T12:02:08.915Z"
   },
   {
    "duration": 72,
    "start_time": "2023-10-17T12:02:13.891Z"
   },
   {
    "duration": 74,
    "start_time": "2023-10-17T12:03:41.541Z"
   },
   {
    "duration": 602,
    "start_time": "2023-10-17T12:19:14.041Z"
   },
   {
    "duration": 18770,
    "start_time": "2023-10-17T12:19:14.645Z"
   },
   {
    "duration": 261,
    "start_time": "2023-10-17T12:19:33.418Z"
   },
   {
    "duration": 83,
    "start_time": "2023-10-17T12:19:33.682Z"
   },
   {
    "duration": 71,
    "start_time": "2023-10-17T12:19:33.766Z"
   },
   {
    "duration": 72,
    "start_time": "2023-10-17T12:19:33.839Z"
   },
   {
    "duration": 73,
    "start_time": "2023-10-17T12:19:33.913Z"
   },
   {
    "duration": 72,
    "start_time": "2023-10-17T12:19:33.988Z"
   },
   {
    "duration": 106,
    "start_time": "2023-10-17T12:19:34.062Z"
   },
   {
    "duration": 73,
    "start_time": "2023-10-17T12:19:34.170Z"
   },
   {
    "duration": 76,
    "start_time": "2023-10-17T12:19:34.246Z"
   },
   {
    "duration": 78,
    "start_time": "2023-10-17T12:19:34.323Z"
   }
  ],
  "kernelspec": {
   "display_name": "Python 3 (ipykernel)",
   "language": "python",
   "name": "python3"
  },
  "language_info": {
   "codemirror_mode": {
    "name": "ipython",
    "version": 3
   },
   "file_extension": ".py",
   "mimetype": "text/x-python",
   "name": "python",
   "nbconvert_exporter": "python",
   "pygments_lexer": "ipython3",
   "version": "3.9.5"
  },
  "toc": {
   "base_numbering": 1,
   "nav_menu": {},
   "number_sections": true,
   "sideBar": true,
   "skip_h1_title": true,
   "title_cell": "Table of Contents",
   "title_sidebar": "Contents",
   "toc_cell": false,
   "toc_position": {
    "height": "calc(100% - 180px)",
    "left": "10px",
    "top": "150px",
    "width": "212.667px"
   },
   "toc_section_display": true,
   "toc_window_display": true
  }
 },
 "nbformat": 4,
 "nbformat_minor": 2
}
